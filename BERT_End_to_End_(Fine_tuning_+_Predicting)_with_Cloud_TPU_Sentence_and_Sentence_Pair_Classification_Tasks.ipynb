{
  "nbformat": 4,
  "nbformat_minor": 0,
  "metadata": {
    "colab": {
      "name": "BERT End to End (Fine-tuning + Predicting) with Cloud TPU: Sentence and Sentence-Pair Classification Tasks",
      "version": "0.3.2",
      "provenance": [],
      "collapsed_sections": [],
      "include_colab_link": true
    },
    "kernelspec": {
      "name": "python3",
      "display_name": "Python 3"
    },
    "accelerator": "TPU"
  },
  "cells": [
    {
      "cell_type": "markdown",
      "metadata": {
        "id": "view-in-github",
        "colab_type": "text"
      },
      "source": [
        "<a href=\"https://colab.research.google.com/github/tylerlum/fake-news-classifier/blob/master/BERT_End_to_End_(Fine_tuning_%2B_Predicting)_with_Cloud_TPU_Sentence_and_Sentence_Pair_Classification_Tasks.ipynb\" target=\"_parent\"><img src=\"https://colab.research.google.com/assets/colab-badge.svg\" alt=\"Open In Colab\"/></a>"
      ]
    },
    {
      "cell_type": "markdown",
      "metadata": {
        "id": "meO7ZaISZfZ1",
        "colab_type": "text"
      },
      "source": [
        "<a href=\"https://colab.research.google.com/github/tensorflow/tpu/blob/master/tools/colab/bert_finetuning_with_cloud_tpus.ipynb\" target=\"_parent\"><img src=\"https://colab.research.google.com/assets/colab-badge.svg\" alt=\"Open In Colab\"/></a>"
      ]
    },
    {
      "cell_type": "markdown",
      "metadata": {
        "id": "IhdjgZWAZ60C",
        "colab_type": "text"
      },
      "source": [
        "##### Copyright 2018 The TensorFlow Hub Authors.\n",
        "\n",
        "Licensed under the Apache License, Version 2.0 (the \"License\");"
      ]
    },
    {
      "cell_type": "code",
      "metadata": {
        "id": "wHQH4OCHZ9bq",
        "colab_type": "code",
        "colab": {}
      },
      "source": [
        "# Copyright 2018 The TensorFlow Hub Authors. All Rights Reserved.\n",
        "#\n",
        "# Licensed under the Apache License, Version 2.0 (the \"License\");\n",
        "# you may not use this file except in compliance with the License.\n",
        "# You may obtain a copy of the License at\n",
        "#\n",
        "#     http://www.apache.org/licenses/LICENSE-2.0\n",
        "#\n",
        "# Unless required by applicable law or agreed to in writing, software\n",
        "# distributed under the License is distributed on an \"AS IS\" BASIS,\n",
        "# WITHOUT WARRANTIES OR CONDITIONS OF ANY KIND, either express or implied.\n",
        "# See the License for the specific language governing permissions and\n",
        "# limitations under the License.\n",
        "# =============================================================================="
      ],
      "execution_count": 0,
      "outputs": []
    },
    {
      "cell_type": "markdown",
      "metadata": {
        "id": "rkTLZ3I4_7c_",
        "colab_type": "text"
      },
      "source": [
        "# BERT End to End (Fine-tuning + Predicting) in 5 minutes with Cloud TPU"
      ]
    },
    {
      "cell_type": "markdown",
      "metadata": {
        "id": "1wtjs1QDb3DX",
        "colab_type": "text"
      },
      "source": [
        "## Overview\n",
        "\n",
        "**BERT**, or **B**idirectional **E**mbedding **R**epresentations from **T**ransformers, is a new method of pre-training language representations which obtains state-of-the-art results on a wide array of Natural Language Processing (NLP) tasks. The academic paper can be found here: https://arxiv.org/abs/1810.04805.\n",
        "\n",
        "This Colab demonstates using a free Colab Cloud TPU to fine-tune sentence and sentence-pair classification tasks built on top of pretrained BERT models and \n",
        "run predictions on tuned model. The colab demonsrates loading pretrained BERT models from both [TF Hub](https://www.tensorflow.org/hub) and checkpoints.\n",
        "\n",
        "**Note:**  You will need a GCP (Google Compute Engine) account and a GCS (Google Cloud \n",
        "Storage) bucket for this Colab to run.\n",
        "\n",
        "Please follow the [Google Cloud TPU quickstart](https://cloud.google.com/tpu/docs/quickstart) for how to create GCP account and GCS bucket. You have [$300 free credit](https://cloud.google.com/free/) to get started with any GCP product. You can learn more about Cloud TPU at https://cloud.google.com/tpu/docs.\n",
        "\n",
        "This notebook is hosted on GitHub. To view it in its original repository, after opening the notebook, select **File > View on GitHub**."
      ]
    },
    {
      "cell_type": "markdown",
      "metadata": {
        "id": "UjiKRZ_faLRy",
        "colab_type": "text"
      },
      "source": [
        "## Learning objectives\n",
        "\n",
        "In this notebook, you will learn how to train and evaluate a BERT model using TPU."
      ]
    },
    {
      "cell_type": "markdown",
      "metadata": {
        "id": "Ld-JXlueIuPH",
        "colab_type": "text"
      },
      "source": [
        "## Instructions"
      ]
    },
    {
      "cell_type": "markdown",
      "metadata": {
        "id": "POkof5uHaQ_c",
        "colab_type": "text"
      },
      "source": [
        "<h3><a href=\"https://cloud.google.com/tpu/\"><img valign=\"middle\" src=\"https://raw.githubusercontent.com/GoogleCloudPlatform/tensorflow-without-a-phd/master/tensorflow-rl-pong/images/tpu-hexagon.png\" width=\"50\"></a>  &nbsp;&nbsp;Train on TPU</h3>\n",
        "\n",
        "   1. Create a Cloud Storage bucket for your TensorBoard logs at http://console.cloud.google.com/storage and fill in the BUCKET parameter in the \"Parameters\" section below.\n",
        " \n",
        "   1. On the main menu, click Runtime and select **Change runtime type**. Set \"TPU\" as the hardware accelerator.\n",
        "   1. Click Runtime again and select **Runtime > Run All** (Watch out: the \"Colab-only auth for this notebook and the TPU\" cell requires user input). You can also run the cells manually with Shift-ENTER."
      ]
    },
    {
      "cell_type": "markdown",
      "metadata": {
        "id": "UdMmwCJFaT8F",
        "colab_type": "text"
      },
      "source": [
        "### Set up your TPU environment\n",
        "\n",
        "In this section, you perform the following tasks:\n",
        "\n",
        "*   Set up a Colab TPU running environment\n",
        "*   Verify that you are connected to a TPU device\n",
        "*   Upload your credentials to TPU to access your GCS bucket."
      ]
    },
    {
      "cell_type": "code",
      "metadata": {
        "id": "191zq3ZErihP",
        "colab_type": "code",
        "outputId": "1caf1f99-353b-43b4-cf59-2fcc466a9660",
        "colab": {
          "base_uri": "https://localhost:8080/",
          "height": 393
        }
      },
      "source": [
        "import datetime\n",
        "import json\n",
        "import os\n",
        "import pprint\n",
        "import random\n",
        "import string\n",
        "import sys\n",
        "import tensorflow as tf\n",
        "\n",
        "assert 'COLAB_TPU_ADDR' in os.environ, 'ERROR: Not connected to a TPU runtime; please see the first cell in this notebook for instructions!'\n",
        "TPU_ADDRESS = 'grpc://' + os.environ['COLAB_TPU_ADDR']\n",
        "print('TPU address is', TPU_ADDRESS)\n",
        "\n",
        "from google.colab import auth\n",
        "auth.authenticate_user()\n",
        "with tf.Session(TPU_ADDRESS) as session:\n",
        "  print('TPU devices:')\n",
        "  pprint.pprint(session.list_devices())\n",
        "\n",
        "  # Upload credentials to TPU.\n",
        "  with open('/content/adc.json', 'r') as f:\n",
        "    auth_info = json.load(f)\n",
        "  tf.contrib.cloud.configure_gcs(session, credentials=auth_info)\n",
        "  # Now credentials are set for all future sessions on this TPU."
      ],
      "execution_count": 3,
      "outputs": [
        {
          "output_type": "stream",
          "text": [
            "TPU address is grpc://10.21.128.210:8470\n"
          ],
          "name": "stdout"
        },
        {
          "output_type": "stream",
          "text": [
            "WARNING: Logging before flag parsing goes to stderr.\n",
            "W0813 21:58:41.268386 140613293332352 lazy_loader.py:50] \n",
            "The TensorFlow contrib module will not be included in TensorFlow 2.0.\n",
            "For more information, please see:\n",
            "  * https://github.com/tensorflow/community/blob/master/rfcs/20180907-contrib-sunset.md\n",
            "  * https://github.com/tensorflow/addons\n",
            "  * https://github.com/tensorflow/io (for I/O related ops)\n",
            "If you depend on functionality not listed there, please file an issue.\n",
            "\n"
          ],
          "name": "stderr"
        },
        {
          "output_type": "stream",
          "text": [
            "TPU devices:\n",
            "[_DeviceAttributes(/job:tpu_worker/replica:0/task:0/device:CPU:0, CPU, -1, 18158176857304413001),\n",
            " _DeviceAttributes(/job:tpu_worker/replica:0/task:0/device:XLA_CPU:0, XLA_CPU, 17179869184, 5161139114032175048),\n",
            " _DeviceAttributes(/job:tpu_worker/replica:0/task:0/device:TPU:0, TPU, 17179869184, 10048316422614533797),\n",
            " _DeviceAttributes(/job:tpu_worker/replica:0/task:0/device:TPU:1, TPU, 17179869184, 10597434460892239874),\n",
            " _DeviceAttributes(/job:tpu_worker/replica:0/task:0/device:TPU:2, TPU, 17179869184, 8333610763815774113),\n",
            " _DeviceAttributes(/job:tpu_worker/replica:0/task:0/device:TPU:3, TPU, 17179869184, 15818777960531408360),\n",
            " _DeviceAttributes(/job:tpu_worker/replica:0/task:0/device:TPU:4, TPU, 17179869184, 10470061386165594979),\n",
            " _DeviceAttributes(/job:tpu_worker/replica:0/task:0/device:TPU:5, TPU, 17179869184, 8198994015876653602),\n",
            " _DeviceAttributes(/job:tpu_worker/replica:0/task:0/device:TPU:6, TPU, 17179869184, 3547267250771737584),\n",
            " _DeviceAttributes(/job:tpu_worker/replica:0/task:0/device:TPU:7, TPU, 17179869184, 2861024072967398346),\n",
            " _DeviceAttributes(/job:tpu_worker/replica:0/task:0/device:TPU_SYSTEM:0, TPU_SYSTEM, 8589934592, 18113442635209670723)]\n"
          ],
          "name": "stdout"
        }
      ]
    },
    {
      "cell_type": "markdown",
      "metadata": {
        "id": "HUBP35oCDmbF",
        "colab_type": "text"
      },
      "source": [
        "### Prepare and import BERT modules\n",
        "​\n",
        "With your environment configured, you can now prepare and import the BERT modules. The following step clones the source code from GitHub and import the modules from the source. Alternatively, you can install BERT using pip (!pip install bert-tensorflow)."
      ]
    },
    {
      "cell_type": "code",
      "metadata": {
        "id": "7wzwke0sxS6W",
        "colab_type": "code",
        "outputId": "af764e7e-bb93-4730-bb1c-29d3e1322a47",
        "colab": {
          "base_uri": "https://localhost:8080/",
          "height": 157
        }
      },
      "source": [
        "import sys\n",
        "\n",
        "!test -d bert_repo || git clone https://github.com/google-research/bert bert_repo\n",
        "if not 'bert_repo' in sys.path:\n",
        "  sys.path += ['bert_repo']\n",
        "\n",
        "# import python modules defined by BERT\n",
        "import modeling\n",
        "import optimization\n",
        "import run_classifier\n",
        "import run_classifier_with_tfhub\n",
        "import tokenization\n",
        "\n",
        "# import tfhub \n",
        "import tensorflow_hub as hub"
      ],
      "execution_count": 4,
      "outputs": [
        {
          "output_type": "stream",
          "text": [
            "Cloning into 'bert_repo'...\n",
            "remote: Enumerating objects: 333, done.\u001b[K\n",
            "remote: Total 333 (delta 0), reused 0 (delta 0), pack-reused 333\u001b[K\n",
            "Receiving objects: 100% (333/333), 279.30 KiB | 3.88 MiB/s, done.\n",
            "Resolving deltas: 100% (183/183), done.\n"
          ],
          "name": "stdout"
        },
        {
          "output_type": "stream",
          "text": [
            "W0813 21:58:45.353305 140613293332352 deprecation_wrapper.py:119] From bert_repo/optimization.py:87: The name tf.train.Optimizer is deprecated. Please use tf.compat.v1.train.Optimizer instead.\n",
            "\n"
          ],
          "name": "stderr"
        }
      ]
    },
    {
      "cell_type": "markdown",
      "metadata": {
        "id": "RRu1aKO1D7-Z",
        "colab_type": "text"
      },
      "source": [
        "### Prepare for training\n",
        "\n",
        "This next section of code performs the following tasks:\n",
        "\n",
        "*  Specify task and download training data.\n",
        "*  Specify BERT pretrained model\n",
        "*  Specify GS bucket, create output directory for model checkpoints and eval results.\n",
        "\n",
        "\n"
      ]
    },
    {
      "cell_type": "code",
      "metadata": {
        "id": "tYkaAlJNfhul",
        "colab_type": "code",
        "outputId": "bea15db2-b93c-44ff-dedc-7489bbee0ed9",
        "colab": {
          "base_uri": "https://localhost:8080/",
          "height": 188
        }
      },
      "source": [
        "TASK = 'MRPC' #@param {type:\"string\"}\n",
        "assert TASK in ('MRPC', 'CoLA'), 'Only (MRPC, CoLA) are demonstrated here.'\n",
        "\n",
        "# Download glue data.\n",
        "! test -d download_glue_repo || git clone https://gist.github.com/60c2bdb54d156a41194446737ce03e2e.git download_glue_repo\n",
        "!python download_glue_repo/download_glue_data.py --data_dir='glue_data' --tasks=$TASK\n",
        "\n",
        "TASK_DATA_DIR = 'glue_data/' + TASK\n",
        "print('***** Task data directory: {} *****'.format(TASK_DATA_DIR))\n",
        "!ls $TASK_DATA_DIR\n",
        "\n",
        "BUCKET = 'datacup-leaders-prize-bucket-1' #@param {type:\"string\"}\n",
        "assert BUCKET, 'Must specify an existing GCS bucket name'\n",
        "OUTPUT_DIR = 'gs://{}/bert-tfhub/models/{}'.format(BUCKET, TASK)\n",
        "tf.gfile.MakeDirs(OUTPUT_DIR)\n",
        "#print('***** Model output directory: {} *****'.format(OUTPUT_DIR))\n",
        "\n",
        "# Available pretrained model checkpoints:\n",
        "#   uncased_L-12_H-768_A-12: uncased BERT base model\n",
        "#   uncased_L-24_H-1024_A-16: uncased BERT large model\n",
        "#   cased_L-12_H-768_A-12: cased BERT large model\n",
        "BERT_MODEL = 'uncased_L-12_H-768_A-12' #@param {type:\"string\"}\n",
        "BERT_MODEL_HUB = 'https://tfhub.dev/google/bert_' + BERT_MODEL + '/1'"
      ],
      "execution_count": 5,
      "outputs": [
        {
          "output_type": "stream",
          "text": [
            "Cloning into 'download_glue_repo'...\n",
            "remote: Enumerating objects: 21, done.\u001b[K\n",
            "remote: Total 21 (delta 0), reused 0 (delta 0), pack-reused 21\u001b[K\n",
            "Unpacking objects:   4% (1/21)   \rUnpacking objects:   9% (2/21)   \rUnpacking objects:  14% (3/21)   \rUnpacking objects:  19% (4/21)   \rUnpacking objects:  23% (5/21)   \rUnpacking objects:  28% (6/21)   \rUnpacking objects:  33% (7/21)   \rUnpacking objects:  38% (8/21)   \rUnpacking objects:  42% (9/21)   \rUnpacking objects:  47% (10/21)   \rUnpacking objects:  52% (11/21)   \rUnpacking objects:  57% (12/21)   \rUnpacking objects:  61% (13/21)   \rUnpacking objects:  66% (14/21)   \rUnpacking objects:  71% (15/21)   \rUnpacking objects:  76% (16/21)   \rUnpacking objects:  80% (17/21)   \rUnpacking objects:  85% (18/21)   \rUnpacking objects:  90% (19/21)   \rUnpacking objects:  95% (20/21)   \rUnpacking objects: 100% (21/21)   \rUnpacking objects: 100% (21/21), done.\n",
            "Processing MRPC...\n",
            "Local MRPC data not specified, downloading data from https://dl.fbaipublicfiles.com/senteval/senteval_data/msr_paraphrase_train.txt\n",
            "\tCompleted!\n",
            "***** Task data directory: glue_data/MRPC *****\n",
            "dev_ids.tsv  msr_paraphrase_test.txt   test.tsv\n",
            "dev.tsv      msr_paraphrase_train.txt  train.tsv\n"
          ],
          "name": "stdout"
        }
      ]
    },
    {
      "cell_type": "markdown",
      "metadata": {
        "id": "Hcpfl4N2EdOk",
        "colab_type": "text"
      },
      "source": [
        "Now let's load tokenizer module from TF Hub and play with it."
      ]
    },
    {
      "cell_type": "code",
      "metadata": {
        "id": "TylDOYd-6AH-",
        "colab_type": "code",
        "outputId": "c4b06840-69cd-47e4-8691-2d700d5bcbd6",
        "colab": {
          "base_uri": "https://localhost:8080/",
          "height": 311
        }
      },
      "source": [
        "tokenizer = run_classifier_with_tfhub.create_tokenizer_from_hub_module(BERT_MODEL_HUB)\n",
        "tokenizer.tokenize(\"This here's an example of using the BERT tokenizer\")"
      ],
      "execution_count": 6,
      "outputs": [
        {
          "output_type": "stream",
          "text": [
            "W0813 21:59:07.642463 140613293332352 deprecation_wrapper.py:119] From bert_repo/run_classifier_with_tfhub.py:151: The name tf.Session is deprecated. Please use tf.compat.v1.Session instead.\n",
            "\n",
            "W0813 21:59:08.057532 140613293332352 deprecation_wrapper.py:119] From bert_repo/tokenization.py:125: The name tf.gfile.GFile is deprecated. Please use tf.io.gfile.GFile instead.\n",
            "\n"
          ],
          "name": "stderr"
        },
        {
          "output_type": "execute_result",
          "data": {
            "text/plain": [
              "['this',\n",
              " 'here',\n",
              " \"'\",\n",
              " 's',\n",
              " 'an',\n",
              " 'example',\n",
              " 'of',\n",
              " 'using',\n",
              " 'the',\n",
              " 'bert',\n",
              " 'token',\n",
              " '##izer']"
            ]
          },
          "metadata": {
            "tags": []
          },
          "execution_count": 6
        }
      ]
    },
    {
      "cell_type": "markdown",
      "metadata": {
        "id": "oqQ_LHyzcoYW",
        "colab_type": "text"
      },
      "source": [
        "Also we initilize our hyperprams, prepare the training data and initialize TPU config."
      ]
    },
    {
      "cell_type": "code",
      "metadata": {
        "id": "pYVYULZiKvUi",
        "colab_type": "code",
        "outputId": "04f780cc-3349-4304-e7c5-d56041a1f0ab",
        "colab": {
          "base_uri": "https://localhost:8080/",
          "height": 71
        }
      },
      "source": [
        "TRAIN_BATCH_SIZE = 32\n",
        "EVAL_BATCH_SIZE = 8\n",
        "PREDICT_BATCH_SIZE = 8\n",
        "LEARNING_RATE = 2e-5\n",
        "NUM_TRAIN_EPOCHS = 3.0\n",
        "MAX_SEQ_LENGTH = 128\n",
        "# Warmup is a period of time where hte learning rate \n",
        "# is small and gradually increases--usually helps training.\n",
        "WARMUP_PROPORTION = 0.1\n",
        "# Model configs\n",
        "SAVE_CHECKPOINTS_STEPS = 1000\n",
        "SAVE_SUMMARY_STEPS = 500\n",
        "\n",
        "processors = {\n",
        "  \"cola\": run_classifier.ColaProcessor,\n",
        "  \"mnli\": run_classifier.MnliProcessor,\n",
        "  \"mrpc\": run_classifier.MrpcProcessor,\n",
        "}\n",
        "processor = processors[TASK.lower()]()\n",
        "label_list = processor.get_labels()\n",
        "\n",
        "# Compute number of train and warmup steps from batch size\n",
        "train_examples = processor.get_train_examples(TASK_DATA_DIR)\n",
        "num_train_steps = int(len(train_examples) / TRAIN_BATCH_SIZE * NUM_TRAIN_EPOCHS)\n",
        "num_warmup_steps = int(num_train_steps * WARMUP_PROPORTION)\n",
        "\n",
        "# Setup TPU related config\n",
        "tpu_cluster_resolver = tf.contrib.cluster_resolver.TPUClusterResolver(TPU_ADDRESS)\n",
        "NUM_TPU_CORES = 8\n",
        "ITERATIONS_PER_LOOP = 1000\n",
        "\n",
        "def get_run_config(output_dir):\n",
        "  return tf.contrib.tpu.RunConfig(\n",
        "    cluster=tpu_cluster_resolver,\n",
        "    model_dir=output_dir,\n",
        "    save_checkpoints_steps=SAVE_CHECKPOINTS_STEPS,\n",
        "    tpu_config=tf.contrib.tpu.TPUConfig(\n",
        "        iterations_per_loop=ITERATIONS_PER_LOOP,\n",
        "        num_shards=NUM_TPU_CORES,\n",
        "        per_host_input_for_training=tf.contrib.tpu.InputPipelineConfig.PER_HOST_V2))\n"
      ],
      "execution_count": 7,
      "outputs": [
        {
          "output_type": "stream",
          "text": [
            "W0813 21:59:08.222756 140613293332352 deprecation_wrapper.py:119] From bert_repo/run_classifier.py:199: The name tf.gfile.Open is deprecated. Please use tf.io.gfile.GFile instead.\n",
            "\n"
          ],
          "name": "stderr"
        }
      ]
    },
    {
      "cell_type": "markdown",
      "metadata": {
        "id": "m3iFMeqLaSll",
        "colab_type": "text"
      },
      "source": [
        "# Fine-tune and Run Predictions on a pretrained BERT Model from TF Hub"
      ]
    },
    {
      "cell_type": "markdown",
      "metadata": {
        "id": "eXyJRc0OIHEU",
        "colab_type": "text"
      },
      "source": [
        "This section demonstrates fine-tuning from a pre-trained BERT TF Hub module and running predictions.\n"
      ]
    },
    {
      "cell_type": "code",
      "metadata": {
        "id": "nwcsdbLuIX2I",
        "colab_type": "code",
        "outputId": "154ee464-8f49-4ad4-be09-d66e58abd7c2",
        "colab": {
          "base_uri": "https://localhost:8080/",
          "height": 54
        }
      },
      "source": [
        "# Force TF Hub writes to the GS bucket we provide.\n",
        "os.environ['TFHUB_CACHE_DIR'] = OUTPUT_DIR\n",
        "\n",
        "model_fn = run_classifier_with_tfhub.model_fn_builder(\n",
        "  num_labels=len(label_list),\n",
        "  learning_rate=LEARNING_RATE,\n",
        "  num_train_steps=num_train_steps,\n",
        "  num_warmup_steps=num_warmup_steps,\n",
        "  use_tpu=True,\n",
        "  bert_hub_module_handle=BERT_MODEL_HUB\n",
        ")\n",
        "\n",
        "estimator_from_tfhub = tf.contrib.tpu.TPUEstimator(\n",
        "  use_tpu=True,\n",
        "  model_fn=model_fn,\n",
        "  config=get_run_config(OUTPUT_DIR),\n",
        "  train_batch_size=TRAIN_BATCH_SIZE,\n",
        "  eval_batch_size=EVAL_BATCH_SIZE,\n",
        "  predict_batch_size=PREDICT_BATCH_SIZE,\n",
        ")\n"
      ],
      "execution_count": 8,
      "outputs": [
        {
          "output_type": "stream",
          "text": [
            "W0813 21:59:09.300712 140613293332352 estimator.py:1984] Estimator's model_fn (<function model_fn_builder.<locals>.model_fn at 0x7fe2c66babf8>) includes params argument, but params are not passed to Estimator.\n"
          ],
          "name": "stderr"
        }
      ]
    },
    {
      "cell_type": "markdown",
      "metadata": {
        "id": "MGVYj_rlcDhc",
        "colab_type": "text"
      },
      "source": [
        "At this point, you can now fine-tune the model, evaluate it, and run predictions on it."
      ]
    },
    {
      "cell_type": "code",
      "metadata": {
        "id": "5U_c8s2AvhgL",
        "colab_type": "code",
        "colab": {}
      },
      "source": [
        "# Train the model\n",
        "def model_train(estimator):\n",
        "  print('MRPC/CoLA on BERT base model normally takes about 2-3 minutes. Please wait...')\n",
        "  # We'll set sequences to be at most 128 tokens long.\n",
        "  train_features = run_classifier.convert_examples_to_features(\n",
        "      train_examples, label_list, MAX_SEQ_LENGTH, tokenizer)\n",
        "  print('***** Started training at {} *****'.format(datetime.datetime.now()))\n",
        "  print('  Num examples = {}'.format(len(train_examples)))\n",
        "  print('  Batch size = {}'.format(TRAIN_BATCH_SIZE))\n",
        "  tf.logging.info(\"  Num steps = %d\", num_train_steps)\n",
        "  train_input_fn = run_classifier.input_fn_builder(\n",
        "      features=train_features,\n",
        "      seq_length=MAX_SEQ_LENGTH,\n",
        "      is_training=True,\n",
        "      drop_remainder=True)\n",
        "  estimator.train(input_fn=train_input_fn, max_steps=num_train_steps)\n",
        "  print('***** Finished training at {} *****'.format(datetime.datetime.now()))\n",
        "\n"
      ],
      "execution_count": 0,
      "outputs": []
    },
    {
      "cell_type": "code",
      "metadata": {
        "id": "TRhzyk4_WD2n",
        "colab_type": "code",
        "outputId": "a529433d-b80a-42e5-d5c0-a199edf3bb7c",
        "colab": {
          "base_uri": "https://localhost:8080/",
          "height": 157
        }
      },
      "source": [
        "model_train(estimator_from_tfhub)"
      ],
      "execution_count": 10,
      "outputs": [
        {
          "output_type": "stream",
          "text": [
            "W0813 21:59:09.344632 140613293332352 deprecation_wrapper.py:119] From bert_repo/run_classifier.py:774: The name tf.logging.info is deprecated. Please use tf.compat.v1.logging.info instead.\n",
            "\n"
          ],
          "name": "stderr"
        },
        {
          "output_type": "stream",
          "text": [
            "MRPC/CoLA on BERT base model normally takes about 2-3 minutes. Please wait...\n",
            "***** Started training at 2019-08-13 21:59:13.175785 *****\n",
            "  Num examples = 3668\n",
            "  Batch size = 32\n",
            "***** Finished training at 2019-08-13 21:59:15.590549 *****\n"
          ],
          "name": "stdout"
        }
      ]
    },
    {
      "cell_type": "code",
      "metadata": {
        "id": "eoXRtSPZvdiS",
        "colab_type": "code",
        "colab": {}
      },
      "source": [
        "def model_eval(estimator):\n",
        "  # Eval the model.\n",
        "  eval_examples = processor.get_dev_examples(TASK_DATA_DIR)\n",
        "  eval_features = run_classifier.convert_examples_to_features(\n",
        "      eval_examples, label_list, MAX_SEQ_LENGTH, tokenizer)\n",
        "  print('***** Started evaluation at {} *****'.format(datetime.datetime.now()))\n",
        "  print('  Num examples = {}'.format(len(eval_examples)))\n",
        "  print('  Batch size = {}'.format(EVAL_BATCH_SIZE))\n",
        "\n",
        "  # Eval will be slightly WRONG on the TPU because it will truncate\n",
        "  # the last batch.\n",
        "  eval_steps = int(len(eval_examples) / EVAL_BATCH_SIZE)\n",
        "  eval_input_fn = run_classifier.input_fn_builder(\n",
        "      features=eval_features,\n",
        "      seq_length=MAX_SEQ_LENGTH,\n",
        "      is_training=False,\n",
        "      drop_remainder=True)\n",
        "  result = estimator.evaluate(input_fn=eval_input_fn, steps=eval_steps)\n",
        "  print('***** Finished evaluation at {} *****'.format(datetime.datetime.now()))\n",
        "  output_eval_file = os.path.join(OUTPUT_DIR, \"eval_results.txt\")\n",
        "  with tf.gfile.GFile(output_eval_file, \"w\") as writer:\n",
        "    print(\"***** Eval results *****\")\n",
        "    for key in sorted(result.keys()):\n",
        "      print('  {} = {}'.format(key, str(result[key])))\n",
        "      writer.write(\"%s = %s\\n\" % (key, str(result[key])))\n"
      ],
      "execution_count": 0,
      "outputs": []
    },
    {
      "cell_type": "code",
      "metadata": {
        "id": "lLQehBr4WHjj",
        "colab_type": "code",
        "outputId": "dd95ef61-152e-4f51-e847-3ff6c1a2e4f4",
        "colab": {
          "base_uri": "https://localhost:8080/",
          "height": 1000
        }
      },
      "source": [
        "model_eval(estimator_from_tfhub)"
      ],
      "execution_count": 12,
      "outputs": [
        {
          "output_type": "stream",
          "text": [
            "***** Started evaluation at 2019-08-13 21:59:16.098329 *****\n",
            "  Num examples = 408\n",
            "  Batch size = 8\n"
          ],
          "name": "stdout"
        },
        {
          "output_type": "stream",
          "text": [
            "E0813 21:59:24.212589 140613293332352 tpu.py:376] Operation of type Placeholder (module_apply_tokens/input_ids) is not supported on the TPU. Execution will fail if this op is used in the graph. \n",
            "E0813 21:59:24.214898 140613293332352 tpu.py:376] Operation of type Placeholder (module_apply_tokens/input_mask) is not supported on the TPU. Execution will fail if this op is used in the graph. \n",
            "E0813 21:59:24.216434 140613293332352 tpu.py:376] Operation of type Placeholder (module_apply_tokens/segment_ids) is not supported on the TPU. Execution will fail if this op is used in the graph. \n",
            "E0813 21:59:24.217603 140613293332352 tpu.py:376] Operation of type Placeholder (module_apply_tokens/mlm_positions) is not supported on the TPU. Execution will fail if this op is used in the graph. \n",
            "E0813 21:59:24.223889 140613293332352 tpu.py:376] Operation of type Placeholder (module_apply_tokens/bert/embeddings/word_embeddings) is not supported on the TPU. Execution will fail if this op is used in the graph. \n",
            "E0813 21:59:24.231584 140613293332352 tpu.py:376] Operation of type Placeholder (module_apply_tokens/bert/embeddings/token_type_embeddings) is not supported on the TPU. Execution will fail if this op is used in the graph. \n",
            "E0813 21:59:24.238973 140613293332352 tpu.py:376] Operation of type Placeholder (module_apply_tokens/bert/embeddings/position_embeddings) is not supported on the TPU. Execution will fail if this op is used in the graph. \n",
            "E0813 21:59:24.244058 140613293332352 tpu.py:376] Operation of type Placeholder (module_apply_tokens/bert/embeddings/LayerNorm/beta) is not supported on the TPU. Execution will fail if this op is used in the graph. \n",
            "E0813 21:59:24.246161 140613293332352 tpu.py:376] Operation of type Placeholder (module_apply_tokens/bert/embeddings/LayerNorm/gamma) is not supported on the TPU. Execution will fail if this op is used in the graph. \n",
            "E0813 21:59:24.262951 140613293332352 tpu.py:376] Operation of type Placeholder (module_apply_tokens/bert/encoder/layer_0/attention/self/query/kernel) is not supported on the TPU. Execution will fail if this op is used in the graph. \n",
            "E0813 21:59:24.267858 140613293332352 tpu.py:376] Operation of type Placeholder (module_apply_tokens/bert/encoder/layer_0/attention/self/query/bias) is not supported on the TPU. Execution will fail if this op is used in the graph. \n",
            "E0813 21:59:24.278630 140613293332352 tpu.py:376] Operation of type Placeholder (module_apply_tokens/bert/encoder/layer_0/attention/self/key/kernel) is not supported on the TPU. Execution will fail if this op is used in the graph. \n",
            "E0813 21:59:24.287490 140613293332352 tpu.py:376] Operation of type Placeholder (module_apply_tokens/bert/encoder/layer_0/attention/self/key/bias) is not supported on the TPU. Execution will fail if this op is used in the graph. \n",
            "E0813 21:59:24.298443 140613293332352 tpu.py:376] Operation of type Placeholder (module_apply_tokens/bert/encoder/layer_0/attention/self/value/kernel) is not supported on the TPU. Execution will fail if this op is used in the graph. \n",
            "E0813 21:59:24.302026 140613293332352 tpu.py:376] Operation of type Placeholder (module_apply_tokens/bert/encoder/layer_0/attention/self/value/bias) is not supported on the TPU. Execution will fail if this op is used in the graph. \n",
            "E0813 21:59:24.318377 140613293332352 tpu.py:376] Operation of type Placeholder (module_apply_tokens/bert/encoder/layer_0/attention/output/dense/kernel) is not supported on the TPU. Execution will fail if this op is used in the graph. \n",
            "E0813 21:59:24.322486 140613293332352 tpu.py:376] Operation of type Placeholder (module_apply_tokens/bert/encoder/layer_0/attention/output/dense/bias) is not supported on the TPU. Execution will fail if this op is used in the graph. \n",
            "E0813 21:59:24.329092 140613293332352 tpu.py:376] Operation of type Placeholder (module_apply_tokens/bert/encoder/layer_0/attention/output/LayerNorm/beta) is not supported on the TPU. Execution will fail if this op is used in the graph. \n",
            "E0813 21:59:24.333225 140613293332352 tpu.py:376] Operation of type Placeholder (module_apply_tokens/bert/encoder/layer_0/attention/output/LayerNorm/gamma) is not supported on the TPU. Execution will fail if this op is used in the graph. \n",
            "E0813 21:59:24.341181 140613293332352 tpu.py:376] Operation of type Placeholder (module_apply_tokens/bert/encoder/layer_0/intermediate/dense/kernel) is not supported on the TPU. Execution will fail if this op is used in the graph. \n",
            "E0813 21:59:24.347294 140613293332352 tpu.py:376] Operation of type Placeholder (module_apply_tokens/bert/encoder/layer_0/intermediate/dense/bias) is not supported on the TPU. Execution will fail if this op is used in the graph. \n",
            "E0813 21:59:24.355949 140613293332352 tpu.py:376] Operation of type Placeholder (module_apply_tokens/bert/encoder/layer_0/output/dense/kernel) is not supported on the TPU. Execution will fail if this op is used in the graph. \n",
            "E0813 21:59:24.360012 140613293332352 tpu.py:376] Operation of type Placeholder (module_apply_tokens/bert/encoder/layer_0/output/dense/bias) is not supported on the TPU. Execution will fail if this op is used in the graph. \n",
            "E0813 21:59:24.365383 140613293332352 tpu.py:376] Operation of type Placeholder (module_apply_tokens/bert/encoder/layer_0/output/LayerNorm/beta) is not supported on the TPU. Execution will fail if this op is used in the graph. \n",
            "E0813 21:59:24.369188 140613293332352 tpu.py:376] Operation of type Placeholder (module_apply_tokens/bert/encoder/layer_0/output/LayerNorm/gamma) is not supported on the TPU. Execution will fail if this op is used in the graph. \n",
            "E0813 21:59:24.379956 140613293332352 tpu.py:376] Operation of type Placeholder (module_apply_tokens/bert/encoder/layer_1/attention/self/query/kernel) is not supported on the TPU. Execution will fail if this op is used in the graph. \n",
            "E0813 21:59:24.385018 140613293332352 tpu.py:376] Operation of type Placeholder (module_apply_tokens/bert/encoder/layer_1/attention/self/query/bias) is not supported on the TPU. Execution will fail if this op is used in the graph. \n",
            "E0813 21:59:24.391717 140613293332352 tpu.py:376] Operation of type Placeholder (module_apply_tokens/bert/encoder/layer_1/attention/self/key/kernel) is not supported on the TPU. Execution will fail if this op is used in the graph. \n",
            "E0813 21:59:24.397421 140613293332352 tpu.py:376] Operation of type Placeholder (module_apply_tokens/bert/encoder/layer_1/attention/self/key/bias) is not supported on the TPU. Execution will fail if this op is used in the graph. \n",
            "E0813 21:59:24.404948 140613293332352 tpu.py:376] Operation of type Placeholder (module_apply_tokens/bert/encoder/layer_1/attention/self/value/kernel) is not supported on the TPU. Execution will fail if this op is used in the graph. \n",
            "E0813 21:59:24.410589 140613293332352 tpu.py:376] Operation of type Placeholder (module_apply_tokens/bert/encoder/layer_1/attention/self/value/bias) is not supported on the TPU. Execution will fail if this op is used in the graph. \n",
            "E0813 21:59:24.426149 140613293332352 tpu.py:376] Operation of type Placeholder (module_apply_tokens/bert/encoder/layer_1/attention/output/dense/kernel) is not supported on the TPU. Execution will fail if this op is used in the graph. \n",
            "E0813 21:59:24.431884 140613293332352 tpu.py:376] Operation of type Placeholder (module_apply_tokens/bert/encoder/layer_1/attention/output/dense/bias) is not supported on the TPU. Execution will fail if this op is used in the graph. \n",
            "E0813 21:59:24.439702 140613293332352 tpu.py:376] Operation of type Placeholder (module_apply_tokens/bert/encoder/layer_1/attention/output/LayerNorm/beta) is not supported on the TPU. Execution will fail if this op is used in the graph. \n",
            "E0813 21:59:24.448080 140613293332352 tpu.py:376] Operation of type Placeholder (module_apply_tokens/bert/encoder/layer_1/attention/output/LayerNorm/gamma) is not supported on the TPU. Execution will fail if this op is used in the graph. \n",
            "E0813 21:59:24.457304 140613293332352 tpu.py:376] Operation of type Placeholder (module_apply_tokens/bert/encoder/layer_1/intermediate/dense/kernel) is not supported on the TPU. Execution will fail if this op is used in the graph. \n",
            "E0813 21:59:24.461355 140613293332352 tpu.py:376] Operation of type Placeholder (module_apply_tokens/bert/encoder/layer_1/intermediate/dense/bias) is not supported on the TPU. Execution will fail if this op is used in the graph. \n",
            "E0813 21:59:24.472666 140613293332352 tpu.py:376] Operation of type Placeholder (module_apply_tokens/bert/encoder/layer_1/output/dense/kernel) is not supported on the TPU. Execution will fail if this op is used in the graph. \n",
            "E0813 21:59:24.476107 140613293332352 tpu.py:376] Operation of type Placeholder (module_apply_tokens/bert/encoder/layer_1/output/dense/bias) is not supported on the TPU. Execution will fail if this op is used in the graph. \n",
            "E0813 21:59:24.481322 140613293332352 tpu.py:376] Operation of type Placeholder (module_apply_tokens/bert/encoder/layer_1/output/LayerNorm/beta) is not supported on the TPU. Execution will fail if this op is used in the graph. \n",
            "E0813 21:59:24.485168 140613293332352 tpu.py:376] Operation of type Placeholder (module_apply_tokens/bert/encoder/layer_1/output/LayerNorm/gamma) is not supported on the TPU. Execution will fail if this op is used in the graph. \n",
            "E0813 21:59:24.498680 140613293332352 tpu.py:376] Operation of type Placeholder (module_apply_tokens/bert/encoder/layer_2/attention/self/query/kernel) is not supported on the TPU. Execution will fail if this op is used in the graph. \n",
            "E0813 21:59:24.502477 140613293332352 tpu.py:376] Operation of type Placeholder (module_apply_tokens/bert/encoder/layer_2/attention/self/query/bias) is not supported on the TPU. Execution will fail if this op is used in the graph. \n",
            "E0813 21:59:24.510767 140613293332352 tpu.py:376] Operation of type Placeholder (module_apply_tokens/bert/encoder/layer_2/attention/self/key/kernel) is not supported on the TPU. Execution will fail if this op is used in the graph. \n",
            "E0813 21:59:24.515158 140613293332352 tpu.py:376] Operation of type Placeholder (module_apply_tokens/bert/encoder/layer_2/attention/self/key/bias) is not supported on the TPU. Execution will fail if this op is used in the graph. \n",
            "E0813 21:59:24.522498 140613293332352 tpu.py:376] Operation of type Placeholder (module_apply_tokens/bert/encoder/layer_2/attention/self/value/kernel) is not supported on the TPU. Execution will fail if this op is used in the graph. \n",
            "E0813 21:59:24.527888 140613293332352 tpu.py:376] Operation of type Placeholder (module_apply_tokens/bert/encoder/layer_2/attention/self/value/bias) is not supported on the TPU. Execution will fail if this op is used in the graph. \n",
            "E0813 21:59:24.544662 140613293332352 tpu.py:376] Operation of type Placeholder (module_apply_tokens/bert/encoder/layer_2/attention/output/dense/kernel) is not supported on the TPU. Execution will fail if this op is used in the graph. \n",
            "E0813 21:59:24.551980 140613293332352 tpu.py:376] Operation of type Placeholder (module_apply_tokens/bert/encoder/layer_2/attention/output/dense/bias) is not supported on the TPU. Execution will fail if this op is used in the graph. \n",
            "E0813 21:59:24.559838 140613293332352 tpu.py:376] Operation of type Placeholder (module_apply_tokens/bert/encoder/layer_2/attention/output/LayerNorm/beta) is not supported on the TPU. Execution will fail if this op is used in the graph. \n",
            "E0813 21:59:24.564636 140613293332352 tpu.py:376] Operation of type Placeholder (module_apply_tokens/bert/encoder/layer_2/attention/output/LayerNorm/gamma) is not supported on the TPU. Execution will fail if this op is used in the graph. \n",
            "E0813 21:59:24.573696 140613293332352 tpu.py:376] Operation of type Placeholder (module_apply_tokens/bert/encoder/layer_2/intermediate/dense/kernel) is not supported on the TPU. Execution will fail if this op is used in the graph. \n",
            "E0813 21:59:24.577877 140613293332352 tpu.py:376] Operation of type Placeholder (module_apply_tokens/bert/encoder/layer_2/intermediate/dense/bias) is not supported on the TPU. Execution will fail if this op is used in the graph. \n",
            "E0813 21:59:24.589781 140613293332352 tpu.py:376] Operation of type Placeholder (module_apply_tokens/bert/encoder/layer_2/output/dense/kernel) is not supported on the TPU. Execution will fail if this op is used in the graph. \n",
            "E0813 21:59:24.593178 140613293332352 tpu.py:376] Operation of type Placeholder (module_apply_tokens/bert/encoder/layer_2/output/dense/bias) is not supported on the TPU. Execution will fail if this op is used in the graph. \n",
            "E0813 21:59:24.600070 140613293332352 tpu.py:376] Operation of type Placeholder (module_apply_tokens/bert/encoder/layer_2/output/LayerNorm/beta) is not supported on the TPU. Execution will fail if this op is used in the graph. \n",
            "E0813 21:59:24.604435 140613293332352 tpu.py:376] Operation of type Placeholder (module_apply_tokens/bert/encoder/layer_2/output/LayerNorm/gamma) is not supported on the TPU. Execution will fail if this op is used in the graph. \n",
            "E0813 21:59:24.616900 140613293332352 tpu.py:376] Operation of type Placeholder (module_apply_tokens/bert/encoder/layer_3/attention/self/query/kernel) is not supported on the TPU. Execution will fail if this op is used in the graph. \n",
            "E0813 21:59:24.918604 140613293332352 tpu.py:376] Operation of type Placeholder (module_apply_tokens/bert/encoder/layer_3/attention/self/query/bias) is not supported on the TPU. Execution will fail if this op is used in the graph. \n",
            "E0813 21:59:24.926274 140613293332352 tpu.py:376] Operation of type Placeholder (module_apply_tokens/bert/encoder/layer_3/attention/self/key/kernel) is not supported on the TPU. Execution will fail if this op is used in the graph. \n",
            "E0813 21:59:24.929450 140613293332352 tpu.py:376] Operation of type Placeholder (module_apply_tokens/bert/encoder/layer_3/attention/self/key/bias) is not supported on the TPU. Execution will fail if this op is used in the graph. \n",
            "E0813 21:59:24.935543 140613293332352 tpu.py:376] Operation of type Placeholder (module_apply_tokens/bert/encoder/layer_3/attention/self/value/kernel) is not supported on the TPU. Execution will fail if this op is used in the graph. \n",
            "E0813 21:59:24.938457 140613293332352 tpu.py:376] Operation of type Placeholder (module_apply_tokens/bert/encoder/layer_3/attention/self/value/bias) is not supported on the TPU. Execution will fail if this op is used in the graph. \n",
            "E0813 21:59:24.951303 140613293332352 tpu.py:376] Operation of type Placeholder (module_apply_tokens/bert/encoder/layer_3/attention/output/dense/kernel) is not supported on the TPU. Execution will fail if this op is used in the graph. \n",
            "E0813 21:59:24.954863 140613293332352 tpu.py:376] Operation of type Placeholder (module_apply_tokens/bert/encoder/layer_3/attention/output/dense/bias) is not supported on the TPU. Execution will fail if this op is used in the graph. \n",
            "E0813 21:59:24.960434 140613293332352 tpu.py:376] Operation of type Placeholder (module_apply_tokens/bert/encoder/layer_3/attention/output/LayerNorm/beta) is not supported on the TPU. Execution will fail if this op is used in the graph. \n",
            "E0813 21:59:24.963659 140613293332352 tpu.py:376] Operation of type Placeholder (module_apply_tokens/bert/encoder/layer_3/attention/output/LayerNorm/gamma) is not supported on the TPU. Execution will fail if this op is used in the graph. \n",
            "E0813 21:59:24.972293 140613293332352 tpu.py:376] Operation of type Placeholder (module_apply_tokens/bert/encoder/layer_3/intermediate/dense/kernel) is not supported on the TPU. Execution will fail if this op is used in the graph. \n",
            "E0813 21:59:24.976104 140613293332352 tpu.py:376] Operation of type Placeholder (module_apply_tokens/bert/encoder/layer_3/intermediate/dense/bias) is not supported on the TPU. Execution will fail if this op is used in the graph. \n",
            "E0813 21:59:24.983583 140613293332352 tpu.py:376] Operation of type Placeholder (module_apply_tokens/bert/encoder/layer_3/output/dense/kernel) is not supported on the TPU. Execution will fail if this op is used in the graph. \n",
            "E0813 21:59:24.989110 140613293332352 tpu.py:376] Operation of type Placeholder (module_apply_tokens/bert/encoder/layer_3/output/dense/bias) is not supported on the TPU. Execution will fail if this op is used in the graph. \n",
            "E0813 21:59:24.995908 140613293332352 tpu.py:376] Operation of type Placeholder (module_apply_tokens/bert/encoder/layer_3/output/LayerNorm/beta) is not supported on the TPU. Execution will fail if this op is used in the graph. \n",
            "E0813 21:59:25.001318 140613293332352 tpu.py:376] Operation of type Placeholder (module_apply_tokens/bert/encoder/layer_3/output/LayerNorm/gamma) is not supported on the TPU. Execution will fail if this op is used in the graph. \n",
            "E0813 21:59:25.017830 140613293332352 tpu.py:376] Operation of type Placeholder (module_apply_tokens/bert/encoder/layer_4/attention/self/query/kernel) is not supported on the TPU. Execution will fail if this op is used in the graph. \n",
            "E0813 21:59:25.022668 140613293332352 tpu.py:376] Operation of type Placeholder (module_apply_tokens/bert/encoder/layer_4/attention/self/query/bias) is not supported on the TPU. Execution will fail if this op is used in the graph. \n",
            "E0813 21:59:25.030161 140613293332352 tpu.py:376] Operation of type Placeholder (module_apply_tokens/bert/encoder/layer_4/attention/self/key/kernel) is not supported on the TPU. Execution will fail if this op is used in the graph. \n",
            "E0813 21:59:25.036646 140613293332352 tpu.py:376] Operation of type Placeholder (module_apply_tokens/bert/encoder/layer_4/attention/self/key/bias) is not supported on the TPU. Execution will fail if this op is used in the graph. \n",
            "E0813 21:59:25.042305 140613293332352 tpu.py:376] Operation of type Placeholder (module_apply_tokens/bert/encoder/layer_4/attention/self/value/kernel) is not supported on the TPU. Execution will fail if this op is used in the graph. \n",
            "E0813 21:59:25.045740 140613293332352 tpu.py:376] Operation of type Placeholder (module_apply_tokens/bert/encoder/layer_4/attention/self/value/bias) is not supported on the TPU. Execution will fail if this op is used in the graph. \n",
            "E0813 21:59:25.059075 140613293332352 tpu.py:376] Operation of type Placeholder (module_apply_tokens/bert/encoder/layer_4/attention/output/dense/kernel) is not supported on the TPU. Execution will fail if this op is used in the graph. \n",
            "E0813 21:59:25.062427 140613293332352 tpu.py:376] Operation of type Placeholder (module_apply_tokens/bert/encoder/layer_4/attention/output/dense/bias) is not supported on the TPU. Execution will fail if this op is used in the graph. \n",
            "E0813 21:59:25.068074 140613293332352 tpu.py:376] Operation of type Placeholder (module_apply_tokens/bert/encoder/layer_4/attention/output/LayerNorm/beta) is not supported on the TPU. Execution will fail if this op is used in the graph. \n",
            "E0813 21:59:25.071895 140613293332352 tpu.py:376] Operation of type Placeholder (module_apply_tokens/bert/encoder/layer_4/attention/output/LayerNorm/gamma) is not supported on the TPU. Execution will fail if this op is used in the graph. \n",
            "E0813 21:59:25.079820 140613293332352 tpu.py:376] Operation of type Placeholder (module_apply_tokens/bert/encoder/layer_4/intermediate/dense/kernel) is not supported on the TPU. Execution will fail if this op is used in the graph. \n",
            "E0813 21:59:25.085036 140613293332352 tpu.py:376] Operation of type Placeholder (module_apply_tokens/bert/encoder/layer_4/intermediate/dense/bias) is not supported on the TPU. Execution will fail if this op is used in the graph. \n",
            "E0813 21:59:25.093091 140613293332352 tpu.py:376] Operation of type Placeholder (module_apply_tokens/bert/encoder/layer_4/output/dense/kernel) is not supported on the TPU. Execution will fail if this op is used in the graph. \n",
            "E0813 21:59:25.096755 140613293332352 tpu.py:376] Operation of type Placeholder (module_apply_tokens/bert/encoder/layer_4/output/dense/bias) is not supported on the TPU. Execution will fail if this op is used in the graph. \n",
            "E0813 21:59:25.102708 140613293332352 tpu.py:376] Operation of type Placeholder (module_apply_tokens/bert/encoder/layer_4/output/LayerNorm/beta) is not supported on the TPU. Execution will fail if this op is used in the graph. \n",
            "E0813 21:59:25.105562 140613293332352 tpu.py:376] Operation of type Placeholder (module_apply_tokens/bert/encoder/layer_4/output/LayerNorm/gamma) is not supported on the TPU. Execution will fail if this op is used in the graph. \n",
            "E0813 21:59:25.116008 140613293332352 tpu.py:376] Operation of type Placeholder (module_apply_tokens/bert/encoder/layer_5/attention/self/query/kernel) is not supported on the TPU. Execution will fail if this op is used in the graph. \n",
            "E0813 21:59:25.120071 140613293332352 tpu.py:376] Operation of type Placeholder (module_apply_tokens/bert/encoder/layer_5/attention/self/query/bias) is not supported on the TPU. Execution will fail if this op is used in the graph. \n",
            "E0813 21:59:25.124836 140613293332352 tpu.py:376] Operation of type Placeholder (module_apply_tokens/bert/encoder/layer_5/attention/self/key/kernel) is not supported on the TPU. Execution will fail if this op is used in the graph. \n",
            "E0813 21:59:25.128720 140613293332352 tpu.py:376] Operation of type Placeholder (module_apply_tokens/bert/encoder/layer_5/attention/self/key/bias) is not supported on the TPU. Execution will fail if this op is used in the graph. \n",
            "E0813 21:59:25.135150 140613293332352 tpu.py:376] Operation of type Placeholder (module_apply_tokens/bert/encoder/layer_5/attention/self/value/kernel) is not supported on the TPU. Execution will fail if this op is used in the graph. \n",
            "E0813 21:59:25.138926 140613293332352 tpu.py:376] Operation of type Placeholder (module_apply_tokens/bert/encoder/layer_5/attention/self/value/bias) is not supported on the TPU. Execution will fail if this op is used in the graph. \n",
            "E0813 21:59:25.151084 140613293332352 tpu.py:376] Operation of type Placeholder (module_apply_tokens/bert/encoder/layer_5/attention/output/dense/kernel) is not supported on the TPU. Execution will fail if this op is used in the graph. \n",
            "E0813 21:59:25.155063 140613293332352 tpu.py:376] Operation of type Placeholder (module_apply_tokens/bert/encoder/layer_5/attention/output/dense/bias) is not supported on the TPU. Execution will fail if this op is used in the graph. \n",
            "E0813 21:59:25.161474 140613293332352 tpu.py:376] Operation of type Placeholder (module_apply_tokens/bert/encoder/layer_5/attention/output/LayerNorm/beta) is not supported on the TPU. Execution will fail if this op is used in the graph. \n",
            "E0813 21:59:25.165454 140613293332352 tpu.py:376] Operation of type Placeholder (module_apply_tokens/bert/encoder/layer_5/attention/output/LayerNorm/gamma) is not supported on the TPU. Execution will fail if this op is used in the graph. \n",
            "E0813 21:59:25.175304 140613293332352 tpu.py:376] Operation of type Placeholder (module_apply_tokens/bert/encoder/layer_5/intermediate/dense/kernel) is not supported on the TPU. Execution will fail if this op is used in the graph. \n",
            "E0813 21:59:25.179403 140613293332352 tpu.py:376] Operation of type Placeholder (module_apply_tokens/bert/encoder/layer_5/intermediate/dense/bias) is not supported on the TPU. Execution will fail if this op is used in the graph. \n",
            "E0813 21:59:25.193051 140613293332352 tpu.py:376] Operation of type Placeholder (module_apply_tokens/bert/encoder/layer_5/output/dense/kernel) is not supported on the TPU. Execution will fail if this op is used in the graph. \n",
            "E0813 21:59:25.196365 140613293332352 tpu.py:376] Operation of type Placeholder (module_apply_tokens/bert/encoder/layer_5/output/dense/bias) is not supported on the TPU. Execution will fail if this op is used in the graph. \n",
            "E0813 21:59:25.205479 140613293332352 tpu.py:376] Operation of type Placeholder (module_apply_tokens/bert/encoder/layer_5/output/LayerNorm/beta) is not supported on the TPU. Execution will fail if this op is used in the graph. \n",
            "E0813 21:59:25.208850 140613293332352 tpu.py:376] Operation of type Placeholder (module_apply_tokens/bert/encoder/layer_5/output/LayerNorm/gamma) is not supported on the TPU. Execution will fail if this op is used in the graph. \n",
            "E0813 21:59:25.219629 140613293332352 tpu.py:376] Operation of type Placeholder (module_apply_tokens/bert/encoder/layer_6/attention/self/query/kernel) is not supported on the TPU. Execution will fail if this op is used in the graph. \n",
            "E0813 21:59:25.223095 140613293332352 tpu.py:376] Operation of type Placeholder (module_apply_tokens/bert/encoder/layer_6/attention/self/query/bias) is not supported on the TPU. Execution will fail if this op is used in the graph. \n",
            "E0813 21:59:25.229610 140613293332352 tpu.py:376] Operation of type Placeholder (module_apply_tokens/bert/encoder/layer_6/attention/self/key/kernel) is not supported on the TPU. Execution will fail if this op is used in the graph. \n",
            "E0813 21:59:25.233376 140613293332352 tpu.py:376] Operation of type Placeholder (module_apply_tokens/bert/encoder/layer_6/attention/self/key/bias) is not supported on the TPU. Execution will fail if this op is used in the graph. \n",
            "E0813 21:59:25.240324 140613293332352 tpu.py:376] Operation of type Placeholder (module_apply_tokens/bert/encoder/layer_6/attention/self/value/kernel) is not supported on the TPU. Execution will fail if this op is used in the graph. \n",
            "E0813 21:59:25.243510 140613293332352 tpu.py:376] Operation of type Placeholder (module_apply_tokens/bert/encoder/layer_6/attention/self/value/bias) is not supported on the TPU. Execution will fail if this op is used in the graph. \n",
            "E0813 21:59:25.256824 140613293332352 tpu.py:376] Operation of type Placeholder (module_apply_tokens/bert/encoder/layer_6/attention/output/dense/kernel) is not supported on the TPU. Execution will fail if this op is used in the graph. \n",
            "E0813 21:59:25.259903 140613293332352 tpu.py:376] Operation of type Placeholder (module_apply_tokens/bert/encoder/layer_6/attention/output/dense/bias) is not supported on the TPU. Execution will fail if this op is used in the graph. \n",
            "E0813 21:59:25.265734 140613293332352 tpu.py:376] Operation of type Placeholder (module_apply_tokens/bert/encoder/layer_6/attention/output/LayerNorm/beta) is not supported on the TPU. Execution will fail if this op is used in the graph. \n",
            "E0813 21:59:25.268081 140613293332352 tpu.py:376] Operation of type Placeholder (module_apply_tokens/bert/encoder/layer_6/attention/output/LayerNorm/gamma) is not supported on the TPU. Execution will fail if this op is used in the graph. \n",
            "E0813 21:59:25.275620 140613293332352 tpu.py:376] Operation of type Placeholder (module_apply_tokens/bert/encoder/layer_6/intermediate/dense/kernel) is not supported on the TPU. Execution will fail if this op is used in the graph. \n",
            "E0813 21:59:25.280468 140613293332352 tpu.py:376] Operation of type Placeholder (module_apply_tokens/bert/encoder/layer_6/intermediate/dense/bias) is not supported on the TPU. Execution will fail if this op is used in the graph. \n",
            "E0813 21:59:25.291633 140613293332352 tpu.py:376] Operation of type Placeholder (module_apply_tokens/bert/encoder/layer_6/output/dense/kernel) is not supported on the TPU. Execution will fail if this op is used in the graph. \n",
            "E0813 21:59:25.300928 140613293332352 tpu.py:376] Operation of type Placeholder (module_apply_tokens/bert/encoder/layer_6/output/dense/bias) is not supported on the TPU. Execution will fail if this op is used in the graph. \n",
            "E0813 21:59:25.307706 140613293332352 tpu.py:376] Operation of type Placeholder (module_apply_tokens/bert/encoder/layer_6/output/LayerNorm/beta) is not supported on the TPU. Execution will fail if this op is used in the graph. \n",
            "E0813 21:59:25.310838 140613293332352 tpu.py:376] Operation of type Placeholder (module_apply_tokens/bert/encoder/layer_6/output/LayerNorm/gamma) is not supported on the TPU. Execution will fail if this op is used in the graph. \n",
            "E0813 21:59:25.323793 140613293332352 tpu.py:376] Operation of type Placeholder (module_apply_tokens/bert/encoder/layer_7/attention/self/query/kernel) is not supported on the TPU. Execution will fail if this op is used in the graph. \n",
            "E0813 21:59:25.327554 140613293332352 tpu.py:376] Operation of type Placeholder (module_apply_tokens/bert/encoder/layer_7/attention/self/query/bias) is not supported on the TPU. Execution will fail if this op is used in the graph. \n",
            "E0813 21:59:25.333142 140613293332352 tpu.py:376] Operation of type Placeholder (module_apply_tokens/bert/encoder/layer_7/attention/self/key/kernel) is not supported on the TPU. Execution will fail if this op is used in the graph. \n",
            "E0813 21:59:25.336836 140613293332352 tpu.py:376] Operation of type Placeholder (module_apply_tokens/bert/encoder/layer_7/attention/self/key/bias) is not supported on the TPU. Execution will fail if this op is used in the graph. \n",
            "E0813 21:59:25.344427 140613293332352 tpu.py:376] Operation of type Placeholder (module_apply_tokens/bert/encoder/layer_7/attention/self/value/kernel) is not supported on the TPU. Execution will fail if this op is used in the graph. \n",
            "E0813 21:59:25.348135 140613293332352 tpu.py:376] Operation of type Placeholder (module_apply_tokens/bert/encoder/layer_7/attention/self/value/bias) is not supported on the TPU. Execution will fail if this op is used in the graph. \n",
            "E0813 21:59:25.360701 140613293332352 tpu.py:376] Operation of type Placeholder (module_apply_tokens/bert/encoder/layer_7/attention/output/dense/kernel) is not supported on the TPU. Execution will fail if this op is used in the graph. \n",
            "E0813 21:59:25.364695 140613293332352 tpu.py:376] Operation of type Placeholder (module_apply_tokens/bert/encoder/layer_7/attention/output/dense/bias) is not supported on the TPU. Execution will fail if this op is used in the graph. \n",
            "E0813 21:59:25.371434 140613293332352 tpu.py:376] Operation of type Placeholder (module_apply_tokens/bert/encoder/layer_7/attention/output/LayerNorm/beta) is not supported on the TPU. Execution will fail if this op is used in the graph. \n",
            "E0813 21:59:25.375437 140613293332352 tpu.py:376] Operation of type Placeholder (module_apply_tokens/bert/encoder/layer_7/attention/output/LayerNorm/gamma) is not supported on the TPU. Execution will fail if this op is used in the graph. \n",
            "E0813 21:59:25.384518 140613293332352 tpu.py:376] Operation of type Placeholder (module_apply_tokens/bert/encoder/layer_7/intermediate/dense/kernel) is not supported on the TPU. Execution will fail if this op is used in the graph. \n",
            "E0813 21:59:25.389151 140613293332352 tpu.py:376] Operation of type Placeholder (module_apply_tokens/bert/encoder/layer_7/intermediate/dense/bias) is not supported on the TPU. Execution will fail if this op is used in the graph. \n",
            "E0813 21:59:25.398184 140613293332352 tpu.py:376] Operation of type Placeholder (module_apply_tokens/bert/encoder/layer_7/output/dense/kernel) is not supported on the TPU. Execution will fail if this op is used in the graph. \n",
            "E0813 21:59:25.401990 140613293332352 tpu.py:376] Operation of type Placeholder (module_apply_tokens/bert/encoder/layer_7/output/dense/bias) is not supported on the TPU. Execution will fail if this op is used in the graph. \n",
            "E0813 21:59:25.406343 140613293332352 tpu.py:376] Operation of type Placeholder (module_apply_tokens/bert/encoder/layer_7/output/LayerNorm/beta) is not supported on the TPU. Execution will fail if this op is used in the graph. \n",
            "E0813 21:59:25.410382 140613293332352 tpu.py:376] Operation of type Placeholder (module_apply_tokens/bert/encoder/layer_7/output/LayerNorm/gamma) is not supported on the TPU. Execution will fail if this op is used in the graph. \n",
            "E0813 21:59:25.423272 140613293332352 tpu.py:376] Operation of type Placeholder (module_apply_tokens/bert/encoder/layer_8/attention/self/query/kernel) is not supported on the TPU. Execution will fail if this op is used in the graph. \n",
            "E0813 21:59:25.427171 140613293332352 tpu.py:376] Operation of type Placeholder (module_apply_tokens/bert/encoder/layer_8/attention/self/query/bias) is not supported on the TPU. Execution will fail if this op is used in the graph. \n",
            "E0813 21:59:25.433487 140613293332352 tpu.py:376] Operation of type Placeholder (module_apply_tokens/bert/encoder/layer_8/attention/self/key/kernel) is not supported on the TPU. Execution will fail if this op is used in the graph. \n",
            "E0813 21:59:25.436521 140613293332352 tpu.py:376] Operation of type Placeholder (module_apply_tokens/bert/encoder/layer_8/attention/self/key/bias) is not supported on the TPU. Execution will fail if this op is used in the graph. \n",
            "E0813 21:59:25.442617 140613293332352 tpu.py:376] Operation of type Placeholder (module_apply_tokens/bert/encoder/layer_8/attention/self/value/kernel) is not supported on the TPU. Execution will fail if this op is used in the graph. \n",
            "E0813 21:59:25.445477 140613293332352 tpu.py:376] Operation of type Placeholder (module_apply_tokens/bert/encoder/layer_8/attention/self/value/bias) is not supported on the TPU. Execution will fail if this op is used in the graph. \n",
            "E0813 21:59:25.457634 140613293332352 tpu.py:376] Operation of type Placeholder (module_apply_tokens/bert/encoder/layer_8/attention/output/dense/kernel) is not supported on the TPU. Execution will fail if this op is used in the graph. \n",
            "E0813 21:59:25.461346 140613293332352 tpu.py:376] Operation of type Placeholder (module_apply_tokens/bert/encoder/layer_8/attention/output/dense/bias) is not supported on the TPU. Execution will fail if this op is used in the graph. \n",
            "E0813 21:59:25.465846 140613293332352 tpu.py:376] Operation of type Placeholder (module_apply_tokens/bert/encoder/layer_8/attention/output/LayerNorm/beta) is not supported on the TPU. Execution will fail if this op is used in the graph. \n",
            "E0813 21:59:25.469160 140613293332352 tpu.py:376] Operation of type Placeholder (module_apply_tokens/bert/encoder/layer_8/attention/output/LayerNorm/gamma) is not supported on the TPU. Execution will fail if this op is used in the graph. \n",
            "E0813 21:59:25.477935 140613293332352 tpu.py:376] Operation of type Placeholder (module_apply_tokens/bert/encoder/layer_8/intermediate/dense/kernel) is not supported on the TPU. Execution will fail if this op is used in the graph. \n",
            "E0813 21:59:25.482715 140613293332352 tpu.py:376] Operation of type Placeholder (module_apply_tokens/bert/encoder/layer_8/intermediate/dense/bias) is not supported on the TPU. Execution will fail if this op is used in the graph. \n",
            "E0813 21:59:25.491281 140613293332352 tpu.py:376] Operation of type Placeholder (module_apply_tokens/bert/encoder/layer_8/output/dense/kernel) is not supported on the TPU. Execution will fail if this op is used in the graph. \n",
            "E0813 21:59:25.494802 140613293332352 tpu.py:376] Operation of type Placeholder (module_apply_tokens/bert/encoder/layer_8/output/dense/bias) is not supported on the TPU. Execution will fail if this op is used in the graph. \n",
            "E0813 21:59:25.500496 140613293332352 tpu.py:376] Operation of type Placeholder (module_apply_tokens/bert/encoder/layer_8/output/LayerNorm/beta) is not supported on the TPU. Execution will fail if this op is used in the graph. \n",
            "E0813 21:59:25.504132 140613293332352 tpu.py:376] Operation of type Placeholder (module_apply_tokens/bert/encoder/layer_8/output/LayerNorm/gamma) is not supported on the TPU. Execution will fail if this op is used in the graph. \n",
            "E0813 21:59:25.514717 140613293332352 tpu.py:376] Operation of type Placeholder (module_apply_tokens/bert/encoder/layer_9/attention/self/query/kernel) is not supported on the TPU. Execution will fail if this op is used in the graph. \n",
            "E0813 21:59:25.517558 140613293332352 tpu.py:376] Operation of type Placeholder (module_apply_tokens/bert/encoder/layer_9/attention/self/query/bias) is not supported on the TPU. Execution will fail if this op is used in the graph. \n",
            "E0813 21:59:25.523803 140613293332352 tpu.py:376] Operation of type Placeholder (module_apply_tokens/bert/encoder/layer_9/attention/self/key/kernel) is not supported on the TPU. Execution will fail if this op is used in the graph. \n",
            "E0813 21:59:25.529891 140613293332352 tpu.py:376] Operation of type Placeholder (module_apply_tokens/bert/encoder/layer_9/attention/self/key/bias) is not supported on the TPU. Execution will fail if this op is used in the graph. \n",
            "E0813 21:59:25.535916 140613293332352 tpu.py:376] Operation of type Placeholder (module_apply_tokens/bert/encoder/layer_9/attention/self/value/kernel) is not supported on the TPU. Execution will fail if this op is used in the graph. \n",
            "E0813 21:59:25.539033 140613293332352 tpu.py:376] Operation of type Placeholder (module_apply_tokens/bert/encoder/layer_9/attention/self/value/bias) is not supported on the TPU. Execution will fail if this op is used in the graph. \n",
            "E0813 21:59:25.552899 140613293332352 tpu.py:376] Operation of type Placeholder (module_apply_tokens/bert/encoder/layer_9/attention/output/dense/kernel) is not supported on the TPU. Execution will fail if this op is used in the graph. \n",
            "E0813 21:59:25.556124 140613293332352 tpu.py:376] Operation of type Placeholder (module_apply_tokens/bert/encoder/layer_9/attention/output/dense/bias) is not supported on the TPU. Execution will fail if this op is used in the graph. \n",
            "E0813 21:59:25.560535 140613293332352 tpu.py:376] Operation of type Placeholder (module_apply_tokens/bert/encoder/layer_9/attention/output/LayerNorm/beta) is not supported on the TPU. Execution will fail if this op is used in the graph. \n",
            "E0813 21:59:25.565548 140613293332352 tpu.py:376] Operation of type Placeholder (module_apply_tokens/bert/encoder/layer_9/attention/output/LayerNorm/gamma) is not supported on the TPU. Execution will fail if this op is used in the graph. \n",
            "E0813 21:59:25.575286 140613293332352 tpu.py:376] Operation of type Placeholder (module_apply_tokens/bert/encoder/layer_9/intermediate/dense/kernel) is not supported on the TPU. Execution will fail if this op is used in the graph. \n",
            "E0813 21:59:25.578481 140613293332352 tpu.py:376] Operation of type Placeholder (module_apply_tokens/bert/encoder/layer_9/intermediate/dense/bias) is not supported on the TPU. Execution will fail if this op is used in the graph. \n",
            "E0813 21:59:25.590341 140613293332352 tpu.py:376] Operation of type Placeholder (module_apply_tokens/bert/encoder/layer_9/output/dense/kernel) is not supported on the TPU. Execution will fail if this op is used in the graph. \n",
            "E0813 21:59:25.595607 140613293332352 tpu.py:376] Operation of type Placeholder (module_apply_tokens/bert/encoder/layer_9/output/dense/bias) is not supported on the TPU. Execution will fail if this op is used in the graph. \n",
            "E0813 21:59:25.601807 140613293332352 tpu.py:376] Operation of type Placeholder (module_apply_tokens/bert/encoder/layer_9/output/LayerNorm/beta) is not supported on the TPU. Execution will fail if this op is used in the graph. \n",
            "E0813 21:59:25.604722 140613293332352 tpu.py:376] Operation of type Placeholder (module_apply_tokens/bert/encoder/layer_9/output/LayerNorm/gamma) is not supported on the TPU. Execution will fail if this op is used in the graph. \n",
            "E0813 21:59:25.617170 140613293332352 tpu.py:376] Operation of type Placeholder (module_apply_tokens/bert/encoder/layer_10/attention/self/query/kernel) is not supported on the TPU. Execution will fail if this op is used in the graph. \n",
            "E0813 21:59:25.620057 140613293332352 tpu.py:376] Operation of type Placeholder (module_apply_tokens/bert/encoder/layer_10/attention/self/query/bias) is not supported on the TPU. Execution will fail if this op is used in the graph. \n",
            "E0813 21:59:25.627567 140613293332352 tpu.py:376] Operation of type Placeholder (module_apply_tokens/bert/encoder/layer_10/attention/self/key/kernel) is not supported on the TPU. Execution will fail if this op is used in the graph. \n",
            "E0813 21:59:25.631506 140613293332352 tpu.py:376] Operation of type Placeholder (module_apply_tokens/bert/encoder/layer_10/attention/self/key/bias) is not supported on the TPU. Execution will fail if this op is used in the graph. \n",
            "E0813 21:59:25.637609 140613293332352 tpu.py:376] Operation of type Placeholder (module_apply_tokens/bert/encoder/layer_10/attention/self/value/kernel) is not supported on the TPU. Execution will fail if this op is used in the graph. \n",
            "E0813 21:59:25.647746 140613293332352 tpu.py:376] Operation of type Placeholder (module_apply_tokens/bert/encoder/layer_10/attention/self/value/bias) is not supported on the TPU. Execution will fail if this op is used in the graph. \n",
            "E0813 21:59:25.663059 140613293332352 tpu.py:376] Operation of type Placeholder (module_apply_tokens/bert/encoder/layer_10/attention/output/dense/kernel) is not supported on the TPU. Execution will fail if this op is used in the graph. \n",
            "E0813 21:59:25.666113 140613293332352 tpu.py:376] Operation of type Placeholder (module_apply_tokens/bert/encoder/layer_10/attention/output/dense/bias) is not supported on the TPU. Execution will fail if this op is used in the graph. \n",
            "E0813 21:59:25.674645 140613293332352 tpu.py:376] Operation of type Placeholder (module_apply_tokens/bert/encoder/layer_10/attention/output/LayerNorm/beta) is not supported on the TPU. Execution will fail if this op is used in the graph. \n",
            "E0813 21:59:25.680877 140613293332352 tpu.py:376] Operation of type Placeholder (module_apply_tokens/bert/encoder/layer_10/attention/output/LayerNorm/gamma) is not supported on the TPU. Execution will fail if this op is used in the graph. \n",
            "E0813 21:59:25.690984 140613293332352 tpu.py:376] Operation of type Placeholder (module_apply_tokens/bert/encoder/layer_10/intermediate/dense/kernel) is not supported on the TPU. Execution will fail if this op is used in the graph. \n",
            "E0813 21:59:25.694782 140613293332352 tpu.py:376] Operation of type Placeholder (module_apply_tokens/bert/encoder/layer_10/intermediate/dense/bias) is not supported on the TPU. Execution will fail if this op is used in the graph. \n",
            "E0813 21:59:25.705224 140613293332352 tpu.py:376] Operation of type Placeholder (module_apply_tokens/bert/encoder/layer_10/output/dense/kernel) is not supported on the TPU. Execution will fail if this op is used in the graph. \n",
            "E0813 21:59:25.708307 140613293332352 tpu.py:376] Operation of type Placeholder (module_apply_tokens/bert/encoder/layer_10/output/dense/bias) is not supported on the TPU. Execution will fail if this op is used in the graph. \n",
            "E0813 21:59:25.715515 140613293332352 tpu.py:376] Operation of type Placeholder (module_apply_tokens/bert/encoder/layer_10/output/LayerNorm/beta) is not supported on the TPU. Execution will fail if this op is used in the graph. \n",
            "E0813 21:59:25.720669 140613293332352 tpu.py:376] Operation of type Placeholder (module_apply_tokens/bert/encoder/layer_10/output/LayerNorm/gamma) is not supported on the TPU. Execution will fail if this op is used in the graph. \n",
            "E0813 21:59:25.731659 140613293332352 tpu.py:376] Operation of type Placeholder (module_apply_tokens/bert/encoder/layer_11/attention/self/query/kernel) is not supported on the TPU. Execution will fail if this op is used in the graph. \n",
            "E0813 21:59:25.736286 140613293332352 tpu.py:376] Operation of type Placeholder (module_apply_tokens/bert/encoder/layer_11/attention/self/query/bias) is not supported on the TPU. Execution will fail if this op is used in the graph. \n",
            "E0813 21:59:25.744588 140613293332352 tpu.py:376] Operation of type Placeholder (module_apply_tokens/bert/encoder/layer_11/attention/self/key/kernel) is not supported on the TPU. Execution will fail if this op is used in the graph. \n",
            "E0813 21:59:25.750349 140613293332352 tpu.py:376] Operation of type Placeholder (module_apply_tokens/bert/encoder/layer_11/attention/self/key/bias) is not supported on the TPU. Execution will fail if this op is used in the graph. \n",
            "E0813 21:59:25.759942 140613293332352 tpu.py:376] Operation of type Placeholder (module_apply_tokens/bert/encoder/layer_11/attention/self/value/kernel) is not supported on the TPU. Execution will fail if this op is used in the graph. \n",
            "E0813 21:59:25.763943 140613293332352 tpu.py:376] Operation of type Placeholder (module_apply_tokens/bert/encoder/layer_11/attention/self/value/bias) is not supported on the TPU. Execution will fail if this op is used in the graph. \n",
            "E0813 21:59:25.778884 140613293332352 tpu.py:376] Operation of type Placeholder (module_apply_tokens/bert/encoder/layer_11/attention/output/dense/kernel) is not supported on the TPU. Execution will fail if this op is used in the graph. \n",
            "E0813 21:59:25.784663 140613293332352 tpu.py:376] Operation of type Placeholder (module_apply_tokens/bert/encoder/layer_11/attention/output/dense/bias) is not supported on the TPU. Execution will fail if this op is used in the graph. \n",
            "E0813 21:59:25.790237 140613293332352 tpu.py:376] Operation of type Placeholder (module_apply_tokens/bert/encoder/layer_11/attention/output/LayerNorm/beta) is not supported on the TPU. Execution will fail if this op is used in the graph. \n",
            "E0813 21:59:25.793945 140613293332352 tpu.py:376] Operation of type Placeholder (module_apply_tokens/bert/encoder/layer_11/attention/output/LayerNorm/gamma) is not supported on the TPU. Execution will fail if this op is used in the graph. \n",
            "E0813 21:59:25.803238 140613293332352 tpu.py:376] Operation of type Placeholder (module_apply_tokens/bert/encoder/layer_11/intermediate/dense/kernel) is not supported on the TPU. Execution will fail if this op is used in the graph. \n",
            "E0813 21:59:25.809044 140613293332352 tpu.py:376] Operation of type Placeholder (module_apply_tokens/bert/encoder/layer_11/intermediate/dense/bias) is not supported on the TPU. Execution will fail if this op is used in the graph. \n",
            "E0813 21:59:25.817275 140613293332352 tpu.py:376] Operation of type Placeholder (module_apply_tokens/bert/encoder/layer_11/output/dense/kernel) is not supported on the TPU. Execution will fail if this op is used in the graph. \n",
            "E0813 21:59:25.822257 140613293332352 tpu.py:376] Operation of type Placeholder (module_apply_tokens/bert/encoder/layer_11/output/dense/bias) is not supported on the TPU. Execution will fail if this op is used in the graph. \n",
            "E0813 21:59:25.827667 140613293332352 tpu.py:376] Operation of type Placeholder (module_apply_tokens/bert/encoder/layer_11/output/LayerNorm/beta) is not supported on the TPU. Execution will fail if this op is used in the graph. \n",
            "E0813 21:59:25.831599 140613293332352 tpu.py:376] Operation of type Placeholder (module_apply_tokens/bert/encoder/layer_11/output/LayerNorm/gamma) is not supported on the TPU. Execution will fail if this op is used in the graph. \n",
            "E0813 21:59:25.862141 140613293332352 tpu.py:376] Operation of type Placeholder (module_apply_tokens/bert/pooler/dense/kernel) is not supported on the TPU. Execution will fail if this op is used in the graph. \n",
            "E0813 21:59:25.866035 140613293332352 tpu.py:376] Operation of type Placeholder (module_apply_tokens/bert/pooler/dense/bias) is not supported on the TPU. Execution will fail if this op is used in the graph. \n",
            "E0813 21:59:25.883885 140613293332352 tpu.py:376] Operation of type Placeholder (module_apply_tokens/cls/predictions/transform/dense/kernel) is not supported on the TPU. Execution will fail if this op is used in the graph. \n",
            "E0813 21:59:25.887794 140613293332352 tpu.py:376] Operation of type Placeholder (module_apply_tokens/cls/predictions/transform/dense/bias) is not supported on the TPU. Execution will fail if this op is used in the graph. \n",
            "E0813 21:59:25.898770 140613293332352 tpu.py:376] Operation of type Placeholder (module_apply_tokens/cls/predictions/transform/LayerNorm/beta) is not supported on the TPU. Execution will fail if this op is used in the graph. \n",
            "E0813 21:59:25.902621 140613293332352 tpu.py:376] Operation of type Placeholder (module_apply_tokens/cls/predictions/transform/LayerNorm/gamma) is not supported on the TPU. Execution will fail if this op is used in the graph. \n",
            "E0813 21:59:25.911907 140613293332352 tpu.py:376] Operation of type Placeholder (module_apply_tokens/cls/predictions/output_bias) is not supported on the TPU. Execution will fail if this op is used in the graph. \n",
            "W0813 21:59:26.142772 140613293332352 deprecation_wrapper.py:119] From bert_repo/run_classifier_with_tfhub.py:62: The name tf.get_variable is deprecated. Please use tf.compat.v1.get_variable instead.\n",
            "\n",
            "W0813 21:59:26.166087 140613293332352 deprecation_wrapper.py:119] From bert_repo/run_classifier_with_tfhub.py:69: The name tf.variable_scope is deprecated. Please use tf.compat.v1.variable_scope instead.\n",
            "\n",
            "W0813 21:59:26.231276 140613293332352 deprecation.py:323] From /usr/local/lib/python3.6/dist-packages/tensorflow_estimator/python/estimator/tpu/tpu_estimator.py:3154: div (from tensorflow.python.ops.math_ops) is deprecated and will be removed in a future version.\n",
            "Instructions for updating:\n",
            "Deprecated in favor of operator or tf.math.divide.\n",
            "W0813 21:59:26.637741 140613293332352 deprecation_wrapper.py:119] From bert_repo/run_classifier_with_tfhub.py:122: The name tf.metrics.accuracy is deprecated. Please use tf.compat.v1.metrics.accuracy instead.\n",
            "\n",
            "W0813 21:59:26.661998 140613293332352 deprecation_wrapper.py:119] From bert_repo/run_classifier_with_tfhub.py:123: The name tf.metrics.mean is deprecated. Please use tf.compat.v1.metrics.mean instead.\n",
            "\n",
            "W0813 21:59:27.868851 140613293332352 deprecation.py:323] From /usr/local/lib/python3.6/dist-packages/tensorflow/python/ops/array_ops.py:1354: add_dispatch_support.<locals>.wrapper (from tensorflow.python.ops.array_ops) is deprecated and will be removed in a future version.\n",
            "Instructions for updating:\n",
            "Use tf.where in 2.0, which has the same broadcast rule as np.where\n",
            "W0813 21:59:28.313474 140613293332352 deprecation.py:323] From /usr/local/lib/python3.6/dist-packages/tensorflow/python/training/saver.py:1276: checkpoint_exists (from tensorflow.python.training.checkpoint_management) is deprecated and will be removed in a future version.\n",
            "Instructions for updating:\n",
            "Use standard file APIs to check for files with this prefix.\n",
            "W0813 22:00:03.081798 140613293332352 deprecation.py:323] From /usr/local/lib/python3.6/dist-packages/tensorflow_estimator/python/estimator/tpu/tpu_estimator.py:792: Variable.load (from tensorflow.python.ops.variables) is deprecated and will be removed in a future version.\n",
            "Instructions for updating:\n",
            "Prefer Variable.assign which has equivalent behavior in 2.X.\n"
          ],
          "name": "stderr"
        },
        {
          "output_type": "stream",
          "text": [
            "***** Finished evaluation at 2019-08-13 22:00:19.079428 *****\n",
            "***** Eval results *****\n",
            "  eval_accuracy = 0.85784316\n",
            "  eval_loss = 0.6735221\n",
            "  global_step = 343\n",
            "  loss = 0.542314\n"
          ],
          "name": "stdout"
        }
      ]
    },
    {
      "cell_type": "code",
      "metadata": {
        "id": "H3_afEMR3dfa",
        "colab_type": "code",
        "colab": {}
      },
      "source": [
        "def model_predict(estimator):\n",
        "  # Make predictions on a subset of eval examples\n",
        "  prediction_examples = processor.get_dev_examples(TASK_DATA_DIR)[:PREDICT_BATCH_SIZE]\n",
        "  input_features = run_classifier.convert_examples_to_features(prediction_examples, label_list, MAX_SEQ_LENGTH, tokenizer)\n",
        "  predict_input_fn = run_classifier.input_fn_builder(features=input_features, seq_length=MAX_SEQ_LENGTH, is_training=False, drop_remainder=True)\n",
        "  predictions = estimator.predict(predict_input_fn)\n",
        "\n",
        "  for example, prediction in zip(prediction_examples, predictions):\n",
        "    print('text_a: %s\\ntext_b: %s\\nlabel:%s\\nprediction:%s\\n' % (example.text_a, example.text_b, str(example.label), prediction['probabilities']))\n"
      ],
      "execution_count": 0,
      "outputs": []
    },
    {
      "cell_type": "code",
      "metadata": {
        "id": "ynDmeatCWLJK",
        "colab_type": "code",
        "outputId": "15e8483a-c74c-4348-e2d1-368b50f13e28",
        "colab": {
          "base_uri": "https://localhost:8080/",
          "height": 1000
        }
      },
      "source": [
        "model_predict(estimator_from_tfhub) "
      ],
      "execution_count": 14,
      "outputs": [
        {
          "output_type": "stream",
          "text": [
            "E0813 22:00:27.133030 140613293332352 tpu.py:376] Operation of type Placeholder (module_apply_tokens/input_ids) is not supported on the TPU. Execution will fail if this op is used in the graph. \n",
            "E0813 22:00:27.135267 140613293332352 tpu.py:376] Operation of type Placeholder (module_apply_tokens/input_mask) is not supported on the TPU. Execution will fail if this op is used in the graph. \n",
            "E0813 22:00:27.136950 140613293332352 tpu.py:376] Operation of type Placeholder (module_apply_tokens/segment_ids) is not supported on the TPU. Execution will fail if this op is used in the graph. \n",
            "E0813 22:00:27.138523 140613293332352 tpu.py:376] Operation of type Placeholder (module_apply_tokens/mlm_positions) is not supported on the TPU. Execution will fail if this op is used in the graph. \n",
            "E0813 22:00:27.145582 140613293332352 tpu.py:376] Operation of type Placeholder (module_apply_tokens/bert/embeddings/word_embeddings) is not supported on the TPU. Execution will fail if this op is used in the graph. \n",
            "E0813 22:00:27.158679 140613293332352 tpu.py:376] Operation of type Placeholder (module_apply_tokens/bert/embeddings/token_type_embeddings) is not supported on the TPU. Execution will fail if this op is used in the graph. \n",
            "E0813 22:00:27.171333 140613293332352 tpu.py:376] Operation of type Placeholder (module_apply_tokens/bert/embeddings/position_embeddings) is not supported on the TPU. Execution will fail if this op is used in the graph. \n",
            "E0813 22:00:27.178179 140613293332352 tpu.py:376] Operation of type Placeholder (module_apply_tokens/bert/embeddings/LayerNorm/beta) is not supported on the TPU. Execution will fail if this op is used in the graph. \n",
            "E0813 22:00:27.181854 140613293332352 tpu.py:376] Operation of type Placeholder (module_apply_tokens/bert/embeddings/LayerNorm/gamma) is not supported on the TPU. Execution will fail if this op is used in the graph. \n",
            "E0813 22:00:27.204562 140613293332352 tpu.py:376] Operation of type Placeholder (module_apply_tokens/bert/encoder/layer_0/attention/self/query/kernel) is not supported on the TPU. Execution will fail if this op is used in the graph. \n",
            "E0813 22:00:27.207852 140613293332352 tpu.py:376] Operation of type Placeholder (module_apply_tokens/bert/encoder/layer_0/attention/self/query/bias) is not supported on the TPU. Execution will fail if this op is used in the graph. \n",
            "E0813 22:00:27.215258 140613293332352 tpu.py:376] Operation of type Placeholder (module_apply_tokens/bert/encoder/layer_0/attention/self/key/kernel) is not supported on the TPU. Execution will fail if this op is used in the graph. \n",
            "E0813 22:00:27.219309 140613293332352 tpu.py:376] Operation of type Placeholder (module_apply_tokens/bert/encoder/layer_0/attention/self/key/bias) is not supported on the TPU. Execution will fail if this op is used in the graph. \n",
            "E0813 22:00:27.228132 140613293332352 tpu.py:376] Operation of type Placeholder (module_apply_tokens/bert/encoder/layer_0/attention/self/value/kernel) is not supported on the TPU. Execution will fail if this op is used in the graph. \n",
            "E0813 22:00:27.232019 140613293332352 tpu.py:376] Operation of type Placeholder (module_apply_tokens/bert/encoder/layer_0/attention/self/value/bias) is not supported on the TPU. Execution will fail if this op is used in the graph. \n",
            "E0813 22:00:27.247126 140613293332352 tpu.py:376] Operation of type Placeholder (module_apply_tokens/bert/encoder/layer_0/attention/output/dense/kernel) is not supported on the TPU. Execution will fail if this op is used in the graph. \n",
            "E0813 22:00:27.250655 140613293332352 tpu.py:376] Operation of type Placeholder (module_apply_tokens/bert/encoder/layer_0/attention/output/dense/bias) is not supported on the TPU. Execution will fail if this op is used in the graph. \n",
            "E0813 22:00:27.257719 140613293332352 tpu.py:376] Operation of type Placeholder (module_apply_tokens/bert/encoder/layer_0/attention/output/LayerNorm/beta) is not supported on the TPU. Execution will fail if this op is used in the graph. \n",
            "E0813 22:00:27.262145 140613293332352 tpu.py:376] Operation of type Placeholder (module_apply_tokens/bert/encoder/layer_0/attention/output/LayerNorm/gamma) is not supported on the TPU. Execution will fail if this op is used in the graph. \n",
            "E0813 22:00:27.273612 140613293332352 tpu.py:376] Operation of type Placeholder (module_apply_tokens/bert/encoder/layer_0/intermediate/dense/kernel) is not supported on the TPU. Execution will fail if this op is used in the graph. \n",
            "E0813 22:00:27.282852 140613293332352 tpu.py:376] Operation of type Placeholder (module_apply_tokens/bert/encoder/layer_0/intermediate/dense/bias) is not supported on the TPU. Execution will fail if this op is used in the graph. \n",
            "E0813 22:00:27.296298 140613293332352 tpu.py:376] Operation of type Placeholder (module_apply_tokens/bert/encoder/layer_0/output/dense/kernel) is not supported on the TPU. Execution will fail if this op is used in the graph. \n",
            "E0813 22:00:27.301265 140613293332352 tpu.py:376] Operation of type Placeholder (module_apply_tokens/bert/encoder/layer_0/output/dense/bias) is not supported on the TPU. Execution will fail if this op is used in the graph. \n",
            "E0813 22:00:27.309188 140613293332352 tpu.py:376] Operation of type Placeholder (module_apply_tokens/bert/encoder/layer_0/output/LayerNorm/beta) is not supported on the TPU. Execution will fail if this op is used in the graph. \n",
            "E0813 22:00:27.312610 140613293332352 tpu.py:376] Operation of type Placeholder (module_apply_tokens/bert/encoder/layer_0/output/LayerNorm/gamma) is not supported on the TPU. Execution will fail if this op is used in the graph. \n",
            "E0813 22:00:27.325134 140613293332352 tpu.py:376] Operation of type Placeholder (module_apply_tokens/bert/encoder/layer_1/attention/self/query/kernel) is not supported on the TPU. Execution will fail if this op is used in the graph. \n",
            "E0813 22:00:27.328378 140613293332352 tpu.py:376] Operation of type Placeholder (module_apply_tokens/bert/encoder/layer_1/attention/self/query/bias) is not supported on the TPU. Execution will fail if this op is used in the graph. \n",
            "E0813 22:00:27.336595 140613293332352 tpu.py:376] Operation of type Placeholder (module_apply_tokens/bert/encoder/layer_1/attention/self/key/kernel) is not supported on the TPU. Execution will fail if this op is used in the graph. \n",
            "E0813 22:00:27.341703 140613293332352 tpu.py:376] Operation of type Placeholder (module_apply_tokens/bert/encoder/layer_1/attention/self/key/bias) is not supported on the TPU. Execution will fail if this op is used in the graph. \n",
            "E0813 22:00:27.349438 140613293332352 tpu.py:376] Operation of type Placeholder (module_apply_tokens/bert/encoder/layer_1/attention/self/value/kernel) is not supported on the TPU. Execution will fail if this op is used in the graph. \n",
            "E0813 22:00:27.354621 140613293332352 tpu.py:376] Operation of type Placeholder (module_apply_tokens/bert/encoder/layer_1/attention/self/value/bias) is not supported on the TPU. Execution will fail if this op is used in the graph. \n",
            "E0813 22:00:27.369789 140613293332352 tpu.py:376] Operation of type Placeholder (module_apply_tokens/bert/encoder/layer_1/attention/output/dense/kernel) is not supported on the TPU. Execution will fail if this op is used in the graph. \n",
            "E0813 22:00:27.374311 140613293332352 tpu.py:376] Operation of type Placeholder (module_apply_tokens/bert/encoder/layer_1/attention/output/dense/bias) is not supported on the TPU. Execution will fail if this op is used in the graph. \n",
            "E0813 22:00:27.385741 140613293332352 tpu.py:376] Operation of type Placeholder (module_apply_tokens/bert/encoder/layer_1/attention/output/LayerNorm/beta) is not supported on the TPU. Execution will fail if this op is used in the graph. \n",
            "E0813 22:00:27.393257 140613293332352 tpu.py:376] Operation of type Placeholder (module_apply_tokens/bert/encoder/layer_1/attention/output/LayerNorm/gamma) is not supported on the TPU. Execution will fail if this op is used in the graph. \n",
            "E0813 22:00:27.404527 140613293332352 tpu.py:376] Operation of type Placeholder (module_apply_tokens/bert/encoder/layer_1/intermediate/dense/kernel) is not supported on the TPU. Execution will fail if this op is used in the graph. \n",
            "E0813 22:00:27.410300 140613293332352 tpu.py:376] Operation of type Placeholder (module_apply_tokens/bert/encoder/layer_1/intermediate/dense/bias) is not supported on the TPU. Execution will fail if this op is used in the graph. \n",
            "E0813 22:00:27.420878 140613293332352 tpu.py:376] Operation of type Placeholder (module_apply_tokens/bert/encoder/layer_1/output/dense/kernel) is not supported on the TPU. Execution will fail if this op is used in the graph. \n",
            "E0813 22:00:27.425857 140613293332352 tpu.py:376] Operation of type Placeholder (module_apply_tokens/bert/encoder/layer_1/output/dense/bias) is not supported on the TPU. Execution will fail if this op is used in the graph. \n",
            "E0813 22:00:27.432813 140613293332352 tpu.py:376] Operation of type Placeholder (module_apply_tokens/bert/encoder/layer_1/output/LayerNorm/beta) is not supported on the TPU. Execution will fail if this op is used in the graph. \n",
            "E0813 22:00:27.437880 140613293332352 tpu.py:376] Operation of type Placeholder (module_apply_tokens/bert/encoder/layer_1/output/LayerNorm/gamma) is not supported on the TPU. Execution will fail if this op is used in the graph. \n",
            "E0813 22:00:27.449795 140613293332352 tpu.py:376] Operation of type Placeholder (module_apply_tokens/bert/encoder/layer_2/attention/self/query/kernel) is not supported on the TPU. Execution will fail if this op is used in the graph. \n",
            "E0813 22:00:27.455071 140613293332352 tpu.py:376] Operation of type Placeholder (module_apply_tokens/bert/encoder/layer_2/attention/self/query/bias) is not supported on the TPU. Execution will fail if this op is used in the graph. \n",
            "E0813 22:00:27.463343 140613293332352 tpu.py:376] Operation of type Placeholder (module_apply_tokens/bert/encoder/layer_2/attention/self/key/kernel) is not supported on the TPU. Execution will fail if this op is used in the graph. \n",
            "E0813 22:00:27.466593 140613293332352 tpu.py:376] Operation of type Placeholder (module_apply_tokens/bert/encoder/layer_2/attention/self/key/bias) is not supported on the TPU. Execution will fail if this op is used in the graph. \n",
            "E0813 22:00:27.475564 140613293332352 tpu.py:376] Operation of type Placeholder (module_apply_tokens/bert/encoder/layer_2/attention/self/value/kernel) is not supported on the TPU. Execution will fail if this op is used in the graph. \n",
            "E0813 22:00:27.480649 140613293332352 tpu.py:376] Operation of type Placeholder (module_apply_tokens/bert/encoder/layer_2/attention/self/value/bias) is not supported on the TPU. Execution will fail if this op is used in the graph. \n",
            "E0813 22:00:27.498072 140613293332352 tpu.py:376] Operation of type Placeholder (module_apply_tokens/bert/encoder/layer_2/attention/output/dense/kernel) is not supported on the TPU. Execution will fail if this op is used in the graph. \n",
            "E0813 22:00:27.501584 140613293332352 tpu.py:376] Operation of type Placeholder (module_apply_tokens/bert/encoder/layer_2/attention/output/dense/bias) is not supported on the TPU. Execution will fail if this op is used in the graph. \n",
            "E0813 22:00:27.511786 140613293332352 tpu.py:376] Operation of type Placeholder (module_apply_tokens/bert/encoder/layer_2/attention/output/LayerNorm/beta) is not supported on the TPU. Execution will fail if this op is used in the graph. \n",
            "E0813 22:00:27.515051 140613293332352 tpu.py:376] Operation of type Placeholder (module_apply_tokens/bert/encoder/layer_2/attention/output/LayerNorm/gamma) is not supported on the TPU. Execution will fail if this op is used in the graph. \n",
            "E0813 22:00:27.525833 140613293332352 tpu.py:376] Operation of type Placeholder (module_apply_tokens/bert/encoder/layer_2/intermediate/dense/kernel) is not supported on the TPU. Execution will fail if this op is used in the graph. \n",
            "E0813 22:00:27.530221 140613293332352 tpu.py:376] Operation of type Placeholder (module_apply_tokens/bert/encoder/layer_2/intermediate/dense/bias) is not supported on the TPU. Execution will fail if this op is used in the graph. \n",
            "E0813 22:00:27.541160 140613293332352 tpu.py:376] Operation of type Placeholder (module_apply_tokens/bert/encoder/layer_2/output/dense/kernel) is not supported on the TPU. Execution will fail if this op is used in the graph. \n",
            "E0813 22:00:27.544543 140613293332352 tpu.py:376] Operation of type Placeholder (module_apply_tokens/bert/encoder/layer_2/output/dense/bias) is not supported on the TPU. Execution will fail if this op is used in the graph. \n",
            "E0813 22:00:27.550820 140613293332352 tpu.py:376] Operation of type Placeholder (module_apply_tokens/bert/encoder/layer_2/output/LayerNorm/beta) is not supported on the TPU. Execution will fail if this op is used in the graph. \n",
            "E0813 22:00:27.555531 140613293332352 tpu.py:376] Operation of type Placeholder (module_apply_tokens/bert/encoder/layer_2/output/LayerNorm/gamma) is not supported on the TPU. Execution will fail if this op is used in the graph. \n",
            "E0813 22:00:27.567829 140613293332352 tpu.py:376] Operation of type Placeholder (module_apply_tokens/bert/encoder/layer_3/attention/self/query/kernel) is not supported on the TPU. Execution will fail if this op is used in the graph. \n",
            "E0813 22:00:27.571430 140613293332352 tpu.py:376] Operation of type Placeholder (module_apply_tokens/bert/encoder/layer_3/attention/self/query/bias) is not supported on the TPU. Execution will fail if this op is used in the graph. \n",
            "E0813 22:00:27.578690 140613293332352 tpu.py:376] Operation of type Placeholder (module_apply_tokens/bert/encoder/layer_3/attention/self/key/kernel) is not supported on the TPU. Execution will fail if this op is used in the graph. \n",
            "E0813 22:00:27.583144 140613293332352 tpu.py:376] Operation of type Placeholder (module_apply_tokens/bert/encoder/layer_3/attention/self/key/bias) is not supported on the TPU. Execution will fail if this op is used in the graph. \n",
            "E0813 22:00:27.593065 140613293332352 tpu.py:376] Operation of type Placeholder (module_apply_tokens/bert/encoder/layer_3/attention/self/value/kernel) is not supported on the TPU. Execution will fail if this op is used in the graph. \n",
            "E0813 22:00:27.598617 140613293332352 tpu.py:376] Operation of type Placeholder (module_apply_tokens/bert/encoder/layer_3/attention/self/value/bias) is not supported on the TPU. Execution will fail if this op is used in the graph. \n",
            "E0813 22:00:27.617457 140613293332352 tpu.py:376] Operation of type Placeholder (module_apply_tokens/bert/encoder/layer_3/attention/output/dense/kernel) is not supported on the TPU. Execution will fail if this op is used in the graph. \n",
            "E0813 22:00:27.621184 140613293332352 tpu.py:376] Operation of type Placeholder (module_apply_tokens/bert/encoder/layer_3/attention/output/dense/bias) is not supported on the TPU. Execution will fail if this op is used in the graph. \n",
            "E0813 22:00:27.627856 140613293332352 tpu.py:376] Operation of type Placeholder (module_apply_tokens/bert/encoder/layer_3/attention/output/LayerNorm/beta) is not supported on the TPU. Execution will fail if this op is used in the graph. \n",
            "E0813 22:00:27.634698 140613293332352 tpu.py:376] Operation of type Placeholder (module_apply_tokens/bert/encoder/layer_3/attention/output/LayerNorm/gamma) is not supported on the TPU. Execution will fail if this op is used in the graph. \n",
            "E0813 22:00:27.647152 140613293332352 tpu.py:376] Operation of type Placeholder (module_apply_tokens/bert/encoder/layer_3/intermediate/dense/kernel) is not supported on the TPU. Execution will fail if this op is used in the graph. \n",
            "E0813 22:00:27.651641 140613293332352 tpu.py:376] Operation of type Placeholder (module_apply_tokens/bert/encoder/layer_3/intermediate/dense/bias) is not supported on the TPU. Execution will fail if this op is used in the graph. \n",
            "E0813 22:00:27.663435 140613293332352 tpu.py:376] Operation of type Placeholder (module_apply_tokens/bert/encoder/layer_3/output/dense/kernel) is not supported on the TPU. Execution will fail if this op is used in the graph. \n",
            "E0813 22:00:27.667063 140613293332352 tpu.py:376] Operation of type Placeholder (module_apply_tokens/bert/encoder/layer_3/output/dense/bias) is not supported on the TPU. Execution will fail if this op is used in the graph. \n",
            "E0813 22:00:27.672929 140613293332352 tpu.py:376] Operation of type Placeholder (module_apply_tokens/bert/encoder/layer_3/output/LayerNorm/beta) is not supported on the TPU. Execution will fail if this op is used in the graph. \n",
            "E0813 22:00:27.678911 140613293332352 tpu.py:376] Operation of type Placeholder (module_apply_tokens/bert/encoder/layer_3/output/LayerNorm/gamma) is not supported on the TPU. Execution will fail if this op is used in the graph. \n",
            "E0813 22:00:27.695467 140613293332352 tpu.py:376] Operation of type Placeholder (module_apply_tokens/bert/encoder/layer_4/attention/self/query/kernel) is not supported on the TPU. Execution will fail if this op is used in the graph. \n",
            "E0813 22:00:27.698942 140613293332352 tpu.py:376] Operation of type Placeholder (module_apply_tokens/bert/encoder/layer_4/attention/self/query/bias) is not supported on the TPU. Execution will fail if this op is used in the graph. \n",
            "E0813 22:00:27.707904 140613293332352 tpu.py:376] Operation of type Placeholder (module_apply_tokens/bert/encoder/layer_4/attention/self/key/kernel) is not supported on the TPU. Execution will fail if this op is used in the graph. \n",
            "E0813 22:00:27.716477 140613293332352 tpu.py:376] Operation of type Placeholder (module_apply_tokens/bert/encoder/layer_4/attention/self/key/bias) is not supported on the TPU. Execution will fail if this op is used in the graph. \n",
            "E0813 22:00:27.727754 140613293332352 tpu.py:376] Operation of type Placeholder (module_apply_tokens/bert/encoder/layer_4/attention/self/value/kernel) is not supported on the TPU. Execution will fail if this op is used in the graph. \n",
            "E0813 22:00:27.731336 140613293332352 tpu.py:376] Operation of type Placeholder (module_apply_tokens/bert/encoder/layer_4/attention/self/value/bias) is not supported on the TPU. Execution will fail if this op is used in the graph. \n",
            "E0813 22:00:27.747120 140613293332352 tpu.py:376] Operation of type Placeholder (module_apply_tokens/bert/encoder/layer_4/attention/output/dense/kernel) is not supported on the TPU. Execution will fail if this op is used in the graph. \n",
            "E0813 22:00:27.750902 140613293332352 tpu.py:376] Operation of type Placeholder (module_apply_tokens/bert/encoder/layer_4/attention/output/dense/bias) is not supported on the TPU. Execution will fail if this op is used in the graph. \n",
            "E0813 22:00:27.761497 140613293332352 tpu.py:376] Operation of type Placeholder (module_apply_tokens/bert/encoder/layer_4/attention/output/LayerNorm/beta) is not supported on the TPU. Execution will fail if this op is used in the graph. \n",
            "E0813 22:00:27.766971 140613293332352 tpu.py:376] Operation of type Placeholder (module_apply_tokens/bert/encoder/layer_4/attention/output/LayerNorm/gamma) is not supported on the TPU. Execution will fail if this op is used in the graph. \n",
            "E0813 22:00:27.776475 140613293332352 tpu.py:376] Operation of type Placeholder (module_apply_tokens/bert/encoder/layer_4/intermediate/dense/kernel) is not supported on the TPU. Execution will fail if this op is used in the graph. \n",
            "E0813 22:00:27.782454 140613293332352 tpu.py:376] Operation of type Placeholder (module_apply_tokens/bert/encoder/layer_4/intermediate/dense/bias) is not supported on the TPU. Execution will fail if this op is used in the graph. \n",
            "E0813 22:00:27.791819 140613293332352 tpu.py:376] Operation of type Placeholder (module_apply_tokens/bert/encoder/layer_4/output/dense/kernel) is not supported on the TPU. Execution will fail if this op is used in the graph. \n",
            "E0813 22:00:27.795860 140613293332352 tpu.py:376] Operation of type Placeholder (module_apply_tokens/bert/encoder/layer_4/output/dense/bias) is not supported on the TPU. Execution will fail if this op is used in the graph. \n",
            "E0813 22:00:27.802808 140613293332352 tpu.py:376] Operation of type Placeholder (module_apply_tokens/bert/encoder/layer_4/output/LayerNorm/beta) is not supported on the TPU. Execution will fail if this op is used in the graph. \n",
            "E0813 22:00:27.808028 140613293332352 tpu.py:376] Operation of type Placeholder (module_apply_tokens/bert/encoder/layer_4/output/LayerNorm/gamma) is not supported on the TPU. Execution will fail if this op is used in the graph. \n",
            "E0813 22:00:27.822730 140613293332352 tpu.py:376] Operation of type Placeholder (module_apply_tokens/bert/encoder/layer_5/attention/self/query/kernel) is not supported on the TPU. Execution will fail if this op is used in the graph. \n",
            "E0813 22:00:27.826183 140613293332352 tpu.py:376] Operation of type Placeholder (module_apply_tokens/bert/encoder/layer_5/attention/self/query/bias) is not supported on the TPU. Execution will fail if this op is used in the graph. \n",
            "E0813 22:00:27.834677 140613293332352 tpu.py:376] Operation of type Placeholder (module_apply_tokens/bert/encoder/layer_5/attention/self/key/kernel) is not supported on the TPU. Execution will fail if this op is used in the graph. \n",
            "E0813 22:00:27.839656 140613293332352 tpu.py:376] Operation of type Placeholder (module_apply_tokens/bert/encoder/layer_5/attention/self/key/bias) is not supported on the TPU. Execution will fail if this op is used in the graph. \n",
            "E0813 22:00:27.846229 140613293332352 tpu.py:376] Operation of type Placeholder (module_apply_tokens/bert/encoder/layer_5/attention/self/value/kernel) is not supported on the TPU. Execution will fail if this op is used in the graph. \n",
            "E0813 22:00:27.851051 140613293332352 tpu.py:376] Operation of type Placeholder (module_apply_tokens/bert/encoder/layer_5/attention/self/value/bias) is not supported on the TPU. Execution will fail if this op is used in the graph. \n",
            "E0813 22:00:27.864341 140613293332352 tpu.py:376] Operation of type Placeholder (module_apply_tokens/bert/encoder/layer_5/attention/output/dense/kernel) is not supported on the TPU. Execution will fail if this op is used in the graph. \n",
            "E0813 22:00:27.867992 140613293332352 tpu.py:376] Operation of type Placeholder (module_apply_tokens/bert/encoder/layer_5/attention/output/dense/bias) is not supported on the TPU. Execution will fail if this op is used in the graph. \n",
            "E0813 22:00:27.875974 140613293332352 tpu.py:376] Operation of type Placeholder (module_apply_tokens/bert/encoder/layer_5/attention/output/LayerNorm/beta) is not supported on the TPU. Execution will fail if this op is used in the graph. \n",
            "E0813 22:00:27.880999 140613293332352 tpu.py:376] Operation of type Placeholder (module_apply_tokens/bert/encoder/layer_5/attention/output/LayerNorm/gamma) is not supported on the TPU. Execution will fail if this op is used in the graph. \n",
            "E0813 22:00:27.892708 140613293332352 tpu.py:376] Operation of type Placeholder (module_apply_tokens/bert/encoder/layer_5/intermediate/dense/kernel) is not supported on the TPU. Execution will fail if this op is used in the graph. \n",
            "E0813 22:00:27.897886 140613293332352 tpu.py:376] Operation of type Placeholder (module_apply_tokens/bert/encoder/layer_5/intermediate/dense/bias) is not supported on the TPU. Execution will fail if this op is used in the graph. \n",
            "E0813 22:00:27.915293 140613293332352 tpu.py:376] Operation of type Placeholder (module_apply_tokens/bert/encoder/layer_5/output/dense/kernel) is not supported on the TPU. Execution will fail if this op is used in the graph. \n",
            "E0813 22:00:27.922100 140613293332352 tpu.py:376] Operation of type Placeholder (module_apply_tokens/bert/encoder/layer_5/output/dense/bias) is not supported on the TPU. Execution will fail if this op is used in the graph. \n",
            "E0813 22:00:27.927732 140613293332352 tpu.py:376] Operation of type Placeholder (module_apply_tokens/bert/encoder/layer_5/output/LayerNorm/beta) is not supported on the TPU. Execution will fail if this op is used in the graph. \n",
            "E0813 22:00:27.931873 140613293332352 tpu.py:376] Operation of type Placeholder (module_apply_tokens/bert/encoder/layer_5/output/LayerNorm/gamma) is not supported on the TPU. Execution will fail if this op is used in the graph. \n",
            "E0813 22:00:27.946600 140613293332352 tpu.py:376] Operation of type Placeholder (module_apply_tokens/bert/encoder/layer_6/attention/self/query/kernel) is not supported on the TPU. Execution will fail if this op is used in the graph. \n",
            "E0813 22:00:27.950792 140613293332352 tpu.py:376] Operation of type Placeholder (module_apply_tokens/bert/encoder/layer_6/attention/self/query/bias) is not supported on the TPU. Execution will fail if this op is used in the graph. \n",
            "E0813 22:00:27.958866 140613293332352 tpu.py:376] Operation of type Placeholder (module_apply_tokens/bert/encoder/layer_6/attention/self/key/kernel) is not supported on the TPU. Execution will fail if this op is used in the graph. \n",
            "E0813 22:00:27.962970 140613293332352 tpu.py:376] Operation of type Placeholder (module_apply_tokens/bert/encoder/layer_6/attention/self/key/bias) is not supported on the TPU. Execution will fail if this op is used in the graph. \n",
            "E0813 22:00:27.970086 140613293332352 tpu.py:376] Operation of type Placeholder (module_apply_tokens/bert/encoder/layer_6/attention/self/value/kernel) is not supported on the TPU. Execution will fail if this op is used in the graph. \n",
            "E0813 22:00:27.974799 140613293332352 tpu.py:376] Operation of type Placeholder (module_apply_tokens/bert/encoder/layer_6/attention/self/value/bias) is not supported on the TPU. Execution will fail if this op is used in the graph. \n",
            "E0813 22:00:27.991104 140613293332352 tpu.py:376] Operation of type Placeholder (module_apply_tokens/bert/encoder/layer_6/attention/output/dense/kernel) is not supported on the TPU. Execution will fail if this op is used in the graph. \n",
            "E0813 22:00:27.997854 140613293332352 tpu.py:376] Operation of type Placeholder (module_apply_tokens/bert/encoder/layer_6/attention/output/dense/bias) is not supported on the TPU. Execution will fail if this op is used in the graph. \n",
            "E0813 22:00:28.007393 140613293332352 tpu.py:376] Operation of type Placeholder (module_apply_tokens/bert/encoder/layer_6/attention/output/LayerNorm/beta) is not supported on the TPU. Execution will fail if this op is used in the graph. \n",
            "E0813 22:00:28.011923 140613293332352 tpu.py:376] Operation of type Placeholder (module_apply_tokens/bert/encoder/layer_6/attention/output/LayerNorm/gamma) is not supported on the TPU. Execution will fail if this op is used in the graph. \n",
            "E0813 22:00:28.021753 140613293332352 tpu.py:376] Operation of type Placeholder (module_apply_tokens/bert/encoder/layer_6/intermediate/dense/kernel) is not supported on the TPU. Execution will fail if this op is used in the graph. \n",
            "E0813 22:00:28.026660 140613293332352 tpu.py:376] Operation of type Placeholder (module_apply_tokens/bert/encoder/layer_6/intermediate/dense/bias) is not supported on the TPU. Execution will fail if this op is used in the graph. \n",
            "E0813 22:00:28.038971 140613293332352 tpu.py:376] Operation of type Placeholder (module_apply_tokens/bert/encoder/layer_6/output/dense/kernel) is not supported on the TPU. Execution will fail if this op is used in the graph. \n",
            "E0813 22:00:28.042505 140613293332352 tpu.py:376] Operation of type Placeholder (module_apply_tokens/bert/encoder/layer_6/output/dense/bias) is not supported on the TPU. Execution will fail if this op is used in the graph. \n",
            "E0813 22:00:28.050746 140613293332352 tpu.py:376] Operation of type Placeholder (module_apply_tokens/bert/encoder/layer_6/output/LayerNorm/beta) is not supported on the TPU. Execution will fail if this op is used in the graph. \n",
            "E0813 22:00:28.056415 140613293332352 tpu.py:376] Operation of type Placeholder (module_apply_tokens/bert/encoder/layer_6/output/LayerNorm/gamma) is not supported on the TPU. Execution will fail if this op is used in the graph. \n",
            "E0813 22:00:28.069420 140613293332352 tpu.py:376] Operation of type Placeholder (module_apply_tokens/bert/encoder/layer_7/attention/self/query/kernel) is not supported on the TPU. Execution will fail if this op is used in the graph. \n",
            "E0813 22:00:28.073757 140613293332352 tpu.py:376] Operation of type Placeholder (module_apply_tokens/bert/encoder/layer_7/attention/self/query/bias) is not supported on the TPU. Execution will fail if this op is used in the graph. \n",
            "E0813 22:00:28.083516 140613293332352 tpu.py:376] Operation of type Placeholder (module_apply_tokens/bert/encoder/layer_7/attention/self/key/kernel) is not supported on the TPU. Execution will fail if this op is used in the graph. \n",
            "E0813 22:00:28.088445 140613293332352 tpu.py:376] Operation of type Placeholder (module_apply_tokens/bert/encoder/layer_7/attention/self/key/bias) is not supported on the TPU. Execution will fail if this op is used in the graph. \n",
            "E0813 22:00:28.096544 140613293332352 tpu.py:376] Operation of type Placeholder (module_apply_tokens/bert/encoder/layer_7/attention/self/value/kernel) is not supported on the TPU. Execution will fail if this op is used in the graph. \n",
            "E0813 22:00:28.100914 140613293332352 tpu.py:376] Operation of type Placeholder (module_apply_tokens/bert/encoder/layer_7/attention/self/value/bias) is not supported on the TPU. Execution will fail if this op is used in the graph. \n",
            "E0813 22:00:28.115873 140613293332352 tpu.py:376] Operation of type Placeholder (module_apply_tokens/bert/encoder/layer_7/attention/output/dense/kernel) is not supported on the TPU. Execution will fail if this op is used in the graph. \n",
            "E0813 22:00:28.120101 140613293332352 tpu.py:376] Operation of type Placeholder (module_apply_tokens/bert/encoder/layer_7/attention/output/dense/bias) is not supported on the TPU. Execution will fail if this op is used in the graph. \n",
            "E0813 22:00:28.127590 140613293332352 tpu.py:376] Operation of type Placeholder (module_apply_tokens/bert/encoder/layer_7/attention/output/LayerNorm/beta) is not supported on the TPU. Execution will fail if this op is used in the graph. \n",
            "E0813 22:00:28.133854 140613293332352 tpu.py:376] Operation of type Placeholder (module_apply_tokens/bert/encoder/layer_7/attention/output/LayerNorm/gamma) is not supported on the TPU. Execution will fail if this op is used in the graph. \n",
            "E0813 22:00:28.143170 140613293332352 tpu.py:376] Operation of type Placeholder (module_apply_tokens/bert/encoder/layer_7/intermediate/dense/kernel) is not supported on the TPU. Execution will fail if this op is used in the graph. \n",
            "E0813 22:00:28.147699 140613293332352 tpu.py:376] Operation of type Placeholder (module_apply_tokens/bert/encoder/layer_7/intermediate/dense/bias) is not supported on the TPU. Execution will fail if this op is used in the graph. \n",
            "E0813 22:00:28.158357 140613293332352 tpu.py:376] Operation of type Placeholder (module_apply_tokens/bert/encoder/layer_7/output/dense/kernel) is not supported on the TPU. Execution will fail if this op is used in the graph. \n",
            "E0813 22:00:28.161666 140613293332352 tpu.py:376] Operation of type Placeholder (module_apply_tokens/bert/encoder/layer_7/output/dense/bias) is not supported on the TPU. Execution will fail if this op is used in the graph. \n",
            "E0813 22:00:28.170725 140613293332352 tpu.py:376] Operation of type Placeholder (module_apply_tokens/bert/encoder/layer_7/output/LayerNorm/beta) is not supported on the TPU. Execution will fail if this op is used in the graph. \n",
            "E0813 22:00:28.176284 140613293332352 tpu.py:376] Operation of type Placeholder (module_apply_tokens/bert/encoder/layer_7/output/LayerNorm/gamma) is not supported on the TPU. Execution will fail if this op is used in the graph. \n",
            "E0813 22:00:28.191578 140613293332352 tpu.py:376] Operation of type Placeholder (module_apply_tokens/bert/encoder/layer_8/attention/self/query/kernel) is not supported on the TPU. Execution will fail if this op is used in the graph. \n",
            "E0813 22:00:28.196287 140613293332352 tpu.py:376] Operation of type Placeholder (module_apply_tokens/bert/encoder/layer_8/attention/self/query/bias) is not supported on the TPU. Execution will fail if this op is used in the graph. \n",
            "E0813 22:00:28.209526 140613293332352 tpu.py:376] Operation of type Placeholder (module_apply_tokens/bert/encoder/layer_8/attention/self/key/kernel) is not supported on the TPU. Execution will fail if this op is used in the graph. \n",
            "E0813 22:00:28.213835 140613293332352 tpu.py:376] Operation of type Placeholder (module_apply_tokens/bert/encoder/layer_8/attention/self/key/bias) is not supported on the TPU. Execution will fail if this op is used in the graph. \n",
            "E0813 22:00:28.223070 140613293332352 tpu.py:376] Operation of type Placeholder (module_apply_tokens/bert/encoder/layer_8/attention/self/value/kernel) is not supported on the TPU. Execution will fail if this op is used in the graph. \n",
            "E0813 22:00:28.227057 140613293332352 tpu.py:376] Operation of type Placeholder (module_apply_tokens/bert/encoder/layer_8/attention/self/value/bias) is not supported on the TPU. Execution will fail if this op is used in the graph. \n",
            "E0813 22:00:28.243498 140613293332352 tpu.py:376] Operation of type Placeholder (module_apply_tokens/bert/encoder/layer_8/attention/output/dense/kernel) is not supported on the TPU. Execution will fail if this op is used in the graph. \n",
            "E0813 22:00:28.247262 140613293332352 tpu.py:376] Operation of type Placeholder (module_apply_tokens/bert/encoder/layer_8/attention/output/dense/bias) is not supported on the TPU. Execution will fail if this op is used in the graph. \n",
            "E0813 22:00:28.257089 140613293332352 tpu.py:376] Operation of type Placeholder (module_apply_tokens/bert/encoder/layer_8/attention/output/LayerNorm/beta) is not supported on the TPU. Execution will fail if this op is used in the graph. \n",
            "E0813 22:00:28.261216 140613293332352 tpu.py:376] Operation of type Placeholder (module_apply_tokens/bert/encoder/layer_8/attention/output/LayerNorm/gamma) is not supported on the TPU. Execution will fail if this op is used in the graph. \n",
            "E0813 22:00:28.271580 140613293332352 tpu.py:376] Operation of type Placeholder (module_apply_tokens/bert/encoder/layer_8/intermediate/dense/kernel) is not supported on the TPU. Execution will fail if this op is used in the graph. \n",
            "E0813 22:00:28.277366 140613293332352 tpu.py:376] Operation of type Placeholder (module_apply_tokens/bert/encoder/layer_8/intermediate/dense/bias) is not supported on the TPU. Execution will fail if this op is used in the graph. \n",
            "E0813 22:00:28.287669 140613293332352 tpu.py:376] Operation of type Placeholder (module_apply_tokens/bert/encoder/layer_8/output/dense/kernel) is not supported on the TPU. Execution will fail if this op is used in the graph. \n",
            "E0813 22:00:28.291900 140613293332352 tpu.py:376] Operation of type Placeholder (module_apply_tokens/bert/encoder/layer_8/output/dense/bias) is not supported on the TPU. Execution will fail if this op is used in the graph. \n",
            "E0813 22:00:28.299271 140613293332352 tpu.py:376] Operation of type Placeholder (module_apply_tokens/bert/encoder/layer_8/output/LayerNorm/beta) is not supported on the TPU. Execution will fail if this op is used in the graph. \n",
            "E0813 22:00:28.303388 140613293332352 tpu.py:376] Operation of type Placeholder (module_apply_tokens/bert/encoder/layer_8/output/LayerNorm/gamma) is not supported on the TPU. Execution will fail if this op is used in the graph. \n",
            "E0813 22:00:28.321624 140613293332352 tpu.py:376] Operation of type Placeholder (module_apply_tokens/bert/encoder/layer_9/attention/self/query/kernel) is not supported on the TPU. Execution will fail if this op is used in the graph. \n",
            "E0813 22:00:28.328328 140613293332352 tpu.py:376] Operation of type Placeholder (module_apply_tokens/bert/encoder/layer_9/attention/self/query/bias) is not supported on the TPU. Execution will fail if this op is used in the graph. \n",
            "E0813 22:00:28.334936 140613293332352 tpu.py:376] Operation of type Placeholder (module_apply_tokens/bert/encoder/layer_9/attention/self/key/kernel) is not supported on the TPU. Execution will fail if this op is used in the graph. \n",
            "E0813 22:00:28.340123 140613293332352 tpu.py:376] Operation of type Placeholder (module_apply_tokens/bert/encoder/layer_9/attention/self/key/bias) is not supported on the TPU. Execution will fail if this op is used in the graph. \n",
            "E0813 22:00:28.348650 140613293332352 tpu.py:376] Operation of type Placeholder (module_apply_tokens/bert/encoder/layer_9/attention/self/value/kernel) is not supported on the TPU. Execution will fail if this op is used in the graph. \n",
            "E0813 22:00:28.352569 140613293332352 tpu.py:376] Operation of type Placeholder (module_apply_tokens/bert/encoder/layer_9/attention/self/value/bias) is not supported on the TPU. Execution will fail if this op is used in the graph. \n",
            "E0813 22:00:28.368707 140613293332352 tpu.py:376] Operation of type Placeholder (module_apply_tokens/bert/encoder/layer_9/attention/output/dense/kernel) is not supported on the TPU. Execution will fail if this op is used in the graph. \n",
            "E0813 22:00:28.372525 140613293332352 tpu.py:376] Operation of type Placeholder (module_apply_tokens/bert/encoder/layer_9/attention/output/dense/bias) is not supported on the TPU. Execution will fail if this op is used in the graph. \n",
            "E0813 22:00:28.380632 140613293332352 tpu.py:376] Operation of type Placeholder (module_apply_tokens/bert/encoder/layer_9/attention/output/LayerNorm/beta) is not supported on the TPU. Execution will fail if this op is used in the graph. \n",
            "E0813 22:00:28.384701 140613293332352 tpu.py:376] Operation of type Placeholder (module_apply_tokens/bert/encoder/layer_9/attention/output/LayerNorm/gamma) is not supported on the TPU. Execution will fail if this op is used in the graph. \n",
            "E0813 22:00:28.396294 140613293332352 tpu.py:376] Operation of type Placeholder (module_apply_tokens/bert/encoder/layer_9/intermediate/dense/kernel) is not supported on the TPU. Execution will fail if this op is used in the graph. \n",
            "E0813 22:00:28.400949 140613293332352 tpu.py:376] Operation of type Placeholder (module_apply_tokens/bert/encoder/layer_9/intermediate/dense/bias) is not supported on the TPU. Execution will fail if this op is used in the graph. \n",
            "E0813 22:00:28.412957 140613293332352 tpu.py:376] Operation of type Placeholder (module_apply_tokens/bert/encoder/layer_9/output/dense/kernel) is not supported on the TPU. Execution will fail if this op is used in the graph. \n",
            "E0813 22:00:28.416426 140613293332352 tpu.py:376] Operation of type Placeholder (module_apply_tokens/bert/encoder/layer_9/output/dense/bias) is not supported on the TPU. Execution will fail if this op is used in the graph. \n",
            "E0813 22:00:28.424894 140613293332352 tpu.py:376] Operation of type Placeholder (module_apply_tokens/bert/encoder/layer_9/output/LayerNorm/beta) is not supported on the TPU. Execution will fail if this op is used in the graph. \n",
            "E0813 22:00:28.428649 140613293332352 tpu.py:376] Operation of type Placeholder (module_apply_tokens/bert/encoder/layer_9/output/LayerNorm/gamma) is not supported on the TPU. Execution will fail if this op is used in the graph. \n",
            "E0813 22:00:28.446965 140613293332352 tpu.py:376] Operation of type Placeholder (module_apply_tokens/bert/encoder/layer_10/attention/self/query/kernel) is not supported on the TPU. Execution will fail if this op is used in the graph. \n",
            "E0813 22:00:28.451255 140613293332352 tpu.py:376] Operation of type Placeholder (module_apply_tokens/bert/encoder/layer_10/attention/self/query/bias) is not supported on the TPU. Execution will fail if this op is used in the graph. \n",
            "E0813 22:00:28.459901 140613293332352 tpu.py:376] Operation of type Placeholder (module_apply_tokens/bert/encoder/layer_10/attention/self/key/kernel) is not supported on the TPU. Execution will fail if this op is used in the graph. \n",
            "E0813 22:00:28.463284 140613293332352 tpu.py:376] Operation of type Placeholder (module_apply_tokens/bert/encoder/layer_10/attention/self/key/bias) is not supported on the TPU. Execution will fail if this op is used in the graph. \n",
            "E0813 22:00:28.472294 140613293332352 tpu.py:376] Operation of type Placeholder (module_apply_tokens/bert/encoder/layer_10/attention/self/value/kernel) is not supported on the TPU. Execution will fail if this op is used in the graph. \n",
            "E0813 22:00:28.476272 140613293332352 tpu.py:376] Operation of type Placeholder (module_apply_tokens/bert/encoder/layer_10/attention/self/value/bias) is not supported on the TPU. Execution will fail if this op is used in the graph. \n",
            "E0813 22:00:28.493829 140613293332352 tpu.py:376] Operation of type Placeholder (module_apply_tokens/bert/encoder/layer_10/attention/output/dense/kernel) is not supported on the TPU. Execution will fail if this op is used in the graph. \n",
            "E0813 22:00:28.497122 140613293332352 tpu.py:376] Operation of type Placeholder (module_apply_tokens/bert/encoder/layer_10/attention/output/dense/bias) is not supported on the TPU. Execution will fail if this op is used in the graph. \n",
            "E0813 22:00:28.504335 140613293332352 tpu.py:376] Operation of type Placeholder (module_apply_tokens/bert/encoder/layer_10/attention/output/LayerNorm/beta) is not supported on the TPU. Execution will fail if this op is used in the graph. \n",
            "E0813 22:00:28.508819 140613293332352 tpu.py:376] Operation of type Placeholder (module_apply_tokens/bert/encoder/layer_10/attention/output/LayerNorm/gamma) is not supported on the TPU. Execution will fail if this op is used in the graph. \n",
            "E0813 22:00:28.520349 140613293332352 tpu.py:376] Operation of type Placeholder (module_apply_tokens/bert/encoder/layer_10/intermediate/dense/kernel) is not supported on the TPU. Execution will fail if this op is used in the graph. \n",
            "E0813 22:00:28.524497 140613293332352 tpu.py:376] Operation of type Placeholder (module_apply_tokens/bert/encoder/layer_10/intermediate/dense/bias) is not supported on the TPU. Execution will fail if this op is used in the graph. \n",
            "E0813 22:00:28.535571 140613293332352 tpu.py:376] Operation of type Placeholder (module_apply_tokens/bert/encoder/layer_10/output/dense/kernel) is not supported on the TPU. Execution will fail if this op is used in the graph. \n",
            "E0813 22:00:28.539289 140613293332352 tpu.py:376] Operation of type Placeholder (module_apply_tokens/bert/encoder/layer_10/output/dense/bias) is not supported on the TPU. Execution will fail if this op is used in the graph. \n",
            "E0813 22:00:28.546955 140613293332352 tpu.py:376] Operation of type Placeholder (module_apply_tokens/bert/encoder/layer_10/output/LayerNorm/beta) is not supported on the TPU. Execution will fail if this op is used in the graph. \n",
            "E0813 22:00:28.551527 140613293332352 tpu.py:376] Operation of type Placeholder (module_apply_tokens/bert/encoder/layer_10/output/LayerNorm/gamma) is not supported on the TPU. Execution will fail if this op is used in the graph. \n",
            "E0813 22:00:28.568699 140613293332352 tpu.py:376] Operation of type Placeholder (module_apply_tokens/bert/encoder/layer_11/attention/self/query/kernel) is not supported on the TPU. Execution will fail if this op is used in the graph. \n",
            "E0813 22:00:28.572281 140613293332352 tpu.py:376] Operation of type Placeholder (module_apply_tokens/bert/encoder/layer_11/attention/self/query/bias) is not supported on the TPU. Execution will fail if this op is used in the graph. \n",
            "E0813 22:00:28.582244 140613293332352 tpu.py:376] Operation of type Placeholder (module_apply_tokens/bert/encoder/layer_11/attention/self/key/kernel) is not supported on the TPU. Execution will fail if this op is used in the graph. \n",
            "E0813 22:00:28.586510 140613293332352 tpu.py:376] Operation of type Placeholder (module_apply_tokens/bert/encoder/layer_11/attention/self/key/bias) is not supported on the TPU. Execution will fail if this op is used in the graph. \n",
            "E0813 22:00:28.594227 140613293332352 tpu.py:376] Operation of type Placeholder (module_apply_tokens/bert/encoder/layer_11/attention/self/value/kernel) is not supported on the TPU. Execution will fail if this op is used in the graph. \n",
            "E0813 22:00:28.598356 140613293332352 tpu.py:376] Operation of type Placeholder (module_apply_tokens/bert/encoder/layer_11/attention/self/value/bias) is not supported on the TPU. Execution will fail if this op is used in the graph. \n",
            "E0813 22:00:28.612342 140613293332352 tpu.py:376] Operation of type Placeholder (module_apply_tokens/bert/encoder/layer_11/attention/output/dense/kernel) is not supported on the TPU. Execution will fail if this op is used in the graph. \n",
            "E0813 22:00:28.615774 140613293332352 tpu.py:376] Operation of type Placeholder (module_apply_tokens/bert/encoder/layer_11/attention/output/dense/bias) is not supported on the TPU. Execution will fail if this op is used in the graph. \n",
            "E0813 22:00:28.624177 140613293332352 tpu.py:376] Operation of type Placeholder (module_apply_tokens/bert/encoder/layer_11/attention/output/LayerNorm/beta) is not supported on the TPU. Execution will fail if this op is used in the graph. \n",
            "E0813 22:00:28.628602 140613293332352 tpu.py:376] Operation of type Placeholder (module_apply_tokens/bert/encoder/layer_11/attention/output/LayerNorm/gamma) is not supported on the TPU. Execution will fail if this op is used in the graph. \n",
            "E0813 22:00:28.639751 140613293332352 tpu.py:376] Operation of type Placeholder (module_apply_tokens/bert/encoder/layer_11/intermediate/dense/kernel) is not supported on the TPU. Execution will fail if this op is used in the graph. \n",
            "E0813 22:00:28.645134 140613293332352 tpu.py:376] Operation of type Placeholder (module_apply_tokens/bert/encoder/layer_11/intermediate/dense/bias) is not supported on the TPU. Execution will fail if this op is used in the graph. \n",
            "E0813 22:00:28.654956 140613293332352 tpu.py:376] Operation of type Placeholder (module_apply_tokens/bert/encoder/layer_11/output/dense/kernel) is not supported on the TPU. Execution will fail if this op is used in the graph. \n",
            "E0813 22:00:28.658344 140613293332352 tpu.py:376] Operation of type Placeholder (module_apply_tokens/bert/encoder/layer_11/output/dense/bias) is not supported on the TPU. Execution will fail if this op is used in the graph. \n",
            "E0813 22:00:28.666502 140613293332352 tpu.py:376] Operation of type Placeholder (module_apply_tokens/bert/encoder/layer_11/output/LayerNorm/beta) is not supported on the TPU. Execution will fail if this op is used in the graph. \n",
            "E0813 22:00:28.670380 140613293332352 tpu.py:376] Operation of type Placeholder (module_apply_tokens/bert/encoder/layer_11/output/LayerNorm/gamma) is not supported on the TPU. Execution will fail if this op is used in the graph. \n",
            "E0813 22:00:28.709377 140613293332352 tpu.py:376] Operation of type Placeholder (module_apply_tokens/bert/pooler/dense/kernel) is not supported on the TPU. Execution will fail if this op is used in the graph. \n",
            "E0813 22:00:28.715965 140613293332352 tpu.py:376] Operation of type Placeholder (module_apply_tokens/bert/pooler/dense/bias) is not supported on the TPU. Execution will fail if this op is used in the graph. \n",
            "E0813 22:00:28.729233 140613293332352 tpu.py:376] Operation of type Placeholder (module_apply_tokens/cls/predictions/transform/dense/kernel) is not supported on the TPU. Execution will fail if this op is used in the graph. \n",
            "E0813 22:00:28.732372 140613293332352 tpu.py:376] Operation of type Placeholder (module_apply_tokens/cls/predictions/transform/dense/bias) is not supported on the TPU. Execution will fail if this op is used in the graph. \n",
            "E0813 22:00:28.743339 140613293332352 tpu.py:376] Operation of type Placeholder (module_apply_tokens/cls/predictions/transform/LayerNorm/beta) is not supported on the TPU. Execution will fail if this op is used in the graph. \n",
            "E0813 22:00:28.747251 140613293332352 tpu.py:376] Operation of type Placeholder (module_apply_tokens/cls/predictions/transform/LayerNorm/gamma) is not supported on the TPU. Execution will fail if this op is used in the graph. \n",
            "E0813 22:00:28.759963 140613293332352 tpu.py:376] Operation of type Placeholder (module_apply_tokens/cls/predictions/output_bias) is not supported on the TPU. Execution will fail if this op is used in the graph. \n"
          ],
          "name": "stderr"
        },
        {
          "output_type": "stream",
          "text": [
            "text_a: He said the foodservice pie business doesn 't fit the company 's long-term growth strategy .\n",
            "text_b: \" The foodservice pie business does not fit our long-term growth strategy .\n",
            "label:1\n",
            "prediction:[0.00158932 0.99841076]\n",
            "\n",
            "text_a: Magnarelli said Racicot hated the Iraqi regime and looked forward to using his long years of training in the war .\n",
            "text_b: His wife said he was \" 100 percent behind George Bush \" and looked forward to using his years of training in the war .\n",
            "label:0\n",
            "prediction:[0.9970925  0.00290753]\n",
            "\n",
            "text_a: The dollar was at 116.92 yen against the yen , flat on the session , and at 1.2891 against the Swiss franc , also flat .\n",
            "text_b: The dollar was at 116.78 yen JPY = , virtually flat on the session , and at 1.2871 against the Swiss franc CHF = , down 0.1 percent .\n",
            "label:0\n",
            "prediction:[0.10815371 0.8918463 ]\n",
            "\n",
            "text_a: The AFL-CIO is waiting until October to decide if it will endorse a candidate .\n",
            "text_b: The AFL-CIO announced Wednesday that it will decide in October whether to endorse a candidate before the primaries .\n",
            "label:1\n",
            "prediction:[0.00166545 0.9983346 ]\n",
            "\n",
            "text_a: No dates have been set for the civil or the criminal trial .\n",
            "text_b: No dates have been set for the criminal or civil cases , but Shanley has pleaded not guilty .\n",
            "label:0\n",
            "prediction:[0.9972017  0.00279833]\n",
            "\n",
            "text_a: Wal-Mart said it would check all of its million-plus domestic workers to ensure they were legally employed .\n",
            "text_b: It has also said it would review all of its domestic employees more than 1 million to ensure they have legal status .\n",
            "label:1\n",
            "prediction:[0.00178738 0.9982127 ]\n",
            "\n",
            "text_a: While dioxin levels in the environment were up last year , they have dropped by 75 percent since the 1970s , said Caswell .\n",
            "text_b: The Institute said dioxin levels in the environment have fallen by as much as 76 percent since the 1970s .\n",
            "label:0\n",
            "prediction:[0.00227073 0.99772924]\n",
            "\n",
            "text_a: This integrates with Rational PurifyPlus and allows developers to work in supported versions of Java , Visual C # and Visual Basic .NET.\n",
            "text_b: IBM said the Rational products were also integrated with Rational PurifyPlus , which allows developers to work in Java , Visual C # and VisualBasic .Net.\n",
            "label:1\n",
            "prediction:[0.00164317 0.9983568 ]\n",
            "\n"
          ],
          "name": "stdout"
        }
      ]
    },
    {
      "cell_type": "markdown",
      "metadata": {
        "id": "mml5ELUaajmp",
        "colab_type": "text"
      },
      "source": [
        "# Fine-tune and run predictions on a pre-trained BERT model from checkpoints"
      ]
    },
    {
      "cell_type": "markdown",
      "metadata": {
        "id": "xtgLSuh8IdGP",
        "colab_type": "text"
      },
      "source": [
        "Alternatively, you can also load pre-trained BERT models from saved checkpoints."
      ]
    },
    {
      "cell_type": "code",
      "metadata": {
        "id": "uu2dQ_TId-uH",
        "colab_type": "code",
        "outputId": "4355430b-44cb-4386-da25-00d7fb292959",
        "colab": {
          "base_uri": "https://localhost:8080/",
          "height": 174
        }
      },
      "source": [
        "# Setup task specific model and TPU running config.\n",
        "BERT_PRETRAINED_DIR = 'gs://cloud-tpu-checkpoints/bert/' + BERT_MODEL \n",
        "print('***** BERT pretrained directory: {} *****'.format(BERT_PRETRAINED_DIR))\n",
        "!gsutil ls $BERT_PRETRAINED_DIR\n",
        "\n",
        "CONFIG_FILE = os.path.join(BERT_PRETRAINED_DIR, 'bert_config.json')\n",
        "INIT_CHECKPOINT = os.path.join(BERT_PRETRAINED_DIR, 'bert_model.ckpt')\n",
        "\n",
        "model_fn = run_classifier.model_fn_builder(\n",
        "  bert_config=modeling.BertConfig.from_json_file(CONFIG_FILE),\n",
        "  num_labels=len(label_list),\n",
        "  init_checkpoint=INIT_CHECKPOINT,\n",
        "  learning_rate=LEARNING_RATE,\n",
        "  num_train_steps=num_train_steps,\n",
        "  num_warmup_steps=num_warmup_steps,\n",
        "  use_tpu=True,\n",
        "  use_one_hot_embeddings=True\n",
        ")\n",
        "\n",
        "OUTPUT_DIR = OUTPUT_DIR.replace('bert-tfhub', 'bert-checkpoints')\n",
        "tf.gfile.MakeDirs(OUTPUT_DIR)\n",
        "\n",
        "estimator_from_checkpoints = tf.contrib.tpu.TPUEstimator(\n",
        "  use_tpu=True,\n",
        "  model_fn=model_fn,\n",
        "  config=get_run_config(OUTPUT_DIR),\n",
        "  train_batch_size=TRAIN_BATCH_SIZE,\n",
        "  eval_batch_size=EVAL_BATCH_SIZE,\n",
        "  predict_batch_size=PREDICT_BATCH_SIZE,\n",
        ")"
      ],
      "execution_count": 15,
      "outputs": [
        {
          "output_type": "stream",
          "text": [
            "***** BERT pretrained directory: gs://cloud-tpu-checkpoints/bert/uncased_L-12_H-768_A-12 *****\n",
            "gs://cloud-tpu-checkpoints/bert/uncased_L-12_H-768_A-12/bert_config.json\n",
            "gs://cloud-tpu-checkpoints/bert/uncased_L-12_H-768_A-12/bert_model.ckpt.data-00000-of-00001\n",
            "gs://cloud-tpu-checkpoints/bert/uncased_L-12_H-768_A-12/bert_model.ckpt.index\n",
            "gs://cloud-tpu-checkpoints/bert/uncased_L-12_H-768_A-12/bert_model.ckpt.meta\n",
            "gs://cloud-tpu-checkpoints/bert/uncased_L-12_H-768_A-12/checkpoint\n",
            "gs://cloud-tpu-checkpoints/bert/uncased_L-12_H-768_A-12/vocab.txt\n"
          ],
          "name": "stdout"
        },
        {
          "output_type": "stream",
          "text": [
            "W0813 22:00:49.861065 140613293332352 estimator.py:1984] Estimator's model_fn (<function model_fn_builder.<locals>.model_fn at 0x7fe2c66baae8>) includes params argument, but params are not passed to Estimator.\n"
          ],
          "name": "stderr"
        }
      ]
    },
    {
      "cell_type": "markdown",
      "metadata": {
        "id": "Yd61zFHgW2aN",
        "colab_type": "text"
      },
      "source": [
        "Now, you can repeat the training, evaluation, and prediction steps."
      ]
    },
    {
      "cell_type": "code",
      "metadata": {
        "id": "bZp2_qt4VvED",
        "colab_type": "code",
        "outputId": "d122794b-ccce-422e-a108-4e9ec28ec324",
        "colab": {
          "base_uri": "https://localhost:8080/",
          "height": 103
        }
      },
      "source": [
        "model_train(estimator_from_checkpoints)"
      ],
      "execution_count": 16,
      "outputs": [
        {
          "output_type": "stream",
          "text": [
            "MRPC/CoLA on BERT base model normally takes about 2-3 minutes. Please wait...\n",
            "***** Started training at 2019-08-13 22:00:53.771423 *****\n",
            "  Num examples = 3668\n",
            "  Batch size = 32\n",
            "***** Finished training at 2019-08-13 22:00:55.229583 *****\n"
          ],
          "name": "stdout"
        }
      ]
    },
    {
      "cell_type": "code",
      "metadata": {
        "id": "QIdXkglNVxM5",
        "colab_type": "code",
        "outputId": "cb34f9ba-798e-46f4-f03a-f8de34c76e78",
        "colab": {
          "base_uri": "https://localhost:8080/",
          "height": 379
        }
      },
      "source": [
        "model_eval(estimator_from_checkpoints)"
      ],
      "execution_count": 17,
      "outputs": [
        {
          "output_type": "stream",
          "text": [
            "***** Started evaluation at 2019-08-13 22:00:55.711062 *****\n",
            "  Num examples = 408\n",
            "  Batch size = 8\n"
          ],
          "name": "stdout"
        },
        {
          "output_type": "stream",
          "text": [
            "W0813 22:00:56.232219 140613293332352 deprecation_wrapper.py:119] From bert_repo/modeling.py:490: The name tf.assert_less_equal is deprecated. Please use tf.compat.v1.assert_less_equal instead.\n",
            "\n",
            "W0813 22:00:56.303525 140613293332352 deprecation.py:323] From bert_repo/modeling.py:671: dense (from tensorflow.python.layers.core) is deprecated and will be removed in a future version.\n",
            "Instructions for updating:\n",
            "Use keras.layers.dense instead.\n",
            "W0813 22:01:00.135509 140613293332352 deprecation_wrapper.py:119] From bert_repo/run_classifier.py:647: The name tf.trainable_variables is deprecated. Please use tf.compat.v1.trainable_variables instead.\n",
            "\n",
            "W0813 22:01:00.445033 140613293332352 deprecation_wrapper.py:119] From bert_repo/run_classifier.py:656: The name tf.train.init_from_checkpoint is deprecated. Please use tf.compat.v1.train.init_from_checkpoint instead.\n",
            "\n",
            "W0813 22:01:01.646464 140613293332352 deprecation_wrapper.py:119] From bert_repo/run_classifier.py:657: The name tf.train.Scaffold is deprecated. Please use tf.compat.v1.train.Scaffold instead.\n",
            "\n"
          ],
          "name": "stderr"
        },
        {
          "output_type": "stream",
          "text": [
            "***** Finished evaluation at 2019-08-13 22:01:45.105814 *****\n",
            "***** Eval results *****\n",
            "  eval_accuracy = 0.8382353\n",
            "  eval_loss = 0.66811115\n",
            "  global_step = 343\n",
            "  loss = 0.7876671\n"
          ],
          "name": "stdout"
        }
      ]
    },
    {
      "cell_type": "code",
      "metadata": {
        "id": "0yamCRHcV-nQ",
        "colab_type": "code",
        "outputId": "a6df8c73-5cc4-4800-d1bf-26ad606a3d18",
        "colab": {
          "base_uri": "https://localhost:8080/",
          "height": 701
        }
      },
      "source": [
        "model_predict(estimator_from_checkpoints)"
      ],
      "execution_count": 88,
      "outputs": [
        {
          "output_type": "stream",
          "text": [
            "text_a: He said the foodservice pie business doesn 't fit the company 's long-term growth strategy .\n",
            "text_b: \" The foodservice pie business does not fit our long-term growth strategy .\n",
            "label:1\n",
            "prediction:[0.0035472 0.9964528]\n",
            "\n",
            "text_a: Magnarelli said Racicot hated the Iraqi regime and looked forward to using his long years of training in the war .\n",
            "text_b: His wife said he was \" 100 percent behind George Bush \" and looked forward to using his years of training in the war .\n",
            "label:0\n",
            "prediction:[0.9891451  0.01085493]\n",
            "\n",
            "text_a: The dollar was at 116.92 yen against the yen , flat on the session , and at 1.2891 against the Swiss franc , also flat .\n",
            "text_b: The dollar was at 116.78 yen JPY = , virtually flat on the session , and at 1.2871 against the Swiss franc CHF = , down 0.1 percent .\n",
            "label:0\n",
            "prediction:[0.97843504 0.02156499]\n",
            "\n",
            "text_a: The AFL-CIO is waiting until October to decide if it will endorse a candidate .\n",
            "text_b: The AFL-CIO announced Wednesday that it will decide in October whether to endorse a candidate before the primaries .\n",
            "label:1\n",
            "prediction:[0.00474985 0.9952501 ]\n",
            "\n",
            "text_a: No dates have been set for the civil or the criminal trial .\n",
            "text_b: No dates have been set for the criminal or civil cases , but Shanley has pleaded not guilty .\n",
            "label:0\n",
            "prediction:[0.9887532  0.01124675]\n",
            "\n",
            "text_a: Wal-Mart said it would check all of its million-plus domestic workers to ensure they were legally employed .\n",
            "text_b: It has also said it would review all of its domestic employees more than 1 million to ensure they have legal status .\n",
            "label:1\n",
            "prediction:[0.00459109 0.99540895]\n",
            "\n",
            "text_a: While dioxin levels in the environment were up last year , they have dropped by 75 percent since the 1970s , said Caswell .\n",
            "text_b: The Institute said dioxin levels in the environment have fallen by as much as 76 percent since the 1970s .\n",
            "label:0\n",
            "prediction:[0.0145689 0.985431 ]\n",
            "\n",
            "text_a: This integrates with Rational PurifyPlus and allows developers to work in supported versions of Java , Visual C # and Visual Basic .NET.\n",
            "text_b: IBM said the Rational products were also integrated with Rational PurifyPlus , which allows developers to work in Java , Visual C # and VisualBasic .Net.\n",
            "label:1\n",
            "prediction:[0.00372473 0.9962753 ]\n",
            "\n"
          ],
          "name": "stdout"
        }
      ]
    },
    {
      "cell_type": "markdown",
      "metadata": {
        "id": "pHjWhqAodM8a",
        "colab_type": "text"
      },
      "source": [
        "## What's next\n",
        "\n",
        "* Learn about [Cloud TPUs](https://cloud.google.com/tpu/docs) that Google designed and optimized specifically to speed up and scale up ML workloads for training and inference and to enable ML engineers and researchers to iterate more quickly.\n",
        "* Explore the range of [Cloud TPU tutorials and Colabs](https://cloud.google.com/tpu/docs/tutorials) to find other examples that can be used when implementing your ML project.\n",
        "\n",
        "On Google Cloud Platform, in addition to GPUs and TPUs available on pre-configured [deep learning VMs](https://cloud.google.com/deep-learning-vm/),  you will find [AutoML](https://cloud.google.com/automl/)*(beta)* for training custom models without writing code and [Cloud ML Engine](https://cloud.google.com/ml-engine/docs/) which will allows you to run parallel trainings and hyperparameter tuning of your custom models on powerful distributed hardware.\n"
      ]
    },
    {
      "cell_type": "markdown",
      "metadata": {
        "id": "Y0jgWH9F-_4F",
        "colab_type": "text"
      },
      "source": [
        "## Tyler Additions\n",
        "\n",
        "* Get Leaders Prize data and test model on this data\n"
      ]
    },
    {
      "cell_type": "code",
      "metadata": {
        "id": "Tb1ttmuW-7qA",
        "colab_type": "code",
        "colab": {
          "base_uri": "https://localhost:8080/",
          "height": 123
        },
        "outputId": "ae6bf153-02bc-4081-84d5-17a2b518310f"
      },
      "source": [
        "# Mounts your Google Drive account\n",
        "from google.colab import drive\n",
        "drive.mount('/content/drive', force_remount = True)"
      ],
      "execution_count": 20,
      "outputs": [
        {
          "output_type": "stream",
          "text": [
            "Go to this URL in a browser: https://accounts.google.com/o/oauth2/auth?client_id=947318989803-6bn6qk8qdgf4n4g3pfee6491hc0brc4i.apps.googleusercontent.com&redirect_uri=urn%3Aietf%3Awg%3Aoauth%3A2.0%3Aoob&scope=email%20https%3A%2F%2Fwww.googleapis.com%2Fauth%2Fdocs.test%20https%3A%2F%2Fwww.googleapis.com%2Fauth%2Fdrive%20https%3A%2F%2Fwww.googleapis.com%2Fauth%2Fdrive.photos.readonly%20https%3A%2F%2Fwww.googleapis.com%2Fauth%2Fpeopleapi.readonly&response_type=code\n",
            "\n",
            "Enter your authorization code:\n",
            "··········\n",
            "Mounted at /content/drive\n"
          ],
          "name": "stdout"
        }
      ]
    },
    {
      "cell_type": "code",
      "metadata": {
        "id": "2OG8yb28_PFL",
        "colab_type": "code",
        "colab": {}
      },
      "source": [
        "import matplotlib.pyplot as plt\n",
        "\n",
        "def plot_history(training_history, with_validation):\n",
        "    # Accuracy Plot\n",
        "    plt.plot(training_history.history['acc'])\n",
        "    if with_validation:\n",
        "        plt.plot(history.history['val_acc'])\n",
        "    plt.title('model accuracy')\n",
        "    plt.ylabel('accuracy')\n",
        "    plt.xlabel('epoch')\n",
        "    plt.legend(['train', 'test'], loc='upper left')\n",
        "    plt.show()\n",
        "\n",
        "    # Loss Plot\n",
        "    plt.plot(training_history.history['loss'])\n",
        "    if with_validation:\n",
        "        plt.plot(history.history['val_loss'])\n",
        "    plt.title('model loss')\n",
        "    plt.ylabel('loss')\n",
        "    plt.xlabel('epoch')\n",
        "    plt.legend(['Train', 'Validation'], loc='upper left')\n",
        "    plt.show()\n",
        "    \n",
        "    \n",
        "    \n",
        "# Normalize all the counts\n",
        "def normalize_claim_counts(df):\n",
        "    \"\"\"\n",
        "    Strips out extra claims so we have a balanced dataset - i.e. # of labels for 0,1,2 are the same\n",
        "    \"\"\"\n",
        "    true_claims = df[df['label'] == 2]\n",
        "    neutral_claims = df[df['label'] == 1]\n",
        "    false_claims = df[df['label'] == 0]\n",
        "    max_index = min([\n",
        "        len(true_claims.index),\n",
        "        len(neutral_claims.index),\n",
        "        len(false_claims.index),\n",
        "    ])\n",
        "    return pd.concat([\n",
        "        true_claims[0: max_index],\n",
        "        neutral_claims[0: max_index],\n",
        "        false_claims[0: max_index]\n",
        "    ]).sample(frac=1)  # This shuffles"
      ],
      "execution_count": 0,
      "outputs": []
    },
    {
      "cell_type": "code",
      "metadata": {
        "id": "-tWw_YCi_YB4",
        "colab_type": "code",
        "colab": {}
      },
      "source": [
        "import pandas as pd\n",
        "\n",
        "# Define variables for filepaths - this separates data source from data processing & later steps\n",
        "JSON_DATA_PATH = '/content/drive/My Drive/LeadersPrize/Data/json_data.pkl'\n",
        "ARTICLES_DATA_PATH = '/content/drive/My Drive/LeadersPrize/Data/articles_data.pkl'\n",
        "\n",
        "## IMPORTANT GLOBAL VARIABLE USED TO STORE DATASET\n",
        "json_data = pd.read_pickle(JSON_DATA_PATH)\n",
        "articles_data = pd.read_pickle(ARTICLES_DATA_PATH)"
      ],
      "execution_count": 0,
      "outputs": []
    },
    {
      "cell_type": "markdown",
      "metadata": {
        "id": "VOGOhliZEdvE",
        "colab_type": "text"
      },
      "source": [
        "### Extract a dict of claims and their related articles"
      ]
    },
    {
      "cell_type": "code",
      "metadata": {
        "id": "slVbjqz-xQAN",
        "colab_type": "code",
        "colab": {}
      },
      "source": [
        "def get_claims_to_article_nums(desired_label, num_claims=1000, randomize=True):\n",
        "  import random\n",
        "  \n",
        "  # Get valid indices, optionally randomize order\n",
        "  keys = json_data['related_articles'].keys()\n",
        "  indices = [keys[i]for i in range(len(keys))]\n",
        "  \n",
        "  if randomize:\n",
        "    random.shuffle(indices)\n",
        "    \n",
        "  # Create dict mapping claims to related_article_nums\n",
        "  claims_to_article_nums = {}\n",
        "  for idx in indices:\n",
        "    \n",
        "    if json_data['label'][idx] == desired_label:\n",
        "      claims_to_article_nums[json_data['claim'][idx]] = json_data['related_articles'][idx]\n",
        "\n",
        "    # Get num_claims\n",
        "    if len(claims_to_article_nums.keys()) == num_claims:\n",
        "      break\n",
        "\n",
        "  return claims_to_article_nums"
      ],
      "execution_count": 0,
      "outputs": []
    },
    {
      "cell_type": "code",
      "metadata": {
        "id": "W_oBE54i0jPB",
        "colab_type": "code",
        "colab": {
          "base_uri": "https://localhost:8080/",
          "height": 34
        },
        "outputId": "6f7f8f25-78f4-4b15-dca8-7983ed47f9d9"
      },
      "source": [
        "print(type(json_data['related_articles'].keys()))"
      ],
      "execution_count": 357,
      "outputs": [
        {
          "output_type": "stream",
          "text": [
            "<class 'pandas.core.indexes.numeric.Int64Index'>\n"
          ],
          "name": "stdout"
        }
      ]
    },
    {
      "cell_type": "code",
      "metadata": {
        "id": "-LBUpRxMFuwF",
        "colab_type": "code",
        "colab": {}
      },
      "source": [
        "NUM_EXAMPLES = 20\n",
        "true_claims_to_article_nums = get_claims_to_article_nums(2, NUM_EXAMPLES)\n",
        "false_claims_to_article_nums = get_claims_to_article_nums(0, NUM_EXAMPLES)\n",
        "partly_true_claims_to_article_nums = get_claims_to_article_nums(1, NUM_EXAMPLES)"
      ],
      "execution_count": 0,
      "outputs": []
    },
    {
      "cell_type": "code",
      "metadata": {
        "id": "BcpyxrmJKX6k",
        "colab_type": "code",
        "colab": {
          "base_uri": "https://localhost:8080/",
          "height": 362
        },
        "outputId": "a669f9ce-cc87-4629-e6eb-3fa5cf826de5"
      },
      "source": [
        "# Print result\n",
        "num_print = 1\n",
        "\n",
        "i = 0\n",
        "for claim, related_articles in true_claims_to_article_nums.items():\n",
        "  print(\"True Claim: {} \\nRelated Articles: {}\\n\".format(claim, related_articles))\n",
        "  i += 1\n",
        "  if i % num_print == 0:\n",
        "    break\n",
        "    \n",
        "for claim, related_articles in false_claims_to_article_nums.items():\n",
        "  print(\"False Claim: {} \\nRelated Articles: {}\\n\".format(claim, related_articles))\n",
        "  i += 1\n",
        "  if i % num_print == 0:\n",
        "    break\n",
        "\n",
        "for claim, related_articles in partly_true_claims_to_article_nums.items():\n",
        "  print(\"Partly True Claim: {} \\nRelated Articles: {}\\n\".format(claim, related_articles))\n",
        "  i += 1\n",
        "  if i % num_print == 0:\n",
        "    break"
      ],
      "execution_count": 411,
      "outputs": [
        {
          "output_type": "stream",
          "text": [
            "True Claim: McDonald's has a burger filled with Nutella.\n",
            "\n",
            "\t\t\t\t\n",
            "\t\t\t\t\t\n",
            "\n",
            "\t\t\t\t\t\tSee Example(s)\n",
            "\n",
            "\t\t\t\t\t\t\n",
            "\t\t\t\t\t\t\t\n",
            "\t\t\t\t\t\t\t\t\n",
            "\t\t\t\t\t\t\t\t\tIs the nutella burger at mcdonalds real???\t\t\t\t\t\t\t\t\t\t\t\t\t\t\t\t\t\t\tCollected via e-mail, December 2016 \n",
            "Related Articles: [117756, 121213]\n",
            "\n",
            "False Claim: Abortion rates drop during Democratic presidencies and rise during Republican administrations. \n",
            "Related Articles: [40705, 148849, 151961]\n",
            "\n",
            "Partly True Claim: \"500 percent more traffic here?\" \n",
            "Related Articles: [84478, 16341, 16137]\n",
            "\n"
          ],
          "name": "stdout"
        }
      ]
    },
    {
      "cell_type": "markdown",
      "metadata": {
        "id": "CXyFrzoBEvuO",
        "colab_type": "text"
      },
      "source": [
        "### Turn list of related articles to long list of sentences"
      ]
    },
    {
      "cell_type": "code",
      "metadata": {
        "id": "2De9hPgc6J_o",
        "colab_type": "code",
        "colab": {}
      },
      "source": [
        "def get_sentences_from_article_nums(article_nums):\n",
        "  retVal = []\n",
        "  \n",
        "  # Iterate over all articles\n",
        "  articles = get_articles_from_article_nums(article_nums)\n",
        "  for article in articles:\n",
        "    \n",
        "    # Add all sentences to retVal\n",
        "    sentences = get_sentences_from_article(article)\n",
        "    for sentence in sentences:\n",
        "      retVal.append(sentence)\n",
        "      \n",
        "  return retVal"
      ],
      "execution_count": 0,
      "outputs": []
    },
    {
      "cell_type": "code",
      "metadata": {
        "id": "2Tu5fxyRHX9e",
        "colab_type": "code",
        "colab": {}
      },
      "source": [
        "def get_articles_from_article_nums(article_nums):\n",
        "  articles = []\n",
        "  for article_num in article_nums:\n",
        "    article = articles_data['text']['{}'.format(article_num)]\n",
        "    articles.append(article)\n",
        "  return articles"
      ],
      "execution_count": 0,
      "outputs": []
    },
    {
      "cell_type": "code",
      "metadata": {
        "id": "L7HpfHXSGj77",
        "colab_type": "code",
        "colab": {}
      },
      "source": [
        "def get_sentences_from_article(article):\n",
        "    import re\n",
        "    # Remove punctuation and line breaks\n",
        "    sentences = re.split(r\"[.!?]\", article)\n",
        "    sentences = [sent.strip(\" \") for sent in sentences]\n",
        "    sentences = [sent.split(\"\\n\") for sent in sentences]\n",
        "    \n",
        "    # Assemble into list of sentences\n",
        "    retVal = []\n",
        "    for sent in sentences:\n",
        "      for s in sent:\n",
        "        if len(s) > 0:\n",
        "          retVal.append(s)\n",
        "    return retVal"
      ],
      "execution_count": 0,
      "outputs": []
    },
    {
      "cell_type": "code",
      "metadata": {
        "id": "5Ty4rxbGIDHb",
        "colab_type": "code",
        "colab": {}
      },
      "source": [
        "# Break list of article nums to list of sentences\n",
        "true_claims_to_sentences = {}\n",
        "false_claims_to_sentences = {}\n",
        "partly_true_claims_to_sentences = {}\n",
        "\n",
        "for claim, article_nums in true_claims_to_article_nums.items():\n",
        "  true_claims_to_sentences[claim] = get_sentences_from_article_nums(article_nums)\n",
        "for claim, article_nums in false_claims_to_article_nums.items():\n",
        "  false_claims_to_sentences[claim] = get_sentences_from_article_nums(article_nums)\n",
        "for claim, article_nums in partly_true_claims_to_article_nums.items():\n",
        "  partly_true_claims_to_sentences[claim] = get_sentences_from_article_nums(article_nums)"
      ],
      "execution_count": 0,
      "outputs": []
    },
    {
      "cell_type": "code",
      "metadata": {
        "id": "NqNIROlgKeos",
        "colab_type": "code",
        "colab": {
          "base_uri": "https://localhost:8080/",
          "height": 362
        },
        "outputId": "73fcc74a-d804-4315-e53f-70629ac93d71"
      },
      "source": [
        "# Print result\n",
        "num_show = 1\n",
        "\n",
        "i = 0\n",
        "for claim, sentences in true_claims_to_sentences.items():\n",
        "  print(\"True Claim: {} \\nRelated Sentences: {}\\n\".format(claim, sentences))\n",
        "  i += 1\n",
        "  if i % num_show == 0:\n",
        "    break\n",
        "    \n",
        "for claim, sentences in false_claims_to_sentences.items():\n",
        "  print(\"False Claim: {} \\nRelated Sentences: {}\\n\".format(claim, sentences))\n",
        "  i += 1\n",
        "  if i % num_show == 0:\n",
        "    break\n",
        "    \n",
        "for claim, sentences in partly_true_claims_to_sentences.items():\n",
        "  print(\"Partly True Claim: {} \\nRelated Sentences: {}\\n\".format(claim, sentences))\n",
        "  i += 1\n",
        "  if i % num_show == 0:\n",
        "    break"
      ],
      "execution_count": 416,
      "outputs": [
        {
          "output_type": "stream",
          "text": [
            "True Claim: McDonald's has a burger filled with Nutella.\n",
            "\n",
            "\t\t\t\t\n",
            "\t\t\t\t\t\n",
            "\n",
            "\t\t\t\t\t\tSee Example(s)\n",
            "\n",
            "\t\t\t\t\t\t\n",
            "\t\t\t\t\t\t\t\n",
            "\t\t\t\t\t\t\t\t\n",
            "\t\t\t\t\t\t\t\t\tIs the nutella burger at mcdonalds real???\t\t\t\t\t\t\t\t\t\t\t\t\t\t\t\t\t\t\tCollected via e-mail, December 2016 \n",
            "Related Sentences: ['McDonald’s Unleashes Ungodly Nutella-Slathered Burger on Italy', 'Because nothing in this world is sacred — especially not fast food — McDonald’s unleashed its latest unholy experiment in processed calorie engineering on Italy this week', 'This time instead of drizzling carbohydrates with milk chocolate, the fast food giant is piping sliced bread full of chocolate-hazelnut spread to create what is essentially a Nutella “burger', '”', 'Dubbed the “Sweety with Nutella,” the chocolate sandwich is served as part of Italy’s McCafe menu according to Brand Eating and comes packaged in the traditional burger box', 'While it by all appearances looks like a burger from the outside complete with a brown patty-like stripe around the exterior, the Nutella sandwich is meat-free', 'The chocolate sandwich announcement quickly gained traction on social media, and has receive more than 60,000 shares', 'Some Nutella loving heathens in Italy have already made the journey to Mickey D’s for their dessert sandwich fix', 'So this just happened #nutellaburger #yumyum #notcominghome #italy A photo posted by Emma (@esims16) on Nov 12, 2016 at 2:44am PST', 'Experimentando o Nutella \"Burger\" ❤️ #italia #italy #nutella #burger #nutellaburger #mcdonalds A video posted by @dinospd on Nov 11, 2016 at 2:25pm PST', 'Europe’s love affair with Nutella is strong and has inspired the company to occasionally offer personalized jars of the beloved spread', 'Others have gone further in marking their Nutella turf by creating a special lock for the jars', '• McDonald’s Debuts New Nutella “Burger” in Italy [Brand Eating]', '• Ready or Not, McDonald’s Chocolate-Drizzled Fries Are Coming to Japan [E]', '• All Novelty Foods Coverage [E]', 'How To Make The Best Chocolate Babka At Home', 'MENU SFOGLIA SALATA', 'List updated on the 12/3/2012', 'Informations mises à jour au 12/03/2012', 'Les informations disponibles dans ce tableau ont été mises à jour à la date indiquée ci-dessus', 'Elles concernent les principaux produits disponibles dans les restaurants McDonald’s de France métropolitaine et de Monaco', 'A titre exceptionnel, il est possible que certains des produits figurant sur ce tableau soient suspendus temporairement', 'Un affichage spécifique en restaurant vous en informera', 'Ces informations concernent les 14 principaux ingrédients allergènes recensés par la directive européenne CE/2000/13 (dans sa version consolidée par la directive européenne CE/2007/68) à l’exception des ingrédients provisoirement exclus par cette réglementation (signalés par la mention « sauf…', '»)', 'Ces informations ont été établies à partir des données communiquées par nos fournisseurs sur la composition de leurs produits résultant des ingrédients volontairement incorporés', 'Cependant, pour chaque produit identifié dans ce tableau, outre la présence signalée d’un ingrédient allergène, nous ne pouvons pas exclure une présence accidentelle d’autres ingrédients allergènes qui serait intervenue lors de la fabrication de ces produits alimentaires chez nos fournisseurs ou lors de leur utilisation en restaurant', 'Il s’agit notamment pour ces derniers des éclats de cacahuètes utilisés en restaurant pour la confection des Sundae (desserts glacés à base de lait) et des graines de sésame présentes sur certains des pains spéciaux utilisés pour nos sandwiches', 'La composition des produits peut faire l’objet de modifications', 'Ainsi, les produits décrits dans ce tableau peuvent ne pas être strictement identiques à ceux servis en restaurant', 'Nous ferons nos meilleurs efforts pour mettre à jour cette rubrique, notamment dès que nous serons informés de la modification de la composition de l’un de ces produits']\n",
            "\n",
            "False Claim: Abortion rates drop during Democratic presidencies and rise during Republican administrations. \n",
            "Related Sentences: ['Abortion Incidence and Service Availability In the United States, 2011', 'CONCLUSIONS: The national abortion rate has resumed its decline, and no evidence was found that the overall drop in abortion incidence was related to the decrease in providers or to restrictions implemented between 2008 and 2011', 'RESULTS: In 2011, an estimated 1', '1 million abortions were performed in the United States; the abortion rate was 16', '9 per 1,000 women aged 15–44, representing a drop of 13% since 2008', 'The number of abortion providers declined 4%; the number of clinics dropped 1%', 'In 2011, 89% of counties had no clinics, and 38% of women of reproductive age lived in those counties', 'Early medication abortions accounted for a greater proportion of nonhospital abortions in 2011 (23%) than in 2008 (17%)', 'Of the 106 new abortion restrictions implemented during the study period, few or none appeared to be related to state-level patterns in abortion rates or number of providers', 'METHODS: In 2012–2013, all facilities known or expected to have provided abortion services in 2010 and 2011 were surveyed', 'Data on the number of abortions were combined with population data to estimate national and state-level abortion rates', 'Incidence of abortions was assessed by provider type and caseload', 'Information on state abortion regulations implemented between 2008 and 2011 was collected, and possible relationships with abortion rates and provider numbers were considered', 'An estimated 30% of U', 'S', 'women will have an abortion by age 45,1 and abortion incidence is one indicator of unintended pregnancy', 'In 2008, 51% of pregnancies were unintended, and 40% of these ended in abortion', '2 While one of the goals established in 2000 in Healthy People 2010 was to reduce the incidence of unintended pregnancy,3 progress has been elusive', 'Between 2001 and 2008, the unintended pregnancy rate increased from 49 to 54 pregnancies per 1,000 women aged 15–44, and the proportion of pregnancies that were unintended increased from 48% to 51%; the proportion of unintended pregnancies ending in abortion declined from 47% to 40%', '2 These patterns could represent increased difficulty in accessing abortion services', '2', 'In 2008, the most recent year for which we have complete abortion data, 1', '21 million abortions were performed', '4 This figure was notable because it was similar to that found for several preceding years, which suggested that the long-term decline in abortion had stalled', 'The abortion rate declined steadily from 1990 to 2005—from 27', '4 to 19', '4 abortions per 1,000 women aged 15–44—but leveled off between 2005 and 2008, when it was also 19', '4', '* The Centers for Disease Control and Prevention (CDC) compiles and publishes annual abortion statistics, and while its counts are incomplete (e', 'g', ', abortions in California are not included), the trends are often consistent with more complete abortion counts', '4,5 The most recent CDC abortion surveillance reports showed a 5% drop in the number and rate of abortions between 2008 and 2009,5 and a 3% decline between 2009 and 2010', '6', 'Changes in abortion rates, or lack thereof, may be influenced by a number of variables, including changes in sexual activity, the economy and the demographic profile of the population', 'Two well-monitored variables that may directly influence both the need for and the use of abortion services are contraceptive use and the availability of abortion services', 'The increased use of contraceptives, improvements in consistency of use and greater reliance on highly effective methods can reduce levels of unintended pregnancy', '7–9 According to an analysis of data from the 2006–2010 National Survey of Family Growth, long-acting reversible contraceptive (LARC) methods have begun to displace shorter term methods among women using contraceptives, especially those younger than 25, who are traditionally at high risk of unintended pregnancy', '7 Consequently, fewer unintended pregnancies and abortions may be occurring', 'A change in the number of abortion providers could affect access to abortion, and the number of facilities that offer abortions is one measure of service availability', 'The number of providers peaked in 1981 at approximately 2,900 facilities, and declined steadily to about 1,800 facilities in 2000', '10 Since then, the decline in provider numbers appears to have stalled, as slightly fewer than 1,800 facilities were identified in 2008', '4 However, a focus on the total number of facilities can obscure the dynamics of abortion access, as caseloads vary substantially by provider type', 'In 2008, hospitals accounted for 34% of abortion facilities, but they performed only 4% of abortions', 'By contrast, clinics accounted for 47% of facilities and 94% of procedures', 'Physicians’ offices represented 19% of facilities but provided only 1% of abortions', '4 Hence provider type, and the number of clinics in particular, may be a more important indicator of access than the total number of providers', 'Abortion restrictions can also reduce access to services and, in turn, abortion incidence', 'Many abortion laws, such as mandated counseling and waiting periods, are intended to discourage women from obtaining abortions, thereby reducing the “demand” for services', '11 To date, little evidence indicates that these demand-side laws have substantially reduced state abortion rates; the potential exceptions are 24-hour waiting periods that require two in-person visits12 and the elimination of state Medicaid funding of abortion services', '13 Legislators have also increased efforts to restrict the “supply” of abortion, typically through targeted regulation of abortion providers (TRAP) laws', 'TRAP laws place unnecessary and burdensome regulations on providers, typically by targeting clinics', 'For example, a handful of states have implemented, or attempted to implement, laws that require physicians at abortion clinics to have admitting privileges at local hospitals or that require clinics to meet the same requirements as surgical centers', 'Since 2008, a number of states have enacted a range of laws pertaining to abortion services,14–17 and these restrictions potentially made it more difficult for women to obtain abortions and for abortion facilities to provide services', '18', 'In the last decade, early medication abortion has played an important role in abortion care in the United States and developed the potential to influence service provision and availability', 'Mifepristone was introduced in late 2000, and by the first half of 2001, early medication abortions accounted for 6% of procedures', '19 The role of early medication abortions has continued to increase: Fourteen percent of nonhospital abortions were medication procedures in 2005,20 as were 17% in 2008', '4 The majority of these early procedures were provided by clinics that specialized in abortion services, but some physicians’ offices and nonspecialized clinics that are unable or unwilling to provide surgical procedures (e', 'g', ', because the latter require more equipment and training) now offer early medication abortions', 'Provision of this procedure at physicians’ offices increased substantially immediately after mifepristone was introduced, but quickly stabilized;21 the number of physicians’ offices offering this service decreased slightly between 2005 and 2008, though the number of nonspecialized clinics doing so increased', '4 In Iowa, early medication abortion provided via telemedicine appears to have made abortion more accessible to women living in rural areas:22 After this procedure became available through telemedicine, women were more likely to obtain a medication abortion and to obtain an abortion at an earlier gestation, even though the overall abortion rate in the state decreased', 'This study summarizes information from the Guttmacher Institute’s most recent Abortion Provider Census, and provides updated information about abortion incidence and facilities in the United States, focusing on changes between 2008 and 2011', 'It also considers abortion restrictions enacted during the study period, and discusses whether they may have affected state patterns in abortion incidence and access to services', 'METHODS', 'Survey Content and Fielding', 'Between April 2012 and May 2013, we surveyed the known universe of abortion providers in the United States', 'This was the 16th census of its kind since 1973, and the questionnaire was modeled on the instrument used in 2007 and 2008', '4 All respondents were asked the number of induced abortions that were performed in their facilities in 2010 and 2011,† and whether early medication abortions (defined as procedures at or before nine weeks’ gestation) were offered', 'Clinic and physician providers (but not hospital providers) were also asked about the number of early medication abortions performed, with separate items for mifepristone, methotrexate and misoprostol alone', 'Finally, clinic and physician providers were asked about the proportion of their services accounted for by abortions', 'We asked fewer questions of hospitals because hospital informants typically have access to less information about the specifics of abortion service provision', 'Information restricted to nonhospital facilities represents the experience of most women having abortions, since these providers performed 96% of all abortions in 2008', '4', 'Survey recipients included all providers known to have performed abortions in 2008, as well as possible new providers, which were identified via Internet searches, telephone directories, media articles and membership directories of organizations that work with abortion service providers', 'We mailed the first questionnaire to all potential abortion providers in April 2012 and sent two additional mailings at four-week intervals to those that had not responded to previous mailings', 'Intensive telephone follow-up of nonrespondents was carried out between June 2012 and June 2013,‡ with particular effort made to obtain the total number of abortions performed', 'During this phase of data collection, more than 7,800 contacts were made with approximately 1,200 \\xadproviders; these included some facilities that had closed, as former administrators are sometimes accessible', 'To supplement information received from providers, we obtained abortion incidence data from health department agencies in 45 states and the District of Columbia', 'States differ in reporting requirements, and data are often incomplete', 'However, when possible, we used the information to cross-check and validate information from providers, and it was sometimes used to make estimates for nonresponding providers', 'Of the 2,288 providers surveyed, 971 responded to the mailed questionnaire, and 251 responded during follow-up; health department data were used for 470 facilities', 'We determined that 71 facilities had closed or stopped offering abortion services during the survey period', 'For 51 facilities, we obtained estimates of the number of abortions performed from knowledgeable sources, including other providers of reproductive health services', 'We made our own estimates for the remaining 474 facilities, usually relying on prior abortion census results', 'If a provider had not previously participated in the census, we made estimates using informal data, such as information from the provider’s Web site and from telephone calls (e', 'g', ', days and hours of operation, gestations at which abortions were provided)', 'Notably, the number of facilities for which we had to generate estimates was higher than the number in 2008 (230)', 'Half of the 474 nonresponding facilities were hospitals, and one-quarter were physicians’ offices, and both types typically have small caseloads', 'After consulting providers’ Web sites, media reports of closures and mergers, and informants, we estimated that one-third of these facilities had not performed any abortions during the survey period', 'Of the abortions that we tallied for 2011, 86% were reported by providers, 4% came from health department data, 4% were estimated by knowledgeable sources and 6% were internal estimates', 'By comparison, in 2008, 82% of abortions were reported by providers, 9% came from health departments, 6% were estimated by informants and 3% were estimated internally', '4', 'State Laws', 'Between 2008 and 2011, a number of states enacted \\xadabortion-related laws', 'We provide a summary of these laws and explore their possible relationship with state-level patterns in abortion incidence', 'Information about state laws comes from the Guttmacher Institute', '14–17 We focus on laws that were actually implemented, and not ones currently being challenged in court, as the latter would not be expected to directly affect abortion incidence', '23 Similarly, laws that were struck down or whose implementation was temporarily enjoined are not included', 'Finally, we exclude implemented laws that pertain to abortion under health care exchanges, as these would not be expected to have any impact until 2014', 'We consider laws implemented in 2008–2010 separately from those implemented in 2011', 'While a record number of restrictions were passed in 2011,24 many were enacted in the second half of the year, and there is typically a lag of several months between the passage of a law and its implementation', 'Thus, we would not necessarily expect to see these restrictions affect abortion incidence in 2011', 'Laws that address similar aspects of abortion services are grouped together even when they differ in their specifics', 'For example, several states have implemented ultrasound requirements', 'Some of these laws require that providers display and describe the fetal image to women seeking abortions, while others require only that patients be offered the opportunity to view the ultrasound', '25 Unfortunately, it is beyond the scope of this analysis to make these more detailed distinctions', 'Analysis', 'We distinguish among four types of abortion-providing facilities: abortion clinics, nonspecialized clinics, hospitals and physicians’ offices', 'Abortion clinics are defined as nonhospital facilities in which half or more of patient visits are for abortion services', 'Nonspecialized clinics are sites in which fewer than half of patient visits are for abortion services; these include physicians’ offices that provide 400 or more abortions per year', 'Physicians’ offices are facilities that perform fewer than 400 abortions per year and have names suggesting that they are physicians’ private practices', 'We obtained some information on the provision of early medication abortion from 74% of nonhospital facilities', 'Because response rates varied by facility type and caseload, we constructed weights that accounted for these differences to be used in relevant analyses', 'Unless otherwise noted, all abortion data presented include both surgical and medication abortions', 'Census Bureau data on the population of women aged 15–44 for July 1, 2010, and July 1, 2011, were used as denominators for calculating abortion rates for the entire United States and for each state and the District of Columbia', '26 Updated population estimates, based on intercensal adjustments for the years 2001–2009, were used to revise abortion rates for those years', 'We estimated the national abortion ratio as the proportion of pregnancies (excluding those ending in miscarriages) that ended in abortion; to do this, we combined our abortion counts with National Center for Health Statistics data on the number of U', 'S', 'births in the one-year periods beginning on July 1 of 2010 and 2011 (to match conception times for births with those for abortions)', '27–29', 'RESULTS', 'Abortion Incidence', 'The number of abortions and the abortion rate declined steadily between 2008 and 2011—about 4–5% per year', 'In 2011, there were 1', '06 million abortions, and the abortion rate was 16', '9 per 1,000 women aged 15–44 (Table 1)', 'This is the lowest rate since 1973 (not shown)', 'In 2011, the abortion ratio was 21 procedures per 100 pregnancies (excluding miscarriages); by contrast, in 2008, the ratio was 23 per 100 pregnancies', 'The number of abortions and the abortion rate both decreased 13% between 2008 and 2011 (Table 2)', 'Declines in abortion rates were found in almost all states and the District of Columbia', 'Only six states—Alaska, Maryland, Montana, New Hampshire, West Virginia and Wyoming—experienced no change or an increase in abortion rates', 'Five rates declined by less than half the national decline of 13% (those in the District of Columbia, Hawaii, Massachusetts, Virginia and Wisconsin), while a similar number declined by at least 50% more than the national average (those in Delaware, Kansas, Missouri, Oklahoma, South Dakota and Utah)', 'The decline was particularly notable in Delaware, as this state had the highest abortion rate in the country in 2008', 'The highest abortion rates were in New York, Maryland, the District of Columbia, Delaware and New Jersey (27–34 abortions per 1,000 women); notably, Delaware, New Jersey and New York all saw substantial declines in their rates between 2008 and 2011', 'The five states with the lowest abortion rates were Wyoming, Mississippi, South Dakota, Kentucky and Missouri (1–5 abortions per 1,000 women)', 'Yet rates are based on state of occurrence; in 2009, substantial proportions of abortion patients who lived in South Dakota (26%) or Wyoming (more than 90%) went out of state to obtain an abortion', '5 Thus, the actual abortion rates for women who live in these states are likely higher', 'Abortion rates dropped in all four regions of the country, but the declines were steepest in the Midwest (17%) and the West (15%); the rate decline in the South (12%) was similar to the national decline, while the Northeast had a lower decrease (9%)', 'As in prior years, the Northeast maintained the highest abortion rate (25 abortions per 1,000 women), followed by the West, South and Midwest (19, 15 and 12 per 1,000, respectively)', 'Provider Type and Numbers', 'In 2011, a total of 1,720 providers performed at least one abortion (Table 3); slightly more than one-third performed fewer than 30 abortions, while one in five had caseloads of 1,000 or more abortion patients', 'About half of all facilities were clinics', 'Abortion clinics—where at least 50% of patient visits are for abortion services— accounted for 19% of all providers', 'The majority had caseloads of 1,000 or more per year, and these sites accounted for 63% of abortions', 'By comparison, in 2008 there were 49 more abortion clinics, and these facilities performed 70% of abortions', '4', 'Nonspecialized clinics represented 30% of known abortion providers', 'Many of these clinics focus on contraceptive and family planning services, though almost half performed 400 or more procedures per year', 'These facilities accounted for 31% of abortions', 'In 2008, some 37 fewer nonspecialized clinics were identified, and these clinics performed 24% of abortions', '4', 'More than one-third of abortion providers were hospitals, two-thirds of which performed fewer than 30 abortions per year; hospitals accounted for 4% of all abortions', 'Finally, physicians’ offices represented 17% of abortion facilities, but only 1% of procedures were performed at these sites', 'The total number of abortion providers declined 4% between 2008 and 2011 (Table 4)', 'The number declined in 21 states, remained stable in 20 and increased in nine states plus the District of Columbia', 'Given the important role of clinics in providing access to abortion care, we examined state-level changes in the numbers of these facilities (specialized and nonspecialized combined)', 'The decline in clinics, 1% between 2008 and 2011, was less pronounced than that for all facilities', 'Sixteen states and the District of Columbia had an increase, 15 saw no change and 19 had declines', 'Proportionately, clinic increases were greatest in Alaska, Iowa, Nebraska, Nevada and Utah; in three of these states, the number of clinics increased by one, though the number in Iowa increased by seven and in Nevada by two', 'The five states with the steepest proportionate declines in clinics were Arkansas, Idaho, Kansas, Oklahoma and Vermont', 'While these states lost only one clinic each, they had few to begin with, so the loss of even one may have affected access to services', 'Indeed, the closure of a clinic may have contributed to the larger-than-average declines in abortion incidence in Kansas and Oklahoma', 'In 2011, three states (Mississippi, North Dakota and South Dakota) had only one clinic, and one state (Wyoming) had none', 'The Midwest was the only region that had more clinics in 2011 than in 2008 (an 8% increase)', 'Most of the increase occurred in Iowa, where the number of clinics rose 70%, from 10 to 17', 'Illinois, Indiana, Minnesota and Nebraska also had more clinics in 2011 than in 2008, though the level of change was smaller', 'The Northeast experienced the largest proportionate decrease (7%), having 15 fewer clinics in 2011; New York accounted for more than half of this drop', 'In 2011, 89% of counties had no clinic (abortion or nonspecialized), and 38% of women aged 15–44 lived in those counties', 'These proportions are essentially unchanged from the 2008 figures, which referred to counties with any abortion provider, as most hospitals and physicians’ offices that provide abortion care are located in counties that have one or more clinics', 'Access appeared to be best in the District of Columbia and in California, Connecticut, Hawaii, Massachusetts and Nevada, where 10% or fewer of women lived in a county without a clinic', 'All, or almost all, women residing in Mississippi, West Virginia and Wyoming lived in a county without a clinic', 'Early Medication Abortion', 'For 2011, we estimated that 239,400 early medication abortions were performed (Table 5), 20% more than in 2008', 'These procedures accounted for 23% of all nonhospital abortions, up from 17% in 2008', 'Most providers who offer early medication abortion do so through nine weeks’ gestation on the basis of its demonstrated safety and efficacy,30,31 and this was the gestational limit defined in the survey instrument', 'Using gestational data from the CDC,5 we estimated that 36% of abortions up to nine weeks’ gestation in 2011 were early medication procedures (not shown); the proportion in 2008 was 26%', '4 Virtually all early medication abortions (98%) were done with mifepristone, and the rest with methotrexate or misoprostol alone (not shown)', 'The number of early medication abortions increased across provider types and caseloads except providers that performed fewer than 30 abortions per year', 'While nonspecialized clinics accounted for 31% of all abortions, they accounted for 46% of early medication abortions; abortion clinics provided 52% of these procedures', 'We estimated that 1,023 facilities, or 59% of abortion providers, performed early medication abortions in 2011 (not shown)', 'The overwhelming majority of both abortion and other clinics (90–91%) offered this service', 'A minimum of 193 facilities, or 17% of all nonhospital providers, offered only early medication abortions; these facilities were concentrated in the nonspecialized clinic category and accounted for 31% of this group', 'Most facilities that offered only this abortion service were located in areas that were also served by providers of surgical abortions, though 18 were the sole abortion provider in their metropolitan area', 'New Abortion Laws', 'Between 2008 and 2010, some 18 states implemented 44 laws pertaining to abortion (Table 6)', 'Most of these states were in the Midwest and the South; the exceptions were Arizona, Idaho and Utah', 'Many of the laws would not be expected to have a measurable impact on abortion incidence', 'For example, three of the four states with new counseling laws—Missouri, North Dakota and Utah—simply added new information to existing counseling requirements', 'Similarly, because the overwhelming majority of abortions occur in the first trimester,5 bans and limits on later abortions implemented in Arizona, Arkansas, Nebraska and Utah would likely have little effect on abortion incidence', 'A few states adopted restrictions that may have affected access to abortion services', 'For example, in 2009 Missouri implemented a law that required women to make an in-person visit for counseling at least 24 hours prior to an abortion', 'That state’s abortion rate dropped 17% between 2008 and 2010, possibly reflecting, at least in part, that fewer women could make the additional visit', 'The closure of even one facility that is unable to meet TRAP regulations has the potential to affect several hundred, or even several thousand, women', '11 In 2010, Louisiana enacted a statute granting the health secretary the sole ability to shut down an abortion-providing facility for any reason,32 and the law resulted in the temporary closure of one or more clinics', '33 While the number of facilities in the state did not change between 2008 and 2011, the disruption in services may have contributed to the 19% decline in abortion incidence', 'This decline is all the more notable given the substantial increase in the abortion rate (38%) that occurred between 2005 and 2008', '4', 'It is crucial to note that abortion rates decreased by larger-than-average amounts in several states that did not implement any new restrictions between 2008 and 2010, such as Illinois (18%) and Oregon (15%)', 'So, even in states like Louisiana and Missouri, we cannot assume that the new restrictions were responsible for the decline in abortion incidence', 'In 2011, 62 new abortion regulations were implemented in 21 states', 'The most common regulation, implemented in seven states, was a new or amended abortion reporting requirement', 'These states already mandated that abortions be reported to the health department, and the new laws required one or two new pieces of information', 'North Carolina implemented a new abortion counseling law and a 24-hour waiting period', 'Most of the decline in the state’s abortion rate occurred between 2010 and 2011 (13%), while a modest dip was seen between 2008 and 2010 (2%)', 'However, since the new requirements did not go into effect until October of 2011,34 it is unlikely that these restrictions account for most of the decline in abortion incidence', 'The TRAP laws implemented in Indiana, Kansas, Louisiana, Texas and Virginia included either requirements that physicians who provide abortions have a relationship with a hospital or new regulations for clinics (typically requiring them to meet the standards of hospitals or surgical centers)', '17 In many cases, the laws were implemented late enough in the year or in such a way that they would not be expected to have reduced access to services during the study period', 'DISCUSSION', 'The national abortion rate appears to have resumed its long-term decline', 'After dropping steadily between 1990 and 2005, the rate stabilized, with slight fluctuations, between 2005 and 2008', 'We found that both the abortion number and the abortion rate declined by 13% between 2008 and 2011', 'The drop in abortion occurred in all but six states, though substantial variation was seen across states', 'It is beyond the scope of this study to assess the dynamics responsible for these patterns, but we suggest several possible factors, many of which may be suitable for future analyses', 'Abortion incidence is inherently affected by service availability', 'The total number of abortion providers declined by 4% since 2008, while the number of clinics offering abortion declined by just 1%', 'Although the loss of even one clinic can have a measurable and substantial impact on service availability in some states, the scale of the decline in providers does not appear to account for the considerable drop in abortion incidence nationally', 'Forty-four laws intended to restrict access to abortion were implemented in 18 states between 2008 and 2010; an additional 62 were implemented in 2011 in 21 states', 'Some of these laws, such as those that added information to existing counseling requirements, would not necessarily be expected to have a measurable impact', 'In turn, we found no indication that they affected state-specific trends in abortion incidence', 'A few, such as regulations for in-\\xadperson counseling and a 24-hour waiting period in Missouri, may have posed a barrier to service for some women, and TRAP laws like the one implemented in Louisiana may have disrupted clinic services, thereby reducing abortion incidence', 'However, while most of the new laws were enacted in states in the Midwest and the South, abortion incidence declined in all regions, and the number of clinics fell only in the Northeast and the West', 'Finally, a number of states that did not enact any new abortion restrictions and that are generally supportive of abortion rights—for example, by allowing state Medicaid funds to pay for abortions for eligible women—experienced declines in their abortion rates comparable to, and sometimes greater than, the national decline (e', 'g', ', California, New Jersey and New York)', 'That these states also experienced a slight drop in the number of clinics offering abortion services may reflect a decline in demand as opposed to the imposition of legal barriers', 'More broadly, it is possible that fewer women experienced unintended pregnancies in 2011 than in 2008, and one factor could be the uptake of more effective contraceptive methods', 'While little improvement in contraceptive nonuse among all women at risk of unintended pregnancy has been seen in recent years,7,35,36 some evidence suggests improvement among younger women', 'Between 2007 and 2009, the level of nonuse among women younger than 30 decreased from 15% to 12% (a statistically significant change)', '7 In addition, substantial shifts in the contraceptive method mix away from less effective methods have been observed, particularly toward uptake of LARC methods, such as the IUD', 'In 2002, only 2% of contraceptive users were relying on LARC methods, but this proportion rose to 9% in 2009', '7 If LARC use continued to increase \\xadduring the study period, this could help explain the national decline in abortion incidence', 'Use of these methods has increased among all subgroups, including young adults and lower income women, who are at highest risk of unintended pregnancy', '7 LARC methods are more than 99% effective at preventing pregnancy, last 3–12 years and, unlike methods such as the pill, leave little to no room for user error', '8,37 Thus, even small increases in LARC use could affect \\xadabortion rates', 'Unintended pregnancy and abortion are more common among low-income women than among women with higher incomes,1,38 and the former population may have a harder time accessing contraception, particularly the most effective methods', 'More women were in need of publicly funded family planning services in 2010 than in 2006 (19', '1 million vs', '17', '5 million), but fewer received these services (8', '9 million vs', '9', '4 million)', '39 However, the estimated number of unintended pregnancies averted by federally funded family planning programs increased 15% over this period (from 1', '9 million to 2', '2 million)', '39 One explanation for the increased impact of these programs is that more women were using long-acting methods; LARC use among women accessing publicly funded \\xadcontraceptive services increased from 4% to 11% in this period, and reliance on condoms or \\xadnonprescription methods fell from 25% to 17%', '39 Compared with all women of reproductive age, those who rely on publicly funded family planning services tend to be younger and, by default, have lower income', '39 Increased LARC use among this population may have had a disproportionate impact on the abortion rate', 'Macro-level factors also may have contributed to the decline in abortion', 'The U', 'S', 'birthrate decreased 9% between 2008 and 2011,26,40 and as found with abortion rates, this drop was seen in nearly all states', 'Taken together with the 13% decline in the national abortion rate, this means that substantially fewer women got pregnant in 2011 than in 2008', 'One common factor—the economy—may have played a role', 'The official start and end dates of the most recent U', 'S', 'recession were December 2007 and June 2009,41 but it is widely acknowledged that the recovery period through 2011 was quite sluggish', '42 Women and couples facing economic uncertainty may have been particularly motivated to postpone, or even forgo, childbearing', 'In support of this argument, studies have found that trends in unemployment between 2007 and 2009 were accompanied by a drop in the fertility rate43 and, more specifically, that states that experienced greater economic distress had larger birthrate declines during this period', '44 These findings are substantiated by a national survey of women conducted in 2009, which found that 44% wanted to delay or limit childbearing because of the economy; this sentiment was more common among women with lower incomes (52%)', '45 Presumably, then, more women and couples were making conscious decisions to avoid pregnancy and so resumed or continued using contraceptives', 'This strategy would be expected to have a bigger impact on the rate of intended pregnancies than on the abortion rate, but could also have averted the 5% of abortions that followed intended pregnancies', '46 Furthermore, while the majority of women want to avoid pregnancy, multiple studies have found that approximately one in five are ambivalent,47,48 and that pregnancy ambivalence is associated with inconsistent contraceptive use', '47,49,50 During a period of prolonged economic uncertainty, women and couples may be more resistant to an “accidental” or “surprise” pregnancy, and hence more consistent in their contraceptive use', 'This would lead to fewer pregnancies that likely would have been classified as unintended', 'Reliance on early medication abortion increased substantially over the study period', 'Even though fewer abortions were performed in 2011 than in 2008, the number of early medication abortions increased 20%', 'More than one in five nonhospital abortions in the United States were early medication procedures, and we estimated that they accounted for more than one-third of all abortions obtained up to nine weeks’ gestation', 'Shifts in provider types have likely contributed to this pattern', 'In 2000, nonspecialized clinics accounted for 21% of abortion facilities and 23% of abortions;19 by 2011, these figures had increased to 30% and 31%, respectively', 'These facilities accounted for a \\xaddisproportionate share of early medication abortions in 2011 (46%), and approximately one-third of these providers offer only this procedure', 'Limitations', 'We are aware of several limitations of our study', 'Undoubtedly, some abortion providers were not counted because we were unable to identify them, and the issue of undercounting abortions has potentially become more pronounced over the last decade because of the use of early medication abortion', 'For the 2005 and 2008 Abortion Provider Censuses, the distributor of mifepristone mailed the questionnaire to its clients on our behalf', 'We did not pursue this strategy for the current survey, as relatively few new providers had been identified in this way, and the cost of the additional mailing did not warrant the extra effort', 'However, given the increasing popularity of mifepristone, it is possible that a growing number of small providers are offering this service and were not captured in our study', 'While this omission might have influenced statistics related to the total number of providers, it is less likely to have affected overall abortion counts', 'Facilities with larger caseloads are more easily identified because they are typically known by other providers in their communities and advertise on the Internet and in the yellow pages', 'As additional reassurance, our total count of early medication abortions using mifepristone was comparable to the distributor’s estimate based on sales, and our estimate of the number of providers offering this procedure was 98% of the total counted by the distributor', '51', 'Although intense efforts were made to obtain data from all known abortion providers, we had to make informed estimates for some facilities', 'We obtained direct information from a lower proportion of providers than in the 2008 census, and thus had to rely on more estimates', 'Most providers we were unable to obtain data from, such as physicians’ offices and hospitals, had smaller caseloads', 'Furthermore, 86% of abortions estimated to have occurred in 2011 were reported to us directly by the providers, compared with 82% in 2008', 'Still, if we substantially underestimated caseloads for the 474 facilities for which abortion procedures were generated, the actual number of abortions would be higher than our count', 'Another development may have resulted in an undercount of abortions', 'The drug misoprostol is part of the early medication abortion regimen and is typically taken 24–72 hours after mifepristone', 'However, it can also be used alone to terminate a pregnancy, and while it is less effective than the combined regimen, clinical studies have shown that misoprostol alone can successfully terminate a pregnancy 76–90% of the time', '52–54 Misoprostol is available only by prescription in the United States, but can be obtained “behind the counter” in some countries, including Mexico', 'Over the last decade, anecdotal and media reports suggest that some U', 'S', 'women procure the drug—from contacts living in countries where it is available without a \\xadprescription, from the black market and through the Internet—and use it to terminate their pregnancies', '55,56 Two studies conducted more than five years ago, one among abortion patients and one among women obtaining family planning or general health care, found that very few women had ever used misoprostol to terminate a pregnancy', '55,57 However, in the context of increasing abortion restrictions, rising economic vulnerability and growing awareness of misoprostol, more women may be successfully procuring and using this drug to terminate their pregnancies outside clinical settings', 'If this was the case, our estimate of the number of abortions is artificially low, and the actual drop in the abortion rate was not as large as it appears', 'Finally, our abortion counts and rates are by state of occurrence', 'While most women obtain abortions in the state in which they reside, in at least two states (Mississippi and Wyoming) the majority of residents in need of abortion care go out of state for it;5 in other states, a sizable proportion of abortions are performed on women who come from neighboring states to access services', '5 Thus, the abortion numbers and rates in this study do not always reflect abortion incidence for women who reside in a given state', 'Conclusions', 'Substantially fewer pregnancies, births and abortions occurred in 2011 than in 2008', 'Unintended birth and pregnancy rates for 2011 are not yet available, but these probably declined as well; given the substantial decline in births, it is unlikely that most of the decline in the abortion rate is due to women’s having more unintended births', 'Some improvements in contraceptive use occurred during the study period', 'If fewer women were experiencing unintended pregnancies because they were using more effective methods, or were using methods more consistently, this would suggest that—after a decade of stalled progress—the United States has made headway in the public health goal of reducing the rate of unintended pregnancy', '58', 'Finally, although we found no evidence that new abortion restrictions affected abortion incidence or services at the national level during the study period, this does not mean these laws are not problematic', 'Some of the new regulations undoubtedly made it more difficult, and costly, for facilities to continue to provide services and for women to access them', 'Regardless of any measurable impact on incidence or services, increased regulation of abortion contributes to the stigmatization of abortion and of the women who obtain one,59–61 and can create a climate of fear and hostility even in states where such regulations are not imposed', 'Because state legislatures continued to debate and enact more restrictive abortion measures throughout 2011, 2012 and 2013, future research will need to examine whether and to what extent these laws affect abortion incidence and access to services', 'Footnotes', '*The prior published figure for 2008 was 19', '6 abortions per 1,000 women', '4 Earlier population figures were adjusted when the 2010 census was released, resulting in a slightly lower rate', '†Because data were collected from providers, figures represent incidence according to the state in which abortions were performed, not abortion patients’ state of residence', '‡This process was interrupted following Hurricane Sandy in October 2012, when all project staff were displaced from their office', 'After a two-week hiatus, they continued follow-up from a temporary location for the next six weeks', 'However, because telephone and fax numbers changed over this period, it is possible that some surveys were not received', 'Laws Affecting Reproductive Health and Rights: 2013 State Policy Review', 'by Elizabeth Nash, Rachel Benson Gold, Andrea Rowan, Gwendolyn Rathbun and Yana Vierboom', 'Reproductive health and rights were once again the subject of extensive debate in state capitols in 2013', 'Over the course of the year, 39 states enacted 141 provisions related to reproductive health and rights', 'Half of these new provisions, 70 in 22 states, sought to restrict access to abortion services', 'In sharp contrast to this barrage of abortion restrictions, a handful of states adopted measures designed to expand access to reproductive health services', 'Most notably, California enacted the first new state law in more than seven years designed to expand access to abortion, and five states adopted measures to expand access to comprehensive sex education, facilitate access to emergency contraception for women who have been sexually assaulted and enable patients’ partners to obtain STI treatment', 'Abortion', 'Twenty-two states enacted 70 abortion restrictions during 2013', 'This makes 2013 second only to 2011 in the number of new abortion restrictions enacted in a single year', 'To put recent trends in even sharper relief, 205 abortion restrictions were enacted over the past three years (2011–2013), but just 189 were enacted during the entire previous decade (2001–2010)', 'Forty-five percent of the abortion restrictions enacted over the last three years fall into four categories: targeted restrictions on abortion providers (TRAP), limitations on insurance coverage of abortion, bans on abortions at 20 weeks postfertilization (the equivalent of 22 weeks after a woman’s last menstrual period) and limitations on medication abortion', 'States enacted 93 measures in these four categories from 2011 through 2013, compared with 22 during the previous decade', 'The number of new abortion restrictions ballooned from 43 enacted in 2012 to 70 in 2013', 'Four states were key to this increase', 'North Dakota and Texas, which did not have legislative sessions in 2012, together enacted 13 restrictions in 2013', 'In addition, the 2012 elections brought changes to the legislature in Arkansas and the governor’s mansion in North Carolina that created environments more hostile to abortion; after adopting no abortion restrictions in 2012, these two states together enacted 13 new restrictions in 2013', 'This legislative onslaught has dramatically changed the landscape for women needing abortion', 'In 2000, the two states that were the most restrictive in the nation, Mississippi and Utah, had five of 10 major types of abortion restrictions in effect (see Appendix)', 'By 2013, however, 22 states had five or more restrictions, and Louisiana had 10', 'In 2000, 13 states had at least four types of major abortion restrictions and so were considered hostile to abortion rights (see Troubling Trend: More States Hostile to Abortion Rights as Middle Ground Shrinks); 27 states fell into this category by 2013', 'In contrast, the number of states supportive of abortion rights fell from 17 to 13, while the number of middle-ground states was cut in half, from 20 to 10', 'The proportion of women living in restrictive states went from 31% to 56%, while the proportion living in supportive states fell from 40% to 31% over the same period', 'Against this backdrop, it is particularly noteworthy that California moved to significantly improve access to early abortion services by expanding the types of providers permitted to perform either medication or surgical abortions', 'Legislation enacted in September allows physician assistants, certified nurse midwives and nurse practitioners to provide abortions during the first trimester', 'Thirty-nine states limit the provision of abortion services to licensed physicians (see Overview of Abortion Laws)', 'Also this year, Colorado repealed its pre-Roe abortion law', 'Although these measures are not enforced, 12 states continue to have pre-Roe laws on the books (see Abortion Policy in the Absence of Roe)', 'Despite this progress, the overwhelming preponderance of legislation concerning abortion was aimed at restricting access to the procedure', 'Four types of restrictions dominated the legislative scene during 2013: abortion bans, restrictions on abortion providers, limitations on the provision of medication abortion and restrictions on coverage of abortion in private health plans', 'Together, legislation in these four categories accounted for 56% of all restrictions enacted over the year', 'Bans on Abortion', 'Overtly flouting the standard established by Roe v', 'Wade, two states enacted laws banning abortion early in pregnancy', 'In March, the Arkansas legislature overrode a veto by Gov', 'Mike Beebe (D) to ban abortions occurring more than 12 weeks after a woman’s last menstrual period', 'Later that month, North Dakota enacted a ban on abortions occurring after a fetal heartbeat is detected, something that generally occurs at about six weeks after a woman’s last menstrual period', 'Legal challenges were quickly filed to both measures and enforcement is blocked while litigation proceeds', 'Additionally, the North Dakota legislature also approved an initiative that will be placed on the November 2014 ballot to ban abortion entirely by defining a person as a “human being at any stage of development', '” Currently, no state has a law in effect prohibiting abortions early in pregnancy (see Abortion Policy in the Absence of Roe)', 'Antiabortion legislators in 11 states introduced measures aimed at banning abortion later in pregnancy based on the spurious belief that a fetus can feel pain at that point of development, and three new laws were enacted in Arkansas, North Dakota and Texas', 'These laws ban nearly all abortions performed at or beyond 20 weeks postfertilization (the equivalent of 22 weeks after the woman’s last menstrual period)', 'All three have gone into effect, bringing to nine the number of states with a 20-week ban in effect (see State Policies on Later Abortions )', '(A similar 20-week ban was passed by the U', 'S', 'House of Representatives in June; although introduced in the Senate late in the year, the measure was not voted on', ')', 'Targeted Regulation of Abortion Providers (TRAP)', 'Eight states enacted onerous and irrelevant licensing requirements targeting abortion clinics and providers in 2013', 'These laws are designed to discourage medical professionals from providing abortion and make it impossible for clinics to remain open (see TRAP Laws Gain Political Traction While Abortion Clinics—and the Women They Serve—Pay the Price)', 'Most often, these restrictions require abortion providers to have admitting privileges at a local hospital, mandate transfer agreements with hospitals or impose onerous structural requirements on clinics', 'Four states (Alabama, North Dakota, Texas and Wisconsin) enacted laws that require providers to have admitting privileges at a local hospital', 'These measures effectively give hospitals veto power over clinics’ ability to provide services', 'All four were immediately challenged in court; enforcement of the Alabama, North Dakota and Wisconsin laws was temporarily blocked, but the U', 'S', 'Supreme Court cleared the way for implementation of the Texas requirement as the litigation proceeds', 'Nine states now have laws requiring abortion providers to have hospital privileges; four are in effect (see State Policies on Targeted Regulation of Abortion Providers)', 'Ohio has long required abortion providers to have an agreement with a hospital allowing the transfer of patients needing emergency care', 'In June, the state adopted a new provision prohibiting public hospitals from entering into these transfer agreements', 'Including Ohio, nine states require abortion providers to have transfer agreements, measures that do little to add to existing patient safeguards in the event of an emergency', 'Over the course of 2013, five states implemented new structural standards for abortion providers', 'North Carolina and Texas enacted measures requiring abortion clinics to meet essentially the same standards required for comprehensive ambulatory surgical centers (ASCs) that provide more invasive and risky procedures and use higher levels of anesthesia', 'Alabama adopted somewhat more limited requirements relating to emergency care and fire safety', 'Virginia, meanwhile, finalized regulations to implement its 2011 TRAP law', 'Finally, Indiana, which had already required sites where surgical abortion was performed to adhere to standards similar to those for ASCs, extended these requirements to apply to sites where only medication abortion is performed', 'Including these new requirements, 26 states now require abortion facilities to essentially meet ASC standards', 'Medication Abortion', 'Seventeen states have adopted restrictions on medication abortion over the last three years— making it one of the most frequent targets of abortion opponents (see Medication Abortion Restrictions Burden Women and Providers—and Threaten U', 'S', 'Trend Toward Very Early Abortion)', 'In 2013 alone, eight states moved to ban the use of telemedicine in administering the medication, despite the fact that telemedicine is rapidly gaining acceptance as a way to expand access to health care', 'Over the course of the year, seven states (Alabama, Indiana, Louisiana, Mississippi, Missouri, North Carolina and Texas) enacted laws effectively banning the use of telemedicine for medication abortion', 'In addition, the Iowa Board of Medicine adopted regulations prohibiting the use of telemedicine for medication abortion', 'Over the course of the year, courts blocked enforcement of the Iowa regulations, as well as earlier laws that had been enacted in North Dakota and Wisconsin', 'As of December, 14 states have measures in effect blocking the use of telemedicine to provide medication abortion (see State Policies on Medication Abortion)', 'The second way states have moved to restrict access to medication abortion is by requiring use of an outdated protocol that mandates a high dose of the medicine (in contrast to a widely used evidence-based protocol that permits a lower dose), prohibits its use after 49 days of pregnancy and requires the woman to make an extra trip to the clinic', 'In 2013, Texas adopted a variation on this approach by permitting use of the lower dose but retaining the two other limitations', 'The state joins Ohio in requiring use of the outdated protocol', 'Finally, Oklahoma adopted a law in 2010 designed to ban medication abortion entirely', 'In 2012, the state’s supreme court overturned the law and in November, the U', 'S', 'Supreme Court declined to take the case', 'As a result, the ban is not in effect', 'Private Insurance Coverage of Abortion', 'States adopted three types of restrictions on insurance coverage of abortion', 'Michigan’s new measure is the most expansive of those enacted in 2013, it prohibits abortion coverage in private health plans except when the woman’s life is endangered', 'This brings to nine the number of states with restrictions that apply to all private health plans (see State Policies on Restricting Insurance Coverage of Abortion)', 'The Michigan provisions also specifically prohibit plans participating in the health exchange from providing coverage beyond situations when the woman’s life is endangered', 'Three other states (Arkansas, North Carolina and Pennsylvania) also enacted provisions that greatly restrict abortion coverage in the health exchanges established under the Affordable Care Act and only allow coverage in cases of life endangerment, rape and incest', 'Additional abortion coverage in Arkansas, Michigan and Pennsylvania is available only through the purchase of a separate rider at an additional cost', 'Including these four states, 24 states have banned abortion coverage in health exchanges', 'North Carolina enacted a measure prohibiting health plans for county or municipal employees from covering abortion except in cases of life endangerment, rape or incest', 'The Georgia Board of Community Health approved a health plan for state employees that will not cover abortion except in cases of life endangerment', 'Nineteen states now limit abortion coverage for state employees', 'Other Major Abortion Restrictions', 'States adopted a wide range of other major abortion restrictions in 2013', 'Parental Involvement', 'Three states enacted provisions designed to make it more difficult for minors to obtain abortions without parental involvement', 'Arkansas enacted a measure that makes it a crime to assist a minor in obtaining an abortion without parental consent, even if the procedure is performed in a state where parental involvement is not required', 'Montana Gov', 'Steve Bullock (D) allowed a parental consent requirement to go into effect without his signature; enforcement of the law is blocked pending a legal challenge', 'Oklahoma, which has long required parental consent and notification, adopted a measure that made the process for complying with the law more cumbersome by adding requirements such as documentation from parents proving parenthood', 'Finally, the Illinois Supreme Court cleared the way for the state’s 1995 parental notice law to go into effect, bringing the number of states requiring parental involvement before a minor receives an abortion to 39 (see State Policies on Parental Involvement in Minors’ Abortions)', 'Public Funding for Abortion', 'Iowa continued its policy of paying for abortions only in cases of life endangerment, rape, incest and fetal impairment', 'However, the state now requires the governor’s office to approve all instances where reimbursement is provided', 'Most states pay for abortion only in cases of life endangerment, rape or incest; Iowa is one of six states with a slightly broader standard see State Policies on State Funding of Abortion Under Medicaid)', 'Seventeen states pay for all or most medically necessary abortions for low-income women (see Insurance Coverage of Abortion: Beyond the Exceptions for Life Endangerment, Rape and Incest)', 'Waiting Periods', 'South Dakota effectively extended its 72-hour waiting period by declaring that weekends and holidays could not be counted toward the requirement; this could extend the waiting period to a maximum of six days in some cases, giving the state the most restrictive waiting period requirement of the 26 such requirements in the country (see State Policies on Counseling and Waiting Periods)', 'Counseling', 'Ohio and Kansas expanded their existing counseling requirements', 'Ohio moved to require providers to test for a fetal heartbeat at least 24 hours before an abortion and inform the woman of the “statistical probability” of carrying the pregnancy to term if a fetal heartbeat is detected', 'Kansas enacted a measure requiring that abortion counseling materials include information on fetal pain, the risk of breast cancer and premature birth; the measure also delineates the exact text for written counseling materials (see State Policies on Counseling and Waiting Periods)', 'Ultrasound', 'Wisconsin and Indiana both adopted measures that require women to undergo an ultrasound prior to obtaining an abortion and listen to a detailed description of the image; the provider must offer her the option to view the image and listen to the heartbeat', 'Twenty-two states now regulate the provision of ultrasound by abortion providers (see State Policies on Requirements for Ultrasound)', 'Sex Selection and Genetic Impairment', 'Kansas, North Carolina and North Dakota enacted provisions criminalizing abortion for the purposes of sex selection', 'The North Dakota measure also prohibits the provision of an abortion because the fetus has been “diagnosed with either a genetic abnormality or the potential for a genetic abnormality', '” This brings to six the number of states that ban abortion for purposes of sex selection, in line with a recent push by abortion opponents both in the U', 'S', 'and internationally (see A Problem-and-Solution Mismatch: Son Preference and Sex-Selective Abortion Bans)', 'Withholding Information', 'Kansas and Montana enacted laws that shield medical professionals from liability for withholding information that may have resulted in a woman obtaining an abortion', 'State Employees', 'Kansas enacted a measure prohibiting state employees from participating in or facilitating abortions unless the procedure is performed outside of normal working hours at a facility not funded or operated by the state', 'Refusal', 'A new law adopted in North Carolina allows any health care facility to refuse to provide abortion services; the previous law had allowed only hospitals to refuse', 'The law also expands the types of medical providers who may refuse to participate in an abortion to include professionals such as pharmacists, counselors and social workers, or their employees; previous law had applied only to physicians and nurses (see Refusing to Provide Health Services)', 'Family Planning', 'Twenty states enacted measures relating to access to family planning services in 2013, including measures that set funding levels, determine the types of providers eligible for funding and affect access to emergency contraception', 'Family Planning Programs', 'Of the 17 states that passed budgets with line items for family planning funding, only Maine cut funding drastically; following on the heels of a 25% cut in 2012, the state slashed funds by an additional 33% in 2013', 'In contrast, New Hampshire reversed the 57% cut to family planning funding that had been adopted in 2011, restoring funds to their previous level', 'A similar attempt to reverse funding cuts in New Jersey came up short when Gov', 'Chris Christie (R) vetoed family planning funding for the fifth time', 'Although family planning funding remained relatively stable in 2013, attempts to restrict family planning providers’ eligibility for state and federal funds continued apace', 'A new tiered system for determining priority for state and federal family planning funds in Ohio puts family planning providers at the bottom of a long list', 'A similar system in Oklahoma excludes specialized family planning providers not affiliated with health departments from receiving funds', 'Colorado, Kansas, Michigan and Texas re-enacted their existing restrictions, although the measure in Kansas is blocked due to a legal challenge', 'At year’s end 10 states have abortion-related restrictions on family planning providers (see State Family Planning Funding Restrictions)', 'Federal courts blocked measures enacted in Arizona and Indiana that would have excluded family planning providers who have any association with abortion services from being able to participate in the massive Medicaid program, citing that Medicaid patients have the right to seek treatment from the Medicaid provider of their choice (see Besieged Family Planning Network Plays Pivotal Role)', 'These injunctions cleared the way for abortion providers in Arizona and Indiana to be reimbursed for the family planning services they provide to Medicaid enrollees', 'In sharp contrast, Texas abolished its longstanding and successful federal-state family planning expansion after being told by the federal Centers for Medicare and Medicaid services that it was impermissible for the state to exclude providers who had some association with abortion', 'The state replaced it with a much smaller and entirely state-funded program (see State Medicaid Family Planning Eligibility Expansions)', 'Emergency Contraception', 'Hawaii enacted a new law requiring that a woman who has been sexually assaulted receive medically accurate and unbiased information on emergency contraception from the hospital treating her injuries', 'The law also requires the hospital to dispense the medication when requested by the woman', 'Hawaii is the 18th state to provide protections to women who have been sexually assaulted (see Emergency Contraception)', 'However, two states moved to restrict access to emergency contraception', 'In May, Oklahoma enacted a measure that would have required a minor younger than 17 to obtain a prescription to access the medication, despite the fact that the federal Food and Drug Administration ruled that minors of any age may obtain emergency contraception without a prescription; in August, a state court temporarily blocked enforcement of the measure', 'Also in 2013, Missouri passed a measure prohibiting the state from requiring pharmacies to carry prescription or nonprescription drugs or devices, including contraceptives, such as emergency contraception', 'Sexually Transmitted Infections', 'In 2013, Hawaii, Nebraska and Vermont expanded access to treatment for STIs', 'Hawaii and Nebraska enacted provisions allowing health care practitioners to prescribe or dispense prescriptions for gonorrhea or chlamydia to a patient’s partner without first seeing the partner', 'Vermont, which had had a law allowing partner treatment for some STIs, enacted a new law expanding the conditions for which partner treatment is permitted', 'Twenty-eight states now explicitly permit treatment of a patient’s partner (see Partner Treatment for STIs)', 'Sex Education', 'Two states enacted measures to expand access to sex education in 2013', 'A new law in Colorado effectively prohibits abstinence-only instruction by requiring sex education in the state to be scientifically proven to delay sexual debut, reduce adolescents’ number of sexual partners, reduce the frequency of sex, and increase their contraceptive use', 'Illinois enacted three separate laws related to sex education', 'Although school districts can still decide for themselves whether to provide sex education, the new law requires any sex education that is taught in the state to be medically accurate and age-appropriate and include instruction on contraception and abstinence', 'The package also requires health education, which is mandatory for all school districts, to contain medically accurate information on abstinence as well as age-appropriate instruction on teen dating violence and child sexual abuse prevention', 'These new laws bring to nine the number of states requiring that the sex education provided in the state be medically accurate and include information on contraception (see State Policies in Brief: Sex and HIV Education', ')', 'At the other end of the spectrum, new laws in North Carolina and Kansas could limit access to comprehensive and medically accurate sex education', 'A new law enacted in Kansas prohibits an individual who is associated in any way with an abortion provider from providing sex education', 'Meanwhile, a new law in North Carolina requires that sex education in the state must inform students that having an abortion increases the risk of a subsequent preterm birth', 'In Montana, Gov', 'Bullock (D) vetoed a measure that would have required parental consent for students participating in sex education', 'Fetal Issues', 'Three states enacted laws regarding assault on pregnant women or fetal homicide', 'Arkansas adopted a measure allowing a fetus to be considered a victim of homicide at any point in gestation; a similar measure was allowed to go into effect in Montana without the governor’s signature', 'Instead of considering a fetus an independent victim, Colorado amended its statute criminalizing assault on a pregnant woman to include penalties for causing a pregnant woman to miscarry', 'Pregnancy', 'Tennessee enacted a law requiring publicly funded substance abuse facilities to give preference to pregnant women, there are now 10 states that require facilities give pregnant women priority access (see Substance Abuse During Pregnancy)', 'It also prohibits the state from filing for protective services for a newborn if a woman who is less than 20 weeks into her pregnancy seeks substance abuse treatment as part of prenatal care', '(A similar bill in New Mexico was effectively vetoed when Gov', 'Susana Martinez (R) took no action on it', ') Finally, the budget adopted in Indiana allocated $250,000 for “prenatal substance use and prevention', '”', 'APPENDIX: STATES BY HOSTILITY TO ABORTION RIGHTS, 2000 AND 2013', 'Hyde Amendment', 'For far too long, the United States has penalized low-income people seeking abortion — forcing those already struggling to make ends meet to pay the biggest proportion of her income for safe, legal care', 'Since 1976, the Hyde Amendment has blocked federal Medicaid funding for abortion services (since 1994, there have been three extremely narrow exceptions: when continuing the pregnancy will endanger the patient’s life, or when the pregnancy results from rape or incest)', 'This means Medicaid cannot cover abortion even when a patient’s health is at risk and their doctor recommends they get an abortion', 'When insurance coverage provides for all pregnancy-related health care except abortion, it interferes with the private health decisions that are best left to a patient, their doctor, and their family', 'The Hyde Amendment is a dangerous and unfair policy that lets politicians interfere in people’s personal health care decisions', 'Credit: Center for Reproductive Rights', 'Hyde Hurts Medicaid Enrollees', 'When policymakers deny insurance coverage for abortion, people are either forced to carry a pregnancy to term or pay for care out of their own pocket', 'So, the Hyde Amendment is particularly harmful to people with low incomes, people of color, young people and immigrants — who all disproportionately rely on Medicaid for their health care coverage', 'Consider these facts: 15', '6 million women (ages 19 to 64) have Medicaid coverage', 'If every state expands its Medicaid program, as the Affordable Care Act allows, about 1', '5 million additional women will be newly eligible for Medicaid coverage', 'Medicaid provides coverage to 1 in 5 women of reproductive age (15-44)', 'Due to the structural inequalities in our country that link racism, sexism, and economic inequality, people of color disproportionately comprise the majority of Medicaid enrollees', 'In fact, 30% of Black women and 24% of Hispanic women are enrolled in Medicaid, compared to 14% of white women', 'The consequences', 'When someone has made the personal decision to end a pregnancy but cannot afford to, they may forgo basic necessities such as heat and electricity in order to save the required funds', 'They may even resort to self-inducing an abortion or obtaining an abortion from an untrained or unlicensed practitioner', 'Hyde-Like Policies Affect Other Health Care Programs', 'Since Congress first passed the Hyde Amendment 40 years ago, anti-abortion politicians have extended similar policies to other federal health insurance programs, including coverage for federal employees and their families, military personnel and their families, Native Americans, Alaskan Natives, and inmates in federal prisons', 'While these are all different policies, the impact is the same: penalizing people seeking abortion, and forcing them to pay out-of-pocket in order to access safe, legal care — even if they cannot afford to do so', 'Hyde in the States', 'The Hyde Amendment bans using federal Medicaid to cover almost all abortions but does not limit a state’s ability to use its own funds to cover abortion', 'As of 2016, 17 states use their own funds to extend abortion coverage to low-income Medicaid enrollees (although some of these states still make it difficult to access)', 'An additional 6 states extend abortion coverage under specific exceptions, such as when a patient’s health is at risk', 'That leaves more than half the country abiding by the Hyde Amendment', 'Notably, South Dakota’s Medicaid program goes even further than Hyde: It does not pay for abortion even when a person has been raped or is the victim of incest — a clear violation of federal law, which includes these exceptions', 'Moreover, Congress can control Washington, D', 'C', '’s funding, and has restricted the District of Columbia from using its own funds to provide abortion coverage to people with low incomes', 'Bottom Line: It’s Time To Stop Hyde', 'Everyone — no matter how much money they make or who provides their insurance — should be able to access the full-range of reproductive health care, including abortion', 'Everyone should be able to make their own decisions about pregnancy based on their own unique circumstances, and have the resources they need to exercise that decision with autonomy and dignity', 'Abortion is health care', \"Politicians should not be able to deny anyone's access to health services, including abortion, just because of their income or their insurance provider\", \"It is time to end the Hyde Amendment and stop political interference in people's decision-making\", 'Go to allaboveall', 'org to learn how you can take action']\n",
            "\n",
            "Partly True Claim: \"500 percent more traffic here?\" \n",
            "Related Sentences: ['Could planned project set off MoPac development boom', 'Two towers that would be among the tallest buildings outside of downtown Austin are being proposed as part of project that envisions bringing 1', '6 million square feet of development to MoPac Boulevard and Spicewood Springs Road', 'Some area residents oppose the project, which they say could set a precedent for other tall buildings — both along MoPac and elsewhere throughout the city — that would encroach on surrounding neighborhoods', 'The developer behind the project is Dallas-based Spire Realty Group LP', 'Spire’s project is one of several office and residential developments planned or under construction along Spicewood Springs Road', 'Real estate experts say the proposed development could set off a wave of development along MoPac', 'Spire’s site is a 31-acre tract that now houses Austin Oaks, an office complex with 12 buildings of two to three stories each and totaling 450,000 square feet', 'Spire is seeking a zoning change that would allow it to construct buildings of three to five stories on the parts of the site closest to residential areas, and, on the parts closer to MoPac, two office buildings that would tower 17 stories each', 'Height is currently limited to 60 feet on the site', 'The project would comply with city rules meant to ensure that commercial projects don’t impinge on residential areas, said Steve Drenner, the Austin attorney representing Spire in the zoning case', 'Plans call for up to 610 apartments and townhomes in the three- to five-story buildings, plus retail and restaurant space', 'The soonest construction is planned to start is around 2020, after existing office leases expire', 'The project would be built in phases over 10 years or so', 'In all, an estimated 1', '6 million square feet of development is planned', 'By comparison, Barton Creek Square mall is 1', '43 million square feet', 'The project must go through an approval process that will include presentations before the city’s Environmental Board and Zoning and Platting Commission', 'The Austin City Council will have the final say on the zoning change, which could come before it by the end of the year', 'Drenner said the project is consistent with Imagine Austin, a long-term plan the city approved in 2012 that includes recommendations for guiding growth, such as concentrating dense development in strategic areas to make the city more compact and walkable', 'One of the places the plan recommended clustering growth is at MoPac and Spicewood Springs Road, Drenner said', '“To some degree this will be test of Imagine Austin — did we mean it', '” Drenner said', 'But Stefania Rigo, who has lived in the Northwest Hills area near the proposed development for 20 years, said, “We are outraged that this would bring high-density, tall buildings on edge of a single-family home neighborhood', 'Imagine Austin never in its wildest dreams imagined this', '”', 'Joyce Statz, president of the Northwest Austin Civic Association, which represents about 4,150 households in the area, said the proposed project doesn’t fit with the character of the surrounding neighborhoods', 'The project also would worsen problems with traffic and overcrowded schools in the area, she said', '“The neighborhood is saying, ‘This makes no sense,’” Statz said', '“It doesn’t meet our needs, and it aggravates our problems', '”', 'Statz said the Northwest Austin Civic Association is polling its members on the project, and two other neighborhood groups plan to survey their members as well', 'In all, four groups are collaborating in their efforts regarding the project: the Northwest Austin Civic Association, the Allandale Neighborhood Association, the Balcones Civic Association and the North Shoal Creek Neighborhood Association, which combined represent more than 10,000 households, Statz said', 'Austin, like some other cities across the countries, is seeing new mixed-use development crop up in areas outside of the city’s center, presenting an alternative to downtown', 'Charles Heimsath, a local real estate consultant who has worked on the Austin Oaks proposal, said new development is inevitable along MoPac', '“Nobody likes change, but sometimes change is good, and it ends up benefiting the neighborhood with more opportunities to live, work and enjoy new retail,” Heimsath said', '“Thirty years ago, this was the suburbs, but it’s not anymore', 'Today, this corridor is dated and ripe for redevelopment', '”', 'However, he noted that there are barriers that will restrict large swaths of MoPac from development', '“You’ve got flood plain issues on the east side, and you have neighborhoods that are built hard up to the freeway on the west side,” he said', '“But there are a number of existing developments such as MoPac and 2222 that are likely to undergo a similar transformation', '”', 'At the Austin Oaks site, Drenner said the low-rise buildings planned for apartments and retail would “create a buffer” between the closest single-family residences and the tallest buildings that are proposed closest to MoPac', 'Concerns about setting a precedent for taller buildings at other intersections along MoPac are unfounded, he said', 'That’s because many of those intersections are closer to single-family neighborhoods than the Spicewood/MoPac intersection, and thus would be bound by city rules requiring new development not to infringe on nearby neighborhoods', 'Drenner said he has met with residents who live near Austin Oaks and listened to their concerns', 'The development team, he said, “is evaluating whether we would make changes to the plan based on that feedback', '”', '“This is not a fully cooked meal yet,” Drenner said', '050615 cityaustinpftexas', 'Emails, Sylvia Arzola, Public Information and Marketing Manager, City of Austin Development Services, Department Planning and Zoning Department, May 22, 2015 and June 2-3, 2015', '2:42 p', 'm', 'May 22, 2015', 'The project and the traffic impact analysis are currently under review', 'At this time we are unable to verify the traffic impact until a full evaluation of the project and accompanying mitigation is provided by the developer', '…', 'Sylvia Arzola', 'Public Information and Marketing Manager', 'Development Services Department', 'Planning and Development Review Department', '2:06 p', 'm', 'June 2, 2015', 'The presentation which you forwarded to me was prepared by Jim Duncan (a planning consultant) and was presented to the Code Next Advisory Group on September 22, 2014', 'It’s posted on the CodeNEXT blog page because it was included as support material for the group’s meeting', 'Here’s a link to the blog page, which puts the report in context:', 'http://www', 'austintexas', 'gov/blog/codenext-advisory-group-meeting-september-22-2014', 'Mr', 'Duncan was working with the neighborhood in opposition to the PUD', 'It looks like the traffic numbers were taken from the developer’s consultant’s study', 'Our understanding is that the project is being revised and the City will be provided new / revised traffic studies based on the updated plan for review', 'A timeline for review of the plan will be determined once we receive the revised TIA', 'Let me know if you have any additional questions', 'Sylvia Arzola', 'Public Information and Marketing Manager', 'Development Services Department', 'Planning and Zoning Department', '12:35 p', 'm', 'June 3, 2015', 'I just learned that a revised TIA was submitted last week and is currently being reviewed by transportation staff in the Development Services Department and Austin Transportation Department', 'It is anticipated that the review will be completed in 4-6 weeks', '0615 cityaustinemails', 'Emails, Bryan Golden, Planner III, City of Austin, Development Services Department, June 5, 2015', 'Sent: Friday, June 05, 2015 1:00 PM', 'Subject: Austin Oaks TIA', 'Attached you will find the TIA scope, Executive Summary, and Level of Service tables (both with and without traffic mitigation)', 'These are reflective of the August 19th, 2014 TIA submittal', 'Please let me know if you have any questions', 'Thank you,', 'Bryan Golden', 'Planner III, City of Austin', 'Development Services Department', 'From: Selby, Gardner', 'Sent: Friday, June 05, 2015 1:45 PM', 'To: Golden, Bryan', 'What is an unadjusted daily trip', 'From: Golden, Bryan', 'Sent: Friday, June 05, 2015 1:47 PM', 'To: Selby, Gardner (CMG-Austin)', 'Subject: RE: Austin Oaks TIA', 'This is the raw number, prior to any reductions being applied', 'From: Selby, Gardner (CMG-Austin)', 'Sent: Friday, June 05, 2015 1:49 PM', 'To: Golden, Bryan', 'Subject: RE: Austin Oaks TIA', 'You told us the term refers to counts of all daily trips without adjusting for trips that might be internal to the development itself, say, or for trips taken by a city bus', 'Make sense', 'g', '1:53 p', 'm', 'Yes, that’s true', 'Adjusted = taking reductions into account', 'The “raw” number (unadjusted) is the projected trip generation count, in addition to the background traffic growth', 'This “unadjusted” trip number is generated by the ITE Calculator, an industry standard, which calculates trip generation based on the size and use of the development']\n",
            "\n"
          ],
          "name": "stdout"
        }
      ]
    },
    {
      "cell_type": "markdown",
      "metadata": {
        "id": "yepfCz-AE5Lj",
        "colab_type": "text"
      },
      "source": [
        "### Convert dict to list of prediction_examples"
      ]
    },
    {
      "cell_type": "code",
      "metadata": {
        "id": "luG46kg9KlUT",
        "colab_type": "code",
        "colab": {}
      },
      "source": [
        "import run_classifier\n",
        "\n",
        "# Convert to InputExamples format\n",
        "def convert_to_input_example_type(claims_to_sentences, label):\n",
        "  retVal = []\n",
        "\n",
        "  i = 0\n",
        "  for claim, sentences in claims_to_sentences.items():\n",
        "    for sentence in sentences:\n",
        "      retVal.append(run_classifier.InputExample(guid=i, text_a=claim, text_b=sentence, label='{}'.format(label)))\n",
        "      i += 1\n",
        "  return retVal"
      ],
      "execution_count": 0,
      "outputs": []
    },
    {
      "cell_type": "code",
      "metadata": {
        "id": "Ea4Cj7KJ8hui",
        "colab_type": "code",
        "colab": {}
      },
      "source": [
        "my_true_examples = convert_to_input_example_type(true_claims_to_sentences, 1)  # Need to make labels = 0, 1 for now\n",
        "my_false_examples = convert_to_input_example_type(false_claims_to_sentences, 0)\n",
        "my_partly_true_examples = convert_to_input_example_type(partly_true_claims_to_sentences, 1)\n",
        "\n",
        "my_examples = []\n",
        "for e in my_true_examples:\n",
        "  my_examples.append(e)\n",
        "for e in my_false_examples:\n",
        "  my_examples.append(e)\n",
        "  \n",
        "  \n",
        "# Not currenlty using partly true b/c only 0 or 1 labels right now\n",
        "#for e in my_partly_true_examples:\n",
        "#  my_examples.append(e)"
      ],
      "execution_count": 0,
      "outputs": []
    },
    {
      "cell_type": "markdown",
      "metadata": {
        "id": "mtnviwpHFfc0",
        "colab_type": "text"
      },
      "source": [
        "### Run predictions "
      ]
    },
    {
      "cell_type": "code",
      "metadata": {
        "id": "nl9Phgpi_YiG",
        "colab_type": "code",
        "colab": {}
      },
      "source": [
        "def tyler_model_predict(estimator, prediction_examples):\n",
        "  input_features = run_classifier.convert_examples_to_features(prediction_examples, label_list, MAX_SEQ_LENGTH, tokenizer)\n",
        "  predict_input_fn = run_classifier.input_fn_builder(features=input_features, seq_length=MAX_SEQ_LENGTH, is_training=False, drop_remainder=True)\n",
        "  predictions = estimator.predict(predict_input_fn)\n",
        "\n",
        "  print(\"Complete. Converting predicitions from generator to list\")\n",
        "  return prediction_examples, list(predictions)"
      ],
      "execution_count": 0,
      "outputs": []
    },
    {
      "cell_type": "code",
      "metadata": {
        "id": "T1TXvwuUMMMR",
        "colab_type": "code",
        "colab": {
          "base_uri": "https://localhost:8080/",
          "height": 34
        },
        "outputId": "f2ac506d-44c7-463c-fed6-aa741b7d70a1"
      },
      "source": [
        "prediction_examples, predictions = tyler_model_predict(estimator_from_checkpoints, my_examples)"
      ],
      "execution_count": 420,
      "outputs": [
        {
          "output_type": "stream",
          "text": [
            "Complete. Converting predicitions from generator to list\n"
          ],
          "name": "stdout"
        }
      ]
    },
    {
      "cell_type": "markdown",
      "metadata": {
        "id": "p3iPQPfA_CBa",
        "colab_type": "text"
      },
      "source": [
        "### Output Results:\n",
        "\n",
        "Format: <0 or 1> -|- \\<claim\\> || \\<article sentence\\>\n",
        "\n",
        "0 => False\n",
        "\n",
        "1 => True"
      ]
    },
    {
      "cell_type": "code",
      "metadata": {
        "id": "0-3x4-Sr-OIH",
        "colab_type": "code",
        "colab": {
          "base_uri": "https://localhost:8080/",
          "height": 85
        },
        "outputId": "3da305db-1c50-41ab-dfaf-e90dea8abd11"
      },
      "source": [
        "THRESHOLD = 0.95\n",
        "\n",
        "# Initialize predictions dict\n",
        "final_predictions = {}\n",
        "for example, prediction in zip(prediction_examples, predictions):\n",
        "  # Add label to key\n",
        "  new_key = '{}: '.format(example.label) + example.text_a\n",
        "  if not new_key in final_predictions.keys():\n",
        "    final_predictions[new_key] = 0\n",
        "\n",
        "# Make predictions\n",
        "seen_claims = []\n",
        "for example, prediction in zip(prediction_examples, predictions):\n",
        "  # Add label to key\n",
        "  new_key = '{}: '.format(example.label) + example.text_a\n",
        "  \n",
        "  # Track number claims\n",
        "  if not new_key in seen_claims:\n",
        "    seen_claims.append(new_key)\n",
        "    \n",
        "  if final_predictions[new_key] < prediction['probabilities'][1]:\n",
        "    final_predictions[new_key] = prediction['probabilities'][1]\n",
        "      \n",
        "\n",
        "n_true = 0\n",
        "n_false = 0\n",
        "n_true_guessed_true = 0\n",
        "n_false_guessed_true = 0\n",
        "for claim, label in final_predictions.items():\n",
        "  # Check if true\n",
        "  isTrue = False\n",
        "  if claim[0] == '0':\n",
        "    isTrue = False\n",
        "    n_true += 1\n",
        "  elif claim[0] == '1':\n",
        "    isTrue = True\n",
        "    n_false += 1\n",
        "\n",
        "  # Check if guessed true\n",
        "  if label > THRESHOLD:\n",
        "    if isTrue:\n",
        "      n_true_guessed_true += 1\n",
        "    else:\n",
        "      n_false_guessed_true += 1\n",
        "      \n",
        "print(\"Number of true claims: {}\".format(n_true))\n",
        "print(\"Number of false claims: {}\".format(n_false))\n",
        "print(\"Number of true claims guessed true: {}\".format(n_true_guessed_true))\n",
        "print(\"Number of true claims guessed false: {}\".format(n_false_guessed_true))"
      ],
      "execution_count": 421,
      "outputs": [
        {
          "output_type": "stream",
          "text": [
            "Number of true claims: 20\n",
            "Number of false claims: 20\n",
            "Number of true claims guessed true: 3\n",
            "Number of true claims guessed false: 9\n"
          ],
          "name": "stdout"
        }
      ]
    },
    {
      "cell_type": "code",
      "metadata": {
        "id": "r3TrXZR3DiXK",
        "colab_type": "code",
        "colab": {}
      },
      "source": [
        ""
      ],
      "execution_count": 0,
      "outputs": []
    },
    {
      "cell_type": "markdown",
      "metadata": {
        "id": "qMi_n3haDjrV",
        "colab_type": "text"
      },
      "source": [
        "## Function to Get a Random Claim and its Articles Easily"
      ]
    },
    {
      "cell_type": "code",
      "metadata": {
        "id": "aTXI4FETuQaC",
        "colab_type": "code",
        "colab": {}
      },
      "source": [
        "def get_claim_and_articles(desired_label):\n",
        "  # Choose random index\n",
        "  import random\n",
        "  indices = json_data['related_articles'].keys()\n",
        "  i = random.choice(indices)\n",
        "  \n",
        "  # Get index with desired label\n",
        "  while not json_data['label'][i] == desired_label:\n",
        "    i = random.choice(indices)\n",
        "  \n",
        "  claim = json_data['claim'][i]\n",
        "  related_article_nums = json_data['related_articles'][i]\n",
        "  articles = []\n",
        "  for n in related_article_nums:\n",
        "    articles.append(articles_data['text']['{}'.format(n)])\n",
        "  return claim, articles"
      ],
      "execution_count": 0,
      "outputs": []
    },
    {
      "cell_type": "code",
      "metadata": {
        "id": "RirANDKdtn08",
        "colab_type": "code",
        "colab": {}
      },
      "source": [
        "\n",
        "# Get valid indices, maybe randomize order to get new ones\n",
        "indices = json_data['related_articles'].keys()\n",
        "\n",
        "for idx in indices:\n",
        "  # Only add true statements\n",
        "  if json_data['label'][idx] == 2:\n",
        "    true_claims_to_related_articles[json_data['claim'][idx]] = json_data['related_articles'][idx]\n",
        "    \n",
        "  # Get NUM_EXAMPLES\n",
        "  if len(true_claims_to_related_articles.keys()) == NUM_EXAMPLES:\n",
        "\n",
        "    break"
      ],
      "execution_count": 0,
      "outputs": []
    },
    {
      "cell_type": "code",
      "metadata": {
        "id": "l4Al48Cqvo8H",
        "colab_type": "code",
        "colab": {
          "base_uri": "https://localhost:8080/",
          "height": 1000
        },
        "outputId": "6aca8710-d47d-4e42-f4bd-673aed8e92bd"
      },
      "source": [
        "claim, articles = get_claim_and_articles(1)\n",
        "print(claim)\n",
        "for a in articles:\n",
        "  print(a)\n",
        "  break"
      ],
      "execution_count": 305,
      "outputs": [
        {
          "output_type": "stream",
          "text": [
            "\"80 percent of impeachments in Missouri have been against judges.\"\n",
            "Impeachment in the states: Missouri governor edition, Part I\n",
            "By Frank Bowman\n",
            "\n",
            "Here in the Show-Me State, we have been granted a temporary reprieve from the feverish national focus on all things Trump by news of the sexual peccadillos of our recently-elected governor, Eric Greitens. As has now been reported across the nation, on Wednesday, January 10, shortly after his State of the State address, Governor Greitens released a statement admitting to a extramarital sexual affair with his former hairdresser back in 2015.\n",
            "\n",
            "The admission came in anticipation of impending media reports alleging not only that there were one or more sexual encounters between the hairdresser and Mr. Greitens, but that on one occasion Mr. Greitens took a picture of the woman while she was bound and in a state of full or partial undress and then threatened to release the picture publicly if she were ever to speak about the affair. The reports were made all the juicier by the fact that the woman’s former husband secretly recorded her tearful confession to the affair and released the recording to the media.\n",
            "\n",
            "In his statement, Mr. Greitens admitted the sex, but denied that he had either taken a picture of the woman en déshabillé or threatened to release such a picture to maintain her silence.\n",
            "\n",
            "Political reaction to these revelations has been swift and somewhat surprisingly severe given that Mr. Greitens is a first-term Republican governor often touted as a rising political star in a state where Republicans hold all but one state-wide office and supermajorities in both houses of the legislature. Democrats immediately called for Mr. Greitens’ resignation, as have multiple Republican legislators. Even Republicans who haven’t gone that far seem, at best, to be withholding judgment pending the outcome of a criminal investigation by the St. Louis Circuit Attorney (and possibly one by the FBI). One Republican state senator, Gary Romine, said that if investigations into Mr. Greitens’ behavior do not exonerate him, he should “resign or face impeachment.”\n",
            "\n",
            "Naturally, as soon as I read the word “impeachment,” I perked up like a foxhound when the Master of the Hunt yells “Talley Ho!” What follows is a two-part look at the law governing impeachment of Missouri state officials, a comparison of Missouri law to federal practice, and a preview of the particular issues an effort to impeach Mr. Greitens would present given the current state of the evidence.\n",
            "\n",
            "Impeachment in Missouri\n",
            "\n",
            "Article VII, Sections 1 and 2 of the Missouri constitution state:\n",
            "\n",
            "Section 1. All elective executive officials of the state, and judges of the supreme court, courts of appeals and circuit courts shall be liable to impeachment for crimes, misconduct, habitual drunkenness, willful neglect of duty, corruption in office, incompetency, or any offense involving moral turpitude or oppression in office. Section 2. The house of representatives shall have the sole power of impeachment. All impeachments shall be tried before the supreme court, except that the governor or a member of the supreme court shall be tried by a special commission of seven eminent jurists to be elected by the senate. The supreme court or special commission shall take an oath to try impartially the person impeached, and no person shall be convicted without the concurrence of five-sevenths of the court or special commission.\n",
            "\n",
            "The most obvious difference between federal and state impeachment procedure is that, while in both systems the house of representatives impeaches the officer, i.e., specifies the charges against the accused, in Missouri the state supreme court, rather than the senate, tries the case. That is, the Missouri Supreme Court, not the Missouri senate, decides whether the allegations in the bill of impeachment are proven and thus whether the officer ought to be removed. The way the Missouri Supreme Court has interpreted its function materially alters the Missouri impeachment process.\n",
            "\n",
            "In the federal system, the president may be impeached for serious crimes (although there is disagreement about which ones) and for very serious non-criminal misconduct either in relation to the office or of a personal sort that undermines the president’s legitimacy. Most scholars would agree that, under the federal constitution, the president ought not be impeached for minor crimes (and perhaps not even for serious crimes like perjury if unrelated to his official duties) or for laziness, ineptitude, or pursuing political objectives contrary to those of the legislative majority.\n",
            "\n",
            "Critically, all informed observers of the federal impeachment process agree that both the decision by the House about which behavior is impeachable and the subsequent decision by Senate about whether to convict and remove the accused are to a significant degree “political.” As Alexander Hamilton famously said in Federalist #65, impeachable offenses “are of a nature which may with peculiar propriety be denominated POLITICAL, as they relate chiefly to injuries done immediately to the society itself.”\n",
            "\n",
            "The concededly political character of the federal impeachment process shapes the essential nature of the decision-making process. Both the House and Senate are called upon not merely to decide the truth of factual allegations against the president, but to judge whether the conduct is of a nature that merits removal of the nation’s chief executive officer. The second choice is a political judgment which the Framers consciously placed in the hands of two political bodies.\n",
            "\n",
            "The Missouri constitution originally consigned the trial of impeachments to the state senate. But in the 1940’s (perhaps in response to a case where the senate refused to convict a former senator whose factual guilt was patent), the constitution was amended to institute the present arrangement assigning impeachment trials to the state supreme court. The apparent purpose of the change was to eliminate politics from the last stage of the impeachment process, but as is so often true, this benevolent-sounding objective created a new complication.\n",
            "\n",
            "In theory, courts are not supposed to be political bodies. In theory, they are limited to deciding what the law is, whether facts are proven, and whether proven facts fall within the ambit of the law. Of course, any serious student of courts realizes that politics in the broad sense affects judicial decisions at every level. Judges unavoidably bring their own philosophical predilections to deciding both law and facts, and perhaps more importantly, common law judging has always had a public policy component. Nonetheless, judges traditionally shun explicitly political judgments – such as whether removal of a particular executive branch official would or would not be beneficial to the commonweal.\n",
            "\n",
            "This judicial discomfort manifested itself in the only Missouri impeachment case to arise after the constitution was amended to give the responsibility of trying impeachments to the supreme court. The case, Matter of Impeachment of Judith K. Moriarty, 902 S.W.2d 273 (1994), arose from the impeachment of the Missouri Secretary of State for “knowingly allow[ing] the signature of her son as candidate or of her administrative aide or both to be placed on an unsigned declaration of candidacy [for public office] so that declaration falsely declared that the son had appeared in presence of aide to declare for office within the time provided for by statute.”\n",
            "\n",
            "The Missouri Supreme Court found that Ms. Moriarty did what the articles of impeachment charged, thus removing her from office. The interesting part is the court’s explanation of its role in the impeachment process. The court began by contrasting the traditional impeachment system in which the house impeaches and the senate tries the accused with the Missouri system of trial by supreme court:\n",
            "\n",
            "An impeachment is thus a judgment by the House of Representatives—one of the popularly-elected, representative bodies of the people’s General Assembly—that an officer of the state has committed acts such that, were an election held, the people would not permit the impeached officeholder to remain in office. When a Senate determines whether to convict under articles of impeachment, the vote affirms or rejects the judgment of the House. Under this system, the possibility exists that the House may impeach and the Senate may convict an official for purely political reasons, though they clothe their charges with constitutional language like “misconduct.” Missouri’s constitutional provision is a clear acknowledgment that the trial of impeachment charges is essentially judicial in character and is not a political function. This Court can convict only where there is actual misconduct as the law defines it. “Misconduct” means doing an unlawful act, doing a lawful act in an unlawful manner, or failing to perform an act required by law. It does not include errors in judgment, acts done in good faith, or good faith exercise of discretion.\n",
            "\n",
            "This passage is remarkable in several respects.\n",
            "\n",
            "First, it offers a distorted interpretation of the standard for defining an impeachable offense in federal and state systems in which legislators both formulate and try the articles of impeachment. The court opines that in such systems legislators are supposed to engage in a sort of mass mind-reading exercise assessing the probable electoral reaction of the public to the charged conduct. I confess to thinking this assessment misguided. In the federal system, at least, it is quite clear that senators are intended to exercise independent judgment, and that they should not decline to convict an office holder merely because they think the public might re-elect him despite constitutionally obnoxious conduct. Were that the case, no demagogue could ever be impeached so long as he retained the probable support of the mob.\n",
            "\n",
            "Moreover, when the Missouri court disparages senate impeachment trials on the ground that an officeholder may be convicted “for purely political reasons,” it betrays a crabbed and historically inaccurate view of what Founders like Hamilton meant by “political.” For Hamilton and others of his generation, the term “political” ran far beyond narrowly partisan considerations to broad considerations of constitutional balance and societal good. For them, impeachment was “political” because it demanded the exercise of sound judgment about whether removing a particular officer for particular conduct protected or disserved republican government.\n",
            "\n",
            "More important from Governor Greitens’ standpoint is the court’s holding that, because judges and not legislators try Missouri impeachments, there can be a conviction only:\n",
            "\n",
            "… where there is actual misconduct as the law defines it. ‘Misconduct’ means doing an unlawful act, doing a lawful act in an unlawful manner, or failing to perform an act required by law. It does not include errors in judgment, acts done in good faith, or good faith exercise of discretion.\n",
            "\n",
            "This is huge because it markedly narrows the definition of impeachable conduct. Indeed, the result is to judicially amend the Missouri constitution. Recall that Article VII, Section 1 of the Missouri constitution says that officials may be impeached for “crimes, misconduct, habitual drunkenness, willful neglect of duty, corruption in office, incompetency, or any offense involving moral turpitude or oppression in office.”\n",
            "\n",
            "Some of the items on this list obviously do refer to illegal conduct, notably “crimes … corruption in office, [and] any offense involving moral turpitude or oppression in office.” On the other hand, the constitutional text pretty plainly contemplates impeachment for lots of behavior that violates no other law. For example, neither “habitual drunkenness” nor “incompetency” is illegal. Nor is either “willful neglect of duty” or “misconduct” necessarily a legal infraction.\n",
            "\n",
            "To maintain its preferred self-conception of non-political arbiter of facts, the Missouri Supreme Court imposed a limiting construction on the constitutional term “misconduct” that requires the impeached official to have violated some other law. (For you law geeks in the audience, it does so by the extremely dubious expedient of adopting its definition of “misconduct” from a Tennessee case construing the common law crime of “official misconduct,” an offense which exists nowhere in Missouri law.” Mid–South Indoor Horse Racing, Inc. v. Tennessee State Racing Commission,798 S.W.2d 531, 538 (Tenn.App.1990).)\n",
            "\n",
            "Notably, the laws the Court found Ms. Moriarty to have violated were simply statutory rules for proper filing of candidacy for office. Failing to perform the duties prescribed in these sections was apparently chargeable as a misdemeanor (perhaps under RSMo 115.641). Moreover, it appears that, prior to the impeachment proceeding, Ms. Moriarty was charged in Cole County and convicted of such a misdemeanor for her conduct. But curiously, the Missouri Supreme Court made no reference in its opinion either to the Cole County proceeding or to any violation of criminal law. The bottom line of Moriarty seems to be that, on the one hand, the Supreme Court will not convict in an impeachment case unless the charged conduct violates state law, but on the other hand, violation of any state law, however minor, will result in conviction and removal so long as the Missouri House of Representatives deems it impeachable.\n",
            "\n",
            "One sympathizes with Court’s reluctance to stray from its traditional judicial role, but the result is a markedly strained reading of the Missouri constitution — and one that could have considerable impact on any effort to impeach Governor Greitens.\n",
            "\n",
            "I will address the specifics of the Greitens case in my next post.\n",
            "\n",
            "Frank Bowman\n"
          ],
          "name": "stdout"
        }
      ]
    },
    {
      "cell_type": "code",
      "metadata": {
        "id": "iB7vDO3Bvuq2",
        "colab_type": "code",
        "colab": {}
      },
      "source": [
        ""
      ],
      "execution_count": 0,
      "outputs": []
    }
  ]
}