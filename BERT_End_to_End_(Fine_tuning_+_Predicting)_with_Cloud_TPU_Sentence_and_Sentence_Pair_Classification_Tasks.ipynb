{
  "nbformat": 4,
  "nbformat_minor": 0,
  "metadata": {
    "colab": {
      "name": "BERT End to End (Fine-tuning + Predicting) with Cloud TPU: Sentence and Sentence-Pair Classification Tasks",
      "version": "0.3.2",
      "provenance": [],
      "collapsed_sections": [],
      "include_colab_link": true
    },
    "kernelspec": {
      "name": "python3",
      "display_name": "Python 3"
    },
    "accelerator": "TPU"
  },
  "cells": [
    {
      "cell_type": "markdown",
      "metadata": {
        "id": "view-in-github",
        "colab_type": "text"
      },
      "source": [
        "<a href=\"https://colab.research.google.com/github/tylerlum/fake-news-classifier/blob/master/BERT_End_to_End_(Fine_tuning_%2B_Predicting)_with_Cloud_TPU_Sentence_and_Sentence_Pair_Classification_Tasks.ipynb\" target=\"_parent\"><img src=\"https://colab.research.google.com/assets/colab-badge.svg\" alt=\"Open In Colab\"/></a>"
      ]
    },
    {
      "cell_type": "markdown",
      "metadata": {
        "id": "meO7ZaISZfZ1",
        "colab_type": "text"
      },
      "source": [
        "<a href=\"https://colab.research.google.com/github/tensorflow/tpu/blob/master/tools/colab/bert_finetuning_with_cloud_tpus.ipynb\" target=\"_parent\"><img src=\"https://colab.research.google.com/assets/colab-badge.svg\" alt=\"Open In Colab\"/></a>"
      ]
    },
    {
      "cell_type": "markdown",
      "metadata": {
        "id": "IhdjgZWAZ60C",
        "colab_type": "text"
      },
      "source": [
        "##### Copyright 2018 The TensorFlow Hub Authors.\n",
        "\n",
        "Licensed under the Apache License, Version 2.0 (the \"License\");"
      ]
    },
    {
      "cell_type": "code",
      "metadata": {
        "id": "wHQH4OCHZ9bq",
        "colab_type": "code",
        "colab": {}
      },
      "source": [
        "# Copyright 2018 The TensorFlow Hub Authors. All Rights Reserved.\n",
        "#\n",
        "# Licensed under the Apache License, Version 2.0 (the \"License\");\n",
        "# you may not use this file except in compliance with the License.\n",
        "# You may obtain a copy of the License at\n",
        "#\n",
        "#     http://www.apache.org/licenses/LICENSE-2.0\n",
        "#\n",
        "# Unless required by applicable law or agreed to in writing, software\n",
        "# distributed under the License is distributed on an \"AS IS\" BASIS,\n",
        "# WITHOUT WARRANTIES OR CONDITIONS OF ANY KIND, either express or implied.\n",
        "# See the License for the specific language governing permissions and\n",
        "# limitations under the License.\n",
        "# =============================================================================="
      ],
      "execution_count": 0,
      "outputs": []
    },
    {
      "cell_type": "markdown",
      "metadata": {
        "id": "rkTLZ3I4_7c_",
        "colab_type": "text"
      },
      "source": [
        "# BERT End to End (Fine-tuning + Predicting) in 5 minutes with Cloud TPU"
      ]
    },
    {
      "cell_type": "markdown",
      "metadata": {
        "id": "1wtjs1QDb3DX",
        "colab_type": "text"
      },
      "source": [
        "## Overview\n",
        "\n",
        "**BERT**, or **B**idirectional **E**mbedding **R**epresentations from **T**ransformers, is a new method of pre-training language representations which obtains state-of-the-art results on a wide array of Natural Language Processing (NLP) tasks. The academic paper can be found here: https://arxiv.org/abs/1810.04805.\n",
        "\n",
        "This Colab demonstates using a free Colab Cloud TPU to fine-tune sentence and sentence-pair classification tasks built on top of pretrained BERT models and \n",
        "run predictions on tuned model. The colab demonsrates loading pretrained BERT models from both [TF Hub](https://www.tensorflow.org/hub) and checkpoints.\n",
        "\n",
        "**Note:**  You will need a GCP (Google Compute Engine) account and a GCS (Google Cloud \n",
        "Storage) bucket for this Colab to run.\n",
        "\n",
        "Please follow the [Google Cloud TPU quickstart](https://cloud.google.com/tpu/docs/quickstart) for how to create GCP account and GCS bucket. You have [$300 free credit](https://cloud.google.com/free/) to get started with any GCP product. You can learn more about Cloud TPU at https://cloud.google.com/tpu/docs.\n",
        "\n",
        "This notebook is hosted on GitHub. To view it in its original repository, after opening the notebook, select **File > View on GitHub**."
      ]
    },
    {
      "cell_type": "markdown",
      "metadata": {
        "id": "UjiKRZ_faLRy",
        "colab_type": "text"
      },
      "source": [
        "## Learning objectives\n",
        "\n",
        "In this notebook, you will learn how to train and evaluate a BERT model using TPU."
      ]
    },
    {
      "cell_type": "markdown",
      "metadata": {
        "id": "Ld-JXlueIuPH",
        "colab_type": "text"
      },
      "source": [
        "## Instructions"
      ]
    },
    {
      "cell_type": "markdown",
      "metadata": {
        "id": "POkof5uHaQ_c",
        "colab_type": "text"
      },
      "source": [
        "<h3><a href=\"https://cloud.google.com/tpu/\"><img valign=\"middle\" src=\"https://raw.githubusercontent.com/GoogleCloudPlatform/tensorflow-without-a-phd/master/tensorflow-rl-pong/images/tpu-hexagon.png\" width=\"50\"></a>  &nbsp;&nbsp;Train on TPU</h3>\n",
        "\n",
        "   1. Create a Cloud Storage bucket for your TensorBoard logs at http://console.cloud.google.com/storage and fill in the BUCKET parameter in the \"Parameters\" section below.\n",
        " \n",
        "   1. On the main menu, click Runtime and select **Change runtime type**. Set \"TPU\" as the hardware accelerator.\n",
        "   1. Click Runtime again and select **Runtime > Run All** (Watch out: the \"Colab-only auth for this notebook and the TPU\" cell requires user input). You can also run the cells manually with Shift-ENTER."
      ]
    },
    {
      "cell_type": "markdown",
      "metadata": {
        "id": "UdMmwCJFaT8F",
        "colab_type": "text"
      },
      "source": [
        "### Set up your TPU environment\n",
        "\n",
        "In this section, you perform the following tasks:\n",
        "\n",
        "*   Set up a Colab TPU running environment\n",
        "*   Verify that you are connected to a TPU device\n",
        "*   Upload your credentials to TPU to access your GCS bucket."
      ]
    },
    {
      "cell_type": "code",
      "metadata": {
        "id": "191zq3ZErihP",
        "colab_type": "code",
        "outputId": "1caf1f99-353b-43b4-cf59-2fcc466a9660",
        "colab": {
          "base_uri": "https://localhost:8080/",
          "height": 393
        }
      },
      "source": [
        "import datetime\n",
        "import json\n",
        "import os\n",
        "import pprint\n",
        "import random\n",
        "import string\n",
        "import sys\n",
        "import tensorflow as tf\n",
        "\n",
        "assert 'COLAB_TPU_ADDR' in os.environ, 'ERROR: Not connected to a TPU runtime; please see the first cell in this notebook for instructions!'\n",
        "TPU_ADDRESS = 'grpc://' + os.environ['COLAB_TPU_ADDR']\n",
        "print('TPU address is', TPU_ADDRESS)\n",
        "\n",
        "from google.colab import auth\n",
        "auth.authenticate_user()\n",
        "with tf.Session(TPU_ADDRESS) as session:\n",
        "  print('TPU devices:')\n",
        "  pprint.pprint(session.list_devices())\n",
        "\n",
        "  # Upload credentials to TPU.\n",
        "  with open('/content/adc.json', 'r') as f:\n",
        "    auth_info = json.load(f)\n",
        "  tf.contrib.cloud.configure_gcs(session, credentials=auth_info)\n",
        "  # Now credentials are set for all future sessions on this TPU."
      ],
      "execution_count": 3,
      "outputs": [
        {
          "output_type": "stream",
          "text": [
            "TPU address is grpc://10.21.128.210:8470\n"
          ],
          "name": "stdout"
        },
        {
          "output_type": "stream",
          "text": [
            "WARNING: Logging before flag parsing goes to stderr.\n",
            "W0813 21:58:41.268386 140613293332352 lazy_loader.py:50] \n",
            "The TensorFlow contrib module will not be included in TensorFlow 2.0.\n",
            "For more information, please see:\n",
            "  * https://github.com/tensorflow/community/blob/master/rfcs/20180907-contrib-sunset.md\n",
            "  * https://github.com/tensorflow/addons\n",
            "  * https://github.com/tensorflow/io (for I/O related ops)\n",
            "If you depend on functionality not listed there, please file an issue.\n",
            "\n"
          ],
          "name": "stderr"
        },
        {
          "output_type": "stream",
          "text": [
            "TPU devices:\n",
            "[_DeviceAttributes(/job:tpu_worker/replica:0/task:0/device:CPU:0, CPU, -1, 18158176857304413001),\n",
            " _DeviceAttributes(/job:tpu_worker/replica:0/task:0/device:XLA_CPU:0, XLA_CPU, 17179869184, 5161139114032175048),\n",
            " _DeviceAttributes(/job:tpu_worker/replica:0/task:0/device:TPU:0, TPU, 17179869184, 10048316422614533797),\n",
            " _DeviceAttributes(/job:tpu_worker/replica:0/task:0/device:TPU:1, TPU, 17179869184, 10597434460892239874),\n",
            " _DeviceAttributes(/job:tpu_worker/replica:0/task:0/device:TPU:2, TPU, 17179869184, 8333610763815774113),\n",
            " _DeviceAttributes(/job:tpu_worker/replica:0/task:0/device:TPU:3, TPU, 17179869184, 15818777960531408360),\n",
            " _DeviceAttributes(/job:tpu_worker/replica:0/task:0/device:TPU:4, TPU, 17179869184, 10470061386165594979),\n",
            " _DeviceAttributes(/job:tpu_worker/replica:0/task:0/device:TPU:5, TPU, 17179869184, 8198994015876653602),\n",
            " _DeviceAttributes(/job:tpu_worker/replica:0/task:0/device:TPU:6, TPU, 17179869184, 3547267250771737584),\n",
            " _DeviceAttributes(/job:tpu_worker/replica:0/task:0/device:TPU:7, TPU, 17179869184, 2861024072967398346),\n",
            " _DeviceAttributes(/job:tpu_worker/replica:0/task:0/device:TPU_SYSTEM:0, TPU_SYSTEM, 8589934592, 18113442635209670723)]\n"
          ],
          "name": "stdout"
        }
      ]
    },
    {
      "cell_type": "markdown",
      "metadata": {
        "id": "HUBP35oCDmbF",
        "colab_type": "text"
      },
      "source": [
        "### Prepare and import BERT modules\n",
        "​\n",
        "With your environment configured, you can now prepare and import the BERT modules. The following step clones the source code from GitHub and import the modules from the source. Alternatively, you can install BERT using pip (!pip install bert-tensorflow)."
      ]
    },
    {
      "cell_type": "code",
      "metadata": {
        "id": "7wzwke0sxS6W",
        "colab_type": "code",
        "outputId": "af764e7e-bb93-4730-bb1c-29d3e1322a47",
        "colab": {
          "base_uri": "https://localhost:8080/",
          "height": 157
        }
      },
      "source": [
        "import sys\n",
        "\n",
        "!test -d bert_repo || git clone https://github.com/google-research/bert bert_repo\n",
        "if not 'bert_repo' in sys.path:\n",
        "  sys.path += ['bert_repo']\n",
        "\n",
        "# import python modules defined by BERT\n",
        "import modeling\n",
        "import optimization\n",
        "import run_classifier\n",
        "import run_classifier_with_tfhub\n",
        "import tokenization\n",
        "\n",
        "# import tfhub \n",
        "import tensorflow_hub as hub"
      ],
      "execution_count": 4,
      "outputs": [
        {
          "output_type": "stream",
          "text": [
            "Cloning into 'bert_repo'...\n",
            "remote: Enumerating objects: 333, done.\u001b[K\n",
            "remote: Total 333 (delta 0), reused 0 (delta 0), pack-reused 333\u001b[K\n",
            "Receiving objects: 100% (333/333), 279.30 KiB | 3.88 MiB/s, done.\n",
            "Resolving deltas: 100% (183/183), done.\n"
          ],
          "name": "stdout"
        },
        {
          "output_type": "stream",
          "text": [
            "W0813 21:58:45.353305 140613293332352 deprecation_wrapper.py:119] From bert_repo/optimization.py:87: The name tf.train.Optimizer is deprecated. Please use tf.compat.v1.train.Optimizer instead.\n",
            "\n"
          ],
          "name": "stderr"
        }
      ]
    },
    {
      "cell_type": "markdown",
      "metadata": {
        "id": "RRu1aKO1D7-Z",
        "colab_type": "text"
      },
      "source": [
        "### Prepare for training\n",
        "\n",
        "This next section of code performs the following tasks:\n",
        "\n",
        "*  Specify task and download training data.\n",
        "*  Specify BERT pretrained model\n",
        "*  Specify GS bucket, create output directory for model checkpoints and eval results.\n",
        "\n",
        "\n"
      ]
    },
    {
      "cell_type": "code",
      "metadata": {
        "id": "tYkaAlJNfhul",
        "colab_type": "code",
        "outputId": "bea15db2-b93c-44ff-dedc-7489bbee0ed9",
        "colab": {
          "base_uri": "https://localhost:8080/",
          "height": 188
        }
      },
      "source": [
        "TASK = 'MRPC' #@param {type:\"string\"}\n",
        "assert TASK in ('MRPC', 'CoLA'), 'Only (MRPC, CoLA) are demonstrated here.'\n",
        "\n",
        "# Download glue data.\n",
        "! test -d download_glue_repo || git clone https://gist.github.com/60c2bdb54d156a41194446737ce03e2e.git download_glue_repo\n",
        "!python download_glue_repo/download_glue_data.py --data_dir='glue_data' --tasks=$TASK\n",
        "\n",
        "TASK_DATA_DIR = 'glue_data/' + TASK\n",
        "print('***** Task data directory: {} *****'.format(TASK_DATA_DIR))\n",
        "!ls $TASK_DATA_DIR\n",
        "\n",
        "BUCKET = 'datacup-leaders-prize-bucket-1' #@param {type:\"string\"}\n",
        "assert BUCKET, 'Must specify an existing GCS bucket name'\n",
        "OUTPUT_DIR = 'gs://{}/bert-tfhub/models/{}'.format(BUCKET, TASK)\n",
        "tf.gfile.MakeDirs(OUTPUT_DIR)\n",
        "#print('***** Model output directory: {} *****'.format(OUTPUT_DIR))\n",
        "\n",
        "# Available pretrained model checkpoints:\n",
        "#   uncased_L-12_H-768_A-12: uncased BERT base model\n",
        "#   uncased_L-24_H-1024_A-16: uncased BERT large model\n",
        "#   cased_L-12_H-768_A-12: cased BERT large model\n",
        "BERT_MODEL = 'uncased_L-12_H-768_A-12' #@param {type:\"string\"}\n",
        "BERT_MODEL_HUB = 'https://tfhub.dev/google/bert_' + BERT_MODEL + '/1'"
      ],
      "execution_count": 5,
      "outputs": [
        {
          "output_type": "stream",
          "text": [
            "Cloning into 'download_glue_repo'...\n",
            "remote: Enumerating objects: 21, done.\u001b[K\n",
            "remote: Total 21 (delta 0), reused 0 (delta 0), pack-reused 21\u001b[K\n",
            "Unpacking objects:   4% (1/21)   \rUnpacking objects:   9% (2/21)   \rUnpacking objects:  14% (3/21)   \rUnpacking objects:  19% (4/21)   \rUnpacking objects:  23% (5/21)   \rUnpacking objects:  28% (6/21)   \rUnpacking objects:  33% (7/21)   \rUnpacking objects:  38% (8/21)   \rUnpacking objects:  42% (9/21)   \rUnpacking objects:  47% (10/21)   \rUnpacking objects:  52% (11/21)   \rUnpacking objects:  57% (12/21)   \rUnpacking objects:  61% (13/21)   \rUnpacking objects:  66% (14/21)   \rUnpacking objects:  71% (15/21)   \rUnpacking objects:  76% (16/21)   \rUnpacking objects:  80% (17/21)   \rUnpacking objects:  85% (18/21)   \rUnpacking objects:  90% (19/21)   \rUnpacking objects:  95% (20/21)   \rUnpacking objects: 100% (21/21)   \rUnpacking objects: 100% (21/21), done.\n",
            "Processing MRPC...\n",
            "Local MRPC data not specified, downloading data from https://dl.fbaipublicfiles.com/senteval/senteval_data/msr_paraphrase_train.txt\n",
            "\tCompleted!\n",
            "***** Task data directory: glue_data/MRPC *****\n",
            "dev_ids.tsv  msr_paraphrase_test.txt   test.tsv\n",
            "dev.tsv      msr_paraphrase_train.txt  train.tsv\n"
          ],
          "name": "stdout"
        }
      ]
    },
    {
      "cell_type": "markdown",
      "metadata": {
        "id": "Hcpfl4N2EdOk",
        "colab_type": "text"
      },
      "source": [
        "Now let's load tokenizer module from TF Hub and play with it."
      ]
    },
    {
      "cell_type": "code",
      "metadata": {
        "id": "TylDOYd-6AH-",
        "colab_type": "code",
        "outputId": "c4b06840-69cd-47e4-8691-2d700d5bcbd6",
        "colab": {
          "base_uri": "https://localhost:8080/",
          "height": 311
        }
      },
      "source": [
        "tokenizer = run_classifier_with_tfhub.create_tokenizer_from_hub_module(BERT_MODEL_HUB)\n",
        "tokenizer.tokenize(\"This here's an example of using the BERT tokenizer\")"
      ],
      "execution_count": 6,
      "outputs": [
        {
          "output_type": "stream",
          "text": [
            "W0813 21:59:07.642463 140613293332352 deprecation_wrapper.py:119] From bert_repo/run_classifier_with_tfhub.py:151: The name tf.Session is deprecated. Please use tf.compat.v1.Session instead.\n",
            "\n",
            "W0813 21:59:08.057532 140613293332352 deprecation_wrapper.py:119] From bert_repo/tokenization.py:125: The name tf.gfile.GFile is deprecated. Please use tf.io.gfile.GFile instead.\n",
            "\n"
          ],
          "name": "stderr"
        },
        {
          "output_type": "execute_result",
          "data": {
            "text/plain": [
              "['this',\n",
              " 'here',\n",
              " \"'\",\n",
              " 's',\n",
              " 'an',\n",
              " 'example',\n",
              " 'of',\n",
              " 'using',\n",
              " 'the',\n",
              " 'bert',\n",
              " 'token',\n",
              " '##izer']"
            ]
          },
          "metadata": {
            "tags": []
          },
          "execution_count": 6
        }
      ]
    },
    {
      "cell_type": "markdown",
      "metadata": {
        "id": "oqQ_LHyzcoYW",
        "colab_type": "text"
      },
      "source": [
        "Also we initilize our hyperprams, prepare the training data and initialize TPU config."
      ]
    },
    {
      "cell_type": "code",
      "metadata": {
        "id": "pYVYULZiKvUi",
        "colab_type": "code",
        "outputId": "04f780cc-3349-4304-e7c5-d56041a1f0ab",
        "colab": {
          "base_uri": "https://localhost:8080/",
          "height": 71
        }
      },
      "source": [
        "TRAIN_BATCH_SIZE = 32\n",
        "EVAL_BATCH_SIZE = 8\n",
        "PREDICT_BATCH_SIZE = 8\n",
        "LEARNING_RATE = 2e-5\n",
        "NUM_TRAIN_EPOCHS = 3.0\n",
        "MAX_SEQ_LENGTH = 128\n",
        "# Warmup is a period of time where hte learning rate \n",
        "# is small and gradually increases--usually helps training.\n",
        "WARMUP_PROPORTION = 0.1\n",
        "# Model configs\n",
        "SAVE_CHECKPOINTS_STEPS = 1000\n",
        "SAVE_SUMMARY_STEPS = 500\n",
        "\n",
        "processors = {\n",
        "  \"cola\": run_classifier.ColaProcessor,\n",
        "  \"mnli\": run_classifier.MnliProcessor,\n",
        "  \"mrpc\": run_classifier.MrpcProcessor,\n",
        "}\n",
        "processor = processors[TASK.lower()]()\n",
        "label_list = processor.get_labels()\n",
        "\n",
        "# Compute number of train and warmup steps from batch size\n",
        "train_examples = processor.get_train_examples(TASK_DATA_DIR)\n",
        "num_train_steps = int(len(train_examples) / TRAIN_BATCH_SIZE * NUM_TRAIN_EPOCHS)\n",
        "num_warmup_steps = int(num_train_steps * WARMUP_PROPORTION)\n",
        "\n",
        "# Setup TPU related config\n",
        "tpu_cluster_resolver = tf.contrib.cluster_resolver.TPUClusterResolver(TPU_ADDRESS)\n",
        "NUM_TPU_CORES = 8\n",
        "ITERATIONS_PER_LOOP = 1000\n",
        "\n",
        "def get_run_config(output_dir):\n",
        "  return tf.contrib.tpu.RunConfig(\n",
        "    cluster=tpu_cluster_resolver,\n",
        "    model_dir=output_dir,\n",
        "    save_checkpoints_steps=SAVE_CHECKPOINTS_STEPS,\n",
        "    tpu_config=tf.contrib.tpu.TPUConfig(\n",
        "        iterations_per_loop=ITERATIONS_PER_LOOP,\n",
        "        num_shards=NUM_TPU_CORES,\n",
        "        per_host_input_for_training=tf.contrib.tpu.InputPipelineConfig.PER_HOST_V2))\n"
      ],
      "execution_count": 7,
      "outputs": [
        {
          "output_type": "stream",
          "text": [
            "W0813 21:59:08.222756 140613293332352 deprecation_wrapper.py:119] From bert_repo/run_classifier.py:199: The name tf.gfile.Open is deprecated. Please use tf.io.gfile.GFile instead.\n",
            "\n"
          ],
          "name": "stderr"
        }
      ]
    },
    {
      "cell_type": "markdown",
      "metadata": {
        "id": "m3iFMeqLaSll",
        "colab_type": "text"
      },
      "source": [
        "# Fine-tune and Run Predictions on a pretrained BERT Model from TF Hub"
      ]
    },
    {
      "cell_type": "markdown",
      "metadata": {
        "id": "eXyJRc0OIHEU",
        "colab_type": "text"
      },
      "source": [
        "This section demonstrates fine-tuning from a pre-trained BERT TF Hub module and running predictions.\n"
      ]
    },
    {
      "cell_type": "code",
      "metadata": {
        "id": "nwcsdbLuIX2I",
        "colab_type": "code",
        "outputId": "154ee464-8f49-4ad4-be09-d66e58abd7c2",
        "colab": {
          "base_uri": "https://localhost:8080/",
          "height": 54
        }
      },
      "source": [
        "# Force TF Hub writes to the GS bucket we provide.\n",
        "os.environ['TFHUB_CACHE_DIR'] = OUTPUT_DIR\n",
        "\n",
        "model_fn = run_classifier_with_tfhub.model_fn_builder(\n",
        "  num_labels=len(label_list),\n",
        "  learning_rate=LEARNING_RATE,\n",
        "  num_train_steps=num_train_steps,\n",
        "  num_warmup_steps=num_warmup_steps,\n",
        "  use_tpu=True,\n",
        "  bert_hub_module_handle=BERT_MODEL_HUB\n",
        ")\n",
        "\n",
        "estimator_from_tfhub = tf.contrib.tpu.TPUEstimator(\n",
        "  use_tpu=True,\n",
        "  model_fn=model_fn,\n",
        "  config=get_run_config(OUTPUT_DIR),\n",
        "  train_batch_size=TRAIN_BATCH_SIZE,\n",
        "  eval_batch_size=EVAL_BATCH_SIZE,\n",
        "  predict_batch_size=PREDICT_BATCH_SIZE,\n",
        ")\n"
      ],
      "execution_count": 8,
      "outputs": [
        {
          "output_type": "stream",
          "text": [
            "W0813 21:59:09.300712 140613293332352 estimator.py:1984] Estimator's model_fn (<function model_fn_builder.<locals>.model_fn at 0x7fe2c66babf8>) includes params argument, but params are not passed to Estimator.\n"
          ],
          "name": "stderr"
        }
      ]
    },
    {
      "cell_type": "markdown",
      "metadata": {
        "id": "MGVYj_rlcDhc",
        "colab_type": "text"
      },
      "source": [
        "At this point, you can now fine-tune the model, evaluate it, and run predictions on it."
      ]
    },
    {
      "cell_type": "code",
      "metadata": {
        "id": "5U_c8s2AvhgL",
        "colab_type": "code",
        "colab": {}
      },
      "source": [
        "# Train the model\n",
        "def model_train(estimator):\n",
        "  print('MRPC/CoLA on BERT base model normally takes about 2-3 minutes. Please wait...')\n",
        "  # We'll set sequences to be at most 128 tokens long.\n",
        "  train_features = run_classifier.convert_examples_to_features(\n",
        "      train_examples, label_list, MAX_SEQ_LENGTH, tokenizer)\n",
        "  print('***** Started training at {} *****'.format(datetime.datetime.now()))\n",
        "  print('  Num examples = {}'.format(len(train_examples)))\n",
        "  print('  Batch size = {}'.format(TRAIN_BATCH_SIZE))\n",
        "  tf.logging.info(\"  Num steps = %d\", num_train_steps)\n",
        "  train_input_fn = run_classifier.input_fn_builder(\n",
        "      features=train_features,\n",
        "      seq_length=MAX_SEQ_LENGTH,\n",
        "      is_training=True,\n",
        "      drop_remainder=True)\n",
        "  estimator.train(input_fn=train_input_fn, max_steps=num_train_steps)\n",
        "  print('***** Finished training at {} *****'.format(datetime.datetime.now()))\n",
        "\n"
      ],
      "execution_count": 0,
      "outputs": []
    },
    {
      "cell_type": "code",
      "metadata": {
        "id": "TRhzyk4_WD2n",
        "colab_type": "code",
        "outputId": "a529433d-b80a-42e5-d5c0-a199edf3bb7c",
        "colab": {
          "base_uri": "https://localhost:8080/",
          "height": 157
        }
      },
      "source": [
        "model_train(estimator_from_tfhub)"
      ],
      "execution_count": 10,
      "outputs": [
        {
          "output_type": "stream",
          "text": [
            "W0813 21:59:09.344632 140613293332352 deprecation_wrapper.py:119] From bert_repo/run_classifier.py:774: The name tf.logging.info is deprecated. Please use tf.compat.v1.logging.info instead.\n",
            "\n"
          ],
          "name": "stderr"
        },
        {
          "output_type": "stream",
          "text": [
            "MRPC/CoLA on BERT base model normally takes about 2-3 minutes. Please wait...\n",
            "***** Started training at 2019-08-13 21:59:13.175785 *****\n",
            "  Num examples = 3668\n",
            "  Batch size = 32\n",
            "***** Finished training at 2019-08-13 21:59:15.590549 *****\n"
          ],
          "name": "stdout"
        }
      ]
    },
    {
      "cell_type": "code",
      "metadata": {
        "id": "eoXRtSPZvdiS",
        "colab_type": "code",
        "colab": {}
      },
      "source": [
        "def model_eval(estimator):\n",
        "  # Eval the model.\n",
        "  eval_examples = processor.get_dev_examples(TASK_DATA_DIR)\n",
        "  eval_features = run_classifier.convert_examples_to_features(\n",
        "      eval_examples, label_list, MAX_SEQ_LENGTH, tokenizer)\n",
        "  print('***** Started evaluation at {} *****'.format(datetime.datetime.now()))\n",
        "  print('  Num examples = {}'.format(len(eval_examples)))\n",
        "  print('  Batch size = {}'.format(EVAL_BATCH_SIZE))\n",
        "\n",
        "  # Eval will be slightly WRONG on the TPU because it will truncate\n",
        "  # the last batch.\n",
        "  eval_steps = int(len(eval_examples) / EVAL_BATCH_SIZE)\n",
        "  eval_input_fn = run_classifier.input_fn_builder(\n",
        "      features=eval_features,\n",
        "      seq_length=MAX_SEQ_LENGTH,\n",
        "      is_training=False,\n",
        "      drop_remainder=True)\n",
        "  result = estimator.evaluate(input_fn=eval_input_fn, steps=eval_steps)\n",
        "  print('***** Finished evaluation at {} *****'.format(datetime.datetime.now()))\n",
        "  output_eval_file = os.path.join(OUTPUT_DIR, \"eval_results.txt\")\n",
        "  with tf.gfile.GFile(output_eval_file, \"w\") as writer:\n",
        "    print(\"***** Eval results *****\")\n",
        "    for key in sorted(result.keys()):\n",
        "      print('  {} = {}'.format(key, str(result[key])))\n",
        "      writer.write(\"%s = %s\\n\" % (key, str(result[key])))\n"
      ],
      "execution_count": 0,
      "outputs": []
    },
    {
      "cell_type": "code",
      "metadata": {
        "id": "lLQehBr4WHjj",
        "colab_type": "code",
        "outputId": "dd95ef61-152e-4f51-e847-3ff6c1a2e4f4",
        "colab": {
          "base_uri": "https://localhost:8080/",
          "height": 1000
        }
      },
      "source": [
        "model_eval(estimator_from_tfhub)"
      ],
      "execution_count": 12,
      "outputs": [
        {
          "output_type": "stream",
          "text": [
            "***** Started evaluation at 2019-08-13 21:59:16.098329 *****\n",
            "  Num examples = 408\n",
            "  Batch size = 8\n"
          ],
          "name": "stdout"
        },
        {
          "output_type": "stream",
          "text": [
            "E0813 21:59:24.212589 140613293332352 tpu.py:376] Operation of type Placeholder (module_apply_tokens/input_ids) is not supported on the TPU. Execution will fail if this op is used in the graph. \n",
            "E0813 21:59:24.214898 140613293332352 tpu.py:376] Operation of type Placeholder (module_apply_tokens/input_mask) is not supported on the TPU. Execution will fail if this op is used in the graph. \n",
            "E0813 21:59:24.216434 140613293332352 tpu.py:376] Operation of type Placeholder (module_apply_tokens/segment_ids) is not supported on the TPU. Execution will fail if this op is used in the graph. \n",
            "E0813 21:59:24.217603 140613293332352 tpu.py:376] Operation of type Placeholder (module_apply_tokens/mlm_positions) is not supported on the TPU. Execution will fail if this op is used in the graph. \n",
            "E0813 21:59:24.223889 140613293332352 tpu.py:376] Operation of type Placeholder (module_apply_tokens/bert/embeddings/word_embeddings) is not supported on the TPU. Execution will fail if this op is used in the graph. \n",
            "E0813 21:59:24.231584 140613293332352 tpu.py:376] Operation of type Placeholder (module_apply_tokens/bert/embeddings/token_type_embeddings) is not supported on the TPU. Execution will fail if this op is used in the graph. \n",
            "E0813 21:59:24.238973 140613293332352 tpu.py:376] Operation of type Placeholder (module_apply_tokens/bert/embeddings/position_embeddings) is not supported on the TPU. Execution will fail if this op is used in the graph. \n",
            "E0813 21:59:24.244058 140613293332352 tpu.py:376] Operation of type Placeholder (module_apply_tokens/bert/embeddings/LayerNorm/beta) is not supported on the TPU. Execution will fail if this op is used in the graph. \n",
            "E0813 21:59:24.246161 140613293332352 tpu.py:376] Operation of type Placeholder (module_apply_tokens/bert/embeddings/LayerNorm/gamma) is not supported on the TPU. Execution will fail if this op is used in the graph. \n",
            "E0813 21:59:24.262951 140613293332352 tpu.py:376] Operation of type Placeholder (module_apply_tokens/bert/encoder/layer_0/attention/self/query/kernel) is not supported on the TPU. Execution will fail if this op is used in the graph. \n",
            "E0813 21:59:24.267858 140613293332352 tpu.py:376] Operation of type Placeholder (module_apply_tokens/bert/encoder/layer_0/attention/self/query/bias) is not supported on the TPU. Execution will fail if this op is used in the graph. \n",
            "E0813 21:59:24.278630 140613293332352 tpu.py:376] Operation of type Placeholder (module_apply_tokens/bert/encoder/layer_0/attention/self/key/kernel) is not supported on the TPU. Execution will fail if this op is used in the graph. \n",
            "E0813 21:59:24.287490 140613293332352 tpu.py:376] Operation of type Placeholder (module_apply_tokens/bert/encoder/layer_0/attention/self/key/bias) is not supported on the TPU. Execution will fail if this op is used in the graph. \n",
            "E0813 21:59:24.298443 140613293332352 tpu.py:376] Operation of type Placeholder (module_apply_tokens/bert/encoder/layer_0/attention/self/value/kernel) is not supported on the TPU. Execution will fail if this op is used in the graph. \n",
            "E0813 21:59:24.302026 140613293332352 tpu.py:376] Operation of type Placeholder (module_apply_tokens/bert/encoder/layer_0/attention/self/value/bias) is not supported on the TPU. Execution will fail if this op is used in the graph. \n",
            "E0813 21:59:24.318377 140613293332352 tpu.py:376] Operation of type Placeholder (module_apply_tokens/bert/encoder/layer_0/attention/output/dense/kernel) is not supported on the TPU. Execution will fail if this op is used in the graph. \n",
            "E0813 21:59:24.322486 140613293332352 tpu.py:376] Operation of type Placeholder (module_apply_tokens/bert/encoder/layer_0/attention/output/dense/bias) is not supported on the TPU. Execution will fail if this op is used in the graph. \n",
            "E0813 21:59:24.329092 140613293332352 tpu.py:376] Operation of type Placeholder (module_apply_tokens/bert/encoder/layer_0/attention/output/LayerNorm/beta) is not supported on the TPU. Execution will fail if this op is used in the graph. \n",
            "E0813 21:59:24.333225 140613293332352 tpu.py:376] Operation of type Placeholder (module_apply_tokens/bert/encoder/layer_0/attention/output/LayerNorm/gamma) is not supported on the TPU. Execution will fail if this op is used in the graph. \n",
            "E0813 21:59:24.341181 140613293332352 tpu.py:376] Operation of type Placeholder (module_apply_tokens/bert/encoder/layer_0/intermediate/dense/kernel) is not supported on the TPU. Execution will fail if this op is used in the graph. \n",
            "E0813 21:59:24.347294 140613293332352 tpu.py:376] Operation of type Placeholder (module_apply_tokens/bert/encoder/layer_0/intermediate/dense/bias) is not supported on the TPU. Execution will fail if this op is used in the graph. \n",
            "E0813 21:59:24.355949 140613293332352 tpu.py:376] Operation of type Placeholder (module_apply_tokens/bert/encoder/layer_0/output/dense/kernel) is not supported on the TPU. Execution will fail if this op is used in the graph. \n",
            "E0813 21:59:24.360012 140613293332352 tpu.py:376] Operation of type Placeholder (module_apply_tokens/bert/encoder/layer_0/output/dense/bias) is not supported on the TPU. Execution will fail if this op is used in the graph. \n",
            "E0813 21:59:24.365383 140613293332352 tpu.py:376] Operation of type Placeholder (module_apply_tokens/bert/encoder/layer_0/output/LayerNorm/beta) is not supported on the TPU. Execution will fail if this op is used in the graph. \n",
            "E0813 21:59:24.369188 140613293332352 tpu.py:376] Operation of type Placeholder (module_apply_tokens/bert/encoder/layer_0/output/LayerNorm/gamma) is not supported on the TPU. Execution will fail if this op is used in the graph. \n",
            "E0813 21:59:24.379956 140613293332352 tpu.py:376] Operation of type Placeholder (module_apply_tokens/bert/encoder/layer_1/attention/self/query/kernel) is not supported on the TPU. Execution will fail if this op is used in the graph. \n",
            "E0813 21:59:24.385018 140613293332352 tpu.py:376] Operation of type Placeholder (module_apply_tokens/bert/encoder/layer_1/attention/self/query/bias) is not supported on the TPU. Execution will fail if this op is used in the graph. \n",
            "E0813 21:59:24.391717 140613293332352 tpu.py:376] Operation of type Placeholder (module_apply_tokens/bert/encoder/layer_1/attention/self/key/kernel) is not supported on the TPU. Execution will fail if this op is used in the graph. \n",
            "E0813 21:59:24.397421 140613293332352 tpu.py:376] Operation of type Placeholder (module_apply_tokens/bert/encoder/layer_1/attention/self/key/bias) is not supported on the TPU. Execution will fail if this op is used in the graph. \n",
            "E0813 21:59:24.404948 140613293332352 tpu.py:376] Operation of type Placeholder (module_apply_tokens/bert/encoder/layer_1/attention/self/value/kernel) is not supported on the TPU. Execution will fail if this op is used in the graph. \n",
            "E0813 21:59:24.410589 140613293332352 tpu.py:376] Operation of type Placeholder (module_apply_tokens/bert/encoder/layer_1/attention/self/value/bias) is not supported on the TPU. Execution will fail if this op is used in the graph. \n",
            "E0813 21:59:24.426149 140613293332352 tpu.py:376] Operation of type Placeholder (module_apply_tokens/bert/encoder/layer_1/attention/output/dense/kernel) is not supported on the TPU. Execution will fail if this op is used in the graph. \n",
            "E0813 21:59:24.431884 140613293332352 tpu.py:376] Operation of type Placeholder (module_apply_tokens/bert/encoder/layer_1/attention/output/dense/bias) is not supported on the TPU. Execution will fail if this op is used in the graph. \n",
            "E0813 21:59:24.439702 140613293332352 tpu.py:376] Operation of type Placeholder (module_apply_tokens/bert/encoder/layer_1/attention/output/LayerNorm/beta) is not supported on the TPU. Execution will fail if this op is used in the graph. \n",
            "E0813 21:59:24.448080 140613293332352 tpu.py:376] Operation of type Placeholder (module_apply_tokens/bert/encoder/layer_1/attention/output/LayerNorm/gamma) is not supported on the TPU. Execution will fail if this op is used in the graph. \n",
            "E0813 21:59:24.457304 140613293332352 tpu.py:376] Operation of type Placeholder (module_apply_tokens/bert/encoder/layer_1/intermediate/dense/kernel) is not supported on the TPU. Execution will fail if this op is used in the graph. \n",
            "E0813 21:59:24.461355 140613293332352 tpu.py:376] Operation of type Placeholder (module_apply_tokens/bert/encoder/layer_1/intermediate/dense/bias) is not supported on the TPU. Execution will fail if this op is used in the graph. \n",
            "E0813 21:59:24.472666 140613293332352 tpu.py:376] Operation of type Placeholder (module_apply_tokens/bert/encoder/layer_1/output/dense/kernel) is not supported on the TPU. Execution will fail if this op is used in the graph. \n",
            "E0813 21:59:24.476107 140613293332352 tpu.py:376] Operation of type Placeholder (module_apply_tokens/bert/encoder/layer_1/output/dense/bias) is not supported on the TPU. Execution will fail if this op is used in the graph. \n",
            "E0813 21:59:24.481322 140613293332352 tpu.py:376] Operation of type Placeholder (module_apply_tokens/bert/encoder/layer_1/output/LayerNorm/beta) is not supported on the TPU. Execution will fail if this op is used in the graph. \n",
            "E0813 21:59:24.485168 140613293332352 tpu.py:376] Operation of type Placeholder (module_apply_tokens/bert/encoder/layer_1/output/LayerNorm/gamma) is not supported on the TPU. Execution will fail if this op is used in the graph. \n",
            "E0813 21:59:24.498680 140613293332352 tpu.py:376] Operation of type Placeholder (module_apply_tokens/bert/encoder/layer_2/attention/self/query/kernel) is not supported on the TPU. Execution will fail if this op is used in the graph. \n",
            "E0813 21:59:24.502477 140613293332352 tpu.py:376] Operation of type Placeholder (module_apply_tokens/bert/encoder/layer_2/attention/self/query/bias) is not supported on the TPU. Execution will fail if this op is used in the graph. \n",
            "E0813 21:59:24.510767 140613293332352 tpu.py:376] Operation of type Placeholder (module_apply_tokens/bert/encoder/layer_2/attention/self/key/kernel) is not supported on the TPU. Execution will fail if this op is used in the graph. \n",
            "E0813 21:59:24.515158 140613293332352 tpu.py:376] Operation of type Placeholder (module_apply_tokens/bert/encoder/layer_2/attention/self/key/bias) is not supported on the TPU. Execution will fail if this op is used in the graph. \n",
            "E0813 21:59:24.522498 140613293332352 tpu.py:376] Operation of type Placeholder (module_apply_tokens/bert/encoder/layer_2/attention/self/value/kernel) is not supported on the TPU. Execution will fail if this op is used in the graph. \n",
            "E0813 21:59:24.527888 140613293332352 tpu.py:376] Operation of type Placeholder (module_apply_tokens/bert/encoder/layer_2/attention/self/value/bias) is not supported on the TPU. Execution will fail if this op is used in the graph. \n",
            "E0813 21:59:24.544662 140613293332352 tpu.py:376] Operation of type Placeholder (module_apply_tokens/bert/encoder/layer_2/attention/output/dense/kernel) is not supported on the TPU. Execution will fail if this op is used in the graph. \n",
            "E0813 21:59:24.551980 140613293332352 tpu.py:376] Operation of type Placeholder (module_apply_tokens/bert/encoder/layer_2/attention/output/dense/bias) is not supported on the TPU. Execution will fail if this op is used in the graph. \n",
            "E0813 21:59:24.559838 140613293332352 tpu.py:376] Operation of type Placeholder (module_apply_tokens/bert/encoder/layer_2/attention/output/LayerNorm/beta) is not supported on the TPU. Execution will fail if this op is used in the graph. \n",
            "E0813 21:59:24.564636 140613293332352 tpu.py:376] Operation of type Placeholder (module_apply_tokens/bert/encoder/layer_2/attention/output/LayerNorm/gamma) is not supported on the TPU. Execution will fail if this op is used in the graph. \n",
            "E0813 21:59:24.573696 140613293332352 tpu.py:376] Operation of type Placeholder (module_apply_tokens/bert/encoder/layer_2/intermediate/dense/kernel) is not supported on the TPU. Execution will fail if this op is used in the graph. \n",
            "E0813 21:59:24.577877 140613293332352 tpu.py:376] Operation of type Placeholder (module_apply_tokens/bert/encoder/layer_2/intermediate/dense/bias) is not supported on the TPU. Execution will fail if this op is used in the graph. \n",
            "E0813 21:59:24.589781 140613293332352 tpu.py:376] Operation of type Placeholder (module_apply_tokens/bert/encoder/layer_2/output/dense/kernel) is not supported on the TPU. Execution will fail if this op is used in the graph. \n",
            "E0813 21:59:24.593178 140613293332352 tpu.py:376] Operation of type Placeholder (module_apply_tokens/bert/encoder/layer_2/output/dense/bias) is not supported on the TPU. Execution will fail if this op is used in the graph. \n",
            "E0813 21:59:24.600070 140613293332352 tpu.py:376] Operation of type Placeholder (module_apply_tokens/bert/encoder/layer_2/output/LayerNorm/beta) is not supported on the TPU. Execution will fail if this op is used in the graph. \n",
            "E0813 21:59:24.604435 140613293332352 tpu.py:376] Operation of type Placeholder (module_apply_tokens/bert/encoder/layer_2/output/LayerNorm/gamma) is not supported on the TPU. Execution will fail if this op is used in the graph. \n",
            "E0813 21:59:24.616900 140613293332352 tpu.py:376] Operation of type Placeholder (module_apply_tokens/bert/encoder/layer_3/attention/self/query/kernel) is not supported on the TPU. Execution will fail if this op is used in the graph. \n",
            "E0813 21:59:24.918604 140613293332352 tpu.py:376] Operation of type Placeholder (module_apply_tokens/bert/encoder/layer_3/attention/self/query/bias) is not supported on the TPU. Execution will fail if this op is used in the graph. \n",
            "E0813 21:59:24.926274 140613293332352 tpu.py:376] Operation of type Placeholder (module_apply_tokens/bert/encoder/layer_3/attention/self/key/kernel) is not supported on the TPU. Execution will fail if this op is used in the graph. \n",
            "E0813 21:59:24.929450 140613293332352 tpu.py:376] Operation of type Placeholder (module_apply_tokens/bert/encoder/layer_3/attention/self/key/bias) is not supported on the TPU. Execution will fail if this op is used in the graph. \n",
            "E0813 21:59:24.935543 140613293332352 tpu.py:376] Operation of type Placeholder (module_apply_tokens/bert/encoder/layer_3/attention/self/value/kernel) is not supported on the TPU. Execution will fail if this op is used in the graph. \n",
            "E0813 21:59:24.938457 140613293332352 tpu.py:376] Operation of type Placeholder (module_apply_tokens/bert/encoder/layer_3/attention/self/value/bias) is not supported on the TPU. Execution will fail if this op is used in the graph. \n",
            "E0813 21:59:24.951303 140613293332352 tpu.py:376] Operation of type Placeholder (module_apply_tokens/bert/encoder/layer_3/attention/output/dense/kernel) is not supported on the TPU. Execution will fail if this op is used in the graph. \n",
            "E0813 21:59:24.954863 140613293332352 tpu.py:376] Operation of type Placeholder (module_apply_tokens/bert/encoder/layer_3/attention/output/dense/bias) is not supported on the TPU. Execution will fail if this op is used in the graph. \n",
            "E0813 21:59:24.960434 140613293332352 tpu.py:376] Operation of type Placeholder (module_apply_tokens/bert/encoder/layer_3/attention/output/LayerNorm/beta) is not supported on the TPU. Execution will fail if this op is used in the graph. \n",
            "E0813 21:59:24.963659 140613293332352 tpu.py:376] Operation of type Placeholder (module_apply_tokens/bert/encoder/layer_3/attention/output/LayerNorm/gamma) is not supported on the TPU. Execution will fail if this op is used in the graph. \n",
            "E0813 21:59:24.972293 140613293332352 tpu.py:376] Operation of type Placeholder (module_apply_tokens/bert/encoder/layer_3/intermediate/dense/kernel) is not supported on the TPU. Execution will fail if this op is used in the graph. \n",
            "E0813 21:59:24.976104 140613293332352 tpu.py:376] Operation of type Placeholder (module_apply_tokens/bert/encoder/layer_3/intermediate/dense/bias) is not supported on the TPU. Execution will fail if this op is used in the graph. \n",
            "E0813 21:59:24.983583 140613293332352 tpu.py:376] Operation of type Placeholder (module_apply_tokens/bert/encoder/layer_3/output/dense/kernel) is not supported on the TPU. Execution will fail if this op is used in the graph. \n",
            "E0813 21:59:24.989110 140613293332352 tpu.py:376] Operation of type Placeholder (module_apply_tokens/bert/encoder/layer_3/output/dense/bias) is not supported on the TPU. Execution will fail if this op is used in the graph. \n",
            "E0813 21:59:24.995908 140613293332352 tpu.py:376] Operation of type Placeholder (module_apply_tokens/bert/encoder/layer_3/output/LayerNorm/beta) is not supported on the TPU. Execution will fail if this op is used in the graph. \n",
            "E0813 21:59:25.001318 140613293332352 tpu.py:376] Operation of type Placeholder (module_apply_tokens/bert/encoder/layer_3/output/LayerNorm/gamma) is not supported on the TPU. Execution will fail if this op is used in the graph. \n",
            "E0813 21:59:25.017830 140613293332352 tpu.py:376] Operation of type Placeholder (module_apply_tokens/bert/encoder/layer_4/attention/self/query/kernel) is not supported on the TPU. Execution will fail if this op is used in the graph. \n",
            "E0813 21:59:25.022668 140613293332352 tpu.py:376] Operation of type Placeholder (module_apply_tokens/bert/encoder/layer_4/attention/self/query/bias) is not supported on the TPU. Execution will fail if this op is used in the graph. \n",
            "E0813 21:59:25.030161 140613293332352 tpu.py:376] Operation of type Placeholder (module_apply_tokens/bert/encoder/layer_4/attention/self/key/kernel) is not supported on the TPU. Execution will fail if this op is used in the graph. \n",
            "E0813 21:59:25.036646 140613293332352 tpu.py:376] Operation of type Placeholder (module_apply_tokens/bert/encoder/layer_4/attention/self/key/bias) is not supported on the TPU. Execution will fail if this op is used in the graph. \n",
            "E0813 21:59:25.042305 140613293332352 tpu.py:376] Operation of type Placeholder (module_apply_tokens/bert/encoder/layer_4/attention/self/value/kernel) is not supported on the TPU. Execution will fail if this op is used in the graph. \n",
            "E0813 21:59:25.045740 140613293332352 tpu.py:376] Operation of type Placeholder (module_apply_tokens/bert/encoder/layer_4/attention/self/value/bias) is not supported on the TPU. Execution will fail if this op is used in the graph. \n",
            "E0813 21:59:25.059075 140613293332352 tpu.py:376] Operation of type Placeholder (module_apply_tokens/bert/encoder/layer_4/attention/output/dense/kernel) is not supported on the TPU. Execution will fail if this op is used in the graph. \n",
            "E0813 21:59:25.062427 140613293332352 tpu.py:376] Operation of type Placeholder (module_apply_tokens/bert/encoder/layer_4/attention/output/dense/bias) is not supported on the TPU. Execution will fail if this op is used in the graph. \n",
            "E0813 21:59:25.068074 140613293332352 tpu.py:376] Operation of type Placeholder (module_apply_tokens/bert/encoder/layer_4/attention/output/LayerNorm/beta) is not supported on the TPU. Execution will fail if this op is used in the graph. \n",
            "E0813 21:59:25.071895 140613293332352 tpu.py:376] Operation of type Placeholder (module_apply_tokens/bert/encoder/layer_4/attention/output/LayerNorm/gamma) is not supported on the TPU. Execution will fail if this op is used in the graph. \n",
            "E0813 21:59:25.079820 140613293332352 tpu.py:376] Operation of type Placeholder (module_apply_tokens/bert/encoder/layer_4/intermediate/dense/kernel) is not supported on the TPU. Execution will fail if this op is used in the graph. \n",
            "E0813 21:59:25.085036 140613293332352 tpu.py:376] Operation of type Placeholder (module_apply_tokens/bert/encoder/layer_4/intermediate/dense/bias) is not supported on the TPU. Execution will fail if this op is used in the graph. \n",
            "E0813 21:59:25.093091 140613293332352 tpu.py:376] Operation of type Placeholder (module_apply_tokens/bert/encoder/layer_4/output/dense/kernel) is not supported on the TPU. Execution will fail if this op is used in the graph. \n",
            "E0813 21:59:25.096755 140613293332352 tpu.py:376] Operation of type Placeholder (module_apply_tokens/bert/encoder/layer_4/output/dense/bias) is not supported on the TPU. Execution will fail if this op is used in the graph. \n",
            "E0813 21:59:25.102708 140613293332352 tpu.py:376] Operation of type Placeholder (module_apply_tokens/bert/encoder/layer_4/output/LayerNorm/beta) is not supported on the TPU. Execution will fail if this op is used in the graph. \n",
            "E0813 21:59:25.105562 140613293332352 tpu.py:376] Operation of type Placeholder (module_apply_tokens/bert/encoder/layer_4/output/LayerNorm/gamma) is not supported on the TPU. Execution will fail if this op is used in the graph. \n",
            "E0813 21:59:25.116008 140613293332352 tpu.py:376] Operation of type Placeholder (module_apply_tokens/bert/encoder/layer_5/attention/self/query/kernel) is not supported on the TPU. Execution will fail if this op is used in the graph. \n",
            "E0813 21:59:25.120071 140613293332352 tpu.py:376] Operation of type Placeholder (module_apply_tokens/bert/encoder/layer_5/attention/self/query/bias) is not supported on the TPU. Execution will fail if this op is used in the graph. \n",
            "E0813 21:59:25.124836 140613293332352 tpu.py:376] Operation of type Placeholder (module_apply_tokens/bert/encoder/layer_5/attention/self/key/kernel) is not supported on the TPU. Execution will fail if this op is used in the graph. \n",
            "E0813 21:59:25.128720 140613293332352 tpu.py:376] Operation of type Placeholder (module_apply_tokens/bert/encoder/layer_5/attention/self/key/bias) is not supported on the TPU. Execution will fail if this op is used in the graph. \n",
            "E0813 21:59:25.135150 140613293332352 tpu.py:376] Operation of type Placeholder (module_apply_tokens/bert/encoder/layer_5/attention/self/value/kernel) is not supported on the TPU. Execution will fail if this op is used in the graph. \n",
            "E0813 21:59:25.138926 140613293332352 tpu.py:376] Operation of type Placeholder (module_apply_tokens/bert/encoder/layer_5/attention/self/value/bias) is not supported on the TPU. Execution will fail if this op is used in the graph. \n",
            "E0813 21:59:25.151084 140613293332352 tpu.py:376] Operation of type Placeholder (module_apply_tokens/bert/encoder/layer_5/attention/output/dense/kernel) is not supported on the TPU. Execution will fail if this op is used in the graph. \n",
            "E0813 21:59:25.155063 140613293332352 tpu.py:376] Operation of type Placeholder (module_apply_tokens/bert/encoder/layer_5/attention/output/dense/bias) is not supported on the TPU. Execution will fail if this op is used in the graph. \n",
            "E0813 21:59:25.161474 140613293332352 tpu.py:376] Operation of type Placeholder (module_apply_tokens/bert/encoder/layer_5/attention/output/LayerNorm/beta) is not supported on the TPU. Execution will fail if this op is used in the graph. \n",
            "E0813 21:59:25.165454 140613293332352 tpu.py:376] Operation of type Placeholder (module_apply_tokens/bert/encoder/layer_5/attention/output/LayerNorm/gamma) is not supported on the TPU. Execution will fail if this op is used in the graph. \n",
            "E0813 21:59:25.175304 140613293332352 tpu.py:376] Operation of type Placeholder (module_apply_tokens/bert/encoder/layer_5/intermediate/dense/kernel) is not supported on the TPU. Execution will fail if this op is used in the graph. \n",
            "E0813 21:59:25.179403 140613293332352 tpu.py:376] Operation of type Placeholder (module_apply_tokens/bert/encoder/layer_5/intermediate/dense/bias) is not supported on the TPU. Execution will fail if this op is used in the graph. \n",
            "E0813 21:59:25.193051 140613293332352 tpu.py:376] Operation of type Placeholder (module_apply_tokens/bert/encoder/layer_5/output/dense/kernel) is not supported on the TPU. Execution will fail if this op is used in the graph. \n",
            "E0813 21:59:25.196365 140613293332352 tpu.py:376] Operation of type Placeholder (module_apply_tokens/bert/encoder/layer_5/output/dense/bias) is not supported on the TPU. Execution will fail if this op is used in the graph. \n",
            "E0813 21:59:25.205479 140613293332352 tpu.py:376] Operation of type Placeholder (module_apply_tokens/bert/encoder/layer_5/output/LayerNorm/beta) is not supported on the TPU. Execution will fail if this op is used in the graph. \n",
            "E0813 21:59:25.208850 140613293332352 tpu.py:376] Operation of type Placeholder (module_apply_tokens/bert/encoder/layer_5/output/LayerNorm/gamma) is not supported on the TPU. Execution will fail if this op is used in the graph. \n",
            "E0813 21:59:25.219629 140613293332352 tpu.py:376] Operation of type Placeholder (module_apply_tokens/bert/encoder/layer_6/attention/self/query/kernel) is not supported on the TPU. Execution will fail if this op is used in the graph. \n",
            "E0813 21:59:25.223095 140613293332352 tpu.py:376] Operation of type Placeholder (module_apply_tokens/bert/encoder/layer_6/attention/self/query/bias) is not supported on the TPU. Execution will fail if this op is used in the graph. \n",
            "E0813 21:59:25.229610 140613293332352 tpu.py:376] Operation of type Placeholder (module_apply_tokens/bert/encoder/layer_6/attention/self/key/kernel) is not supported on the TPU. Execution will fail if this op is used in the graph. \n",
            "E0813 21:59:25.233376 140613293332352 tpu.py:376] Operation of type Placeholder (module_apply_tokens/bert/encoder/layer_6/attention/self/key/bias) is not supported on the TPU. Execution will fail if this op is used in the graph. \n",
            "E0813 21:59:25.240324 140613293332352 tpu.py:376] Operation of type Placeholder (module_apply_tokens/bert/encoder/layer_6/attention/self/value/kernel) is not supported on the TPU. Execution will fail if this op is used in the graph. \n",
            "E0813 21:59:25.243510 140613293332352 tpu.py:376] Operation of type Placeholder (module_apply_tokens/bert/encoder/layer_6/attention/self/value/bias) is not supported on the TPU. Execution will fail if this op is used in the graph. \n",
            "E0813 21:59:25.256824 140613293332352 tpu.py:376] Operation of type Placeholder (module_apply_tokens/bert/encoder/layer_6/attention/output/dense/kernel) is not supported on the TPU. Execution will fail if this op is used in the graph. \n",
            "E0813 21:59:25.259903 140613293332352 tpu.py:376] Operation of type Placeholder (module_apply_tokens/bert/encoder/layer_6/attention/output/dense/bias) is not supported on the TPU. Execution will fail if this op is used in the graph. \n",
            "E0813 21:59:25.265734 140613293332352 tpu.py:376] Operation of type Placeholder (module_apply_tokens/bert/encoder/layer_6/attention/output/LayerNorm/beta) is not supported on the TPU. Execution will fail if this op is used in the graph. \n",
            "E0813 21:59:25.268081 140613293332352 tpu.py:376] Operation of type Placeholder (module_apply_tokens/bert/encoder/layer_6/attention/output/LayerNorm/gamma) is not supported on the TPU. Execution will fail if this op is used in the graph. \n",
            "E0813 21:59:25.275620 140613293332352 tpu.py:376] Operation of type Placeholder (module_apply_tokens/bert/encoder/layer_6/intermediate/dense/kernel) is not supported on the TPU. Execution will fail if this op is used in the graph. \n",
            "E0813 21:59:25.280468 140613293332352 tpu.py:376] Operation of type Placeholder (module_apply_tokens/bert/encoder/layer_6/intermediate/dense/bias) is not supported on the TPU. Execution will fail if this op is used in the graph. \n",
            "E0813 21:59:25.291633 140613293332352 tpu.py:376] Operation of type Placeholder (module_apply_tokens/bert/encoder/layer_6/output/dense/kernel) is not supported on the TPU. Execution will fail if this op is used in the graph. \n",
            "E0813 21:59:25.300928 140613293332352 tpu.py:376] Operation of type Placeholder (module_apply_tokens/bert/encoder/layer_6/output/dense/bias) is not supported on the TPU. Execution will fail if this op is used in the graph. \n",
            "E0813 21:59:25.307706 140613293332352 tpu.py:376] Operation of type Placeholder (module_apply_tokens/bert/encoder/layer_6/output/LayerNorm/beta) is not supported on the TPU. Execution will fail if this op is used in the graph. \n",
            "E0813 21:59:25.310838 140613293332352 tpu.py:376] Operation of type Placeholder (module_apply_tokens/bert/encoder/layer_6/output/LayerNorm/gamma) is not supported on the TPU. Execution will fail if this op is used in the graph. \n",
            "E0813 21:59:25.323793 140613293332352 tpu.py:376] Operation of type Placeholder (module_apply_tokens/bert/encoder/layer_7/attention/self/query/kernel) is not supported on the TPU. Execution will fail if this op is used in the graph. \n",
            "E0813 21:59:25.327554 140613293332352 tpu.py:376] Operation of type Placeholder (module_apply_tokens/bert/encoder/layer_7/attention/self/query/bias) is not supported on the TPU. Execution will fail if this op is used in the graph. \n",
            "E0813 21:59:25.333142 140613293332352 tpu.py:376] Operation of type Placeholder (module_apply_tokens/bert/encoder/layer_7/attention/self/key/kernel) is not supported on the TPU. Execution will fail if this op is used in the graph. \n",
            "E0813 21:59:25.336836 140613293332352 tpu.py:376] Operation of type Placeholder (module_apply_tokens/bert/encoder/layer_7/attention/self/key/bias) is not supported on the TPU. Execution will fail if this op is used in the graph. \n",
            "E0813 21:59:25.344427 140613293332352 tpu.py:376] Operation of type Placeholder (module_apply_tokens/bert/encoder/layer_7/attention/self/value/kernel) is not supported on the TPU. Execution will fail if this op is used in the graph. \n",
            "E0813 21:59:25.348135 140613293332352 tpu.py:376] Operation of type Placeholder (module_apply_tokens/bert/encoder/layer_7/attention/self/value/bias) is not supported on the TPU. Execution will fail if this op is used in the graph. \n",
            "E0813 21:59:25.360701 140613293332352 tpu.py:376] Operation of type Placeholder (module_apply_tokens/bert/encoder/layer_7/attention/output/dense/kernel) is not supported on the TPU. Execution will fail if this op is used in the graph. \n",
            "E0813 21:59:25.364695 140613293332352 tpu.py:376] Operation of type Placeholder (module_apply_tokens/bert/encoder/layer_7/attention/output/dense/bias) is not supported on the TPU. Execution will fail if this op is used in the graph. \n",
            "E0813 21:59:25.371434 140613293332352 tpu.py:376] Operation of type Placeholder (module_apply_tokens/bert/encoder/layer_7/attention/output/LayerNorm/beta) is not supported on the TPU. Execution will fail if this op is used in the graph. \n",
            "E0813 21:59:25.375437 140613293332352 tpu.py:376] Operation of type Placeholder (module_apply_tokens/bert/encoder/layer_7/attention/output/LayerNorm/gamma) is not supported on the TPU. Execution will fail if this op is used in the graph. \n",
            "E0813 21:59:25.384518 140613293332352 tpu.py:376] Operation of type Placeholder (module_apply_tokens/bert/encoder/layer_7/intermediate/dense/kernel) is not supported on the TPU. Execution will fail if this op is used in the graph. \n",
            "E0813 21:59:25.389151 140613293332352 tpu.py:376] Operation of type Placeholder (module_apply_tokens/bert/encoder/layer_7/intermediate/dense/bias) is not supported on the TPU. Execution will fail if this op is used in the graph. \n",
            "E0813 21:59:25.398184 140613293332352 tpu.py:376] Operation of type Placeholder (module_apply_tokens/bert/encoder/layer_7/output/dense/kernel) is not supported on the TPU. Execution will fail if this op is used in the graph. \n",
            "E0813 21:59:25.401990 140613293332352 tpu.py:376] Operation of type Placeholder (module_apply_tokens/bert/encoder/layer_7/output/dense/bias) is not supported on the TPU. Execution will fail if this op is used in the graph. \n",
            "E0813 21:59:25.406343 140613293332352 tpu.py:376] Operation of type Placeholder (module_apply_tokens/bert/encoder/layer_7/output/LayerNorm/beta) is not supported on the TPU. Execution will fail if this op is used in the graph. \n",
            "E0813 21:59:25.410382 140613293332352 tpu.py:376] Operation of type Placeholder (module_apply_tokens/bert/encoder/layer_7/output/LayerNorm/gamma) is not supported on the TPU. Execution will fail if this op is used in the graph. \n",
            "E0813 21:59:25.423272 140613293332352 tpu.py:376] Operation of type Placeholder (module_apply_tokens/bert/encoder/layer_8/attention/self/query/kernel) is not supported on the TPU. Execution will fail if this op is used in the graph. \n",
            "E0813 21:59:25.427171 140613293332352 tpu.py:376] Operation of type Placeholder (module_apply_tokens/bert/encoder/layer_8/attention/self/query/bias) is not supported on the TPU. Execution will fail if this op is used in the graph. \n",
            "E0813 21:59:25.433487 140613293332352 tpu.py:376] Operation of type Placeholder (module_apply_tokens/bert/encoder/layer_8/attention/self/key/kernel) is not supported on the TPU. Execution will fail if this op is used in the graph. \n",
            "E0813 21:59:25.436521 140613293332352 tpu.py:376] Operation of type Placeholder (module_apply_tokens/bert/encoder/layer_8/attention/self/key/bias) is not supported on the TPU. Execution will fail if this op is used in the graph. \n",
            "E0813 21:59:25.442617 140613293332352 tpu.py:376] Operation of type Placeholder (module_apply_tokens/bert/encoder/layer_8/attention/self/value/kernel) is not supported on the TPU. Execution will fail if this op is used in the graph. \n",
            "E0813 21:59:25.445477 140613293332352 tpu.py:376] Operation of type Placeholder (module_apply_tokens/bert/encoder/layer_8/attention/self/value/bias) is not supported on the TPU. Execution will fail if this op is used in the graph. \n",
            "E0813 21:59:25.457634 140613293332352 tpu.py:376] Operation of type Placeholder (module_apply_tokens/bert/encoder/layer_8/attention/output/dense/kernel) is not supported on the TPU. Execution will fail if this op is used in the graph. \n",
            "E0813 21:59:25.461346 140613293332352 tpu.py:376] Operation of type Placeholder (module_apply_tokens/bert/encoder/layer_8/attention/output/dense/bias) is not supported on the TPU. Execution will fail if this op is used in the graph. \n",
            "E0813 21:59:25.465846 140613293332352 tpu.py:376] Operation of type Placeholder (module_apply_tokens/bert/encoder/layer_8/attention/output/LayerNorm/beta) is not supported on the TPU. Execution will fail if this op is used in the graph. \n",
            "E0813 21:59:25.469160 140613293332352 tpu.py:376] Operation of type Placeholder (module_apply_tokens/bert/encoder/layer_8/attention/output/LayerNorm/gamma) is not supported on the TPU. Execution will fail if this op is used in the graph. \n",
            "E0813 21:59:25.477935 140613293332352 tpu.py:376] Operation of type Placeholder (module_apply_tokens/bert/encoder/layer_8/intermediate/dense/kernel) is not supported on the TPU. Execution will fail if this op is used in the graph. \n",
            "E0813 21:59:25.482715 140613293332352 tpu.py:376] Operation of type Placeholder (module_apply_tokens/bert/encoder/layer_8/intermediate/dense/bias) is not supported on the TPU. Execution will fail if this op is used in the graph. \n",
            "E0813 21:59:25.491281 140613293332352 tpu.py:376] Operation of type Placeholder (module_apply_tokens/bert/encoder/layer_8/output/dense/kernel) is not supported on the TPU. Execution will fail if this op is used in the graph. \n",
            "E0813 21:59:25.494802 140613293332352 tpu.py:376] Operation of type Placeholder (module_apply_tokens/bert/encoder/layer_8/output/dense/bias) is not supported on the TPU. Execution will fail if this op is used in the graph. \n",
            "E0813 21:59:25.500496 140613293332352 tpu.py:376] Operation of type Placeholder (module_apply_tokens/bert/encoder/layer_8/output/LayerNorm/beta) is not supported on the TPU. Execution will fail if this op is used in the graph. \n",
            "E0813 21:59:25.504132 140613293332352 tpu.py:376] Operation of type Placeholder (module_apply_tokens/bert/encoder/layer_8/output/LayerNorm/gamma) is not supported on the TPU. Execution will fail if this op is used in the graph. \n",
            "E0813 21:59:25.514717 140613293332352 tpu.py:376] Operation of type Placeholder (module_apply_tokens/bert/encoder/layer_9/attention/self/query/kernel) is not supported on the TPU. Execution will fail if this op is used in the graph. \n",
            "E0813 21:59:25.517558 140613293332352 tpu.py:376] Operation of type Placeholder (module_apply_tokens/bert/encoder/layer_9/attention/self/query/bias) is not supported on the TPU. Execution will fail if this op is used in the graph. \n",
            "E0813 21:59:25.523803 140613293332352 tpu.py:376] Operation of type Placeholder (module_apply_tokens/bert/encoder/layer_9/attention/self/key/kernel) is not supported on the TPU. Execution will fail if this op is used in the graph. \n",
            "E0813 21:59:25.529891 140613293332352 tpu.py:376] Operation of type Placeholder (module_apply_tokens/bert/encoder/layer_9/attention/self/key/bias) is not supported on the TPU. Execution will fail if this op is used in the graph. \n",
            "E0813 21:59:25.535916 140613293332352 tpu.py:376] Operation of type Placeholder (module_apply_tokens/bert/encoder/layer_9/attention/self/value/kernel) is not supported on the TPU. Execution will fail if this op is used in the graph. \n",
            "E0813 21:59:25.539033 140613293332352 tpu.py:376] Operation of type Placeholder (module_apply_tokens/bert/encoder/layer_9/attention/self/value/bias) is not supported on the TPU. Execution will fail if this op is used in the graph. \n",
            "E0813 21:59:25.552899 140613293332352 tpu.py:376] Operation of type Placeholder (module_apply_tokens/bert/encoder/layer_9/attention/output/dense/kernel) is not supported on the TPU. Execution will fail if this op is used in the graph. \n",
            "E0813 21:59:25.556124 140613293332352 tpu.py:376] Operation of type Placeholder (module_apply_tokens/bert/encoder/layer_9/attention/output/dense/bias) is not supported on the TPU. Execution will fail if this op is used in the graph. \n",
            "E0813 21:59:25.560535 140613293332352 tpu.py:376] Operation of type Placeholder (module_apply_tokens/bert/encoder/layer_9/attention/output/LayerNorm/beta) is not supported on the TPU. Execution will fail if this op is used in the graph. \n",
            "E0813 21:59:25.565548 140613293332352 tpu.py:376] Operation of type Placeholder (module_apply_tokens/bert/encoder/layer_9/attention/output/LayerNorm/gamma) is not supported on the TPU. Execution will fail if this op is used in the graph. \n",
            "E0813 21:59:25.575286 140613293332352 tpu.py:376] Operation of type Placeholder (module_apply_tokens/bert/encoder/layer_9/intermediate/dense/kernel) is not supported on the TPU. Execution will fail if this op is used in the graph. \n",
            "E0813 21:59:25.578481 140613293332352 tpu.py:376] Operation of type Placeholder (module_apply_tokens/bert/encoder/layer_9/intermediate/dense/bias) is not supported on the TPU. Execution will fail if this op is used in the graph. \n",
            "E0813 21:59:25.590341 140613293332352 tpu.py:376] Operation of type Placeholder (module_apply_tokens/bert/encoder/layer_9/output/dense/kernel) is not supported on the TPU. Execution will fail if this op is used in the graph. \n",
            "E0813 21:59:25.595607 140613293332352 tpu.py:376] Operation of type Placeholder (module_apply_tokens/bert/encoder/layer_9/output/dense/bias) is not supported on the TPU. Execution will fail if this op is used in the graph. \n",
            "E0813 21:59:25.601807 140613293332352 tpu.py:376] Operation of type Placeholder (module_apply_tokens/bert/encoder/layer_9/output/LayerNorm/beta) is not supported on the TPU. Execution will fail if this op is used in the graph. \n",
            "E0813 21:59:25.604722 140613293332352 tpu.py:376] Operation of type Placeholder (module_apply_tokens/bert/encoder/layer_9/output/LayerNorm/gamma) is not supported on the TPU. Execution will fail if this op is used in the graph. \n",
            "E0813 21:59:25.617170 140613293332352 tpu.py:376] Operation of type Placeholder (module_apply_tokens/bert/encoder/layer_10/attention/self/query/kernel) is not supported on the TPU. Execution will fail if this op is used in the graph. \n",
            "E0813 21:59:25.620057 140613293332352 tpu.py:376] Operation of type Placeholder (module_apply_tokens/bert/encoder/layer_10/attention/self/query/bias) is not supported on the TPU. Execution will fail if this op is used in the graph. \n",
            "E0813 21:59:25.627567 140613293332352 tpu.py:376] Operation of type Placeholder (module_apply_tokens/bert/encoder/layer_10/attention/self/key/kernel) is not supported on the TPU. Execution will fail if this op is used in the graph. \n",
            "E0813 21:59:25.631506 140613293332352 tpu.py:376] Operation of type Placeholder (module_apply_tokens/bert/encoder/layer_10/attention/self/key/bias) is not supported on the TPU. Execution will fail if this op is used in the graph. \n",
            "E0813 21:59:25.637609 140613293332352 tpu.py:376] Operation of type Placeholder (module_apply_tokens/bert/encoder/layer_10/attention/self/value/kernel) is not supported on the TPU. Execution will fail if this op is used in the graph. \n",
            "E0813 21:59:25.647746 140613293332352 tpu.py:376] Operation of type Placeholder (module_apply_tokens/bert/encoder/layer_10/attention/self/value/bias) is not supported on the TPU. Execution will fail if this op is used in the graph. \n",
            "E0813 21:59:25.663059 140613293332352 tpu.py:376] Operation of type Placeholder (module_apply_tokens/bert/encoder/layer_10/attention/output/dense/kernel) is not supported on the TPU. Execution will fail if this op is used in the graph. \n",
            "E0813 21:59:25.666113 140613293332352 tpu.py:376] Operation of type Placeholder (module_apply_tokens/bert/encoder/layer_10/attention/output/dense/bias) is not supported on the TPU. Execution will fail if this op is used in the graph. \n",
            "E0813 21:59:25.674645 140613293332352 tpu.py:376] Operation of type Placeholder (module_apply_tokens/bert/encoder/layer_10/attention/output/LayerNorm/beta) is not supported on the TPU. Execution will fail if this op is used in the graph. \n",
            "E0813 21:59:25.680877 140613293332352 tpu.py:376] Operation of type Placeholder (module_apply_tokens/bert/encoder/layer_10/attention/output/LayerNorm/gamma) is not supported on the TPU. Execution will fail if this op is used in the graph. \n",
            "E0813 21:59:25.690984 140613293332352 tpu.py:376] Operation of type Placeholder (module_apply_tokens/bert/encoder/layer_10/intermediate/dense/kernel) is not supported on the TPU. Execution will fail if this op is used in the graph. \n",
            "E0813 21:59:25.694782 140613293332352 tpu.py:376] Operation of type Placeholder (module_apply_tokens/bert/encoder/layer_10/intermediate/dense/bias) is not supported on the TPU. Execution will fail if this op is used in the graph. \n",
            "E0813 21:59:25.705224 140613293332352 tpu.py:376] Operation of type Placeholder (module_apply_tokens/bert/encoder/layer_10/output/dense/kernel) is not supported on the TPU. Execution will fail if this op is used in the graph. \n",
            "E0813 21:59:25.708307 140613293332352 tpu.py:376] Operation of type Placeholder (module_apply_tokens/bert/encoder/layer_10/output/dense/bias) is not supported on the TPU. Execution will fail if this op is used in the graph. \n",
            "E0813 21:59:25.715515 140613293332352 tpu.py:376] Operation of type Placeholder (module_apply_tokens/bert/encoder/layer_10/output/LayerNorm/beta) is not supported on the TPU. Execution will fail if this op is used in the graph. \n",
            "E0813 21:59:25.720669 140613293332352 tpu.py:376] Operation of type Placeholder (module_apply_tokens/bert/encoder/layer_10/output/LayerNorm/gamma) is not supported on the TPU. Execution will fail if this op is used in the graph. \n",
            "E0813 21:59:25.731659 140613293332352 tpu.py:376] Operation of type Placeholder (module_apply_tokens/bert/encoder/layer_11/attention/self/query/kernel) is not supported on the TPU. Execution will fail if this op is used in the graph. \n",
            "E0813 21:59:25.736286 140613293332352 tpu.py:376] Operation of type Placeholder (module_apply_tokens/bert/encoder/layer_11/attention/self/query/bias) is not supported on the TPU. Execution will fail if this op is used in the graph. \n",
            "E0813 21:59:25.744588 140613293332352 tpu.py:376] Operation of type Placeholder (module_apply_tokens/bert/encoder/layer_11/attention/self/key/kernel) is not supported on the TPU. Execution will fail if this op is used in the graph. \n",
            "E0813 21:59:25.750349 140613293332352 tpu.py:376] Operation of type Placeholder (module_apply_tokens/bert/encoder/layer_11/attention/self/key/bias) is not supported on the TPU. Execution will fail if this op is used in the graph. \n",
            "E0813 21:59:25.759942 140613293332352 tpu.py:376] Operation of type Placeholder (module_apply_tokens/bert/encoder/layer_11/attention/self/value/kernel) is not supported on the TPU. Execution will fail if this op is used in the graph. \n",
            "E0813 21:59:25.763943 140613293332352 tpu.py:376] Operation of type Placeholder (module_apply_tokens/bert/encoder/layer_11/attention/self/value/bias) is not supported on the TPU. Execution will fail if this op is used in the graph. \n",
            "E0813 21:59:25.778884 140613293332352 tpu.py:376] Operation of type Placeholder (module_apply_tokens/bert/encoder/layer_11/attention/output/dense/kernel) is not supported on the TPU. Execution will fail if this op is used in the graph. \n",
            "E0813 21:59:25.784663 140613293332352 tpu.py:376] Operation of type Placeholder (module_apply_tokens/bert/encoder/layer_11/attention/output/dense/bias) is not supported on the TPU. Execution will fail if this op is used in the graph. \n",
            "E0813 21:59:25.790237 140613293332352 tpu.py:376] Operation of type Placeholder (module_apply_tokens/bert/encoder/layer_11/attention/output/LayerNorm/beta) is not supported on the TPU. Execution will fail if this op is used in the graph. \n",
            "E0813 21:59:25.793945 140613293332352 tpu.py:376] Operation of type Placeholder (module_apply_tokens/bert/encoder/layer_11/attention/output/LayerNorm/gamma) is not supported on the TPU. Execution will fail if this op is used in the graph. \n",
            "E0813 21:59:25.803238 140613293332352 tpu.py:376] Operation of type Placeholder (module_apply_tokens/bert/encoder/layer_11/intermediate/dense/kernel) is not supported on the TPU. Execution will fail if this op is used in the graph. \n",
            "E0813 21:59:25.809044 140613293332352 tpu.py:376] Operation of type Placeholder (module_apply_tokens/bert/encoder/layer_11/intermediate/dense/bias) is not supported on the TPU. Execution will fail if this op is used in the graph. \n",
            "E0813 21:59:25.817275 140613293332352 tpu.py:376] Operation of type Placeholder (module_apply_tokens/bert/encoder/layer_11/output/dense/kernel) is not supported on the TPU. Execution will fail if this op is used in the graph. \n",
            "E0813 21:59:25.822257 140613293332352 tpu.py:376] Operation of type Placeholder (module_apply_tokens/bert/encoder/layer_11/output/dense/bias) is not supported on the TPU. Execution will fail if this op is used in the graph. \n",
            "E0813 21:59:25.827667 140613293332352 tpu.py:376] Operation of type Placeholder (module_apply_tokens/bert/encoder/layer_11/output/LayerNorm/beta) is not supported on the TPU. Execution will fail if this op is used in the graph. \n",
            "E0813 21:59:25.831599 140613293332352 tpu.py:376] Operation of type Placeholder (module_apply_tokens/bert/encoder/layer_11/output/LayerNorm/gamma) is not supported on the TPU. Execution will fail if this op is used in the graph. \n",
            "E0813 21:59:25.862141 140613293332352 tpu.py:376] Operation of type Placeholder (module_apply_tokens/bert/pooler/dense/kernel) is not supported on the TPU. Execution will fail if this op is used in the graph. \n",
            "E0813 21:59:25.866035 140613293332352 tpu.py:376] Operation of type Placeholder (module_apply_tokens/bert/pooler/dense/bias) is not supported on the TPU. Execution will fail if this op is used in the graph. \n",
            "E0813 21:59:25.883885 140613293332352 tpu.py:376] Operation of type Placeholder (module_apply_tokens/cls/predictions/transform/dense/kernel) is not supported on the TPU. Execution will fail if this op is used in the graph. \n",
            "E0813 21:59:25.887794 140613293332352 tpu.py:376] Operation of type Placeholder (module_apply_tokens/cls/predictions/transform/dense/bias) is not supported on the TPU. Execution will fail if this op is used in the graph. \n",
            "E0813 21:59:25.898770 140613293332352 tpu.py:376] Operation of type Placeholder (module_apply_tokens/cls/predictions/transform/LayerNorm/beta) is not supported on the TPU. Execution will fail if this op is used in the graph. \n",
            "E0813 21:59:25.902621 140613293332352 tpu.py:376] Operation of type Placeholder (module_apply_tokens/cls/predictions/transform/LayerNorm/gamma) is not supported on the TPU. Execution will fail if this op is used in the graph. \n",
            "E0813 21:59:25.911907 140613293332352 tpu.py:376] Operation of type Placeholder (module_apply_tokens/cls/predictions/output_bias) is not supported on the TPU. Execution will fail if this op is used in the graph. \n",
            "W0813 21:59:26.142772 140613293332352 deprecation_wrapper.py:119] From bert_repo/run_classifier_with_tfhub.py:62: The name tf.get_variable is deprecated. Please use tf.compat.v1.get_variable instead.\n",
            "\n",
            "W0813 21:59:26.166087 140613293332352 deprecation_wrapper.py:119] From bert_repo/run_classifier_with_tfhub.py:69: The name tf.variable_scope is deprecated. Please use tf.compat.v1.variable_scope instead.\n",
            "\n",
            "W0813 21:59:26.231276 140613293332352 deprecation.py:323] From /usr/local/lib/python3.6/dist-packages/tensorflow_estimator/python/estimator/tpu/tpu_estimator.py:3154: div (from tensorflow.python.ops.math_ops) is deprecated and will be removed in a future version.\n",
            "Instructions for updating:\n",
            "Deprecated in favor of operator or tf.math.divide.\n",
            "W0813 21:59:26.637741 140613293332352 deprecation_wrapper.py:119] From bert_repo/run_classifier_with_tfhub.py:122: The name tf.metrics.accuracy is deprecated. Please use tf.compat.v1.metrics.accuracy instead.\n",
            "\n",
            "W0813 21:59:26.661998 140613293332352 deprecation_wrapper.py:119] From bert_repo/run_classifier_with_tfhub.py:123: The name tf.metrics.mean is deprecated. Please use tf.compat.v1.metrics.mean instead.\n",
            "\n",
            "W0813 21:59:27.868851 140613293332352 deprecation.py:323] From /usr/local/lib/python3.6/dist-packages/tensorflow/python/ops/array_ops.py:1354: add_dispatch_support.<locals>.wrapper (from tensorflow.python.ops.array_ops) is deprecated and will be removed in a future version.\n",
            "Instructions for updating:\n",
            "Use tf.where in 2.0, which has the same broadcast rule as np.where\n",
            "W0813 21:59:28.313474 140613293332352 deprecation.py:323] From /usr/local/lib/python3.6/dist-packages/tensorflow/python/training/saver.py:1276: checkpoint_exists (from tensorflow.python.training.checkpoint_management) is deprecated and will be removed in a future version.\n",
            "Instructions for updating:\n",
            "Use standard file APIs to check for files with this prefix.\n",
            "W0813 22:00:03.081798 140613293332352 deprecation.py:323] From /usr/local/lib/python3.6/dist-packages/tensorflow_estimator/python/estimator/tpu/tpu_estimator.py:792: Variable.load (from tensorflow.python.ops.variables) is deprecated and will be removed in a future version.\n",
            "Instructions for updating:\n",
            "Prefer Variable.assign which has equivalent behavior in 2.X.\n"
          ],
          "name": "stderr"
        },
        {
          "output_type": "stream",
          "text": [
            "***** Finished evaluation at 2019-08-13 22:00:19.079428 *****\n",
            "***** Eval results *****\n",
            "  eval_accuracy = 0.85784316\n",
            "  eval_loss = 0.6735221\n",
            "  global_step = 343\n",
            "  loss = 0.542314\n"
          ],
          "name": "stdout"
        }
      ]
    },
    {
      "cell_type": "code",
      "metadata": {
        "id": "H3_afEMR3dfa",
        "colab_type": "code",
        "colab": {}
      },
      "source": [
        "def model_predict(estimator):\n",
        "  # Make predictions on a subset of eval examples\n",
        "  prediction_examples = processor.get_dev_examples(TASK_DATA_DIR)[:PREDICT_BATCH_SIZE]\n",
        "  input_features = run_classifier.convert_examples_to_features(prediction_examples, label_list, MAX_SEQ_LENGTH, tokenizer)\n",
        "  predict_input_fn = run_classifier.input_fn_builder(features=input_features, seq_length=MAX_SEQ_LENGTH, is_training=False, drop_remainder=True)\n",
        "  predictions = estimator.predict(predict_input_fn)\n",
        "\n",
        "  for example, prediction in zip(prediction_examples, predictions):\n",
        "    print('text_a: %s\\ntext_b: %s\\nlabel:%s\\nprediction:%s\\n' % (example.text_a, example.text_b, str(example.label), prediction['probabilities']))\n"
      ],
      "execution_count": 0,
      "outputs": []
    },
    {
      "cell_type": "code",
      "metadata": {
        "id": "ynDmeatCWLJK",
        "colab_type": "code",
        "outputId": "15e8483a-c74c-4348-e2d1-368b50f13e28",
        "colab": {
          "base_uri": "https://localhost:8080/",
          "height": 1000
        }
      },
      "source": [
        "model_predict(estimator_from_tfhub) "
      ],
      "execution_count": 14,
      "outputs": [
        {
          "output_type": "stream",
          "text": [
            "E0813 22:00:27.133030 140613293332352 tpu.py:376] Operation of type Placeholder (module_apply_tokens/input_ids) is not supported on the TPU. Execution will fail if this op is used in the graph. \n",
            "E0813 22:00:27.135267 140613293332352 tpu.py:376] Operation of type Placeholder (module_apply_tokens/input_mask) is not supported on the TPU. Execution will fail if this op is used in the graph. \n",
            "E0813 22:00:27.136950 140613293332352 tpu.py:376] Operation of type Placeholder (module_apply_tokens/segment_ids) is not supported on the TPU. Execution will fail if this op is used in the graph. \n",
            "E0813 22:00:27.138523 140613293332352 tpu.py:376] Operation of type Placeholder (module_apply_tokens/mlm_positions) is not supported on the TPU. Execution will fail if this op is used in the graph. \n",
            "E0813 22:00:27.145582 140613293332352 tpu.py:376] Operation of type Placeholder (module_apply_tokens/bert/embeddings/word_embeddings) is not supported on the TPU. Execution will fail if this op is used in the graph. \n",
            "E0813 22:00:27.158679 140613293332352 tpu.py:376] Operation of type Placeholder (module_apply_tokens/bert/embeddings/token_type_embeddings) is not supported on the TPU. Execution will fail if this op is used in the graph. \n",
            "E0813 22:00:27.171333 140613293332352 tpu.py:376] Operation of type Placeholder (module_apply_tokens/bert/embeddings/position_embeddings) is not supported on the TPU. Execution will fail if this op is used in the graph. \n",
            "E0813 22:00:27.178179 140613293332352 tpu.py:376] Operation of type Placeholder (module_apply_tokens/bert/embeddings/LayerNorm/beta) is not supported on the TPU. Execution will fail if this op is used in the graph. \n",
            "E0813 22:00:27.181854 140613293332352 tpu.py:376] Operation of type Placeholder (module_apply_tokens/bert/embeddings/LayerNorm/gamma) is not supported on the TPU. Execution will fail if this op is used in the graph. \n",
            "E0813 22:00:27.204562 140613293332352 tpu.py:376] Operation of type Placeholder (module_apply_tokens/bert/encoder/layer_0/attention/self/query/kernel) is not supported on the TPU. Execution will fail if this op is used in the graph. \n",
            "E0813 22:00:27.207852 140613293332352 tpu.py:376] Operation of type Placeholder (module_apply_tokens/bert/encoder/layer_0/attention/self/query/bias) is not supported on the TPU. Execution will fail if this op is used in the graph. \n",
            "E0813 22:00:27.215258 140613293332352 tpu.py:376] Operation of type Placeholder (module_apply_tokens/bert/encoder/layer_0/attention/self/key/kernel) is not supported on the TPU. Execution will fail if this op is used in the graph. \n",
            "E0813 22:00:27.219309 140613293332352 tpu.py:376] Operation of type Placeholder (module_apply_tokens/bert/encoder/layer_0/attention/self/key/bias) is not supported on the TPU. Execution will fail if this op is used in the graph. \n",
            "E0813 22:00:27.228132 140613293332352 tpu.py:376] Operation of type Placeholder (module_apply_tokens/bert/encoder/layer_0/attention/self/value/kernel) is not supported on the TPU. Execution will fail if this op is used in the graph. \n",
            "E0813 22:00:27.232019 140613293332352 tpu.py:376] Operation of type Placeholder (module_apply_tokens/bert/encoder/layer_0/attention/self/value/bias) is not supported on the TPU. Execution will fail if this op is used in the graph. \n",
            "E0813 22:00:27.247126 140613293332352 tpu.py:376] Operation of type Placeholder (module_apply_tokens/bert/encoder/layer_0/attention/output/dense/kernel) is not supported on the TPU. Execution will fail if this op is used in the graph. \n",
            "E0813 22:00:27.250655 140613293332352 tpu.py:376] Operation of type Placeholder (module_apply_tokens/bert/encoder/layer_0/attention/output/dense/bias) is not supported on the TPU. Execution will fail if this op is used in the graph. \n",
            "E0813 22:00:27.257719 140613293332352 tpu.py:376] Operation of type Placeholder (module_apply_tokens/bert/encoder/layer_0/attention/output/LayerNorm/beta) is not supported on the TPU. Execution will fail if this op is used in the graph. \n",
            "E0813 22:00:27.262145 140613293332352 tpu.py:376] Operation of type Placeholder (module_apply_tokens/bert/encoder/layer_0/attention/output/LayerNorm/gamma) is not supported on the TPU. Execution will fail if this op is used in the graph. \n",
            "E0813 22:00:27.273612 140613293332352 tpu.py:376] Operation of type Placeholder (module_apply_tokens/bert/encoder/layer_0/intermediate/dense/kernel) is not supported on the TPU. Execution will fail if this op is used in the graph. \n",
            "E0813 22:00:27.282852 140613293332352 tpu.py:376] Operation of type Placeholder (module_apply_tokens/bert/encoder/layer_0/intermediate/dense/bias) is not supported on the TPU. Execution will fail if this op is used in the graph. \n",
            "E0813 22:00:27.296298 140613293332352 tpu.py:376] Operation of type Placeholder (module_apply_tokens/bert/encoder/layer_0/output/dense/kernel) is not supported on the TPU. Execution will fail if this op is used in the graph. \n",
            "E0813 22:00:27.301265 140613293332352 tpu.py:376] Operation of type Placeholder (module_apply_tokens/bert/encoder/layer_0/output/dense/bias) is not supported on the TPU. Execution will fail if this op is used in the graph. \n",
            "E0813 22:00:27.309188 140613293332352 tpu.py:376] Operation of type Placeholder (module_apply_tokens/bert/encoder/layer_0/output/LayerNorm/beta) is not supported on the TPU. Execution will fail if this op is used in the graph. \n",
            "E0813 22:00:27.312610 140613293332352 tpu.py:376] Operation of type Placeholder (module_apply_tokens/bert/encoder/layer_0/output/LayerNorm/gamma) is not supported on the TPU. Execution will fail if this op is used in the graph. \n",
            "E0813 22:00:27.325134 140613293332352 tpu.py:376] Operation of type Placeholder (module_apply_tokens/bert/encoder/layer_1/attention/self/query/kernel) is not supported on the TPU. Execution will fail if this op is used in the graph. \n",
            "E0813 22:00:27.328378 140613293332352 tpu.py:376] Operation of type Placeholder (module_apply_tokens/bert/encoder/layer_1/attention/self/query/bias) is not supported on the TPU. Execution will fail if this op is used in the graph. \n",
            "E0813 22:00:27.336595 140613293332352 tpu.py:376] Operation of type Placeholder (module_apply_tokens/bert/encoder/layer_1/attention/self/key/kernel) is not supported on the TPU. Execution will fail if this op is used in the graph. \n",
            "E0813 22:00:27.341703 140613293332352 tpu.py:376] Operation of type Placeholder (module_apply_tokens/bert/encoder/layer_1/attention/self/key/bias) is not supported on the TPU. Execution will fail if this op is used in the graph. \n",
            "E0813 22:00:27.349438 140613293332352 tpu.py:376] Operation of type Placeholder (module_apply_tokens/bert/encoder/layer_1/attention/self/value/kernel) is not supported on the TPU. Execution will fail if this op is used in the graph. \n",
            "E0813 22:00:27.354621 140613293332352 tpu.py:376] Operation of type Placeholder (module_apply_tokens/bert/encoder/layer_1/attention/self/value/bias) is not supported on the TPU. Execution will fail if this op is used in the graph. \n",
            "E0813 22:00:27.369789 140613293332352 tpu.py:376] Operation of type Placeholder (module_apply_tokens/bert/encoder/layer_1/attention/output/dense/kernel) is not supported on the TPU. Execution will fail if this op is used in the graph. \n",
            "E0813 22:00:27.374311 140613293332352 tpu.py:376] Operation of type Placeholder (module_apply_tokens/bert/encoder/layer_1/attention/output/dense/bias) is not supported on the TPU. Execution will fail if this op is used in the graph. \n",
            "E0813 22:00:27.385741 140613293332352 tpu.py:376] Operation of type Placeholder (module_apply_tokens/bert/encoder/layer_1/attention/output/LayerNorm/beta) is not supported on the TPU. Execution will fail if this op is used in the graph. \n",
            "E0813 22:00:27.393257 140613293332352 tpu.py:376] Operation of type Placeholder (module_apply_tokens/bert/encoder/layer_1/attention/output/LayerNorm/gamma) is not supported on the TPU. Execution will fail if this op is used in the graph. \n",
            "E0813 22:00:27.404527 140613293332352 tpu.py:376] Operation of type Placeholder (module_apply_tokens/bert/encoder/layer_1/intermediate/dense/kernel) is not supported on the TPU. Execution will fail if this op is used in the graph. \n",
            "E0813 22:00:27.410300 140613293332352 tpu.py:376] Operation of type Placeholder (module_apply_tokens/bert/encoder/layer_1/intermediate/dense/bias) is not supported on the TPU. Execution will fail if this op is used in the graph. \n",
            "E0813 22:00:27.420878 140613293332352 tpu.py:376] Operation of type Placeholder (module_apply_tokens/bert/encoder/layer_1/output/dense/kernel) is not supported on the TPU. Execution will fail if this op is used in the graph. \n",
            "E0813 22:00:27.425857 140613293332352 tpu.py:376] Operation of type Placeholder (module_apply_tokens/bert/encoder/layer_1/output/dense/bias) is not supported on the TPU. Execution will fail if this op is used in the graph. \n",
            "E0813 22:00:27.432813 140613293332352 tpu.py:376] Operation of type Placeholder (module_apply_tokens/bert/encoder/layer_1/output/LayerNorm/beta) is not supported on the TPU. Execution will fail if this op is used in the graph. \n",
            "E0813 22:00:27.437880 140613293332352 tpu.py:376] Operation of type Placeholder (module_apply_tokens/bert/encoder/layer_1/output/LayerNorm/gamma) is not supported on the TPU. Execution will fail if this op is used in the graph. \n",
            "E0813 22:00:27.449795 140613293332352 tpu.py:376] Operation of type Placeholder (module_apply_tokens/bert/encoder/layer_2/attention/self/query/kernel) is not supported on the TPU. Execution will fail if this op is used in the graph. \n",
            "E0813 22:00:27.455071 140613293332352 tpu.py:376] Operation of type Placeholder (module_apply_tokens/bert/encoder/layer_2/attention/self/query/bias) is not supported on the TPU. Execution will fail if this op is used in the graph. \n",
            "E0813 22:00:27.463343 140613293332352 tpu.py:376] Operation of type Placeholder (module_apply_tokens/bert/encoder/layer_2/attention/self/key/kernel) is not supported on the TPU. Execution will fail if this op is used in the graph. \n",
            "E0813 22:00:27.466593 140613293332352 tpu.py:376] Operation of type Placeholder (module_apply_tokens/bert/encoder/layer_2/attention/self/key/bias) is not supported on the TPU. Execution will fail if this op is used in the graph. \n",
            "E0813 22:00:27.475564 140613293332352 tpu.py:376] Operation of type Placeholder (module_apply_tokens/bert/encoder/layer_2/attention/self/value/kernel) is not supported on the TPU. Execution will fail if this op is used in the graph. \n",
            "E0813 22:00:27.480649 140613293332352 tpu.py:376] Operation of type Placeholder (module_apply_tokens/bert/encoder/layer_2/attention/self/value/bias) is not supported on the TPU. Execution will fail if this op is used in the graph. \n",
            "E0813 22:00:27.498072 140613293332352 tpu.py:376] Operation of type Placeholder (module_apply_tokens/bert/encoder/layer_2/attention/output/dense/kernel) is not supported on the TPU. Execution will fail if this op is used in the graph. \n",
            "E0813 22:00:27.501584 140613293332352 tpu.py:376] Operation of type Placeholder (module_apply_tokens/bert/encoder/layer_2/attention/output/dense/bias) is not supported on the TPU. Execution will fail if this op is used in the graph. \n",
            "E0813 22:00:27.511786 140613293332352 tpu.py:376] Operation of type Placeholder (module_apply_tokens/bert/encoder/layer_2/attention/output/LayerNorm/beta) is not supported on the TPU. Execution will fail if this op is used in the graph. \n",
            "E0813 22:00:27.515051 140613293332352 tpu.py:376] Operation of type Placeholder (module_apply_tokens/bert/encoder/layer_2/attention/output/LayerNorm/gamma) is not supported on the TPU. Execution will fail if this op is used in the graph. \n",
            "E0813 22:00:27.525833 140613293332352 tpu.py:376] Operation of type Placeholder (module_apply_tokens/bert/encoder/layer_2/intermediate/dense/kernel) is not supported on the TPU. Execution will fail if this op is used in the graph. \n",
            "E0813 22:00:27.530221 140613293332352 tpu.py:376] Operation of type Placeholder (module_apply_tokens/bert/encoder/layer_2/intermediate/dense/bias) is not supported on the TPU. Execution will fail if this op is used in the graph. \n",
            "E0813 22:00:27.541160 140613293332352 tpu.py:376] Operation of type Placeholder (module_apply_tokens/bert/encoder/layer_2/output/dense/kernel) is not supported on the TPU. Execution will fail if this op is used in the graph. \n",
            "E0813 22:00:27.544543 140613293332352 tpu.py:376] Operation of type Placeholder (module_apply_tokens/bert/encoder/layer_2/output/dense/bias) is not supported on the TPU. Execution will fail if this op is used in the graph. \n",
            "E0813 22:00:27.550820 140613293332352 tpu.py:376] Operation of type Placeholder (module_apply_tokens/bert/encoder/layer_2/output/LayerNorm/beta) is not supported on the TPU. Execution will fail if this op is used in the graph. \n",
            "E0813 22:00:27.555531 140613293332352 tpu.py:376] Operation of type Placeholder (module_apply_tokens/bert/encoder/layer_2/output/LayerNorm/gamma) is not supported on the TPU. Execution will fail if this op is used in the graph. \n",
            "E0813 22:00:27.567829 140613293332352 tpu.py:376] Operation of type Placeholder (module_apply_tokens/bert/encoder/layer_3/attention/self/query/kernel) is not supported on the TPU. Execution will fail if this op is used in the graph. \n",
            "E0813 22:00:27.571430 140613293332352 tpu.py:376] Operation of type Placeholder (module_apply_tokens/bert/encoder/layer_3/attention/self/query/bias) is not supported on the TPU. Execution will fail if this op is used in the graph. \n",
            "E0813 22:00:27.578690 140613293332352 tpu.py:376] Operation of type Placeholder (module_apply_tokens/bert/encoder/layer_3/attention/self/key/kernel) is not supported on the TPU. Execution will fail if this op is used in the graph. \n",
            "E0813 22:00:27.583144 140613293332352 tpu.py:376] Operation of type Placeholder (module_apply_tokens/bert/encoder/layer_3/attention/self/key/bias) is not supported on the TPU. Execution will fail if this op is used in the graph. \n",
            "E0813 22:00:27.593065 140613293332352 tpu.py:376] Operation of type Placeholder (module_apply_tokens/bert/encoder/layer_3/attention/self/value/kernel) is not supported on the TPU. Execution will fail if this op is used in the graph. \n",
            "E0813 22:00:27.598617 140613293332352 tpu.py:376] Operation of type Placeholder (module_apply_tokens/bert/encoder/layer_3/attention/self/value/bias) is not supported on the TPU. Execution will fail if this op is used in the graph. \n",
            "E0813 22:00:27.617457 140613293332352 tpu.py:376] Operation of type Placeholder (module_apply_tokens/bert/encoder/layer_3/attention/output/dense/kernel) is not supported on the TPU. Execution will fail if this op is used in the graph. \n",
            "E0813 22:00:27.621184 140613293332352 tpu.py:376] Operation of type Placeholder (module_apply_tokens/bert/encoder/layer_3/attention/output/dense/bias) is not supported on the TPU. Execution will fail if this op is used in the graph. \n",
            "E0813 22:00:27.627856 140613293332352 tpu.py:376] Operation of type Placeholder (module_apply_tokens/bert/encoder/layer_3/attention/output/LayerNorm/beta) is not supported on the TPU. Execution will fail if this op is used in the graph. \n",
            "E0813 22:00:27.634698 140613293332352 tpu.py:376] Operation of type Placeholder (module_apply_tokens/bert/encoder/layer_3/attention/output/LayerNorm/gamma) is not supported on the TPU. Execution will fail if this op is used in the graph. \n",
            "E0813 22:00:27.647152 140613293332352 tpu.py:376] Operation of type Placeholder (module_apply_tokens/bert/encoder/layer_3/intermediate/dense/kernel) is not supported on the TPU. Execution will fail if this op is used in the graph. \n",
            "E0813 22:00:27.651641 140613293332352 tpu.py:376] Operation of type Placeholder (module_apply_tokens/bert/encoder/layer_3/intermediate/dense/bias) is not supported on the TPU. Execution will fail if this op is used in the graph. \n",
            "E0813 22:00:27.663435 140613293332352 tpu.py:376] Operation of type Placeholder (module_apply_tokens/bert/encoder/layer_3/output/dense/kernel) is not supported on the TPU. Execution will fail if this op is used in the graph. \n",
            "E0813 22:00:27.667063 140613293332352 tpu.py:376] Operation of type Placeholder (module_apply_tokens/bert/encoder/layer_3/output/dense/bias) is not supported on the TPU. Execution will fail if this op is used in the graph. \n",
            "E0813 22:00:27.672929 140613293332352 tpu.py:376] Operation of type Placeholder (module_apply_tokens/bert/encoder/layer_3/output/LayerNorm/beta) is not supported on the TPU. Execution will fail if this op is used in the graph. \n",
            "E0813 22:00:27.678911 140613293332352 tpu.py:376] Operation of type Placeholder (module_apply_tokens/bert/encoder/layer_3/output/LayerNorm/gamma) is not supported on the TPU. Execution will fail if this op is used in the graph. \n",
            "E0813 22:00:27.695467 140613293332352 tpu.py:376] Operation of type Placeholder (module_apply_tokens/bert/encoder/layer_4/attention/self/query/kernel) is not supported on the TPU. Execution will fail if this op is used in the graph. \n",
            "E0813 22:00:27.698942 140613293332352 tpu.py:376] Operation of type Placeholder (module_apply_tokens/bert/encoder/layer_4/attention/self/query/bias) is not supported on the TPU. Execution will fail if this op is used in the graph. \n",
            "E0813 22:00:27.707904 140613293332352 tpu.py:376] Operation of type Placeholder (module_apply_tokens/bert/encoder/layer_4/attention/self/key/kernel) is not supported on the TPU. Execution will fail if this op is used in the graph. \n",
            "E0813 22:00:27.716477 140613293332352 tpu.py:376] Operation of type Placeholder (module_apply_tokens/bert/encoder/layer_4/attention/self/key/bias) is not supported on the TPU. Execution will fail if this op is used in the graph. \n",
            "E0813 22:00:27.727754 140613293332352 tpu.py:376] Operation of type Placeholder (module_apply_tokens/bert/encoder/layer_4/attention/self/value/kernel) is not supported on the TPU. Execution will fail if this op is used in the graph. \n",
            "E0813 22:00:27.731336 140613293332352 tpu.py:376] Operation of type Placeholder (module_apply_tokens/bert/encoder/layer_4/attention/self/value/bias) is not supported on the TPU. Execution will fail if this op is used in the graph. \n",
            "E0813 22:00:27.747120 140613293332352 tpu.py:376] Operation of type Placeholder (module_apply_tokens/bert/encoder/layer_4/attention/output/dense/kernel) is not supported on the TPU. Execution will fail if this op is used in the graph. \n",
            "E0813 22:00:27.750902 140613293332352 tpu.py:376] Operation of type Placeholder (module_apply_tokens/bert/encoder/layer_4/attention/output/dense/bias) is not supported on the TPU. Execution will fail if this op is used in the graph. \n",
            "E0813 22:00:27.761497 140613293332352 tpu.py:376] Operation of type Placeholder (module_apply_tokens/bert/encoder/layer_4/attention/output/LayerNorm/beta) is not supported on the TPU. Execution will fail if this op is used in the graph. \n",
            "E0813 22:00:27.766971 140613293332352 tpu.py:376] Operation of type Placeholder (module_apply_tokens/bert/encoder/layer_4/attention/output/LayerNorm/gamma) is not supported on the TPU. Execution will fail if this op is used in the graph. \n",
            "E0813 22:00:27.776475 140613293332352 tpu.py:376] Operation of type Placeholder (module_apply_tokens/bert/encoder/layer_4/intermediate/dense/kernel) is not supported on the TPU. Execution will fail if this op is used in the graph. \n",
            "E0813 22:00:27.782454 140613293332352 tpu.py:376] Operation of type Placeholder (module_apply_tokens/bert/encoder/layer_4/intermediate/dense/bias) is not supported on the TPU. Execution will fail if this op is used in the graph. \n",
            "E0813 22:00:27.791819 140613293332352 tpu.py:376] Operation of type Placeholder (module_apply_tokens/bert/encoder/layer_4/output/dense/kernel) is not supported on the TPU. Execution will fail if this op is used in the graph. \n",
            "E0813 22:00:27.795860 140613293332352 tpu.py:376] Operation of type Placeholder (module_apply_tokens/bert/encoder/layer_4/output/dense/bias) is not supported on the TPU. Execution will fail if this op is used in the graph. \n",
            "E0813 22:00:27.802808 140613293332352 tpu.py:376] Operation of type Placeholder (module_apply_tokens/bert/encoder/layer_4/output/LayerNorm/beta) is not supported on the TPU. Execution will fail if this op is used in the graph. \n",
            "E0813 22:00:27.808028 140613293332352 tpu.py:376] Operation of type Placeholder (module_apply_tokens/bert/encoder/layer_4/output/LayerNorm/gamma) is not supported on the TPU. Execution will fail if this op is used in the graph. \n",
            "E0813 22:00:27.822730 140613293332352 tpu.py:376] Operation of type Placeholder (module_apply_tokens/bert/encoder/layer_5/attention/self/query/kernel) is not supported on the TPU. Execution will fail if this op is used in the graph. \n",
            "E0813 22:00:27.826183 140613293332352 tpu.py:376] Operation of type Placeholder (module_apply_tokens/bert/encoder/layer_5/attention/self/query/bias) is not supported on the TPU. Execution will fail if this op is used in the graph. \n",
            "E0813 22:00:27.834677 140613293332352 tpu.py:376] Operation of type Placeholder (module_apply_tokens/bert/encoder/layer_5/attention/self/key/kernel) is not supported on the TPU. Execution will fail if this op is used in the graph. \n",
            "E0813 22:00:27.839656 140613293332352 tpu.py:376] Operation of type Placeholder (module_apply_tokens/bert/encoder/layer_5/attention/self/key/bias) is not supported on the TPU. Execution will fail if this op is used in the graph. \n",
            "E0813 22:00:27.846229 140613293332352 tpu.py:376] Operation of type Placeholder (module_apply_tokens/bert/encoder/layer_5/attention/self/value/kernel) is not supported on the TPU. Execution will fail if this op is used in the graph. \n",
            "E0813 22:00:27.851051 140613293332352 tpu.py:376] Operation of type Placeholder (module_apply_tokens/bert/encoder/layer_5/attention/self/value/bias) is not supported on the TPU. Execution will fail if this op is used in the graph. \n",
            "E0813 22:00:27.864341 140613293332352 tpu.py:376] Operation of type Placeholder (module_apply_tokens/bert/encoder/layer_5/attention/output/dense/kernel) is not supported on the TPU. Execution will fail if this op is used in the graph. \n",
            "E0813 22:00:27.867992 140613293332352 tpu.py:376] Operation of type Placeholder (module_apply_tokens/bert/encoder/layer_5/attention/output/dense/bias) is not supported on the TPU. Execution will fail if this op is used in the graph. \n",
            "E0813 22:00:27.875974 140613293332352 tpu.py:376] Operation of type Placeholder (module_apply_tokens/bert/encoder/layer_5/attention/output/LayerNorm/beta) is not supported on the TPU. Execution will fail if this op is used in the graph. \n",
            "E0813 22:00:27.880999 140613293332352 tpu.py:376] Operation of type Placeholder (module_apply_tokens/bert/encoder/layer_5/attention/output/LayerNorm/gamma) is not supported on the TPU. Execution will fail if this op is used in the graph. \n",
            "E0813 22:00:27.892708 140613293332352 tpu.py:376] Operation of type Placeholder (module_apply_tokens/bert/encoder/layer_5/intermediate/dense/kernel) is not supported on the TPU. Execution will fail if this op is used in the graph. \n",
            "E0813 22:00:27.897886 140613293332352 tpu.py:376] Operation of type Placeholder (module_apply_tokens/bert/encoder/layer_5/intermediate/dense/bias) is not supported on the TPU. Execution will fail if this op is used in the graph. \n",
            "E0813 22:00:27.915293 140613293332352 tpu.py:376] Operation of type Placeholder (module_apply_tokens/bert/encoder/layer_5/output/dense/kernel) is not supported on the TPU. Execution will fail if this op is used in the graph. \n",
            "E0813 22:00:27.922100 140613293332352 tpu.py:376] Operation of type Placeholder (module_apply_tokens/bert/encoder/layer_5/output/dense/bias) is not supported on the TPU. Execution will fail if this op is used in the graph. \n",
            "E0813 22:00:27.927732 140613293332352 tpu.py:376] Operation of type Placeholder (module_apply_tokens/bert/encoder/layer_5/output/LayerNorm/beta) is not supported on the TPU. Execution will fail if this op is used in the graph. \n",
            "E0813 22:00:27.931873 140613293332352 tpu.py:376] Operation of type Placeholder (module_apply_tokens/bert/encoder/layer_5/output/LayerNorm/gamma) is not supported on the TPU. Execution will fail if this op is used in the graph. \n",
            "E0813 22:00:27.946600 140613293332352 tpu.py:376] Operation of type Placeholder (module_apply_tokens/bert/encoder/layer_6/attention/self/query/kernel) is not supported on the TPU. Execution will fail if this op is used in the graph. \n",
            "E0813 22:00:27.950792 140613293332352 tpu.py:376] Operation of type Placeholder (module_apply_tokens/bert/encoder/layer_6/attention/self/query/bias) is not supported on the TPU. Execution will fail if this op is used in the graph. \n",
            "E0813 22:00:27.958866 140613293332352 tpu.py:376] Operation of type Placeholder (module_apply_tokens/bert/encoder/layer_6/attention/self/key/kernel) is not supported on the TPU. Execution will fail if this op is used in the graph. \n",
            "E0813 22:00:27.962970 140613293332352 tpu.py:376] Operation of type Placeholder (module_apply_tokens/bert/encoder/layer_6/attention/self/key/bias) is not supported on the TPU. Execution will fail if this op is used in the graph. \n",
            "E0813 22:00:27.970086 140613293332352 tpu.py:376] Operation of type Placeholder (module_apply_tokens/bert/encoder/layer_6/attention/self/value/kernel) is not supported on the TPU. Execution will fail if this op is used in the graph. \n",
            "E0813 22:00:27.974799 140613293332352 tpu.py:376] Operation of type Placeholder (module_apply_tokens/bert/encoder/layer_6/attention/self/value/bias) is not supported on the TPU. Execution will fail if this op is used in the graph. \n",
            "E0813 22:00:27.991104 140613293332352 tpu.py:376] Operation of type Placeholder (module_apply_tokens/bert/encoder/layer_6/attention/output/dense/kernel) is not supported on the TPU. Execution will fail if this op is used in the graph. \n",
            "E0813 22:00:27.997854 140613293332352 tpu.py:376] Operation of type Placeholder (module_apply_tokens/bert/encoder/layer_6/attention/output/dense/bias) is not supported on the TPU. Execution will fail if this op is used in the graph. \n",
            "E0813 22:00:28.007393 140613293332352 tpu.py:376] Operation of type Placeholder (module_apply_tokens/bert/encoder/layer_6/attention/output/LayerNorm/beta) is not supported on the TPU. Execution will fail if this op is used in the graph. \n",
            "E0813 22:00:28.011923 140613293332352 tpu.py:376] Operation of type Placeholder (module_apply_tokens/bert/encoder/layer_6/attention/output/LayerNorm/gamma) is not supported on the TPU. Execution will fail if this op is used in the graph. \n",
            "E0813 22:00:28.021753 140613293332352 tpu.py:376] Operation of type Placeholder (module_apply_tokens/bert/encoder/layer_6/intermediate/dense/kernel) is not supported on the TPU. Execution will fail if this op is used in the graph. \n",
            "E0813 22:00:28.026660 140613293332352 tpu.py:376] Operation of type Placeholder (module_apply_tokens/bert/encoder/layer_6/intermediate/dense/bias) is not supported on the TPU. Execution will fail if this op is used in the graph. \n",
            "E0813 22:00:28.038971 140613293332352 tpu.py:376] Operation of type Placeholder (module_apply_tokens/bert/encoder/layer_6/output/dense/kernel) is not supported on the TPU. Execution will fail if this op is used in the graph. \n",
            "E0813 22:00:28.042505 140613293332352 tpu.py:376] Operation of type Placeholder (module_apply_tokens/bert/encoder/layer_6/output/dense/bias) is not supported on the TPU. Execution will fail if this op is used in the graph. \n",
            "E0813 22:00:28.050746 140613293332352 tpu.py:376] Operation of type Placeholder (module_apply_tokens/bert/encoder/layer_6/output/LayerNorm/beta) is not supported on the TPU. Execution will fail if this op is used in the graph. \n",
            "E0813 22:00:28.056415 140613293332352 tpu.py:376] Operation of type Placeholder (module_apply_tokens/bert/encoder/layer_6/output/LayerNorm/gamma) is not supported on the TPU. Execution will fail if this op is used in the graph. \n",
            "E0813 22:00:28.069420 140613293332352 tpu.py:376] Operation of type Placeholder (module_apply_tokens/bert/encoder/layer_7/attention/self/query/kernel) is not supported on the TPU. Execution will fail if this op is used in the graph. \n",
            "E0813 22:00:28.073757 140613293332352 tpu.py:376] Operation of type Placeholder (module_apply_tokens/bert/encoder/layer_7/attention/self/query/bias) is not supported on the TPU. Execution will fail if this op is used in the graph. \n",
            "E0813 22:00:28.083516 140613293332352 tpu.py:376] Operation of type Placeholder (module_apply_tokens/bert/encoder/layer_7/attention/self/key/kernel) is not supported on the TPU. Execution will fail if this op is used in the graph. \n",
            "E0813 22:00:28.088445 140613293332352 tpu.py:376] Operation of type Placeholder (module_apply_tokens/bert/encoder/layer_7/attention/self/key/bias) is not supported on the TPU. Execution will fail if this op is used in the graph. \n",
            "E0813 22:00:28.096544 140613293332352 tpu.py:376] Operation of type Placeholder (module_apply_tokens/bert/encoder/layer_7/attention/self/value/kernel) is not supported on the TPU. Execution will fail if this op is used in the graph. \n",
            "E0813 22:00:28.100914 140613293332352 tpu.py:376] Operation of type Placeholder (module_apply_tokens/bert/encoder/layer_7/attention/self/value/bias) is not supported on the TPU. Execution will fail if this op is used in the graph. \n",
            "E0813 22:00:28.115873 140613293332352 tpu.py:376] Operation of type Placeholder (module_apply_tokens/bert/encoder/layer_7/attention/output/dense/kernel) is not supported on the TPU. Execution will fail if this op is used in the graph. \n",
            "E0813 22:00:28.120101 140613293332352 tpu.py:376] Operation of type Placeholder (module_apply_tokens/bert/encoder/layer_7/attention/output/dense/bias) is not supported on the TPU. Execution will fail if this op is used in the graph. \n",
            "E0813 22:00:28.127590 140613293332352 tpu.py:376] Operation of type Placeholder (module_apply_tokens/bert/encoder/layer_7/attention/output/LayerNorm/beta) is not supported on the TPU. Execution will fail if this op is used in the graph. \n",
            "E0813 22:00:28.133854 140613293332352 tpu.py:376] Operation of type Placeholder (module_apply_tokens/bert/encoder/layer_7/attention/output/LayerNorm/gamma) is not supported on the TPU. Execution will fail if this op is used in the graph. \n",
            "E0813 22:00:28.143170 140613293332352 tpu.py:376] Operation of type Placeholder (module_apply_tokens/bert/encoder/layer_7/intermediate/dense/kernel) is not supported on the TPU. Execution will fail if this op is used in the graph. \n",
            "E0813 22:00:28.147699 140613293332352 tpu.py:376] Operation of type Placeholder (module_apply_tokens/bert/encoder/layer_7/intermediate/dense/bias) is not supported on the TPU. Execution will fail if this op is used in the graph. \n",
            "E0813 22:00:28.158357 140613293332352 tpu.py:376] Operation of type Placeholder (module_apply_tokens/bert/encoder/layer_7/output/dense/kernel) is not supported on the TPU. Execution will fail if this op is used in the graph. \n",
            "E0813 22:00:28.161666 140613293332352 tpu.py:376] Operation of type Placeholder (module_apply_tokens/bert/encoder/layer_7/output/dense/bias) is not supported on the TPU. Execution will fail if this op is used in the graph. \n",
            "E0813 22:00:28.170725 140613293332352 tpu.py:376] Operation of type Placeholder (module_apply_tokens/bert/encoder/layer_7/output/LayerNorm/beta) is not supported on the TPU. Execution will fail if this op is used in the graph. \n",
            "E0813 22:00:28.176284 140613293332352 tpu.py:376] Operation of type Placeholder (module_apply_tokens/bert/encoder/layer_7/output/LayerNorm/gamma) is not supported on the TPU. Execution will fail if this op is used in the graph. \n",
            "E0813 22:00:28.191578 140613293332352 tpu.py:376] Operation of type Placeholder (module_apply_tokens/bert/encoder/layer_8/attention/self/query/kernel) is not supported on the TPU. Execution will fail if this op is used in the graph. \n",
            "E0813 22:00:28.196287 140613293332352 tpu.py:376] Operation of type Placeholder (module_apply_tokens/bert/encoder/layer_8/attention/self/query/bias) is not supported on the TPU. Execution will fail if this op is used in the graph. \n",
            "E0813 22:00:28.209526 140613293332352 tpu.py:376] Operation of type Placeholder (module_apply_tokens/bert/encoder/layer_8/attention/self/key/kernel) is not supported on the TPU. Execution will fail if this op is used in the graph. \n",
            "E0813 22:00:28.213835 140613293332352 tpu.py:376] Operation of type Placeholder (module_apply_tokens/bert/encoder/layer_8/attention/self/key/bias) is not supported on the TPU. Execution will fail if this op is used in the graph. \n",
            "E0813 22:00:28.223070 140613293332352 tpu.py:376] Operation of type Placeholder (module_apply_tokens/bert/encoder/layer_8/attention/self/value/kernel) is not supported on the TPU. Execution will fail if this op is used in the graph. \n",
            "E0813 22:00:28.227057 140613293332352 tpu.py:376] Operation of type Placeholder (module_apply_tokens/bert/encoder/layer_8/attention/self/value/bias) is not supported on the TPU. Execution will fail if this op is used in the graph. \n",
            "E0813 22:00:28.243498 140613293332352 tpu.py:376] Operation of type Placeholder (module_apply_tokens/bert/encoder/layer_8/attention/output/dense/kernel) is not supported on the TPU. Execution will fail if this op is used in the graph. \n",
            "E0813 22:00:28.247262 140613293332352 tpu.py:376] Operation of type Placeholder (module_apply_tokens/bert/encoder/layer_8/attention/output/dense/bias) is not supported on the TPU. Execution will fail if this op is used in the graph. \n",
            "E0813 22:00:28.257089 140613293332352 tpu.py:376] Operation of type Placeholder (module_apply_tokens/bert/encoder/layer_8/attention/output/LayerNorm/beta) is not supported on the TPU. Execution will fail if this op is used in the graph. \n",
            "E0813 22:00:28.261216 140613293332352 tpu.py:376] Operation of type Placeholder (module_apply_tokens/bert/encoder/layer_8/attention/output/LayerNorm/gamma) is not supported on the TPU. Execution will fail if this op is used in the graph. \n",
            "E0813 22:00:28.271580 140613293332352 tpu.py:376] Operation of type Placeholder (module_apply_tokens/bert/encoder/layer_8/intermediate/dense/kernel) is not supported on the TPU. Execution will fail if this op is used in the graph. \n",
            "E0813 22:00:28.277366 140613293332352 tpu.py:376] Operation of type Placeholder (module_apply_tokens/bert/encoder/layer_8/intermediate/dense/bias) is not supported on the TPU. Execution will fail if this op is used in the graph. \n",
            "E0813 22:00:28.287669 140613293332352 tpu.py:376] Operation of type Placeholder (module_apply_tokens/bert/encoder/layer_8/output/dense/kernel) is not supported on the TPU. Execution will fail if this op is used in the graph. \n",
            "E0813 22:00:28.291900 140613293332352 tpu.py:376] Operation of type Placeholder (module_apply_tokens/bert/encoder/layer_8/output/dense/bias) is not supported on the TPU. Execution will fail if this op is used in the graph. \n",
            "E0813 22:00:28.299271 140613293332352 tpu.py:376] Operation of type Placeholder (module_apply_tokens/bert/encoder/layer_8/output/LayerNorm/beta) is not supported on the TPU. Execution will fail if this op is used in the graph. \n",
            "E0813 22:00:28.303388 140613293332352 tpu.py:376] Operation of type Placeholder (module_apply_tokens/bert/encoder/layer_8/output/LayerNorm/gamma) is not supported on the TPU. Execution will fail if this op is used in the graph. \n",
            "E0813 22:00:28.321624 140613293332352 tpu.py:376] Operation of type Placeholder (module_apply_tokens/bert/encoder/layer_9/attention/self/query/kernel) is not supported on the TPU. Execution will fail if this op is used in the graph. \n",
            "E0813 22:00:28.328328 140613293332352 tpu.py:376] Operation of type Placeholder (module_apply_tokens/bert/encoder/layer_9/attention/self/query/bias) is not supported on the TPU. Execution will fail if this op is used in the graph. \n",
            "E0813 22:00:28.334936 140613293332352 tpu.py:376] Operation of type Placeholder (module_apply_tokens/bert/encoder/layer_9/attention/self/key/kernel) is not supported on the TPU. Execution will fail if this op is used in the graph. \n",
            "E0813 22:00:28.340123 140613293332352 tpu.py:376] Operation of type Placeholder (module_apply_tokens/bert/encoder/layer_9/attention/self/key/bias) is not supported on the TPU. Execution will fail if this op is used in the graph. \n",
            "E0813 22:00:28.348650 140613293332352 tpu.py:376] Operation of type Placeholder (module_apply_tokens/bert/encoder/layer_9/attention/self/value/kernel) is not supported on the TPU. Execution will fail if this op is used in the graph. \n",
            "E0813 22:00:28.352569 140613293332352 tpu.py:376] Operation of type Placeholder (module_apply_tokens/bert/encoder/layer_9/attention/self/value/bias) is not supported on the TPU. Execution will fail if this op is used in the graph. \n",
            "E0813 22:00:28.368707 140613293332352 tpu.py:376] Operation of type Placeholder (module_apply_tokens/bert/encoder/layer_9/attention/output/dense/kernel) is not supported on the TPU. Execution will fail if this op is used in the graph. \n",
            "E0813 22:00:28.372525 140613293332352 tpu.py:376] Operation of type Placeholder (module_apply_tokens/bert/encoder/layer_9/attention/output/dense/bias) is not supported on the TPU. Execution will fail if this op is used in the graph. \n",
            "E0813 22:00:28.380632 140613293332352 tpu.py:376] Operation of type Placeholder (module_apply_tokens/bert/encoder/layer_9/attention/output/LayerNorm/beta) is not supported on the TPU. Execution will fail if this op is used in the graph. \n",
            "E0813 22:00:28.384701 140613293332352 tpu.py:376] Operation of type Placeholder (module_apply_tokens/bert/encoder/layer_9/attention/output/LayerNorm/gamma) is not supported on the TPU. Execution will fail if this op is used in the graph. \n",
            "E0813 22:00:28.396294 140613293332352 tpu.py:376] Operation of type Placeholder (module_apply_tokens/bert/encoder/layer_9/intermediate/dense/kernel) is not supported on the TPU. Execution will fail if this op is used in the graph. \n",
            "E0813 22:00:28.400949 140613293332352 tpu.py:376] Operation of type Placeholder (module_apply_tokens/bert/encoder/layer_9/intermediate/dense/bias) is not supported on the TPU. Execution will fail if this op is used in the graph. \n",
            "E0813 22:00:28.412957 140613293332352 tpu.py:376] Operation of type Placeholder (module_apply_tokens/bert/encoder/layer_9/output/dense/kernel) is not supported on the TPU. Execution will fail if this op is used in the graph. \n",
            "E0813 22:00:28.416426 140613293332352 tpu.py:376] Operation of type Placeholder (module_apply_tokens/bert/encoder/layer_9/output/dense/bias) is not supported on the TPU. Execution will fail if this op is used in the graph. \n",
            "E0813 22:00:28.424894 140613293332352 tpu.py:376] Operation of type Placeholder (module_apply_tokens/bert/encoder/layer_9/output/LayerNorm/beta) is not supported on the TPU. Execution will fail if this op is used in the graph. \n",
            "E0813 22:00:28.428649 140613293332352 tpu.py:376] Operation of type Placeholder (module_apply_tokens/bert/encoder/layer_9/output/LayerNorm/gamma) is not supported on the TPU. Execution will fail if this op is used in the graph. \n",
            "E0813 22:00:28.446965 140613293332352 tpu.py:376] Operation of type Placeholder (module_apply_tokens/bert/encoder/layer_10/attention/self/query/kernel) is not supported on the TPU. Execution will fail if this op is used in the graph. \n",
            "E0813 22:00:28.451255 140613293332352 tpu.py:376] Operation of type Placeholder (module_apply_tokens/bert/encoder/layer_10/attention/self/query/bias) is not supported on the TPU. Execution will fail if this op is used in the graph. \n",
            "E0813 22:00:28.459901 140613293332352 tpu.py:376] Operation of type Placeholder (module_apply_tokens/bert/encoder/layer_10/attention/self/key/kernel) is not supported on the TPU. Execution will fail if this op is used in the graph. \n",
            "E0813 22:00:28.463284 140613293332352 tpu.py:376] Operation of type Placeholder (module_apply_tokens/bert/encoder/layer_10/attention/self/key/bias) is not supported on the TPU. Execution will fail if this op is used in the graph. \n",
            "E0813 22:00:28.472294 140613293332352 tpu.py:376] Operation of type Placeholder (module_apply_tokens/bert/encoder/layer_10/attention/self/value/kernel) is not supported on the TPU. Execution will fail if this op is used in the graph. \n",
            "E0813 22:00:28.476272 140613293332352 tpu.py:376] Operation of type Placeholder (module_apply_tokens/bert/encoder/layer_10/attention/self/value/bias) is not supported on the TPU. Execution will fail if this op is used in the graph. \n",
            "E0813 22:00:28.493829 140613293332352 tpu.py:376] Operation of type Placeholder (module_apply_tokens/bert/encoder/layer_10/attention/output/dense/kernel) is not supported on the TPU. Execution will fail if this op is used in the graph. \n",
            "E0813 22:00:28.497122 140613293332352 tpu.py:376] Operation of type Placeholder (module_apply_tokens/bert/encoder/layer_10/attention/output/dense/bias) is not supported on the TPU. Execution will fail if this op is used in the graph. \n",
            "E0813 22:00:28.504335 140613293332352 tpu.py:376] Operation of type Placeholder (module_apply_tokens/bert/encoder/layer_10/attention/output/LayerNorm/beta) is not supported on the TPU. Execution will fail if this op is used in the graph. \n",
            "E0813 22:00:28.508819 140613293332352 tpu.py:376] Operation of type Placeholder (module_apply_tokens/bert/encoder/layer_10/attention/output/LayerNorm/gamma) is not supported on the TPU. Execution will fail if this op is used in the graph. \n",
            "E0813 22:00:28.520349 140613293332352 tpu.py:376] Operation of type Placeholder (module_apply_tokens/bert/encoder/layer_10/intermediate/dense/kernel) is not supported on the TPU. Execution will fail if this op is used in the graph. \n",
            "E0813 22:00:28.524497 140613293332352 tpu.py:376] Operation of type Placeholder (module_apply_tokens/bert/encoder/layer_10/intermediate/dense/bias) is not supported on the TPU. Execution will fail if this op is used in the graph. \n",
            "E0813 22:00:28.535571 140613293332352 tpu.py:376] Operation of type Placeholder (module_apply_tokens/bert/encoder/layer_10/output/dense/kernel) is not supported on the TPU. Execution will fail if this op is used in the graph. \n",
            "E0813 22:00:28.539289 140613293332352 tpu.py:376] Operation of type Placeholder (module_apply_tokens/bert/encoder/layer_10/output/dense/bias) is not supported on the TPU. Execution will fail if this op is used in the graph. \n",
            "E0813 22:00:28.546955 140613293332352 tpu.py:376] Operation of type Placeholder (module_apply_tokens/bert/encoder/layer_10/output/LayerNorm/beta) is not supported on the TPU. Execution will fail if this op is used in the graph. \n",
            "E0813 22:00:28.551527 140613293332352 tpu.py:376] Operation of type Placeholder (module_apply_tokens/bert/encoder/layer_10/output/LayerNorm/gamma) is not supported on the TPU. Execution will fail if this op is used in the graph. \n",
            "E0813 22:00:28.568699 140613293332352 tpu.py:376] Operation of type Placeholder (module_apply_tokens/bert/encoder/layer_11/attention/self/query/kernel) is not supported on the TPU. Execution will fail if this op is used in the graph. \n",
            "E0813 22:00:28.572281 140613293332352 tpu.py:376] Operation of type Placeholder (module_apply_tokens/bert/encoder/layer_11/attention/self/query/bias) is not supported on the TPU. Execution will fail if this op is used in the graph. \n",
            "E0813 22:00:28.582244 140613293332352 tpu.py:376] Operation of type Placeholder (module_apply_tokens/bert/encoder/layer_11/attention/self/key/kernel) is not supported on the TPU. Execution will fail if this op is used in the graph. \n",
            "E0813 22:00:28.586510 140613293332352 tpu.py:376] Operation of type Placeholder (module_apply_tokens/bert/encoder/layer_11/attention/self/key/bias) is not supported on the TPU. Execution will fail if this op is used in the graph. \n",
            "E0813 22:00:28.594227 140613293332352 tpu.py:376] Operation of type Placeholder (module_apply_tokens/bert/encoder/layer_11/attention/self/value/kernel) is not supported on the TPU. Execution will fail if this op is used in the graph. \n",
            "E0813 22:00:28.598356 140613293332352 tpu.py:376] Operation of type Placeholder (module_apply_tokens/bert/encoder/layer_11/attention/self/value/bias) is not supported on the TPU. Execution will fail if this op is used in the graph. \n",
            "E0813 22:00:28.612342 140613293332352 tpu.py:376] Operation of type Placeholder (module_apply_tokens/bert/encoder/layer_11/attention/output/dense/kernel) is not supported on the TPU. Execution will fail if this op is used in the graph. \n",
            "E0813 22:00:28.615774 140613293332352 tpu.py:376] Operation of type Placeholder (module_apply_tokens/bert/encoder/layer_11/attention/output/dense/bias) is not supported on the TPU. Execution will fail if this op is used in the graph. \n",
            "E0813 22:00:28.624177 140613293332352 tpu.py:376] Operation of type Placeholder (module_apply_tokens/bert/encoder/layer_11/attention/output/LayerNorm/beta) is not supported on the TPU. Execution will fail if this op is used in the graph. \n",
            "E0813 22:00:28.628602 140613293332352 tpu.py:376] Operation of type Placeholder (module_apply_tokens/bert/encoder/layer_11/attention/output/LayerNorm/gamma) is not supported on the TPU. Execution will fail if this op is used in the graph. \n",
            "E0813 22:00:28.639751 140613293332352 tpu.py:376] Operation of type Placeholder (module_apply_tokens/bert/encoder/layer_11/intermediate/dense/kernel) is not supported on the TPU. Execution will fail if this op is used in the graph. \n",
            "E0813 22:00:28.645134 140613293332352 tpu.py:376] Operation of type Placeholder (module_apply_tokens/bert/encoder/layer_11/intermediate/dense/bias) is not supported on the TPU. Execution will fail if this op is used in the graph. \n",
            "E0813 22:00:28.654956 140613293332352 tpu.py:376] Operation of type Placeholder (module_apply_tokens/bert/encoder/layer_11/output/dense/kernel) is not supported on the TPU. Execution will fail if this op is used in the graph. \n",
            "E0813 22:00:28.658344 140613293332352 tpu.py:376] Operation of type Placeholder (module_apply_tokens/bert/encoder/layer_11/output/dense/bias) is not supported on the TPU. Execution will fail if this op is used in the graph. \n",
            "E0813 22:00:28.666502 140613293332352 tpu.py:376] Operation of type Placeholder (module_apply_tokens/bert/encoder/layer_11/output/LayerNorm/beta) is not supported on the TPU. Execution will fail if this op is used in the graph. \n",
            "E0813 22:00:28.670380 140613293332352 tpu.py:376] Operation of type Placeholder (module_apply_tokens/bert/encoder/layer_11/output/LayerNorm/gamma) is not supported on the TPU. Execution will fail if this op is used in the graph. \n",
            "E0813 22:00:28.709377 140613293332352 tpu.py:376] Operation of type Placeholder (module_apply_tokens/bert/pooler/dense/kernel) is not supported on the TPU. Execution will fail if this op is used in the graph. \n",
            "E0813 22:00:28.715965 140613293332352 tpu.py:376] Operation of type Placeholder (module_apply_tokens/bert/pooler/dense/bias) is not supported on the TPU. Execution will fail if this op is used in the graph. \n",
            "E0813 22:00:28.729233 140613293332352 tpu.py:376] Operation of type Placeholder (module_apply_tokens/cls/predictions/transform/dense/kernel) is not supported on the TPU. Execution will fail if this op is used in the graph. \n",
            "E0813 22:00:28.732372 140613293332352 tpu.py:376] Operation of type Placeholder (module_apply_tokens/cls/predictions/transform/dense/bias) is not supported on the TPU. Execution will fail if this op is used in the graph. \n",
            "E0813 22:00:28.743339 140613293332352 tpu.py:376] Operation of type Placeholder (module_apply_tokens/cls/predictions/transform/LayerNorm/beta) is not supported on the TPU. Execution will fail if this op is used in the graph. \n",
            "E0813 22:00:28.747251 140613293332352 tpu.py:376] Operation of type Placeholder (module_apply_tokens/cls/predictions/transform/LayerNorm/gamma) is not supported on the TPU. Execution will fail if this op is used in the graph. \n",
            "E0813 22:00:28.759963 140613293332352 tpu.py:376] Operation of type Placeholder (module_apply_tokens/cls/predictions/output_bias) is not supported on the TPU. Execution will fail if this op is used in the graph. \n"
          ],
          "name": "stderr"
        },
        {
          "output_type": "stream",
          "text": [
            "text_a: He said the foodservice pie business doesn 't fit the company 's long-term growth strategy .\n",
            "text_b: \" The foodservice pie business does not fit our long-term growth strategy .\n",
            "label:1\n",
            "prediction:[0.00158932 0.99841076]\n",
            "\n",
            "text_a: Magnarelli said Racicot hated the Iraqi regime and looked forward to using his long years of training in the war .\n",
            "text_b: His wife said he was \" 100 percent behind George Bush \" and looked forward to using his years of training in the war .\n",
            "label:0\n",
            "prediction:[0.9970925  0.00290753]\n",
            "\n",
            "text_a: The dollar was at 116.92 yen against the yen , flat on the session , and at 1.2891 against the Swiss franc , also flat .\n",
            "text_b: The dollar was at 116.78 yen JPY = , virtually flat on the session , and at 1.2871 against the Swiss franc CHF = , down 0.1 percent .\n",
            "label:0\n",
            "prediction:[0.10815371 0.8918463 ]\n",
            "\n",
            "text_a: The AFL-CIO is waiting until October to decide if it will endorse a candidate .\n",
            "text_b: The AFL-CIO announced Wednesday that it will decide in October whether to endorse a candidate before the primaries .\n",
            "label:1\n",
            "prediction:[0.00166545 0.9983346 ]\n",
            "\n",
            "text_a: No dates have been set for the civil or the criminal trial .\n",
            "text_b: No dates have been set for the criminal or civil cases , but Shanley has pleaded not guilty .\n",
            "label:0\n",
            "prediction:[0.9972017  0.00279833]\n",
            "\n",
            "text_a: Wal-Mart said it would check all of its million-plus domestic workers to ensure they were legally employed .\n",
            "text_b: It has also said it would review all of its domestic employees more than 1 million to ensure they have legal status .\n",
            "label:1\n",
            "prediction:[0.00178738 0.9982127 ]\n",
            "\n",
            "text_a: While dioxin levels in the environment were up last year , they have dropped by 75 percent since the 1970s , said Caswell .\n",
            "text_b: The Institute said dioxin levels in the environment have fallen by as much as 76 percent since the 1970s .\n",
            "label:0\n",
            "prediction:[0.00227073 0.99772924]\n",
            "\n",
            "text_a: This integrates with Rational PurifyPlus and allows developers to work in supported versions of Java , Visual C # and Visual Basic .NET.\n",
            "text_b: IBM said the Rational products were also integrated with Rational PurifyPlus , which allows developers to work in Java , Visual C # and VisualBasic .Net.\n",
            "label:1\n",
            "prediction:[0.00164317 0.9983568 ]\n",
            "\n"
          ],
          "name": "stdout"
        }
      ]
    },
    {
      "cell_type": "markdown",
      "metadata": {
        "id": "mml5ELUaajmp",
        "colab_type": "text"
      },
      "source": [
        "# Fine-tune and run predictions on a pre-trained BERT model from checkpoints"
      ]
    },
    {
      "cell_type": "markdown",
      "metadata": {
        "id": "xtgLSuh8IdGP",
        "colab_type": "text"
      },
      "source": [
        "Alternatively, you can also load pre-trained BERT models from saved checkpoints."
      ]
    },
    {
      "cell_type": "code",
      "metadata": {
        "id": "uu2dQ_TId-uH",
        "colab_type": "code",
        "outputId": "4355430b-44cb-4386-da25-00d7fb292959",
        "colab": {
          "base_uri": "https://localhost:8080/",
          "height": 174
        }
      },
      "source": [
        "# Setup task specific model and TPU running config.\n",
        "BERT_PRETRAINED_DIR = 'gs://cloud-tpu-checkpoints/bert/' + BERT_MODEL \n",
        "print('***** BERT pretrained directory: {} *****'.format(BERT_PRETRAINED_DIR))\n",
        "!gsutil ls $BERT_PRETRAINED_DIR\n",
        "\n",
        "CONFIG_FILE = os.path.join(BERT_PRETRAINED_DIR, 'bert_config.json')\n",
        "INIT_CHECKPOINT = os.path.join(BERT_PRETRAINED_DIR, 'bert_model.ckpt')\n",
        "\n",
        "model_fn = run_classifier.model_fn_builder(\n",
        "  bert_config=modeling.BertConfig.from_json_file(CONFIG_FILE),\n",
        "  num_labels=len(label_list),\n",
        "  init_checkpoint=INIT_CHECKPOINT,\n",
        "  learning_rate=LEARNING_RATE,\n",
        "  num_train_steps=num_train_steps,\n",
        "  num_warmup_steps=num_warmup_steps,\n",
        "  use_tpu=True,\n",
        "  use_one_hot_embeddings=True\n",
        ")\n",
        "\n",
        "OUTPUT_DIR = OUTPUT_DIR.replace('bert-tfhub', 'bert-checkpoints')\n",
        "tf.gfile.MakeDirs(OUTPUT_DIR)\n",
        "\n",
        "estimator_from_checkpoints = tf.contrib.tpu.TPUEstimator(\n",
        "  use_tpu=True,\n",
        "  model_fn=model_fn,\n",
        "  config=get_run_config(OUTPUT_DIR),\n",
        "  train_batch_size=TRAIN_BATCH_SIZE,\n",
        "  eval_batch_size=EVAL_BATCH_SIZE,\n",
        "  predict_batch_size=PREDICT_BATCH_SIZE,\n",
        ")"
      ],
      "execution_count": 15,
      "outputs": [
        {
          "output_type": "stream",
          "text": [
            "***** BERT pretrained directory: gs://cloud-tpu-checkpoints/bert/uncased_L-12_H-768_A-12 *****\n",
            "gs://cloud-tpu-checkpoints/bert/uncased_L-12_H-768_A-12/bert_config.json\n",
            "gs://cloud-tpu-checkpoints/bert/uncased_L-12_H-768_A-12/bert_model.ckpt.data-00000-of-00001\n",
            "gs://cloud-tpu-checkpoints/bert/uncased_L-12_H-768_A-12/bert_model.ckpt.index\n",
            "gs://cloud-tpu-checkpoints/bert/uncased_L-12_H-768_A-12/bert_model.ckpt.meta\n",
            "gs://cloud-tpu-checkpoints/bert/uncased_L-12_H-768_A-12/checkpoint\n",
            "gs://cloud-tpu-checkpoints/bert/uncased_L-12_H-768_A-12/vocab.txt\n"
          ],
          "name": "stdout"
        },
        {
          "output_type": "stream",
          "text": [
            "W0813 22:00:49.861065 140613293332352 estimator.py:1984] Estimator's model_fn (<function model_fn_builder.<locals>.model_fn at 0x7fe2c66baae8>) includes params argument, but params are not passed to Estimator.\n"
          ],
          "name": "stderr"
        }
      ]
    },
    {
      "cell_type": "markdown",
      "metadata": {
        "id": "Yd61zFHgW2aN",
        "colab_type": "text"
      },
      "source": [
        "Now, you can repeat the training, evaluation, and prediction steps."
      ]
    },
    {
      "cell_type": "code",
      "metadata": {
        "id": "bZp2_qt4VvED",
        "colab_type": "code",
        "outputId": "d122794b-ccce-422e-a108-4e9ec28ec324",
        "colab": {
          "base_uri": "https://localhost:8080/",
          "height": 103
        }
      },
      "source": [
        "model_train(estimator_from_checkpoints)"
      ],
      "execution_count": 16,
      "outputs": [
        {
          "output_type": "stream",
          "text": [
            "MRPC/CoLA on BERT base model normally takes about 2-3 minutes. Please wait...\n",
            "***** Started training at 2019-08-13 22:00:53.771423 *****\n",
            "  Num examples = 3668\n",
            "  Batch size = 32\n",
            "***** Finished training at 2019-08-13 22:00:55.229583 *****\n"
          ],
          "name": "stdout"
        }
      ]
    },
    {
      "cell_type": "code",
      "metadata": {
        "id": "QIdXkglNVxM5",
        "colab_type": "code",
        "outputId": "cb34f9ba-798e-46f4-f03a-f8de34c76e78",
        "colab": {
          "base_uri": "https://localhost:8080/",
          "height": 379
        }
      },
      "source": [
        "model_eval(estimator_from_checkpoints)"
      ],
      "execution_count": 17,
      "outputs": [
        {
          "output_type": "stream",
          "text": [
            "***** Started evaluation at 2019-08-13 22:00:55.711062 *****\n",
            "  Num examples = 408\n",
            "  Batch size = 8\n"
          ],
          "name": "stdout"
        },
        {
          "output_type": "stream",
          "text": [
            "W0813 22:00:56.232219 140613293332352 deprecation_wrapper.py:119] From bert_repo/modeling.py:490: The name tf.assert_less_equal is deprecated. Please use tf.compat.v1.assert_less_equal instead.\n",
            "\n",
            "W0813 22:00:56.303525 140613293332352 deprecation.py:323] From bert_repo/modeling.py:671: dense (from tensorflow.python.layers.core) is deprecated and will be removed in a future version.\n",
            "Instructions for updating:\n",
            "Use keras.layers.dense instead.\n",
            "W0813 22:01:00.135509 140613293332352 deprecation_wrapper.py:119] From bert_repo/run_classifier.py:647: The name tf.trainable_variables is deprecated. Please use tf.compat.v1.trainable_variables instead.\n",
            "\n",
            "W0813 22:01:00.445033 140613293332352 deprecation_wrapper.py:119] From bert_repo/run_classifier.py:656: The name tf.train.init_from_checkpoint is deprecated. Please use tf.compat.v1.train.init_from_checkpoint instead.\n",
            "\n",
            "W0813 22:01:01.646464 140613293332352 deprecation_wrapper.py:119] From bert_repo/run_classifier.py:657: The name tf.train.Scaffold is deprecated. Please use tf.compat.v1.train.Scaffold instead.\n",
            "\n"
          ],
          "name": "stderr"
        },
        {
          "output_type": "stream",
          "text": [
            "***** Finished evaluation at 2019-08-13 22:01:45.105814 *****\n",
            "***** Eval results *****\n",
            "  eval_accuracy = 0.8382353\n",
            "  eval_loss = 0.66811115\n",
            "  global_step = 343\n",
            "  loss = 0.7876671\n"
          ],
          "name": "stdout"
        }
      ]
    },
    {
      "cell_type": "code",
      "metadata": {
        "id": "0yamCRHcV-nQ",
        "colab_type": "code",
        "outputId": "a6df8c73-5cc4-4800-d1bf-26ad606a3d18",
        "colab": {
          "base_uri": "https://localhost:8080/",
          "height": 701
        }
      },
      "source": [
        "model_predict(estimator_from_checkpoints)"
      ],
      "execution_count": 88,
      "outputs": [
        {
          "output_type": "stream",
          "text": [
            "text_a: He said the foodservice pie business doesn 't fit the company 's long-term growth strategy .\n",
            "text_b: \" The foodservice pie business does not fit our long-term growth strategy .\n",
            "label:1\n",
            "prediction:[0.0035472 0.9964528]\n",
            "\n",
            "text_a: Magnarelli said Racicot hated the Iraqi regime and looked forward to using his long years of training in the war .\n",
            "text_b: His wife said he was \" 100 percent behind George Bush \" and looked forward to using his years of training in the war .\n",
            "label:0\n",
            "prediction:[0.9891451  0.01085493]\n",
            "\n",
            "text_a: The dollar was at 116.92 yen against the yen , flat on the session , and at 1.2891 against the Swiss franc , also flat .\n",
            "text_b: The dollar was at 116.78 yen JPY = , virtually flat on the session , and at 1.2871 against the Swiss franc CHF = , down 0.1 percent .\n",
            "label:0\n",
            "prediction:[0.97843504 0.02156499]\n",
            "\n",
            "text_a: The AFL-CIO is waiting until October to decide if it will endorse a candidate .\n",
            "text_b: The AFL-CIO announced Wednesday that it will decide in October whether to endorse a candidate before the primaries .\n",
            "label:1\n",
            "prediction:[0.00474985 0.9952501 ]\n",
            "\n",
            "text_a: No dates have been set for the civil or the criminal trial .\n",
            "text_b: No dates have been set for the criminal or civil cases , but Shanley has pleaded not guilty .\n",
            "label:0\n",
            "prediction:[0.9887532  0.01124675]\n",
            "\n",
            "text_a: Wal-Mart said it would check all of its million-plus domestic workers to ensure they were legally employed .\n",
            "text_b: It has also said it would review all of its domestic employees more than 1 million to ensure they have legal status .\n",
            "label:1\n",
            "prediction:[0.00459109 0.99540895]\n",
            "\n",
            "text_a: While dioxin levels in the environment were up last year , they have dropped by 75 percent since the 1970s , said Caswell .\n",
            "text_b: The Institute said dioxin levels in the environment have fallen by as much as 76 percent since the 1970s .\n",
            "label:0\n",
            "prediction:[0.0145689 0.985431 ]\n",
            "\n",
            "text_a: This integrates with Rational PurifyPlus and allows developers to work in supported versions of Java , Visual C # and Visual Basic .NET.\n",
            "text_b: IBM said the Rational products were also integrated with Rational PurifyPlus , which allows developers to work in Java , Visual C # and VisualBasic .Net.\n",
            "label:1\n",
            "prediction:[0.00372473 0.9962753 ]\n",
            "\n"
          ],
          "name": "stdout"
        }
      ]
    },
    {
      "cell_type": "markdown",
      "metadata": {
        "id": "pHjWhqAodM8a",
        "colab_type": "text"
      },
      "source": [
        "## What's next\n",
        "\n",
        "* Learn about [Cloud TPUs](https://cloud.google.com/tpu/docs) that Google designed and optimized specifically to speed up and scale up ML workloads for training and inference and to enable ML engineers and researchers to iterate more quickly.\n",
        "* Explore the range of [Cloud TPU tutorials and Colabs](https://cloud.google.com/tpu/docs/tutorials) to find other examples that can be used when implementing your ML project.\n",
        "\n",
        "On Google Cloud Platform, in addition to GPUs and TPUs available on pre-configured [deep learning VMs](https://cloud.google.com/deep-learning-vm/),  you will find [AutoML](https://cloud.google.com/automl/)*(beta)* for training custom models without writing code and [Cloud ML Engine](https://cloud.google.com/ml-engine/docs/) which will allows you to run parallel trainings and hyperparameter tuning of your custom models on powerful distributed hardware.\n"
      ]
    },
    {
      "cell_type": "markdown",
      "metadata": {
        "id": "Y0jgWH9F-_4F",
        "colab_type": "text"
      },
      "source": [
        "## Tyler Additions\n",
        "\n",
        "* Get Leaders Prize data and test model on this data\n"
      ]
    },
    {
      "cell_type": "code",
      "metadata": {
        "id": "Tb1ttmuW-7qA",
        "colab_type": "code",
        "colab": {
          "base_uri": "https://localhost:8080/",
          "height": 123
        },
        "outputId": "ae6bf153-02bc-4081-84d5-17a2b518310f"
      },
      "source": [
        "# Mounts your Google Drive account\n",
        "from google.colab import drive\n",
        "drive.mount('/content/drive', force_remount = True)"
      ],
      "execution_count": 20,
      "outputs": [
        {
          "output_type": "stream",
          "text": [
            "Go to this URL in a browser: https://accounts.google.com/o/oauth2/auth?client_id=947318989803-6bn6qk8qdgf4n4g3pfee6491hc0brc4i.apps.googleusercontent.com&redirect_uri=urn%3Aietf%3Awg%3Aoauth%3A2.0%3Aoob&scope=email%20https%3A%2F%2Fwww.googleapis.com%2Fauth%2Fdocs.test%20https%3A%2F%2Fwww.googleapis.com%2Fauth%2Fdrive%20https%3A%2F%2Fwww.googleapis.com%2Fauth%2Fdrive.photos.readonly%20https%3A%2F%2Fwww.googleapis.com%2Fauth%2Fpeopleapi.readonly&response_type=code\n",
            "\n",
            "Enter your authorization code:\n",
            "··········\n",
            "Mounted at /content/drive\n"
          ],
          "name": "stdout"
        }
      ]
    },
    {
      "cell_type": "code",
      "metadata": {
        "id": "2OG8yb28_PFL",
        "colab_type": "code",
        "colab": {}
      },
      "source": [
        "import matplotlib.pyplot as plt\n",
        "\n",
        "def plot_history(training_history, with_validation):\n",
        "    # Accuracy Plot\n",
        "    plt.plot(training_history.history['acc'])\n",
        "    if with_validation:\n",
        "        plt.plot(history.history['val_acc'])\n",
        "    plt.title('model accuracy')\n",
        "    plt.ylabel('accuracy')\n",
        "    plt.xlabel('epoch')\n",
        "    plt.legend(['train', 'test'], loc='upper left')\n",
        "    plt.show()\n",
        "\n",
        "    # Loss Plot\n",
        "    plt.plot(training_history.history['loss'])\n",
        "    if with_validation:\n",
        "        plt.plot(history.history['val_loss'])\n",
        "    plt.title('model loss')\n",
        "    plt.ylabel('loss')\n",
        "    plt.xlabel('epoch')\n",
        "    plt.legend(['Train', 'Validation'], loc='upper left')\n",
        "    plt.show()\n",
        "    \n",
        "    \n",
        "    \n",
        "# Normalize all the counts\n",
        "def normalize_claim_counts(df):\n",
        "    \"\"\"\n",
        "    Strips out extra claims so we have a balanced dataset - i.e. # of labels for 0,1,2 are the same\n",
        "    \"\"\"\n",
        "    true_claims = df[df['label'] == 2]\n",
        "    neutral_claims = df[df['label'] == 1]\n",
        "    false_claims = df[df['label'] == 0]\n",
        "    max_index = min([\n",
        "        len(true_claims.index),\n",
        "        len(neutral_claims.index),\n",
        "        len(false_claims.index),\n",
        "    ])\n",
        "    return pd.concat([\n",
        "        true_claims[0: max_index],\n",
        "        neutral_claims[0: max_index],\n",
        "        false_claims[0: max_index]\n",
        "    ]).sample(frac=1)  # This shuffles"
      ],
      "execution_count": 0,
      "outputs": []
    },
    {
      "cell_type": "code",
      "metadata": {
        "id": "-tWw_YCi_YB4",
        "colab_type": "code",
        "colab": {}
      },
      "source": [
        "import pandas as pd\n",
        "\n",
        "# Define variables for filepaths - this separates data source from data processing & later steps\n",
        "JSON_DATA_PATH = '/content/drive/My Drive/LeadersPrize/Data/json_data.pkl'\n",
        "ARTICLES_DATA_PATH = '/content/drive/My Drive/LeadersPrize/Data/articles_data.pkl'\n",
        "\n",
        "## IMPORTANT GLOBAL VARIABLE USED TO STORE DATASET\n",
        "json_data = pd.read_pickle(JSON_DATA_PATH)\n",
        "articles_data = pd.read_pickle(ARTICLES_DATA_PATH)"
      ],
      "execution_count": 0,
      "outputs": []
    },
    {
      "cell_type": "markdown",
      "metadata": {
        "id": "VOGOhliZEdvE",
        "colab_type": "text"
      },
      "source": [
        "### Extract a dict of claims and their related articles"
      ]
    },
    {
      "cell_type": "code",
      "metadata": {
        "id": "slVbjqz-xQAN",
        "colab_type": "code",
        "colab": {}
      },
      "source": [
        "def get_claims_to_article_nums(desired_label, num_claims=1000, randomize=True):\n",
        "  import random\n",
        "  \n",
        "  # Get valid indices, optionally randomize order\n",
        "  keys = json_data['related_articles'].keys()\n",
        "  indices = [keys[i]for i in range(len(keys))]\n",
        "  \n",
        "  if randomize:\n",
        "    random.shuffle(indices)\n",
        "    \n",
        "  # Create dict mapping claims to related_article_nums\n",
        "  claims_to_article_nums = {}\n",
        "  for idx in indices:\n",
        "    \n",
        "    if json_data['label'][idx] == desired_label:\n",
        "      claims_to_article_nums[json_data['claim'][idx]] = json_data['related_articles'][idx]\n",
        "\n",
        "    # Get num_claims\n",
        "    if len(claims_to_article_nums.keys()) == num_claims:\n",
        "      break\n",
        "\n",
        "  return claims_to_article_nums"
      ],
      "execution_count": 0,
      "outputs": []
    },
    {
      "cell_type": "code",
      "metadata": {
        "id": "W_oBE54i0jPB",
        "colab_type": "code",
        "colab": {
          "base_uri": "https://localhost:8080/",
          "height": 34
        },
        "outputId": "6f7f8f25-78f4-4b15-dca8-7983ed47f9d9"
      },
      "source": [
        "print(type(json_data['related_articles'].keys()))"
      ],
      "execution_count": 357,
      "outputs": [
        {
          "output_type": "stream",
          "text": [
            "<class 'pandas.core.indexes.numeric.Int64Index'>\n"
          ],
          "name": "stdout"
        }
      ]
    },
    {
      "cell_type": "code",
      "metadata": {
        "id": "-LBUpRxMFuwF",
        "colab_type": "code",
        "colab": {}
      },
      "source": [
        "NUM_EXAMPLES = 500\n",
        "true_claims_to_article_nums = get_claims_to_article_nums(2, NUM_EXAMPLES)\n",
        "false_claims_to_article_nums = get_claims_to_article_nums(0, NUM_EXAMPLES)\n",
        "partly_true_claims_to_article_nums = get_claims_to_article_nums(1, NUM_EXAMPLES)"
      ],
      "execution_count": 0,
      "outputs": []
    },
    {
      "cell_type": "code",
      "metadata": {
        "id": "BcpyxrmJKX6k",
        "colab_type": "code",
        "colab": {
          "base_uri": "https://localhost:8080/",
          "height": 413
        },
        "outputId": "a98fd012-75f9-4205-a4ce-563722dcbccc"
      },
      "source": [
        "# Print result\n",
        "num_print = 1\n",
        "\n",
        "i = 0\n",
        "for claim, related_articles in true_claims_to_article_nums.items():\n",
        "  print(\"True Claim: {} \\nRelated Articles: {}\\n\".format(claim, related_articles))\n",
        "  i += 1\n",
        "  if i % num_print == 0:\n",
        "    break\n",
        "    \n",
        "for claim, related_articles in false_claims_to_article_nums.items():\n",
        "  print(\"False Claim: {} \\nRelated Articles: {}\\n\".format(claim, related_articles))\n",
        "  i += 1\n",
        "  if i % num_print == 0:\n",
        "    break\n",
        "\n",
        "for claim, related_articles in partly_true_claims_to_article_nums.items():\n",
        "  print(\"Partly True Claim: {} \\nRelated Articles: {}\\n\".format(claim, related_articles))\n",
        "  i += 1\n",
        "  if i % num_print == 0:\n",
        "    break"
      ],
      "execution_count": 445,
      "outputs": [
        {
          "output_type": "stream",
          "text": [
            "True Claim: Jill Stein, the Green Part's presidential candidate, is not yet on the ballot in every state.\n",
            "\n",
            "\t\t\t\t\n",
            "\t\t\t\t\t\n",
            "\n",
            "\t\t\t\t\t\tSee Example(s)\n",
            "\n",
            "\t\t\t\t\t\t\n",
            "\t\t\t\t\t\t\t\n",
            "\t\t\t\t\t\t\t\t\n",
            "\t\t\t\t\t\t\t\t\t\n",
            "@RealZiggyFlo Is Jill Stein on the ballot in all 50 states? It's scary to think she's running a campaign doomed to fail on that account\n",
            "— ClipClopNYC (@ClipClopNYC) August 2, 2016\n",
            "\t\t\t\t\t\t\t\t\t\t\t\t\t\t\t\t\t\t\tCollected via Twitter, August 2016 \n",
            "Related Articles: [112154, 116711, 120343, 125391, 125915]\n",
            "\n",
            "False Claim: South Africa is the rape capital of the world. \n",
            "Related Articles: [123726, 130117, 130152, 130207, 128261, 106768, 130166, 124163, 130144, 130246]\n",
            "\n",
            "Partly True Claim: \"Twenty-four percent of doctors in Virginia currently don’t accept new Medicaid patients because the reimbursement rates are so low.\" \n",
            "Related Articles: [94373, 3927, 94095]\n",
            "\n"
          ],
          "name": "stdout"
        }
      ]
    },
    {
      "cell_type": "markdown",
      "metadata": {
        "id": "CXyFrzoBEvuO",
        "colab_type": "text"
      },
      "source": [
        "### Turn list of related articles to long list of sentences"
      ]
    },
    {
      "cell_type": "code",
      "metadata": {
        "id": "2De9hPgc6J_o",
        "colab_type": "code",
        "colab": {}
      },
      "source": [
        "def get_sentences_from_article_nums(article_nums):\n",
        "  retVal = []\n",
        "  \n",
        "  # Iterate over all articles\n",
        "  articles = get_articles_from_article_nums(article_nums)\n",
        "  for article in articles:\n",
        "    \n",
        "    # Add all sentences to retVal\n",
        "    sentences = get_sentences_from_article(article)\n",
        "    for sentence in sentences:\n",
        "      retVal.append(sentence)\n",
        "      \n",
        "  return retVal"
      ],
      "execution_count": 0,
      "outputs": []
    },
    {
      "cell_type": "code",
      "metadata": {
        "id": "2Tu5fxyRHX9e",
        "colab_type": "code",
        "colab": {}
      },
      "source": [
        "def get_articles_from_article_nums(article_nums):\n",
        "  articles = []\n",
        "  for article_num in article_nums:\n",
        "    article = articles_data['text']['{}'.format(article_num)]\n",
        "    articles.append(article)\n",
        "  return articles"
      ],
      "execution_count": 0,
      "outputs": []
    },
    {
      "cell_type": "code",
      "metadata": {
        "id": "L7HpfHXSGj77",
        "colab_type": "code",
        "colab": {}
      },
      "source": [
        "def get_sentences_from_article(article):\n",
        "    import re\n",
        "    # Remove punctuation and line breaks\n",
        "    sentences = re.split(r\"[.!?]\", article)\n",
        "    sentences = [sent.strip(\" \") for sent in sentences]\n",
        "    sentences = [sent.split(\"\\n\") for sent in sentences]\n",
        "    \n",
        "    # Assemble into list of sentences\n",
        "    retVal = []\n",
        "    for sent in sentences:\n",
        "      for s in sent:\n",
        "        if len(s) > 0:\n",
        "          retVal.append(s)\n",
        "    return retVal"
      ],
      "execution_count": 0,
      "outputs": []
    },
    {
      "cell_type": "code",
      "metadata": {
        "id": "5Ty4rxbGIDHb",
        "colab_type": "code",
        "colab": {}
      },
      "source": [
        "# Break list of article nums to list of sentences\n",
        "true_claims_to_sentences = {}\n",
        "false_claims_to_sentences = {}\n",
        "partly_true_claims_to_sentences = {}\n",
        "\n",
        "for claim, article_nums in true_claims_to_article_nums.items():\n",
        "  true_claims_to_sentences[claim] = get_sentences_from_article_nums(article_nums)\n",
        "for claim, article_nums in false_claims_to_article_nums.items():\n",
        "  false_claims_to_sentences[claim] = get_sentences_from_article_nums(article_nums)\n",
        "for claim, article_nums in partly_true_claims_to_article_nums.items():\n",
        "  partly_true_claims_to_sentences[claim] = get_sentences_from_article_nums(article_nums)"
      ],
      "execution_count": 0,
      "outputs": []
    },
    {
      "cell_type": "code",
      "metadata": {
        "id": "NqNIROlgKeos",
        "colab_type": "code",
        "colab": {
          "base_uri": "https://localhost:8080/",
          "height": 413
        },
        "outputId": "4511511c-fc58-4019-b796-b5ef888b89ab"
      },
      "source": [
        "# Print result\n",
        "num_show = 1\n",
        "\n",
        "i = 0\n",
        "for claim, sentences in true_claims_to_sentences.items():\n",
        "  print(\"True Claim: {} \\nRelated Sentences: {}\\n\".format(claim, sentences))\n",
        "  i += 1\n",
        "  if i % num_show == 0:\n",
        "    break\n",
        "    \n",
        "for claim, sentences in false_claims_to_sentences.items():\n",
        "  print(\"False Claim: {} \\nRelated Sentences: {}\\n\".format(claim, sentences))\n",
        "  i += 1\n",
        "  if i % num_show == 0:\n",
        "    break\n",
        "    \n",
        "for claim, sentences in partly_true_claims_to_sentences.items():\n",
        "  print(\"Partly True Claim: {} \\nRelated Sentences: {}\\n\".format(claim, sentences))\n",
        "  i += 1\n",
        "  if i % num_show == 0:\n",
        "    break"
      ],
      "execution_count": 450,
      "outputs": [
        {
          "output_type": "stream",
          "text": [
            "True Claim: Jill Stein, the Green Part's presidential candidate, is not yet on the ballot in every state.\n",
            "\n",
            "\t\t\t\t\n",
            "\t\t\t\t\t\n",
            "\n",
            "\t\t\t\t\t\tSee Example(s)\n",
            "\n",
            "\t\t\t\t\t\t\n",
            "\t\t\t\t\t\t\t\n",
            "\t\t\t\t\t\t\t\t\n",
            "\t\t\t\t\t\t\t\t\t\n",
            "@RealZiggyFlo Is Jill Stein on the ballot in all 50 states? It's scary to think she's running a campaign doomed to fail on that account\n",
            "— ClipClopNYC (@ClipClopNYC) August 2, 2016\n",
            "\t\t\t\t\t\t\t\t\t\t\t\t\t\t\t\t\t\t\tCollected via Twitter, August 2016 \n",
            "Related Sentences: ['Third-party support surging', \"Voters now confronted with the choice between Hillary Clinton Hillary Diane Rodham ClintonHouse Intel Republican: 'Foolish' not to take info on opponent from foreign ally House Intel Republican: 'Foolish' not to take info on opponent from foreign ally It's about the delegates, stupid MORE and Donald Trump Donald John TrumpTrump defends Stephanopolous interview Trump defends Stephanopolous interview Buttigieg on offers of foreign intel: 'Just call the FBI' MORE are making something abundantly clear: They want another option\", 'Surveys over the last six weeks have found a steady but noticeable jump in support for third-party candidates', \"The biggest beneficiary has been Libertarian nominee Gary Johnson Gary Earl JohnsonAmash won't rule out Libertarian challenge to Trump Buzz grows Amash will challenge Trump as a Libertarian Potential GOP primary challenger: Trump's 'contempt for the American people' behind possible bid MORE, who has shot up from 4\", '5 percent to 7', '2 percent in RealClearPolitics polling averages', 'Green Party candidate Jill Stein has also seen an uptick since June — from 2', '5 percent to 3', '5 percent', 'ADVERTISEMENT', 'The surge in support for a third-party candidate is adding a new element of unpredictability into the presidential race', 'Should voters opt for a third-party candidate in large numbers, it could potentially tip the scales in crucial battleground states', 'Pollsters and political scientists say the deep malcontent with Clinton and Trump should give both candidates pause', '“The fact that we have two major party candidates who are enormously disliked by the electorate, enormously and equally disliked, creates the opportunity for the minor party candidates to do better than they would in other presidential elections,” said Peter Brown, assistant director of the Quinnipiac University Poll', '“The minor party candidates can have great influence if the final race is very close', '”', 'Pollsters contacted by The Hill predicted that many of the voters now leaning toward a third-party candidate would eventually side with Trump or Clinton by Election Day', 'But they caution that the volatility of the race and the low favorability ratings for both candidates mean anything is possible', 'So far, it’s unclear whether Trump or Clinton will benefit most from a strong third-party vote', \"There are voters in each party who feel spurned by their party's ticket — Republicans who refuse to side with Trump, and Bernie Sanders Bernie SandersButtigieg on Biden's Iraq War vote: 'that vote was a mistake' Buttigieg on Biden's Iraq War vote: 'that vote was a mistake' The generational divide of Joe Biden and the Democratic Party MORE supporters who feel their candidate did not get a fair shake in the Democratic primary\", 'Conventional wisdom has held that votes for the Libertarian ticket would hurt Republicans, while Green Party votes would do damage to the Democrats', 'That dynamic is borne out by recent polling', 'A CNN survey released last week found that 17 percent of Republican voters who didn’t back Trump in the primary now support Johnson, while only 4 percent of Democrats disgruntled with Clinton support him', 'Stein, meanwhile, took 6 percent support among voters who backed Sanders in the Democratic primaries', 'Monmouth’s poll from the start of the Republican National Convention also found Johnson pulling more from conservative voters than from liberals, while the reverse held true for Stein', 'But the numbers are far from cut-and-dry', 'Quinnipiac’s recent batch of swing state polls found that Trump’s standing in the race against Clinton improved slightly when all four candidates were included', 'Patrick Murray, the Monmouth University pollster who was the first to put Johnson on a national poll, said that he doesn’t think voters are viewing third-party support as an ideological choice', 'Johnson has received significantly more media coverage than Stein, last week taking to cable news to tout the potential endorsement of 2012 GOP nominee Mitt Romney', 'Murray and other pollsters believe that he may be seen as the de facto third-party candidate for those looking to lodge a protest vote', '“For those who really feel they cannot vote for either of the two major party nominees, Johnson is nominally the most visible alternative,” Murray said', '“So people are just traveling there without thinking of ideology', '”', \"Even with the uptick in the polls, most experts believe Johnson won't make the debate stage\", 'He’d have to significantly up his average to 15 percent to qualify for the first general election debate in September', 'But even if he falls short, third-party candidates have roiled election results winning far less of the vote share', 'Ralph Nader’s “2', '5 percent in Florida was almost certainly the deciding factor” in the 2000 general election, Murray noted', '“This is why the national polling isn’t all that important anyways', 'It’s state by state: How close are these states, what are these candidates doing, and are they polling disproportionately in the state', '”', 'Johnson and Stein will likely perform better in some heavily partisan states where voters don’t feel that their vote will actually matter, but Johnson specifically is showing traction in some closer ones', 'Utah is fertile ground for Johnson right now, as an internal poll from Republican Rep', 'Mia Love’s campaign found him just 3 points behind Trump and 1 point behind Clinton, according to the Salt Lake Tribune', 'And Johnson has scored in the high single digits in polls of Florida, Ohio and Pennsylvania while netting 10 percent in New Hampshire, according to recent Quinnipiac figures', 'And out of the swing states in the 2012 election where the final margin was within 7 percentage points, Johnson is pulling 4 percent in the Monmouth surveys', 'That won’t be enough support to win the election, but it could be enough to tilt the scales', 'As the race enters the home stretch, pollsters will be watching closely to see whether the third-party vote holds', '“The question is, can they bring themselves to vote for a campaign only for the purposes of protesting the ticket', '” Brandon Rottinghaus, a University of Houston political scientist', '“You are going to look at their platforms and you’ll say, ‘This doesn’t match me at all', 'Can I bring myself to do this simply out of spite', '’”', 'Green Party Gains Ballot Access in Six More States as Signature Counts More than Double State Requirements', 'Voters will have a chance to cast their ballot for Green Party presumptive Presidential nominee Jill Stein, as well as several local- and state-level Green Party candidates, in six more states as of today', 'Green Party ballot-access signature drives in Kansas, Pennsylvania, Nebraska, New Jersey, Vermont, and Missouri easily surpassed, and in most cases more than doubled, the required number of signatures to secure a ballot line', 'In Kansas, 10,908 signatures were submitted, double the required threshhold of 5,000 signatures', 'This is the first time the Green Party will be on the ballot in Kansas since 2000', 'In Pennsylvania, around 22,000 signatures were submitted, several times over the current requirement of 5,000, which had been lowered through a successful court challenge last month', 'In Nebraska, about 7,000 signatures were submitted, well over the requirement of 2,500', 'In New Jersey, the 2,000 signatures submitted easily more than doubled the requirement of 800 signatures', 'In Missouri, Greens also gained ballot access for the first time since 2000 with 25,000 signatures, two and a half times the 10,000-signature state requirement', 'Ballot access was also achieved in Vermont for the first time ever', 'Over 1400 signatures were submitted that had already been certified as valid by town clerks across the state', 'The Green Party now has ballot access in 23 states, are awaiting government certification for 9 more (including the six states mentioned here), and have active petition drives in 15 more states', 'These ballot-access victories were achieved through the hard work of Green Party activists and ordinary citizens who organized throughout these states over the last 3 to 4 months', 'These campaigns were also given a boost by the recent surge in popularity and interest around presumptive Presidential nominee Jill Stein in the wake of the furor surrounding the Democratic National Convention, where news of leaked emails from the DNC revealing leaders conspired to sabotage Bernie Sanders\\' primary campaign spurred a delegate rebellion and \"Demexit\" of Sanders supporters', '\"Having been involved in Green Party politics for over 20 years, it is encouraging to see the American people moved to action this year to make sure Jill is on the ballot,\" said Rick Lass, national ballot-access coordinator for the Jill Stein Campaign', '\"If Jill Stein and Libertarian candidate Gary Johnson are included in the televised Presidential debates, then everyday Americans will realize they do have a choice besides the corrupt, corporate funded, pro-war, anti-people agendas of the Democratic and Republican parties', 'These are tangible steps in creating the multi-party democracy that we Americans and our nation deserve', '\"', \"Presumptive presidential nominee Jill Stein will be formally nominated by the Green Party at the party's national convention in Houston on Saturday, August 6th\", 'The Green Party is actively petitioning to be on the ballot in at least 47 states for the general election in November, enough to potentially win an electoral college vote', 'Ballot Access', 'September 10 update: Our petitioning drive in all states has ended', 'Americans in 48 states (including DC) are able to cast a vote for Stein/Baraka on November 8', \"We're on the ballot in 45 states (including the District of Columbia) and are qualified for write-in status in another 3 states, for a total of 48 states in which a vote for our campaign will count\", 'You can help cover the cost of our ballot-access drive by donating', 'Please also sign up to volunteer to spread the word about our campaign', 'Results of ballot drives this cycle:', 'Alabama (Petition drive successful', \"We're on the ballot\", ')', 'Alaska (Petition drive successful', \"We're on the ballot\", ')', 'Connecticut (Petition drive successful', \"We're on the ballot\", ')', 'Delaware (Registration drive successful', \"We're on the ballot\", ')', 'Georgia (Georgia voters can write in Jill Stein for president)', 'Idaho (Petition drive successful', \"We're on the ballot\", ')', 'Illinois (Petition drive successful', \"We're on the ballot\", ')', 'Indiana (Indiana voters can write in Jill Stein for president', ')', 'Iowa (Petition drive successful', \"We're on the ballot\", ')', 'Kansas (Petition drive successful', \"We're on the ballot\", ')', 'Kentucky (Petition drive successful', \"We're on the ballot\", ')', 'Minnesota (Petition drive successful', \"We're on the ballot\", '))', 'Missouri (Petition drive successful', \"We're on the ballot\", ')', 'Montana (Petition drive successful', \"We're on the ballot\", ')', 'Nebraska (Petition drive successful', \"We're on the ballot\", ')', 'Nevada (No ballot access', 'NV does not allow official write-in', ')', 'New Hampshire (Petition drive successful', \"We're on the ballot\", ')', 'New Jersey (Petition drive successful', \"We're on the ballot\", ')', 'North Carolina (North Carolina voters can write in Jill Stein for president', ')', 'North Dakota (Petition drive successful', \"We're on the ballot\", ')', 'Oklahoma (No ballot access', 'OK does not allow official write-in', ')', 'Pennsylvania (Petition drive successful', \"We're on the ballot\", ')', 'Rhode Island (Petition drive successful', \"We're on the ballot\", ')', 'South Dakota (No ballot access', 'SD does not allow official write-in', ')', 'Tennessee (Petition drive successful', \"We're on the ballot\", ')', 'Utah (Petition drive successful', \"We're on the ballot\", ')', 'Vermont (Petition drive successful', \"We're on the ballot\", ')', 'Virginia (Petition drive successful', \"We're on the ballot\", ')', 'Washington state (Petition drive successful', \"We're on the ballot\", ')', 'Wyoming (Petition drive successful', \"We're on the ballot\", ')', 'FACT CHECK: Bernie Sanders Leaves the Democratic Party', 'On 27 July, during the Democratic National Convention, Conservative Outfitters published an article reporting that Bernie Sanders had formally left the Democratic Party:', 'BERNIE SANDERS IS NO LONGER A DEMOCRAT #DEMEXIT PENNSYLVANIA – Another black eye for the Democratic Party as Bernie Sanders announces a huge change', 'In 2015 Sanders announced he was no longer an Independent and intended to run as a Democrat in all future elections', 'Sanders quickly changed his mind after leaked documents appear to show the Democratic Party unfairly worked to elect Hillary Clinton', 'The story made it sound as though Sanders had left the party in protest over “DNCLeaks,” which revealed that the Democratic National Committee apparently worked to sabotage his candidacy', 'A 26 July 2016 Wall Street Journal story provided more context:', 'Bernie Sanders said he plans to return to the Senate as an independent, despite winning 13 million votes in the Democratic Party’s presidential primary contest', '“I was elected as an independent; I’ll stay two years more as an independent,” Mr', 'Sanders said', 'Speaking at the Bloomberg Politics breakfast on Tuesday, Mr', 'Sanders also said the resignation of Debbie Wasserman Schultz as chairwoman of the Democratic National Committee doesn’t go far enough in fixing the situation and that more staff members need to leave following embarrassing disclosures of thousands of internal emails', '“We need a DNC which has as very different direction,” he said', '“I honestly don’t know many of the people there', 'But my guess is we’re going to need new leadership, a new direction and new personnel', '” Asked after the event whether Mr', 'Sanders considers himself a Democrat or an independent, a campaign aide said, “He ran for president as a Democrat but was elected to a six-year term in the Senate as an independent', '”', 'So while it’s true Sanders was returning to his Senate seat as an Independent, it is not true that he “left the party” to protest any leaked information', \"FACT CHECK: Is Green Party Candidate Jill Stein 'Anti-Vaccine'\", 'Scenes of dissent and disunity at the July 2016 Democratic National Convention raised the profile of Green Party candidate Dr', 'Jill Stein, considered a secondary choice by some supporters of Sen', 'Bernie Sanders', 'While Stein’s campaign made inroads with disgruntled progressives, a counterpoint repeatedly emerged: According to some opinion pieces and rumors, Dr', 'Stein (an internist with 17 years of field experience) opposes the use of vaccines', 'The rumor stemmed from an 11 May 2016 Reddit AMA (“Ask Me Anything”) hosted by Stein, in which she fielded questions from site users, during which she was asked “What is your campaign’s official stance on vaccines and homeopathic medicine', '”', 'Stein responded at length, but she mostly offered her views on the “medical-industrial complex” rather than addressing the subject of vaccinations and homeopathic medicine', 'She praised vaccines’ “huge contribution to public health” while tacitly criticizing mandatory vaccination policies and U', 'S', 'regulatory agencies:', 'I don’t know if we have an “official” stance, but I can tell you my personal stance at this point', 'According to the most recent review of vaccination policies across the globe, mandatory vaccination that doesn’t allow for medical exemptions is practically unheard of', 'In most countries, people trust their regulatory agencies and have very high rates of vaccination through voluntary programs', 'In the US, however, regulatory agencies are routinely packed with corporate lobbyists and CEOs', 'So the foxes are guarding the chicken coop as usual in the US', 'So who wouldn’t be skeptical', 'I think dropping vaccinations rates that can and must be fixed in order to get at the vaccination issue: the widespread distrust of the medical-industrial complex', 'Vaccines in general have made a huge contribution to public health', 'Reducing or eliminating devastating diseases like smallpox and polio', 'In Canada, where I happen to have some numbers, hundreds of annual death from measles and whooping cough were eliminated after vaccines were introduced', 'Still, vaccines should be treated like any medical procedure — each one needs to be tested and regulated by parties that do not have a financial interest in them', 'In an age when industry lobbyists and CEOs are routinely appointed to key regulatory positions through the notorious revolving door, its no wonder many Americans don’t trust the FDA to be an unbiased source of sound advice', 'Monsanto lobbyists and CEOs like Michael Taylor, former high-ranking DEA official, should not decide what food is safe for you to eat', 'Same goes for vaccines and pharmaceuticals', 'We need to take the corporate influence out of government so people will trust our health authorities, and the rest of the government for that matter', 'End the revolving door', 'Appoint qualified professionals without a financial interest in the product being regulated', 'Create public funding of elections to stop the buying of elections by corporations and the super-rich', '(It is true that the Green Party [not Dr', 'Stein herself] once included homeopathic and alternative medicine prominently in their platform, but that stance was officially dialed back in April 2016', ')', 'We contacted Dr', 'Jill Stein’s campaign for clarification on her position regarding vaccinations, and while we did not receive an immediate response, Stein shared our article and tweeted to proclaim that “of course I support vaccinations”:', 'As a medical doctor of course I support vaccinations', 'I have a problem with the FDA being controlled by drug companies', '— Dr', 'Jill Stein (@DrJillStein) July 29, 2016', 'On 30 July 2016, we received a response to our query from Press Director Meleiza Figueroa, who provided a statement from Dr', 'Stein to clarify her stance on vaccines:', 'I think there’s no question that vaccines have been absolutely critical in ridding us of the scourge of many diseases — smallpox, polio, etc', 'So vaccines are an invaluable medication … We have a real compelling need for vaccinations', 'Nonetheless, David Weigel noted in the Washington Post that Dr', 'Stein’s statements echo language used by vaccination opponents, and that her call for vaccines “to be tested and regulated by parties that do not have a financial interest in them” may be misplaced:', 'Stein’s warning about corporate influence in the vaccine approval process is often voiced by “anti-vaxxers', '” In reality, most members of the Vaccines and Related Biological Products Advisory Committee work at academic or medical institutions, not drug companies', 'But for Stein, the fact that people saw corporate and lobbying influence running rampant meant that some skepticism was warranted', 'Dr', 'Stein’s stated position is that she “supports vaccinations” and acknowledges that “we have a real compelling need for vaccinations,” so it’s not true to say that she is on record as holding an anti-vaccination political position', 'However, her somewhat equivocal statements surrounding that issue allow for a fair bit of leeway and interpretation — many others who proclaim to “support vaccinations” in concept effectively undercut their positions by raising objections to the “vaccination process” or the “vaccination industry', '”']\n",
            "\n",
            "False Claim: South Africa is the rape capital of the world. \n",
            "Related Sentences: [\"What is South Africa's ‘real' unemployment rate\", 'Dorrit Posel - Daniela Casale - Claire Vermaak', '08 March 2013', \"Posel, Casale and Vermaak challenge the merits of the 'strict' as opposed to the expanded definition\", 'The unemployed in South Africa: Why are so many not counted', 'The official rate of unemployment includes only the unemployed who are actively searching for work', 'However, findings from new data challenge this practice', \"The ‘searching unemployed' are no more likely to find employment than the ‘non-searching unemployed'\", 'This casts doubt on the idea that non-searchers are not committed to finding work', \"Furthermore, many people find jobs through social networks - but this job-finding strategy is not adequately recognised as ‘searching for work' in official statistical surveys\", \"StatsSA should reconsider how they count the ‘officially' unemployed\", 'Introduction', 'Since 1998, Statistics South Africa (StatsSA) has adopted a ‘strict\\' measure of unemployment as the official measure for South Africa: to be counted, an unemployed person must have \"taken active steps to look for work or to start some form of self-employment\" (Stats SA 1998: 1)', 'The official rate of unemployment therefore excludes all individuals who report that they do want to work but have not taken active steps (as specifically defined) to search for work in the previous month', 'StatsSA notes that it follows the guidelines set out by the International Labour Office (ILO) in 1982', 'These guidelines have been adopted in many countries', 'The reasoning is that, by not searching for work, an unemployed person signals a lack of commitment to finding work', 'However, the ILO guidelines include a provision for relaxing the work-seeking criterion in coun\\xadtries with \"inadequate labour absorption\" (Hussmanns et al', '1990: 108)', \"Countries are advised to select the appropriate definition of unemployment depending on (a) the previous work experience of the non-searching unemployed and (b) how the labour-force commitment of the ‘non-searchers' compares to that of the searching unemployed on the one hand, and people who are not economically active on the other hand (Hussmanns et al\", '1990: 107-108)', 'How does South Africa fare according to these criteria', 'Which definition of unemployment is appropriate', 'Panel data from the first two surveys (or waves) of the National Income Dynamics Study (NIDS) provide a new opportunity to evaluate the appropriateness of excluding the non-searchers from the official measure of unemployment', 'In NIDS, the same individuals and households are surveyed in a base year (wave 1) and subsequent years (wave 2 etc', '), with 2008 and 2010/11 being the years for which data are available thus far', \"We find substantive evidence that the non-searching unemployed form a legitimate and integral part of the labour force and should be included in unemployment measures - and in academic and policy discussions of the extent and causes of South Africa's persistent unemployment problem, as well as potential policy responses (see Posel et al 2013 for the full paper)\", 'How serious is unemployment really in South Africa', \"If countries with relatively low unemployment were to use a ‘broad' or expanded definition which includes the non-searching unemployed, the rate of unemployment would typically increase by at most a percentage point or two\", 'In South Africa, however, this is not the case', 'The unemployment rate would be significantly higher if the non-searching unemployed were included', 'This is illustrated in Figure 1, which shows how the inclusion of the non-searching unemployed raises the unemployment rate by an average of approximately ten percentage points', 'The question of which definition is appropriate to use in analysis and policy responses is no small matter: for example, in 2004, when the gap between the two definitions was largest, the non-searching unemployed (4', '1 million) almost equalled the number of searching un\\xademployed (4', '2 million people)', '[In 2012 there were approximately 3', '1 million non-searching unemployed and 4', '5 million searching (official) employed (QLFS data)', 'Also see the note at the end of the article', '- Econ3x3 Editor]', 'Are the non-searching unemployed less committed to finding work than the searching unemployed', 'If the unemployed signalled their true commitment to wanting work by searching for a job, we would expect that the non-searching unemployed would be less likely to have worked before (being less interested in working) and less likely to find employment', 'However, our analysis of the NIDS data suggests that neither is true for South Africa', 'Equal percentages of the searching and non-searching unemployed report having previous work experience (approximately 40% in wave 1 of NIDS) - and this is significantly higher than for not economically active people (17%)', 'This suggests that the searching and non-searching un\\xademployed have had a similar involvement in the labour market in the past - and that their previous labour market involvement contrasts considerably with that of not economically active people', 'Moreover, unemployed people who actively searched for jobs in wave 1 of the surveys (2008) were not more likely to find work by wave 2 (2010/11) than the non-searching unemployed (with similar education and other relevant characteristics)', 'The probability of finding employ\\xadment does not differ significantly between the searching and non-searching unemployed', \"It is puzzling why searching for a job (as opposed to not searching) does not appear to increase the likelihood of someone's finding work\", \"One explanation is that the unemployed change their ‘search status' frequently: many unemployed people tend to be stop-start work seekers\", 'At times they become passive and do not search for work actively, but then they become more active again (see also Verick 2012)', 'This means that their particular search status at the time of a statistical survey may reveal little of their intrinsic interest in working', \"A further (and related) explanation is that the official StatsSA definition of ‘searching for a job' is restrictive\", 'There is much evidence that the unemployed rely heavily on social networks to find work (Kingdon and Knight, 2006; Schöer and Leibbrandt, 2006)', 'Similarly, many firms tend to recruit workers by word-of-mouth via their own workforces (Rankin 2013)', 'Although the definition of search activity in official surveys includes social networks, the un\\xademployed are required actively to have sought assistance from family or friends in searching for work', 'The more passive act of waiting to hear about available work opportunities from family or friends is not recorded as a search activity in official surveys, and the unemployed who rely on this job-finding method therefore will be excluded from the official rate of unemployment', 'One of the advantages of NIDS over previous household surveys in South Africa is that it enables us to interrogate this issue', 'In this survey, individuals who have wage employment were asked how they found their job', 'Of the working-age individuals who had been (searching) unemployed in wave 1 and who were employed at the time of wave 2, more than half (55%) reported having found their jobs through social networks', 'The non-searching unemployed relied even more on networks: among those identified as non-searching in 2008 (wave 1) but who found a job by 2010/11 (wave 2), more than 60% reported that they had heard about their jobs from friends, relatives or members of their households', 'Thus, the most common way of finding a job among the unemployed is through waiting to hear from family or friends about jobs that become available, rather than through active job search methods, such as registering at an employment agency, responding to job advertisements, or enquiring at factories, shops and other businesses to find out if work is available', \"This job-finding strategy is not recognised as ‘searching for work' in official statistical surveys\", 'A reliance on passive job search methods among the unemployed in South Africa would not be surprising given the persistently high rate of unemployment and the consequent low probability (or hope) of finding work', 'In addition, significant resource constraints and high rates of poverty raise the (relative) costs of actively searching for a job', 'With the economic marginalisation of rural areas, particularly in the former Bantustans that existed in South Africa under apartheid, many South Africans also only gain access to work by migrating considerable distances to places of employment', 'This raises the costs of searching for a job considerably', 'As noted above, our analysis of the NIDS data suggests that in terms of their previous work experience, and their likelihood of finding employment between the two survey years, there is little to differentiate between the searching and the non-searching unemployed', 'Rather, a descriptive comparison suggests that the factors that do distinguish these two groups of the unemployed are related to the costs and expected benefits of job search', 'In comparison to the searching unemployed, the non-searchers in wave 1 of the panel were significantly less educated and a significantly larger proportion of them lived in a rural, tribal area', 'The non-searching unemployed also had significantly lower expectations of their employment prospects than the searching employed', 'For example, in comparison with the searchers, the non-searchers were significantly less likely to expect getting employment within the next month (10% of the non-searchers compared to 22% of the searchers), and significantly more likely to expect their unemployment to continue beyond two years (44% compared to 26%)', 'These differences are consistent with the argument that individuals frequently are discouraged from actively searching for work', \"The fact that they are not ‘actively searching for work' (in the official sense), does not signal that they are not serious about wanting to be employed\", 'Conclusion', 'Our analysis of panel data collected by NIDS suggests that the broad rate of unemployment, which includes the non-searching unemployed, provides a better reflection of the relationship between labour supply and labour demand in the South African labour market than the strict, or official, rate of unemployment', 'With the high costs of active job search and the low probability of finding employment, many of the unemployed do not search actively, regularly or intensively for work, but rather rely on social networks to provide information about when an employment opportunity becomes avail\\xadable - a rational strategy in the circumstances', 'This does not mean that the non-searching un\\xademployed are less committed to finding work, or even less successful at finding work - but their personal expectations of finding work are surely lower', 'Our findings thus suggest that there is little to distinguish the searchers from the non-searchers in terms of their commitment to finding work', 'We therefore argue that the non-searching un\\xademployed form a legitimate part of the labour force and that their exclusion from the official rate should be reconsidered', \"At the least, this group of the unemployed should be included explicitly in both academic and policy discussions about the extent and causes of South Africa's persistent unemployment problem, as well as potential policy responses\", \"Econ3x3 Editor's note:\", \"Until 2007, in the bi-annual Labour Force Statistics (LFS), StatsSA did publish both the strict and the broad unemployment rates, even though the former had an ‘official' status\", 'When, in 2008, it switched to the quarterly publication of labour market statistics (the QLFS) it simultaneously, and without explanation, stopped publishing or mentioning the broad unemployment rate and publicly communicated only the strict rate to the media, who followed suit', \"Discouraged work seekers, or the non-searching unemployed, were counted but categorised as ‘not economically active' and therefore not as unemployed\", \"In this way the unemployment problem was suddenly ‘reduced' markedly\", \"The QLFS did, though, in 2010 start to show statistics for an ‘expanded definition of unemployment' - but only in the appendices to the QLFS (QLFS table 2\", '3)', 'It should also be noted that, while doing so, StatsSA redefined their expanded definition to produce a sudden downward step, between 2007 (the end of LFS) and 2008 (the start of QLFS), of approximately 800 000 people in the expanded, or broad, count of unemployment', \"This wasn't explained either\", '* At the end of 2012 there were approximately 3', '1 million non-searching unemployed and 4', '5 million searching (official) employed (QLFS data)', 'The strict (official) rate of unemployment was 24', '9% and the expanded rate 35', '9%', 'Dorrit Posel is Professor/SARChI Chair, Development StudiesUniversity of KwaZulu-Natal; Daniela Casale, Senior Research Fellow in Development Studies, and Claire Vermaak is Lecturer in Economics, University of KwaZulu-Natal', 'References', 'Hussmanns, R', 'Mehran, F', '& Verma V', '(1990)', 'Surveys of economically active population, employment, unemployment and underemployment: An ILO manual on concepts and methods', 'Geneva: International Labour Organization', 'Kingdon, G', '& Knight, J', '(2006)', 'The measurement of unemployment when unemployment is high', 'Labour Economics 13: 291 - 315', 'Posel, D', ', Casale, D', '& Vermaak, C', '(2013) Job search and the measurement of unemployment in South Africa, revised version of apaper presented at the Micro-econometric Analysis of South African data (MASA) conference in November 2012', 'Rankin, N', '(2013)', 'How will a job-search subsidy create jobs', 'Econ3x3 online forum, 5 February 2013', 'Schöer, V', '& Leibbrandt, M', '(2006)', \"Determinants of job search strategies: Evidence from the Khayelitsha/Mitchell's Plain survey\", 'South African Journal of Economics 74(4): 702-724', 'Stats SA (1998)', 'Unemployment and employment in South Africa', 'Pretoria: Statistics South Africa', 'Verick, S', '(2012)', 'Giving up job search during a recession: The impact of the global financial crisis on the South African labour market', 'Journal of African Economies 21(3): 373 - 408', 'This article first appeared on the Econ 3x3 website', 'Click here to sign up to receive our free daily headline email newsletter', 'Economist SA article uses jobs statistic unfairly', 'The recent Economist cover story on South Africa, which has riled many South Africans, unfairly uses an unemployment figure not used elsewhere, to paint a gloomy picture of the country', 'Researched by Ruth Becker', 'In its article, The Economist paints a dire picture of the state of South Africa’s economy, focusing on the problem – widely seen as one of the most serious now facing the country – of unemployment', 'To most South Africans, there is no harm in pointing out the unemployment and other problems', 'Everyone acknowledges the challenges they present', 'The issue that has riled many, however, is the way the numbers are presented', 'Here’s why', 'Presenting two sets of numbers', 'Take the jobless total', 'Under the heading “Gathering gloom” the article declares the country’s unemployment rate, “officially 25%, is probably nearer 40%”', 'If true, it would appear that the jobless total in South Africa – which all agree is bad – is a lot worse than in other countries with rates well below 40 percent', 'And by implication, it suggests that the state-run statistics agency StatsSA, which recently reported an unemployment rate of 24', '9 percent, is presenting “official” numbers that belie the true picture', 'Other statistics too would appear to be suspect', 'So where do the numbers come from', 'The StatsSA number is calculated, based on a standard measure set out for governments worldwide by the UN’s International Labour Organisation (ILO), the world authority on labour market statistics', 'Using this measure, StatsSA defines an unemployed person as someone who did not do any work or have a job during the period, took active steps to look for work or start a business in the previous four weeks and was available to take employment', '“Anybody who satisfies all the three conditions is unemployed,” Peter Buwambo, executive manager of labour statistics at Stats SA told Africa Check', 'So why did The Economist suggest the real total is “nearer 40 percent”', 'One interpretation could be that they were quoting the leader of the opposition Democratic Alliance, Helen Zille, who also spoke last month of “broadly defined” unemployment standing at around 35%', 'In fact, dig into the StatsSA figures and it appears that both Zille and possibly The Economist were referring to what StatsSA calls its “expanded rate” of unemployment which is at 36', '2% in the last quarter', 'This definition includes people who do not have a job and are available to work but did not take active steps to look for work or start a business in the period', 'This definition recognises that “some people want to work but they do not look for work because of various reasons ranging from discouragement to lack of money for transport to look for work etc,” Buwambo said', 'So which measure is better', 'According to Martin Wittenberg, Professor in the School of Economics at the University of Cape Town, both measures have their uses', '“I don’t think there is a clear right or wrong here', 'The official (ILO) definition restricts the unemployed to active searchers', '(But) The fact is that those who are not searching are still a political problem and would presumably start searching if the economy were to pick up,” Wittenberg told Africa Check', '“In my mind the broad definition is more useful if one is thinking about the scale of the social problem, while the narrow definition is more appropriate if you want to do international comparisons', '”', 'Conclusion', 'In other words, when you know how things are calculated here and around the world, the problem with those who use the 35-36 percent number from StatsSA – and even round it up to nearly 40 percent in the Economist’s case – is not the number itself but the presentation', 'As the old media saw has it, The Economist appears to have picked the facts to fit its story', 'Edited by Peter Cunliffe-Jones', 'Additional research by Ntombi Dyosop', 'Is SA’s education system the worst in Africa', 'Not according to the data', 'South Africa’s former apartheid-era foreign affairs minister, Pik Botha, recently claimed that the country’s education system is the worst in Africa', 'How much does Botha know about education system rankings', 'Very little it turns out', 'Data shows that while South Africa lags behind a number of African countries, there are many with worse education systems', 'At a discussion on affirmative action hosted by trade union Solidarity, former foreign affairs minister Pik Botha took a swipe at South Africa’s education system', '“Our education system is far behind', 'It’s the worst in Africa and [we have] the highest per capita expenditure in Africa', '[Zimbabwean President Robert] Mugabe’s education system is better,” he is reported to have claimed', 'An Africa Check reader recently asked us to evaluate the claim', 'South Africa’s education system has been strongly criticised over the previous two years', 'There were the highly publicised textbook shortages and school infrastructure backlogs', 'In 2012, the department of basic education’s annual national assessments revealed that grade nine students on average scored 13% for mathematics', 'But is South Africa’s education system really the worst in Africa', 'How education is ranked', 'Ranking education systems is not as simple as comparing different countries’ matric pass rates', 'Different countries use different exams and have different pass rates', 'In order to compare countries’ educational performance, the same test needs to be conducted on a representative sample of students in each country', 'The Southern and Eastern Africa Consortium for Monitoring Educational Quality (SACMEQ) consists of fifteen ministries of education', 'The countries represented include Botswana, Kenya, Lesotho, Malawi, Mauritius, Mozambique, Namibia, Seychelles, South Africa, Swaziland, Tanzania, Uganda, Zambia and Zimbabwe', 'SACMEQ has conducted three education policy research projects: 1995-1998, 1998-2004 and 2005-2010', 'Data for the most recent research project was collected during the last quarter of 2007 from 61,396 grade six students and 8,026 grade six teachers in 2,779 schools', 'During the assessment, students were required to answer multiple-choice questions on reading, mathematics and health', 'The data from this assessment is the most recent and comprehensive survey on educational quality in sub‐Saharan Africa', 'South Africa’s average student reading score placed it tenth out of the fifteen countries scored', 'Uganda, Mozambique, Lesotho, Zambia and Malawi performed worse than South Africa', 'Tanzania was the best-performing country', 'South Africa’s average student mathematics score placed it eighth out of the fifteen countries', 'Mozambique, Uganda, Lesotho, Namibia, Malawi and Zambia achieved lower rankings', 'Access to education', 'A 2012 study published by Nicholas Spaull and Stephen Taylor from the University of Stellenbosch questioned the existing practice of reporting education quality statistics that ignore enrolment statistics', 'The percentage of children enrolled in school varies in different countries', 'For example, 98% of South African children that should be in grade six are in school', 'However, in Malawi, only 85', '7% of children that should be in grade six are in school', 'Students that stay in the schooling system are usually the strongest, wealthiest and most able', 'Poorer, weaker students often drop out', 'By taking into account how many children have dropped out of school, Spaull and Taylor’s study calculates how many children that should be in grade six have acquired basic numeracy and literacy', 'The study assumes that all children that are not in school are illiterate and innumerate', 'SA still performs badly', 'Only ten of the countries included in the third Southern and Eastern Africa Consortium for Monitoring Educational Quality research project had reliable and recent data on school attendance: Kenya, Lesotho, Malawi, Namibia, Swaziland, Tanzania, Uganda, Zambia, Zimbabwe and South Africa', 'Taking enrolment into account, South Africa still performs badly', 'Only 71', '2% of children that should be in grade six are literate', 'It is ranked sixth out of the ten countries, behind Swaziland, Kenya, Tanzania, Namibia, and Zimbabwe', 'Zambia is ranked last and only 49', '3% of children that should be in grade six there are considered literate', 'Only about 58', '6% of South African children that should be in grade six are numerate', 'In this regard, South Africa is ranked fifth, behind Kenya, Swaziland, Tanzania and Zimbabwe', 'Zambia, again, comes in last', 'Only 28', '8% of their grade six children are numerate', 'Does SA spend the most on primary education', 'Botha’s second claim was that South Africa has the highest per capita education expenditure in Africa', 'The 2010 Education for All Global Monitoring Report provides data on countries’ expenditure on primary education per pupil', 'In 2007 South Africa was spending US$1,225 on primary education per pupil – more than most African countries', 'However, both Botswana and the Seychelles were spending more per primary education per pupil: US$1,228 and US$2,089 respectively', 'Data for many African countries is not available in the report', 'South Africa’s low scores despite its high education expenditure are worrying', 'Kenya spends only US$258 on primary education per pupil but performs better than South Africa in both reading and mathematics', 'Botha’s last claim, that Zimbabwe’s education system is better than South Africa, is correct', 'In both numeracy and literacy, it is ranked higher than South Africa', 'Conclusion: SA does not have the worst education system in Africa', 'Botha’s claim that South Africa’s education system is “the worst in Africa” is false', 'The available data, which notably does not cover countries in central Africa and the Sahel where conditions are far more challenging, clearly shows that', 'Taking enrolment rates into account, South Africa performs better than many sub-Saharan African countries in both numeracy and literacy', 'However, there is still a great deal of room for improvement', 'South Africa consistently scores below countries such as Kenya and Swaziland, which spend considerably less on education than it does', 'Edited by Julian Rademeyer', 'Additional reading:', '© Copyright Africa Check 2019', 'Read our republishing guidelines', 'You may reproduce this piece or content from it for the purpose of reporting and/or discussing news and current events', 'This is subject to: Crediting Africa Check in the byline, keeping all hyperlinks to the sources used and adding this sentence at the end of your publication: “This report was written by Africa Check, a non-partisan fact-checking organisation', 'View the original piece on their website\", with a link back to this page', 'Police wrong to claim that crime index ‘vindicates’ official crime statistics', 'Amid mounting controversy over the accuracy of official crime statistics, the South African police have claimed that an index compiled by international consultancy IHS “vindicates” them', 'It doesn’t', 'The South African police remain adamant that official crime statistics are not flawed by a “serious statistical error” and have claimed that a crime index compiled by an “internationally-recognised, credible and globally-respected” consultancy, IHS, vindicates them', 'IHS, which describes itself as the “largest global economics consultancy in the world”, released a statement in October 2013 in which it claimed that “crime in South Africa is at its lowest level in 15 years” and that violent crime is “at the lowest level seen in a decade, declining some 40% between 2002 and 2013”', 'The same day, the South African minister of police, Nathi Mthethwa, was quoted in a statement as saying that IHS’s findings “vindicate government’s recently-released national crime statistics”', 'Mthethwa added that “whilst many local analysts were sceptical in their analysis of the [official] statistics, it is gratifying that an internationally-recognised, credible and globally-respected institution has now affirmed the fact that crime is decreasing in South Africa”', 'Mthethwa’s statement received wide coverage in South Africa and internationally', 'The New Age, News24, The Herald, eNCA, Cape Argus, Mail and Guardian, Witness and The Star all ran versions of a report published by the South African Press Association', 'They made no attempt to interrogate the police’s claims, or IHS’s findings and methodology', 'The Pretoria News and Business Day were rare exceptions in explaining how the index was calculated', 'But was the IHS correct to conclude that crime has decreased in South Africa', 'And does the crime index really vindicate the government’s 2012/13 crime statistics', 'Police miscalculated crime ratios based on outdated population estimates', 'South Africa’s latest crime statistics have been marred by controversy since their release on 19 September 2013', 'The Institute for Security Studies (ISS), an independent research organisation, has said that police used outdated population estimates to calculate the change in crime rates between 2011/12 and 2012/13', 'The 2011/12 crime rates were calculated using the 2001 census population estimate of 50,6 million people, not the more recent 2011 census figures which showed a population of 52,3 million', 'When police statisticians calculated changes in crime rates between 2011/12 and 2012/13 they should have recalculated the 2011/12 crime rate using the most recent census data', 'Gareth Newham, head of the ISS’s governance, crime and justice division,argues that their failure to do so has resulted in statistically and factually flawed crime statistics', 'For instance, according to the police’s calculations, the murder rate only increased by 0', '6% over the past two financial years', 'However calculations done by the ISS, using the most recent population estimates for 2011/12, found that the murder rate had actually increased by 2', '6%', 'Similarly, police claimed that sexual offences cases had decreased by 0', '4% when they had actually increased by 1', '5%', 'Crime index incomparable with crime statistics', 'David Wilson, a senior analyst at IHS Global Insight Southern Africa, the regional office which compiles the crime index, told Africa Check that the police and most press reports had ignored “important nuances” in the IHS’s index', 'As Africa Check discovered, the way in which the crime index is calculated makes comparison with the 2012/13 crime statistics impossible', 'IHS uses the crime index to advise their clients on economic risk levels in South Africa', 'The index is calculated in two steps', 'First, IHS calculates crime rates based on raw police data of the number of crimes committed in a given year, together with population estimates', 'This results in a crime ratio of the number of crimes committed per 100,000 people', '(A previous Africa Check report highlighted the importance of crime ratios which allow for an accurate measure of how crime rates compare across different areas with different population sizes', ')', 'IHS uses its own population estimates based on census data', 'However, it also considers other available survey data including mortality statistics, birth and death registrations, the number of registered voters and the number of registered school children', 'At this point, the IHS, ISS and police are using largely the same method, although IHS’s population estimates differ slightly', 'Crime weightings have no objective basis', 'Significantly, the IHS’s process involves a second step where they weight the crimes', 'Statistical weighting is used to give certain factors more influence than others', 'Neither the ISS or the police statisticians undertake this step', 'The IHS weights crimes to emphasise their economic impact and the perceived seriousness of some crimes over others', 'Wilson said they elect to weight crimes because the manner in which the police calculate the crime rate is insufficient for the needs of IHS’s commercial clients', 'IHS views certain crimes as having a larger impact on the economic risk of investing in South Africa', '“For example, a trebling of shoplifting isn’t important to our needs,” he said', 'As a result, shoplifting is weighted to count less than other crimes', 'IHS then combines the weighted crimes into a single index figure', 'The IHS crime index score for South Africa in 2012/13 was 110', '11', 'This was a 1', '68 point decrease on 2011/12’s figure of 111', '79', 'According to Wilson, “The actual index number is really, really close to flat [compared to 2011/12]', 'But when all the crimes were combined it brought the index below last year’s level', '”', 'The ISS and the police do not give statistical weightings to their calculations', '“This can lead to incorrect conclusions such as crime decreasing when the opposite is true,” said Newham', '“Also there is no single international standard for weighting crime so it is impossible to then make meaningful comparisons with official statistics and other data sources', '”', 'Tom Moultrie, an associate professor of demography at the University of Cape Town and director of the Centre for Actuarial Research, told Africa Check that the weighting method used by IHS was questionable', '“You could give murder a weighting of ten and mugging a weighting of one, and then ten muggings would be the equivalent of one murder', 'But there is no objective basis for concluding that,” he explained', 'Is crime really at a fifteen year low', 'IHS claims that there has been an overall decrease in crime in the last 15 years', 'However, the ISS notes that while over the “past eight years between 2002 and 2011 there have been notable decreases in most crime categories”, 2012/13 saw a reversal in this trend', 'Last year was one of the “worst years in a number of years from a crime reduction point of view”', 'And while IHS claimed that violent crime was “at the lowest level seen in a decade” certain violent crimes increased in 2012/13', 'Murder, attempted murder, sexual crimes, common robbery, robbery with aggravating circumstances, kidnapping and public violence all increased last year', 'The IHS crime index appears to overlook these increases', 'According to Newham the crime index is not suitable for analysing crime in South Africa: “They are using a model for the specific purpose of evaluating economic risk in South Africa… and while they are very good at what they do, they are not crime analysts', 'They should engage with crime experts before making public statements about crime in South Africa', '”', 'Are the government’s 2012/13 crime statistics vindicated', 'The police were wrong to claim that the IHS crime index vindicates their crime statistics', 'Firstly, the crime index is incomparable with normal crime statistics because of its weighting system', 'It does not accurately reflect the state of crime in South Africa', 'Secondly, IHS has expressed it support of the ISS’s criticism of the police’s use of outdated population estimates', '“[The ISS’s] recalculations, taking into account the corrected population figures for 2011/12, are accurate and the right way to do it,” Wilson told Africa said', '“There is a right way to calculate numbers and a wrong way…The police have made a mistake by not taking into account accurate population growth estimates,” he said', 'Africa Check contacted police spokesman Zweli Mnisi', 'When told that the institution the police had described as an “internationally-recognised, credible and globally-respected” supported the ISS’s criticisms of the 2012/13 crime statistics, he replied: “So, what do you want me to say', '”', 'Mnisi refused to comment on IHS’s support of the ISS findings', '“Let the IHS issue a statement and we will respond,” he said', 'Conclusion – The police can’t have their cake and eat it too', 'Police were clutching at straws when they claimed that the IHS crime index vindicated the official crime statistics', 'The crime index was calculated in a very different manner to the 2012/13 crime statistics', 'It was calculated to reflect economic risk in South Africa, not accurately reflect the state of crime in the country', 'As a result the index and the official crime statistics cannot be meaningfully compared', 'IHS gave a statistical weighting to crimes based on their economic impact and perceived seriousness which could create the misleading impression that crime is down when it has actually increased', 'The index also obscures the increase in violent crimes in 2012/13', 'The police continue to dismiss the ISS’s criticisms', 'But the institute it hailed as “internationally-recognized, credible and globally-respected” has now voiced the same concerns', 'These concerns must be addressed', 'The formal independent inquiry suggested by the ISS would be an appropriate manner to do so', 'The accuracy of crime statistics in any country must be beyond reproach', 'By refusing to correct their calculations, or institute a formal independent inquiry, the police risks further damaging its relationship with the public', 'Edited by Julian Rademeyer', '© Copyright Africa Check 2019', 'Read our republishing guidelines', 'You may reproduce this piece or content from it for the purpose of reporting and/or discussing news and current events', 'This is subject to: Crediting Africa Check in the byline, keeping all hyperlinks to the sources used and adding this sentence at the end of your publication: “This report was written by Africa Check, a non-partisan fact-checking organisation', 'View the original piece on their website\", with a link back to this page', 'The Global Anti-Corruption Coalition', 'Americas: weakening democracy and rise in populism hinder anti-corruption efforts', 'With an average score of 44 for three consecutive years, the Americas region continues to fail in making any serious inroads against corruption', 'The number of poor performing countries in the Americas region should come as no surprise given the challenges to the democratic systems and diminishing political rights across North, South and Central America by populist and authoritarian leaders', \"'30% MPs, MLAs face criminal cases'\", 'The ADR/NEW report says that the judgment has ruled that a convicted elected representative cannot continue in office and the conviction would lead to instant disqualification of the elected representative', 'The safeguard provided under Section 8(4) of the Representation of the People Act, 1951 has been struck down and declared ultra vires of Constitution', \"VARANASI: After Supreme Court's landmark verdict on Wednesday regarding convicted MPs and MLAs, the Association for Democratic Reforms (ADR) and National Election Watch (NEW) released a report analysing criminal cases against them\", 'The ADR/NEW report is based on the declaration made by the elected representatives in affidavits submitted by them to the Election Commission prior to contesting elections', 'The report analyzed 4,807 sitting MPs and MLAs', 'The analysis shows that 1,460 out of these 4,807 (30%) sitting MPs and MLAs have declared criminal cases against themselves in the self-sworn affidavits prior to contesting elections', 'Among them, 688 (14%) have declared serious criminal cases against themselves', 'As many as 162 (30%) of the 543 Lok Sabha MPs have declared criminal cases against themselves while 14% of the current Lok Sabha MPs have declared serious criminal cases', 'According to report, 1258 (31%) out of the 4032 sitting MLAs from all state assemblies have declared criminal cases against themselves while 15% of the current MLAs from all state assemblies have declared serious criminal cases against themselves', 'The Jharkhand 2009 Assembly has the highest percentage of elected representatives (74%) who declared criminal cases against themselves', 'A total of 55 out of 74 MLAs of the Jharkhand 2009 Assembly declared criminal cases against themselves', 'Among the recent elections that have been covered by ADR and NEW, the Bihar 2010 Assembly has 58% MLAs who have declared criminal cases against themselves while the Uttar Pradesh 2012 Assembly has 47% MLAs with criminal cases', 'The party-wise analysis of sitting MPs and MLAs with self-declared criminal cases reveal that 82% of MPs and MLAs, who got elected on JMM tickets have declared criminal cases against themselves while 64% of MPs and MLAs elected on RJD tickets have declared criminal cases against themselves', 'While 48% of public representatives elected on SP tickets have declared criminal cases against themselves, 31% of MPs and MLAs elected on BJP tickets have declared criminal cases against themselves (out of the 1,017 MPs and MLAs from BJP, 313 have declared criminal cases)', 'Out of 1,433 elected representatives, Congress 305 (21%) have declared criminal cases against themselves', 'In its earlier report released in December last year, ADR/NEW had also investigated the background of MPs and MLAs with respect to rape cases and other crimes against women, based on the affidavits submitted by them', 'As many as six MLAs declared that they have charges of rape against them in their sworn affidavits submitted to the Election Commission at the time of election', \"Of these six MLAs with declared rape cases, three belong to SP from UP, one belongs to BSP from UP, one of BJP from Gujarat and one from Andhra Pradesh's TDP\", 'Besides, 36 other MLAs have declared that they have other charges of crimes against women such as outraging the modesty of a woman, assault and insulting the modesty of a woman', 'Of these, 6 MLAs are from Congress, five from BJP and three from SP', 'Uttar Pradesh has the maximum number of such MLAs (8), followed by Orissa and West Bengal with seven MLAs each', 'Two MPs, one of ADMK from Salem constituency in Tamil Nadu and another of AITC from Tamluk constituency in West Bengal have declared that they have charges of crimes against women, such as cruelty and intent to outrage modesty', 'Media mis-reporting HIV rate among SA schoolgirls', 'True rate is 12', '7 percent', 'The Sowetan headline was shocking: “28% of schoolgirls are HIV positive”', 'The article that followed read: “At least 28% of schoolgirls are HIV positive while only 4% of young boys are infected with the virus in the country', '“Health Minister Aaron Motsoaledi said this was a clear indication that old men were sleeping with young girls – a statistic he said ‘destroyed my soul', '’”', 'The startling claim was picked up by the South African Press Association (Sapa) which ran a piece citing the Sowetan report with the headline: “Nearly a third of schoolgirls have HIV: Motsoaledi”', 'Then the story went global', 'The report was then picked up around the world', 'The Independent in the UK: “Over 25% of schoolgirls in South Africa are HIV positive because ‘sugar daddies are taking advantage of them’, says health minister Aaron Motsoaledi', '”', 'Al Jazeera: “HIV rampant among South African schoolgirls', 'Country’s health minister says more than quarter of schoolgirls HIV positive, because “sugar daddies” exploiting them', '”', 'Xinhua News Agency: “Despite marked progress in curbing the HIV epidemic, a high percentage of schoolgirls are still HIV positive in South Africa, latest figures revealed…Schoolgirls tested HIV positive constitute at least 28 percent of female pupils in schools across the country', '”', 'The figure was also cited in a column in the Sunday Times by influential Talk Radio 702 host Redi Tlhabi', 'And it continues to gain momentum, picked up by the Reuters and AFP news agencies and carried most recently by the Nigerian Tribune and the Australian website AdelaideNow', 'Variations of the story were tweeted and retweeted, posted and reposted hundreds of times on social networking sites Twitter and Facebook', 'What the minister actually said', 'But the story was fatally flawed; an uncritical rehashing of a half-heard statement made by the minister during a “taking Parliament to the people event” in Carolina in Mpumalanga province', 'In his address in Carolina, Motsoaledi did indeed refer to a figure of 28%, but only in relation to the findings of an HIV testing and counselling campaign at a small number of hard-hit schools in the Natal Midlands', '“The Minister of Health did not say ‘28% of school girls in South Africa are HIV positive,’” his spokesman, Joe Maila, told AfricaCheck', '“The journalist who wrote the story and the agencies that publicised the story got it all wrong', '”', 'Maila said Motsoaledi had referred to a figure of 28% with reference to “a small sample of a few schools in the Natal Midlands”', 'The real rate is half what the media said', 'The most recent statistics, compiled as part of a 2011 HIV and syphilis survey, which was published last year by the Department of Health, indicate that HIV prevalence among young women aged between 15 and 19 was around 12', '7% in 2011, a decrease on the previous year’s figure of 14%', 'This is less than half the figure in the Sowetan’s headline', 'It is even less than the figure (20', '5%) for HIV prevalence among pregnant women aged 15-24, a population group who are always likely to have a higher prevalence rate than all schoolgirls, for obvious reasons', 'Conclusion – Check before you report a figure', 'The website JournAIDS', 'org – which monitors media reporting on HIV and AIDS – has also sharply criticised the Sowetan saying its misinterpretation of Motsoaledi’s comments “points to an urgent need for a culture of fact checking in journalism”', 'As we know ourselves, checking these sorts of facts is not always easy', 'But when a figure is as shocking as the one mistakenly thought to have been given as a national average by the minister, it is important for journalists to check before publishing', 'As JournAIDS said, journalists should not simply report what an official says if it contradicts the easily checked facts', 'We could not say it better ourselves', 'Edited by Peter Cunliffe-Jones', 'Additional research by Ruth Becker', 'Welcome to the South African Reserve Bank Page Content The South African Reserve Bank is the central bank of the Republic of South Africa', 'The primary purpose of the Bank is to achieve and maintain price stability in the interest of balanced and sustainable economic growth in South Africa', 'Together with other institutions, it also plays a pivotal role in ensuring financial stability', \"\\u200b\\u200b\\u200b\\u200b\\u200b\\u200b What's New\", 'Busy loading', 'View all Speeches', 'Busy loading', 'View all', 'Insufficient evidence to support health claims associated with eating placenta', 'A recent discussion on South Africa’s Talk Radio 702 put the practice of eating human placenta (ahem) on the table', 'While there are reports of some people doing it out of curiosity, a host of new mothers say they choose to eat their placenta for health reasons', 'Africa Check investigated', 'Placenta pizza anyone', 'This was the initial gist of a discussion hosted by Jenny Crwys-Williams on South Africa’s Talk Radio 702 in 2014', 'Crwys-Williams read an account by new father and writer for Lifehacker Australia, Chris Jager, who cooked his wife’s placenta and then topped his pizza with it', 'He did this “for the express purpose” of writing an article about his experience', 'The accompanying photographs give a sense of what was involved in preparing this dish and are not for the squeamish', 'But the radio discussion soon turned to new mothers consuming their own placentas for the perceived health benefits', 'One caller described how she had hers freeze-dried, ground into a powder and turned into capsules which she then took to recover from labour, a process known as placenta encapsulation', 'When asked about the benefits, she said she thought it “definitely” made a difference', 'There are not many accounts of people eating someone else’s placenta, but this recipe for placenta with broccoli is described as “a tasty dish the whole family will love” and in this blog post a community in a nomadic village shared a placenta bourguignon', 'In fact, the practice of maternal placentophagy – as it is scientifically known – seems to be gaining traction, no doubt helped along by celebrity endorsement', 'There are over 200 registered placenta encapsulator specialists in the United States, Canada and the United Kingdom and a website called Placenta Benefits alone reportedly gets over 250,000 hits a month', 'Could these women be on to something', 'What does the science say about these claims', 'And, ick-factor aside, are there any reasons women should approach this with caution', 'We weighed the evidence', 'Most mammals eat their placenta', 'Humans are one of the very few mammals who do not eat their placenta', 'This is an argument commonly put forward in articles advocating for placentophagy', 'And it is true', 'With the exception of marine mammals and some domestically reared ones, all other mammals consume their afterbirth', 'But just because animals do it does not mean we should necessarily follow suit', 'Some researchers have speculated the reason humans do not eat placenta is because we have adapted and developed different ways of dealing with the challenges of birthing', 'For instance, in animals, eating placenta has been found to improve bonding between mother and infant and to provide a degree of pain relief', 'Among humans, social bonding, information sharing and support during labour have all eased the trauma of childbirth and facilitate bonding between mother and newborn – possibly eliminating the need for placentophagy', 'The placenta placebo effect', 'There is no shortage of anecdotal accounts of the effectiveness of placentophagy', 'Women have credited it with general improved recovery and more energy, a decrease in postnatal depression, better milk production and more “balanced” hormones', 'The placenta can be consumed in a number of different ways, like putting it in a berry smoothie', 'It can be freeze-dried or steamed and ground into a powder before being transferred into capsules', 'Some people also cook the placenta', 'This book features 25 recipes to inspire placenta-based dishes', 'The benefits associated with eating placenta are thought to be the result of the nutrients, stem cells and hormones contained in the placenta', 'Placenta is also used in traditional Chinese medicine to treat an impressive list of conditions', 'Experts are sceptical', 'In general, research on the potential benefits of placentophagy is sparse, largely because it is inherently difficult to study', 'The reported effects are loosely defined, with some reporting “improved mood” or “ reduced fatigue”, and the findings are difficult to compare', 'An American scholar of placentophagy, Mark Kristal, likens it to “finding a needle in a haystack”', 'There are no double-blind placebo controlled studies to back up any of the claims made about the benefits of eating placenta', 'As a result, health practitioners have called for further and more rigorous studies before any conclusive recommendations can be made', 'A spokesperson for the Royal College of Obstetricians and Gynaecologists has argued that whilst animals might eat placenta for nutrition, humans who are well nourished have no reason to do it', 'Kristal, the US placentophagy scholar, has warned that the cooking process is likely to destroy the protein and hormones and that drying or freezing would similarly decrease the nutritional value of the placenta', 'Even the Independent Placenta Encapsulation Network which, as it name suggests, advocates strongly for placentophagy, is careful to mention that “there is currently no scientific evidence to suggest the placenta pills are or are not beneficial” and add that all their data is experiential', 'Lack of research means lack of knowledge about side effects', 'Of course believing they work may be enough to provide positive outcomes', 'A recent study collected the anecdotal evidence from 189 mothers who had eaten their placenta', 'The vast majority reported an overall positive experience – an outcome the researchers acknowledge could be due the placebo effect', 'This could be true, however, of anything, and to establish whether it is or is not a placebo effect demands further investigation', 'Because so little about placentophagy has been properly studied, the side effects too remain mostly anecdotal', 'Whilst reportedly rare, these could include headaches, mood swings, stomach cramping, pelvic girdle pain and digestive issues', 'A blogger for the New York Times, Nancy Redd, has first-hand experience of how placentophagy might go wrong', 'She believes her placenta capsules were responsible for a near emotional meltdown after an uncomplicated and largely stress-free labour', 'She says she regrets taking them “without a single shred of proof” that would have real benefits', 'Handle with care to avoid a potential biohazard', 'In a medical environment placentas are commonly treated as a biohazard', 'This is because human tissue can carry disease', 'Perhaps unsurprisingly then, humans have a far richer record of disposing placenta than eating it', 'In a cross-cultural survey of 179 human societies, researchers found only one example of maternal placentophagy, leading them to conclude that it is a “universally avoided” practice', 'It is worth noting that placentophagy actually appears to be a relatively recent movement, first mentioned in academic work in the 1970s, and emerging as part of a desire among some groups to return to more natural forms of birth', 'Researchers did find that of the 179 cultures studied, 109 had specific rituals for discarding the placenta, most common of which was burial', 'Again this indicates that humans have a long history of consciously not eating the placenta and instead taking care to dispose of it properly, for the purpose of hygiene, culture or both', 'Hospitals will not release the placenta if the mother has a sexually transmitted disease, including HIV', 'Placenta encapsulation services also dissuade mothers from attempting to use their placenta in such cases', 'Placenta encapsulation services and other advocates for placentophagy all stress that once obtained from the hospital, extreme care needs to be taken to ensure the placenta does not spoil', 'It should be transported in a sterile cooler bag, transferred to a fridge and used as soon as possible, but kept no longer than 5 days', 'It can also be frozen', 'Conclusion: Insufficient evidence of health benefits', 'Currently there is not enough evidence to support the claims made for placentophagy in humans', 'There may in fact be good reason why humans have deviated from what is otherwise common practice among other mammals', 'More research is needed before anything can be said conclusively about the health benefits and risks of eating a placenta', 'New mothers may however, still choose to do it based on their own perception of the benefits – since, thanks to the placebo effect, this may have positive outcomes for them even if there is no clear medical reason for this', 'If done hygienically, this is not known to pose any risk to the health of the mother, provided she stops taking placenta if any side-effects are observed', 'Of course not all mothers are likely to be equally persuaded by the practice of placentophagy', 'When Lifehacker’s Chris Jager attempted to convince his wife to have some of the pizza he prepared with her placenta by arguing that it “came out of” her, she responded, “so does faeces”', 'And if you don’t eat it…', 'You could always make art with it', 'Some new mothers are taking the placenta home to make prints of it', 'Again, all rules regarding hygiene and safety apply', 'Soon new mothers might also be able to donate their placentas for stem cell harvesting, a practice already offered by a few providers', 'Stem cells are used to treat a wide range of illnesses, including leukaemia as well as injuries like burn wounds', 'Edited by Julian Rademeyer', 'From Tanzania to Swaziland – HIV cure claims false until proven effective', 'From Tanzania to Swaziland, newspapers continue to report breakthrough “cures” for HIV/AIDS', 'As the world marked World AIDS Day yesterday, Africa Check investigated the evidence behind just three recent claims', 'Researched by Melissa Meyer', 'If the reports emanating recently from Tanzania, Swaziland, Zambia and Zimbabwe are to be believed, yesterday could have been the last World AIDS Day ever', 'Clinics will soon be able to stop dispensing treatment, UNAIDS can pack up shop', 'We now have all the tools to solve the HIV crisis', 'Take Tanzania’s Daily News', 'It reported last month that researchers are considering whether they should declare a herbal treatment known as Tashack to be a cure for HIV after it has shown to reduce viral load and improve immunity', 'Or in Zambia, a doctor who claims his herbal formula, Topvein, is 99% effective for the treatment and cure of HIV and is available online, both there and in Zimbabwe', 'At the same time, The Times of Swaziland has reported that a herbal product recently introduced to the country called 3H can make people with HIV “well” within three months', 'Is there any basis to any of these claims', 'Africa Check looked into the evidence on three herbal products being promoted as effective HIV interventions', 'This is what we found', 'The long search for a cure for HIV', 'Let’s begin at the beginning', 'Virtually since the HI virus was first identified in 1983, the scientific community has been labouring tirelessly to try and understand how the virus works and find a way of preventing if from wrecking havoc on the human immune system', 'To date, no vaccine or cure has been found but immense strides have been made in developing effective treatment', 'Currently antiretroviral drugs are the only known and proven treatment for HIV infection', 'They work by lowering the concentration of the virus in the blood, thus allowing the body to restore and maintain healthy immunity', 'By preventing the onset of full-blown AIDS, antiretroviral treatment has significantly increased the life expectancy of people living with HIV', 'It is also used to prevent the transmission of HIV from a mother to her child and a course of drugs taken directly after exposure can significantly reduce the risk of becoming infected; an intervention with important implications for needle stick injuries, rape, or other unintended exposure', 'The importance of testing', 'Before they could be distributed to the public, these ARV drugs were subjected to rigorous testing and scrutiny', 'The process typically involves four stages:', 'First it must be deemed safe by being tested on a small group of healthy volunteers', 'Only then will it be given to a larger group of ill people (up to 300) to determine if the treatment actually has any effect', 'If the results are positive, the third stage is to measure impact on a larger scale–usually at more than one research site, involving thousands of participants (though the process is slightly different for HIV vaccine trials)', 'And if proven effective, a marketing license is issued and the treatment can be dispensed', 'Finally, in a fourth stage, studies will continue to monitor longer-term effect and record any side effects', 'The findings of clinical trials are usually, though not always, published in academic journals', 'There is mounting international pressure to make all findings emanating from clinical trials publically available', 'Some progress – but no vaccine, no cure yet', 'Thus far, only antiretroviral drugs have successfully passed stage three', 'No vaccine and nothing in the way of a cure have been proven to work effectively enough to be recognised as a viable HIV intervention', 'This has not been for a lack of trying', 'The search for an end to HIV infection is a global quest, reflected in the continued allocation of research grants to this end', 'Now, in the fourth decade of the HIV epidemic vaccine researchers say they are making progress, and scientists are gaining ground', 'The press keeps a very watchful eye on the race to find a cure', 'It has recently been announced that researchers at five UK Universities will commence a small study early next year to trial a possible HIV cure', 'Note: these stories were about researchers beginning a trial that they think might have a positive outcome, the results of which will only be revealed in 2017', 'The fact that we know this much about this early step at this stage shows how unlikely it is for a real tested cure to slip through the cracks, as some claim', 'That no major news organisations have reported the claims made for Topvein, H3, or Tashack is an indication they are not at that stage', 'In the meantime, there are a few red flags that can help set apart the science from the pseudo-science', 'A lot of hot air – no proof and misleading associations', 'All three “treatments” investigated by Africa Check have a certain veneer of credibility', 'Topvein’s champion claims it has been “clinically and scientifically” tested by Zambia’s ministry of health, “through the National AIDS Council in Zambia, South Africa and China”', 'Tanzania’s National Institute for Medicine Research has apparently engaged the Council for Scientific and Industrial Research (CSIR) of South Africa, the University of Basel in Switzerland and “TNO of Netherland” in its research on Tashack', 'And herbal formula 3H was reportedly “developed and researched by a team of German scientists and doctors”', 'This might sound impressive at first glance but means nothing, as is often the case', 'Having a treatment tested is not the same as having proof that it works', 'How it is tested and by whom is key', 'For example, the key ingredient in Topvein, mayenanin, was indeed tested by the Zambian National AIDS Council, but on a mere 11 participants', 'This is insufficient to meet proper standards', 'And the promoters’ claim that clinical trails were conducted in China is even more dubious', 'The two studies supplied as proof concern the effect of a protein isolated from a bean on an HIV enzyme in a lab-setting and an analysis of the chemical components of seeds found in Nigeria', 'What would count as real proof are properly randomised, controlled trials testing on humans', 'We found no evidence of these for any of these formulas', 'Instead, the main “evidence” promoted by the sellers of these products is formed of unverifiable ‘testimonials’ from people who report or claim to be progressing “very well” and praise the promoters', 'According to Mumcy (not her real name), 3H is “far better than other medications”', 'The testimonials scrolling across Topvein’s site are glowing: “You are very honest people…”, “It works, it works it works', '”, “I was very sceptical…but I thank God that I followed my gut…” etc', 'Advertisement of these products can also be deceptive in other ways', 'The 3H website tries hard to look “sciencey” with an animated double helix', 'In its news section, an article from the BBC on Dr Luc Montagnier’s Nobel Prize, tries to add further legitimacy', 'Topvein has taken a similar tack, posting legitimate HIV news and science alongside its promotional material, even furnishing its website with a revolving banner featuring pictures and quotes from personalities who are recognised world-wide: Nelson Mandela, Barack Obama, Bill Clinton and Nicky Minaj, thrown in for popular appeal', 'If this is not enough to raise the alarm, there are other inconsistencies that should', 'Among the few bits of text on 3H’s website is something that reads like a disclaimer: “3H is not a pharmaceutical product or a medicine”', 'Then why take it at all', 'As for Tashack, its champion Dr Malebo said it was “too early to compare its effectiveness with that of the ARVs currently in use”', 'Sound suspicious', 'Real scientists are cautious', 'Earlier this year a news report erroneously inflated the significance of a Danish study, with a headline reading: “Scientists on brink of HIV cure”', 'The researchers were quick to reply: “We are not”', 'Similarly, the leaders of the UK study mentioned earlier that will start looking into a “potential HIV cure” in 2014 are careful to mention that they are not trying to find a cure per se, but instead want to reduce the number of HIV-infected cells in patients', 'Despite the media’s hankering for a sensational, breakthrough-story, researchers are typically careful not to be overly optimistic about their studies or to oversell their findings', 'Those promoting a product tend to do the opposite', '“We declare it the most potent cure of HIV/AIDS”, is what Dr Malebo, Head of Department of Traditional Medicine at Tanzania’s National Institute for Medicine Research, had to say about herbal product Tashack', 'When sales are a motivation', 'One of the key differences between the scientifically-tested antiretroviral treatment and unproven herbal products of the type we have checked is that the herbal products are usually being sold to the public—often at high prices', 'A Topvein course retails for nearly US $ 200 on its website and a four month supply of 3H will set you back a hefty €2,400', 'Yet antiretroviral treatment is now widely available for free', 'Even though researching and initially producing HIV treatment was extremely expensive, there is unanimity that universal access to free treatment is a fundamental step to redressing the epidemic', 'This is why donor governments are contributing over US $7 billion a year to supporting HIV programmes', 'This is not something they would do if they did not believe that making antiretroviral treatment available for free is the most effective medical intervention currently available', 'Conclusion', 'It is not possible for any organisation, be it Africa Check or any other, to chase down every claim made of an HIV ‘cure’', 'In medicine, the burden of proof lies with those promoting a product or service', 'That process, outlined above, is very clear and to this point has not been done with the claims made for treatments in Tanzania, Zimbabwe, Zambia and Swaziland', 'There is no proof that any of these treatments work', 'Should a herbal product ever be found to be effective, it will receive far wider recognition and acknowledgement than the scant coverage allocated to the products discussed here', 'And it will almost certainly be made available for free', 'Quacks are renowned for pitching their work to the press rather than a community of scientific peers', 'Taking these statements and sales pitches at face value and reproducing them in the media without question is not journalism', 'More seriously, by passing off misinformation like this as the truth, people desperate to find their way back to health may end up making the wrong decisions', 'Edited by Peter Cunliffe-Jones']\n",
            "\n",
            "Partly True Claim: \"Twenty-four percent of doctors in Virginia currently don’t accept new Medicaid patients because the reimbursement rates are so low.\" \n",
            "Related Sentences: ['Battle lines drawn in Va', 'Medicaid overhaul', 'Richmond, VA (23219)', 'Today', 'Scattered thunderstorms early, then becoming mostly clear after midnight', 'A few storms may be severe', 'Low around 60F', 'WSW winds shifting to N at 10 to 15 mph', 'Chance of rain 50%', 'Tonight', 'Scattered thunderstorms early, then becoming mostly clear after midnight', 'A few storms may be severe', 'Low around 60F', 'WSW winds shifting to N at 10 to 15 mph', 'Chance of rain 50%', 'In 2011 Nearly One-Third Of Physicians Said They Would Not Accept New Medicaid Patients, But Rising Fees May Help', 'Sandra L', 'Decker 1 1Sandra L', 'Decker ( sdecker{at}cdc', 'gov ) is an economist at the National Center for Health Statistics, in Hyattsville, Maryland', 'Next Section Abstract When fully implemented, the Affordable Care Act will expand the number of people with health insurance', 'This raises questions about the capacity of the health care workforce to meet increased demand', 'I used data on office-based physicians from the 2011 National Ambulatory Medical Care Survey Electronic Medical Records Supplement to summarize the percentage of physicians currently accepting any new patients', 'Although 96 percent of physicians accepted new patients in 2011, rates varied by payment source: 31 percent of physicians were unwilling to accept any new Medicaid patients; 17 percent would not accept new Medicare patients; and 18 percent of physicians would not accept new privately insured patients', 'Physicians in smaller practices and those in metropolitan areas were less likely than others to accept new Medicaid patients', 'Higher state Medicaid-to-Medicare fee ratios were correlated with greater acceptance of new Medicaid patients', 'The findings serve as a useful baseline from which to measure the anticipated impact of Affordable Care Act provisions that could boost Medicaid payment rates to primary care physicians in some states while increasing the number of people with health care coverage', 'The Affordable Care Act will enable approximately twenty-four million people to purchase coverage through insurance exchanges by 2021, and millions more will be able enroll in Medicaid or the Children’s Health Insurance Program', '1 Concern has been raised about the capacity of the existing health care workforce to provide care to newly insured people', '2,3 Policy makers need appropriate data to evaluate this capacity at the state level both before and after policy changes', 'Such data have not been available to date', 'This article provides a current snapshot of the availability of physician workforce capacity as measured by physicians’ willingness to accept new patients', 'The article also summarizes for the first time the percentage of office-based physicians accepting new patients with Medicaid for each state, and it explores correlates of physicians’ acceptance of new Medicaid patients', 'Determining these correlates is important, because previous reports indicate that more than one-third of US physicians do not accept any new Medicaid patients', '4', 'Many factors unrelated to Medicaid policy levers affect the number of Medicaid patients seen by physicians who accept at least some Medicaid patients', 'Yet the level of Medicaid physician payment has been shown to affect a physician’s willingness to accept any Medicaid patients', '5⇓⇓–8 Limited access to office-based physicians has in turn been shown to be one reason why Medicaid patients rely more heavily on care provided in hospital emergency and outpatient departments than do privately insured patients', '9', 'Previous Section Next Section Study Data And Methods Data On Acceptance Of New Patients The National Ambulatory Medical Care Survey Electronic Medical Records Supplement is conducted by the Centers for Disease Control and Prevention’s National Center for Health Statistics', '10 This survey supplement, conducted by mail with telephone follow-up, aims to collect information on physicians’ adoption and use of electronic health records', 'It is an annual, nationally representative survey of physicians, excluding radiologists, anesthesiologists, and pathologists', 'The sampling frame consists of physicians in the masterfiles of the American Medical Association and the American Osteopathic Association who are licensed to practice in the United States and who are identified in the files as being engaged primarily in office-based practice', 'The 2011 supplement, conducted from February through June 2011, was designed to be representative by state and included questions about physicians’ acceptance of new patients', 'Those who accepted new patients were questioned about which payment forms they accepted', 'The response rate was 64 percent', 'The conduct of the survey was approved by the National Center for Health Statistics research ethics review board', 'Analysis The percentage of physicians accepting any new patients overall, and with particular payment sources, was estimated from 4,326 physician respondents', '11 Acceptance of new patients with Medicaid was compared to acceptance of patients with other payment sources', 'Acceptance of new patients was also compared for physicians in primary care (general and family practice, internal medicine, and pediatrics) compared to other specialties', 'Finally, the acceptance rate of new Medicaid patients in each state was compared to the national average', 'Analyzing the effects of changes in independent variables on changes in acceptance of new Medicaid patients can help net out the effects of correlation between included independent variables and possible confounders', 'Because the data currently only allow for estimates of acceptance of new Medicaid patients by state in one year, a full analysis of the relationship between policy variables and acceptance of new Medicaid patients is beyond the scope of this article', 'However, given the policy importance of these data going forward, a logit model investigated the association between current acceptance rates for new Medicaid patients and basic physician characteristics and state-level variables expected to be correlated with acceptance of Medicaid patients', 'Physician characteristics examined included age, sex, number of physicians in the office, specialty category, whether the physician practiced within a Metropolitan Statistical Area, and whether the physician practiced in a county with at least 15 percent of the population below the federal poverty level', 'This last variable was measured using poverty data by county in 2008', '12 State-level variables included the number of Medicaid enrollees per capita,13,14 the Medicaid capitated managed care penetration rate,15 the number of physicians per capita,16 and the Medicaid-to-Medicare fee ratio', '17 The latter two variables were measured in the latest year for which data were available, which was 2009 and 2008, respectively', 'Because effect size cannot be directly inferred from coefficients of logit models, marginal effects were reported', 'Marginal effects are calculated as the average change in the predicted probability of acceptance for a one-unit change in each independent variable, holding all other covariates at their observed values', 'For example, I report the difference in the percentage of physicians predicted to accept new Medicaid patients depending on whether or not a physician is in a primary care specialty', 'All analyses used sample weights that yield nationally representative estimates through, for example, inflation by the reciprocals of the probabilities of selection and adjustment for nonresponse by state, Metropolitan Statistical Area status, and fifteen physician specialty groups', '18 Standard errors accounted for the design of the survey (for example, allowing clustering of errors by state) using the statistical analysis software Stata, version 12', 'Two-tailed t-tests were used', 'Statistical significance was assessed at', 'A scatter plot of the average percentage of physicians accepting new Medicaid patients by state and the average Medicaid-to-Medicare physician fee ratio is also provided', 'Limitations This study has several limitations', 'Physicians’ acceptance of new patients is a common measure of access to care', 'For example, the Medicare Payment Advisory Commission annually reports to Congress the percentage of physicians accepting new Medicare patients as one measure of Medicare physician payment adequacy and access to care for Medicare beneficiaries', '19 The Medicaid and Children’s Health Insurance Program Payment and Access Commission also reported the percentage of physicians accepting new Medicaid patients in its first report to Congress in 2011', '20 However, other measures of access are important, such as the percentage of beneficiaries with a usual source of care and the percentage who do not access care because of their inability to find a participating provider or having to wait a long time for an appointment', 'If these data were available by state, they might show different patterns than the data presented here', 'For example, if Medicaid enrollees are more geographically concentrated than other patients, less universal acceptance of Medicaid compared to other payers might not directly translate into access problems for Medicaid patients', 'An additional limitation to the current work is that I was unable to include information on other determinants of physicians’ acceptance of Medicaid patients that may be important, such as administrative barriers or delays in receiving payment from Medicaid', 'Also, the Medicaid-to-Medicare fee ratios included in the multivariate analysis were measured in mid-2008, although the data on acceptance of new Medicaid patients were measured in early 2011', 'Although it may take physicians a while to respond to changes in Medicaid fees, this difference of more than two years in measurement of these two variables introduced error into the analysis', 'The analysis of correlates of state acceptance rates for new Medicaid patients must also be viewed with caution because variables other than but correlated with included predictors may be the ones affecting physician acceptance of new Medicaid patients', 'This may be the case, although the finding regarding the Medicaid fee ratio is consistent with other work that better identifies a causal relationship between the fee ratio and acceptance of Medicaid patients', '5 A final limitation of the current analysis is that the sample size was insufficient to consider acceptance rates by state for subsets of physicians, such as those in primary care', 'Previous Section Next Section Study Results Acceptance Of Any New Patients About 96', '1 percent of office-based physicians accepted new patients in 2011 (Exhibit 1)', 'The percentage accepting new patients was lower for those in primary care specialties (about 93', '8 percent) than for others (97', '6 percent)', 'View this table: Exhibit 1 Percentage Of US Office-Based Physicians Accepting New Patients, By Specialty Category, 2011 Acceptance Of New Medicaid Patients, By State Nationally, 69', '4 percent of physicians accepted new patients with Medicaid', 'This was lower than the percentage accepting new self-pay (91', '7 percent), Medicare (83', '0 percent), or privately insured patients (81', '7 percent)', 'Exhibit 2 presents state-level estimates of physician acceptance of new Medicaid patients', 'Although precise estimates are presented, readers should be cautious not to interpret small differences between states as differences that are statistically significant', 'View this table: Exhibit 2 Percentage Of US Office-Based Physicians Accepting New Medicaid Patients, 2011 The state with the lowest percentage of physicians accepting new Medicaid patients was New Jersey (about 40', '4 percent)', 'There, physicians were significantly less likely than the national average to accept new Medicaid patients', 'The state with the second-lowest acceptance rate for new Medicaid patients was California (57', '1 percent), although the p value for the comparison of California’s rate with the national average was only 0', '06', 'Twenty-one states had acceptance rates for new Medicaid patients that were significantly higher than those of other states', 'These states included several in the Midwest and West, two states in New England (Massachusetts and New Hampshire), and five in the South (Arkansas, Kentucky, Mississippi, South Carolina, and West Virginia)', 'Correlates Of Acceptance Of New Medicaid Patients Physicians in solo practice were 23', '5 percentage points less likely to accept new Medicaid patients than physicians in offices with at least ten other physicians (Exhibit 3)', 'This is a 34 percent difference relative to the average percentage of physicians accepting new Medicaid patients (69', '4 percent; Exhibit 1)', 'Primary care physicians were 7', '3 percentage points (11 percent) less likely and physicians outside of Metropolitan Statistical Areas were 12', '9 percentage points (19 percent) more likely, respectively, than others to accept new Medicaid patients', 'View this table: Exhibit 3 Characteristics Associated With Acceptance Of New Medicaid Patients Among US Office-Based Physicians, 2011 Physicians in the Midwest were 8', '2 percentage points (12 percent) more likely than those in the Northeast to accept new Medicaid patients', 'Not surprisingly, physicians practicing in counties where at least 15 percent of the population was under the federal poverty level were more likely—by about 8', '4 percentage points (12 percent)—than others to accept new Medicaid patients', 'Controlling for other factors, acceptance of new Medicaid patients across states was not significantly associated with the percent of Medicaid enrollees in the state, the percentage of the Medicaid population in capitated managed care plans, or the number of physicians per capita in the state', 'However, acceptance rates of new Medicaid patients were higher in states with higher Medicaid-to-Medicare fee-for-service fee ratios', 'On average, a ten-percentage-point increase in the fee ratio raised the acceptance of new Medicaid patients by four percentage points', 'Using the logit parameter estimates, raising Medicaid fees to Medicare levels for all physicians, a 25', '8-percentage-point increase in fees relative to the current average ratio of 74', '2, would be predicted to be associated with an increase in the acceptance rate of new Medicaid patients from an average of 70', '0 percent across physicians to an average of 78', '6 percent—a difference of 8', '6 percentage points (12 percent) ( )', 'This 78', '6 percent predicted acceptance rate for new Medicaid patients is much closer than 70', '0 percent to the current acceptance rates for new privately insured (81', '7 percent) and Medicare (83', '1 percent) patients', 'Exhibit 4 also plots the data on acceptance of new Medicaid patients and the Medicaid-to-Medicare fee ratio by state', 'View larger version: Download as PowerPoint Slide Exhibit 4 Percentage Of US Office-Based Physicians Accepting New Medicaid Patients In 2011 And The Medicaid-To-Medicare Fee Ratio SOURCES National Ambulatory Medical Care Survey Electronic Medical Records Supplement, 2011; and Note 17 in text', 'NOTES The line pictured is from an ordinary least squares regression of the percentage of US office-based physicians accepting new patients, by state, on the fee ratio', 'Data points represent all fifty states and Washington, D', 'C', ', but only selected points are labeled', 'Although not reported, the analysis in Exhibit 3 was also run considering only physicians in primary care', 'Results were similar to those for all physicians', 'For example, an increase in the Medicaid-to-Medicare fee ratio for primary care to 100 was predicted to increase acceptance of new Medicaid patients among primary care physicians from 64', '7 percent to 71', '7 percent—a difference of 7', '0 percentage points (11 percent) ( )', 'Although also not reported, interactions introduced one by one between the fee ratio and the indicator for having a high poverty rate in the county, the state Medicaid managed care penetration rate, and the indicator for being outside of a Metropolitan Statistical Area were not significant in either the model for all physicians or the one for physicians in primary care only', 'Previous Section Next Section Discussion About 96 percent of office-based physicians accepted new patients in 2011, although the percentage was lower for primary care physicians than for other specialties', 'The percentage of physicians accepting new patients with Medicaid was lower than the percentage accepting new self-pay, Medicare, or privately insured patients', 'Physicians in smaller practices and those practicing in Metropolitan Statistical Areas were less likely than others to accept new Medicaid patients', 'Acceptance rates for new Medicaid patients varied greatly across states', 'Physicians in New Jersey were the least likely to accept new Medicaid patients', 'Also, the acceptance rate for new Medicaid patients was positively associated with the average Medicaid-to-Medicare fee ratio in a state', 'If Affordable Care Act provisions are implemented as planned, Medicaid payment rates for primary care services provided by primary care physicians will increase to 100 percent of Medicare rates in 2013 and 2014', 'This will greatly affect Medicaid payment rates in some states, including New Jersey and California, where the 2008 ratios were 37 percent and 56 percent respectively (and 41 percent and 47 percent, respectively, for primary care)', '17 Prior evidence suggests that physicians’ acceptance of Medicaid patients will increase as Medicaid payment rates increase', '5 Evidence also suggests that this may increase the number of times that a Medicaid patient sees a physician and decrease reliance on hospitals for outpatient care', '9 However, several questions remain', 'The fact that the planned increases are temporary could mitigate their impact', 'Also, evidence of the relationship between Medicaid physician fees and physicians’ participation in Medicaid relied on past changes in state fee ratios that were mostly smaller than the increase that is expected to occur in 2013 for some states', 'It is difficult to predict physicians’ responses to increases in fee ratios of a magnitude that has rarely occurred in the past', 'Finally, the number of people with health care coverage through Medicaid and the exchanges is expected to increase at the same time as Medicaid payment rates for primary care physicians are expected to increase in some states', 'This raises a question about the capacity of the health care workforce to meet this increased demand', 'The data in this article provide an important baseline available to use in monitoring this question', 'Previous Section Next Section Acknowledgments The findings and conclusions in this article are those of the author and do not necessarily represent the views of the Centers for Disease Control and Prevention or the Office of the National Coordinator for Health Information Technology (ONC)', 'The author thanks the ONC for funding the survey supplement; Jane Sisk, Susan Schappert, and Chun-Ju Hsiao for help with the data; and Clarice Brown, Jennifer Madans, Genevieve M', 'Kenney, and other participants in the conference “Measuring Primary Care Access” at the University of Pennsylvania, April 13, 2012, for helpful comments on a previous draft', \"Physicians' cost shifting behavior: Medicaid versus other patients\", 'I', 'INTRODUCTIONMuch of the debate about rising health care costs in the U', 'S', 'centers on the notion of \"cost shifting', '\" Cost shifting is loosely defined as charging one set of patients a higher price to offset losses on another set of patients', 'For example, to offset losses from treating charity patients, a hospital might charge a relatively high price to privately insured patients, or a physician might increase his standard fee to compensate for lower Medicare reimbursements', 'Despite the certainty of the conventional wisdom, empirical evidence of cost shifting is, at best, mixed', 'In a study of Illinois hospitals in the early 1980s, Dranove (1988) finds evidence of cost shifting from government patients, primarily Medicaid and Medicare recipients, to private patients', 'Morrisey and Sloan (1989) find evidence of cost shifting in urban hospitals but not in rural hospitals', 'Several other empirical studies find no evidence of cost shifting', 'One aspect of the cost shifting debate that the empirical work has ignored is whether or not doctors - as opposed to hospitals - practice cost shifting', 'Although standard profit-maximizing models of physicians would rule out cost shifting, the widely used \"income targeting\" model of physicians (Feldstein, 1993) does allow for such behavior', \"The probable reason for the dearth of empirical work is the lack of good data on physicians' pricing behavior\", \"The analysis here uses the Physicians' Practice Costs and Income Survey, 1983-1985 (PPCIS, expanded version) to investigate this important question\", 'The PPCIS includes a set of questions asking physicians their standard fees and Medicaid reimbursement rates for a variety of medical and surgical procedures', 'The survey also contains detailed information on the physician and medical conditions in the local geographic area', 'The basic research methodology is straightforward', 'Since Medicaid reimbursements are largely controlled by state legislatures, considerable variation exists in reimbursement rates across the United States', 'If cost shifting is a widespread phenomenon, one would expect that relatively low reimbursement rates would result in higher fees to privately insured patients, controlling for other factors', 'If cost shifting does not occur, one would expect Medicaid reimbursement rates to have no effect or possibly result in lower fees depending on the market structure facing the physician', 'The analysis also examines additional evidence that suggests that lower Medicaid reimbursements lead physicians to treat fewer Medicaid patients', 'The results suggest that physicians do not practice \"cost shifting\" but instead act in a way consistent with the hypothesis of profit-maximization for a firm with some market power', 'That is, lower Medicaid reimbursements tend to lead to lower prices to privately-insured patients', 'This appears to be true across a wide spectrum of procedures performed by different specialties', 'Also consistent with the profit-maximization hypothesis, lower Medicaid reimbursements tend to cause physicians to treat relatively fewer Medicaid patients', 'II', 'ALTERNATIVE MODELS OF PHYSICIAN BEHAVIORHealth economists widely recognize that profit maximization precludes cost shifting', 'However, since most of the cost shifting literature focuses on non-profit hospitals that may be more likely to engage in cost shifting, reviewing the implications for physicians seems useful', 'Profit maximizing models of physician behavior preclude cost shifting because under a maximization hypothesis, physicians extract as much as possible from all their patients under all circumstances', 'To say that physicians can shift costs from one set of customers to another, or more specifically, get more revenues from one set of customers to offset a decrease in revenues from another, is to say that the physicians were not profit maximizing in the first place', 'To fix this principle, consider a stylized model of physician behavior', 'A profit-maximizing physician sells a homogeneous good, Q, \"physician services\" (the treatment of one patient)', 'Assume that the physician has two types of patients', 'Type 1 patients ([Q', 'sub', '1]) pay through a government program at a fixed rate, [P', 'sub', '1]', 'The physician can treat as many or as few of these patients at that rate as he wishes', 'Type 2 patients ([Q', 'sub', \"2]) have a downward-sloping demand for the physician's services given by [P\", 'sub', '2] ([Q', 'sub', '2])', 'Obviously, if a physician took [P', 'sub', '2] as fixed as implied by a perfectly competitive model, then there would be no opportunity for cost shifting, so some kind of market power (implied by a downward sloping demand curve) is a necessary condition for cost shifting behavior', 'Also note that the price charged to the Type 2 patients (the \"private\" patients) in general will differ from the price that the physician receives for the Type 1 patients (the \"public\" patients)', 'That the prices are different does not in and of itself imply either the absence or the presence of cost shifting behavior', 'The cost of providing the good is a function of the total number of patients the doctor serves, C([Q', 'sub', '1] + [Q', 'sub', '2])', 'Costs are increasing and strictly convex', 'To ensure an interior solution, marginal revenue from Type 2 patients must be declining in [Q', 'sub', '2] at the optimum', 'The physician chooses the number and type of patients to serve', 'The profit function is then(1) [Pi] = [P', 'sub', '1][Q', 'sub', '1] + [P', 'sub', '2]([Q', 'sub', '2])[Q', 'sub', '2] - C([Q', 'sub', '1] + [Q', 'sub', '2])with C[prime] [greater than] 0, C[double prime] [greater than] 0, [P', 'sub', '2][prime] [less than] 0, and [P', 'sub', '2][double prime] [Q', 'sub', '2] + 2[P', 'sub', '2][prime] [less than] 0 (declining marginal revenue condition) where [prime] and [double prime] denote the first and second derivative, respectively', 'The optimization problem is to choose [Q', 'sub', '1] and [Q', 'sub', '2] to maximize profits', 'The first order conditions of this problem are(2a) [Delta][Pi]/[Delta][Q', 'sub', '1] = [P', 'sub', '1] - C[prime] = 0(2b) [Delta][Pi]/[Delta][Q', 'sub', '2] = [P', 'sub', '2][prime][Q', 'sub', '2] + [P', 'sub', '2] - C[prime] = 0Equation (2a) implies that marginal cost will be set equal to the reimbursement rate, [P', 'sub', '1]', 'Equation (2b) implies that the marginal revenue from Type 2 patients in turn also will be set equal to the reimbursement rate', 'This is a standard result - i', 'e', ', the marginal revenues across different markets will be equalized at the optimum', 'But these results rule out the shifting of costs to Type 2 patients', 'Cost shifting in this model is defined as the charging of a higher price to Type 2 patients when the reimbursement rate to Type 1 patients is lowered', 'But working through the implications of the first order conditions yields exactly the opposite result', 'Suppose [P', 'sub', '1] falls', 'Because marginal revenues are equated at the margin, the marginal revenue of Type 2 patients also should fall', 'But the assumption for profit maximization implies that marginal revenue is declining in [Q', 'sub', '2] so a decrease in marginal revenue implies an increase in [Q', 'sub', '2] itself', 'But since demand is downward sloping, an increase in [Q', 'sub', '2] would imply a decrease in [P', 'sub', '2]', 'So, as [P', 'sub', '1] falls, the price charged to Type 2 patients also would fall; hence, the hypothesis of cost shifting is rejected', 'More directly, (2a) and (2b) imply that(3) [P', 'sub', '2][prime][Q', 'sub', '2] + [P', 'sub', '2] = [P', 'sub', '1]Taking a total derivative of this equation and recognizing that d[P', 'sub', '2] = [P', 'sub', '2][prime]d[Q', 'sub', '2], one gets(4) d[P', 'sub', '2]/d[P', 'sub', '1] = [P', 'sub', '2][prime]/[P', 'sub', '2][double prime][Q', 'sub', '2] + 2[P', 'sub', '2][prime]Since both the numerator and the denominator are negative, this quantity is positive, implying that as [P', 'sub', '2] increases, so does [P', 'sub', '1]; [P', 'sub', '2] and [P', 'sub', '1] move in the same direction in contradiction to the cost shifting story', 'An additional result is that as [P', 'sub', '1] falls, [Q', 'sub', '1] also falls, meaning that as the reimbursement rate falls, the number of government-financed patients also decreases', 'This result also hinges on the second order conditions of the maximization problem, but the intuition is straightforward: as the marginal revenue from the government-financed patients falls, the physician will choose to serve fewer of them', 'When the profit-maximization hypothesis is dropped, so is the key theoretical constraint against cost shifting', 'Dranove (1988) presents one example of an alternative model to strict profit maximization', 'He posits a model where a firm has a utility function that takes as arguments profits and output', 'The motivation is that for non-profit organizations, other factors besides profits are likely to influence production decisions', 'An important result is that for cost shifting to occur in this framework, the firm must exhibit some market power', 'McGuire and Pauly (1991) present another optimization model based on demand-inducement behavior of physicians', 'In this model, physicians can increase revenues from a set of patients but only by incurring disutility for engaging in demand inducement', 'Such a model allows for cost shifting (gaining more revenues from one group as revenues from a second group exogenously declines) if income effects are sufficiently strong', 'Empirical tests for cost shifting focus primarily on hospitals where the profit-maximization hypothesis probably is not the best model', 'Hadley and Zuckerman (1990); Morrisey, Sloan and Valvona (1988); Zuckerman and Holahan (1988); and Morrisey and Sloan (1989) find little evidence of pervasive cost shifting', '(Morrisey, 1994, and Coulam and Gaumer, 1991, review the existing empirical evidence on cost shifting', ') Although physician services are an important component of the health service industry, they have received little empirical attention in the cost shifting debate due to the paucity of micro-level data on physician pricing behavior', 'This study begins to fill this gap by using PPCIS data', 'III', 'DATA DESCRIPTIONThe primary data for this study are the 1983-1985 PPCIS conducted by the National Opinion Research Center under contract to the Health Care Financing Administration', \"This cross-sectional survey was conducted from October 1984 through June 1985 and includes responses from 4,729 physicians (out of 6,847 eligible) drawn from a stratified random sample of physicians from the American Medical Association's 1984 Physician Master File\", 'The physicians were asked numerous detailed questions regarding pricing policies, reimbursement rates, and practice characteristics', \"The data also contain variables concerning the physicians' personal characteristics (age, sex, specialty, etc\", ') obtained from the AMA Physician Masterfile', 'The expanded version of the 1983 PPCIS contains county-level demographic information (age composition, ethnic composition, MDs per capita, etc', ')', 'The strength of the data is their uniqueness', 'Depending on their specialty, self-employed physicians were asked for standard fees and reimbursement rates (Medicaid and Medicare) for three to five different medical procedures', 'For example, family practice physicians were asked for several different prices on an intermediate office visit, an intermediate follow-up hospital visit, a vaginal delivery, and an EKG report', 'Most specialists were asked questions about the intermediate office visit and the hospital follow-up visit', 'Having both a Medicaid price that will vary by state of residence and a \"usual fee\" for a given procedure allows one to test for cost shifting straightforwardly by checking for a statistically significant negative correlation between Medicaid reimbursements and usual fees, controlling for other observable characteristics', 'The alternative hypothesis is that physicians are profit-maximizers, which would imply by the simple model in the previous section that a positive correlation should exist between Medicaid reimbursements and fees charged to non-Medicaid patients', 'Such a test relies on the exogeneity of Medicaid reimbursements at the state level', 'This assumption seems plausible given the wide latitude individual state legislatures have in setting Medicaid reimbursement rates for physicians', 'Indeed, the freedom states have in setting the parameters of the Medicaid system and the resulting variation across states in how Medicaid operates has been the subject of some controversy (e', 'g', ', Cromwell et al', ', 1995)', 'However, but for the purposes of this study, such arbitrary variation obviously is beneficial', 'The analysis here also checks the exogeneity assumption using instrumental variables estimation', 'As with most data, the PPCIS also has some weaknesses', 'First, it is cross-sectional, meaning that unobservable physician characteristics cannot be controlled for as they would be, for example, with a panel data set', 'Second, the price information is self-reported by the physician or a designated representative', 'Such self-reporting possibly could be biased although the direction of the bias is unclear and a priori seems unlikely to favor one hypothesis over another (cost shifting versus profit maximization)', 'Another limitation of the data is that only a small subset of procedures is sampled for each physician instead of the full range of physician activities', 'This precludes the estimation of a fully specified cost or production function for physician services', 'Finally, although the PPCIS is unique in its composition, it was conducted early in the current phase of changes in the health care industry', 'The logical presumption is that the market for physician services has become more competitive since this survey was taken', 'This would imply that physicians\\' ability to \"cost shift\" has lessened, implying that any findings of cost shifting using these data represent an upper bound estimate for cost shifting in the current environment', 'Table 1 gives summary statistics for the data', \"Prices have been adjusted to account for differences in costs-of-living across states using the American Chamber of Commerce Association's cross-sectional price index\", 'The price index is based on a population-weighted index of city-level price indexes reported in 1985 (most information is from the 1st quarter report, but a few states have no reported cities for the 1 st quarter, so the analysis uses the next closest quarter with a reporting city, either the 3rd quarter or the 4th of 1985)', 'The weights are from the 1980 census', 'Several variations on the price index do not materially change the results', '(Details on this and other aspects of the paper are available from the author', ')The table gives information on 1,915 physicians who report both a standard fee and a Medicaid reimbursement rate', 'The information on fees and reimbursements includes all procedures reported by a given physician', 'IV', 'EMPIRICAL RESULTSIntuitively, if cost shifting is a widespread phenomena operating through the fees that physicians charge and if the mechanism is that low Medicaid reimbursements result in higher fees to non-Medicaid patients, one might be able to see differences at the aggregate state level since Medicaid reimbursements vary widely by state', 'A simple test is to compute the mean Medicaid reimbursement and mean standard fee for the most frequently answered procedure (intermediate office visit for an established patient) by state and then compute the correlation across states', '(Hawaii, Alaska, and Arizona have been excluded', 'Cost-of-living information was not available for Hawaii', 'Alaska has too few respondents to be of value', 'Arizona obtained a waiver from participating in the Medicaid program', ') The Pearson Correlation is 0', '37, which is consistent with profit-maximization and contradicts cost shifting', '[TABULAR DATA FOR TABLE 1 OMITTED]Next, the analysis runs a weighted least squares regression of the mean standard fee on a constant and the state mean Medicaid reimbursement for an office visit where the weight is the number of surveyed physicians with a value for their office fee in each state', 'The coefficient on the Medicaid is 0', '43 with a 2', '4 t-statistics', 'The interpretation of this coefficient is that not adjusting for any other factors, a $1 increase in the Medicaid reimbursement rate will raise the average standard fee by 43 cents', 'The [R', 'sup', '2] of the regression is relatively low at 0', '11, but this simple evidence lends no support to the notion of cost shifting', 'A', 'Regression AnalysisSuch simple correlations suggest a positive relationship', 'However, after controlling for other demographic characteristics, the gross positive correlation might disappear', 'Therefore, a more detailed regression model is necessary:(5) [fee', 'sub', 'ij] = [[Beta]', 'sub', '0] + [[Beta]', 'sub', '1][medaid', 'sub', 'ij] + [x', 'sub', 'ij][Beta] + [[Epsilon]', 'sub', 'ij]where i denotes the physician, j denotes the state, fee is the standard fee for a given medical procedure, medaid is the Medicaid reimbursement for that procedure, and [x', 'sub', 'ij] is vector [TABULAR DATA FOR TABLE 2A OMITTED] of other explanatory variables including the characteristics of the doctor and local demographic (county level) variables', 'Under the simplest interpretation of cost shifting, a decrease in Medicaid payments should result in an increase in the standard fee, which would imply a negative value for [[Beta]', 'sub', '1]', 'The initial assumption is that the Medicaid rate is set exogenously by state legislatures', 'Later analysis uses a specification test to check this assumption', '(The [x', 'sub', \"ij] vector includes the following: the physician's age and age squared, a dummy variable equalling 1 if physician was foreign trained, a race variable [1 if non Caucasian], a gender variable [1 if female], and county-level data [hospitals per 1,000; hospital beds per 1,000; physicians per 1,000; and median family income]\", 'Including a variety of other control variables does not materially affect the estimates', ')Most physicians were asked to respond to a question about an intermediate office visit and a follow-up hospital visit', 'Table 2A lists the estimated coefficients on the Medicaid rate for each specialty to these two questions', 'Look first at the office visit result', 'The estimated coefficient is positive across all specialties and is statistically significant at the 5% level for 11 of the 13', '(The regressions for tables 2, 3 and 4 were checked for heteroskedasticity using the White test; all but 2 do not reject the hypothesis of homoskedasticity', 'Using robust standard errors does not change the inference results on Medicaid for these two regressions, and thus the analysis uses standard OLS estimates for all the reported standard errors', ') All the estimates are under 1 with estimates ranging from 0', '07 for Pediatricians up to 0', '95 for general practitioners', 'The sample sizes are relatively small, ranging from 44 (other specialties) to 236 (family practice)', 'The [R', 'sup', '2]s tend to be quite good by cross-sectional standards with the low value being 0', '17 for OB/GYN and the high being 0', '46 for General Practice', 'This evidence again supports profit-maximization and hence lends no support to the hypothesis of cost shifting', \"Additionally, the results are consistent with physicians' exercising [TABULAR DATA FOR TABLE 2B OMITTED] some market power as opposed to acting as price-takers\", 'Table 2B gives the results for a hospital visit, which are quite similar to those from the office visit regressions', 'The sample sizes are somewhat smaller than for office visits, ranging from 31 up to 183', 'All the estimated coefficients again are positive with approximately the same range of values as found with office visits, although the direct correlation between the estimates in the two panels appears weak', 'Eight of the 13 are statistically significant at the 5% level', 'Table 2C gives the results for a variety of specialized procedures', 'The story is the same: largely positive and statistically significant coefficient estimates', 'Only two of the 25 estimates are negative, and they are insignificant (Diagnostic D&C and Arthrocentesis)', 'Eighteen of the remaining 23 are positive and statistically significant', 'Sample size ranges from 33 (EKG cardiology) up to 163 (EKG general/family practice)', 'These results support the hypothesis of profit-maximization and reject the notion of cost shifting', 'They also support the hypothesis that physicians exercise some market power', 'B', 'EndogeneityOne possible problem is that the variable of interest, the Medicaid reimbursement, is correlated with the error term, thus inducing a bias in the results', 'Such a situation could arise if the reimbursement for a particular state is correlated with some unmeasured characteristics of the state or of the physician', 'A related problem would arise if state reimbursement rates are set as a function of the prevailing standard fees, implying a reverse causality from that assumed above', 'One possible test for the exogeneity of the Medicaid reimbursement involves constructing an instrument that is the predicted reimbursement rate for physician i in state j using information in all other states except j', \"For example, to get an instrument for Californian Medicaid reimbursements, one can run a regression of Medicaid reimbursements on a set of physician characteristics, local demographic characteristics, and procedure type using all physicians in the sample except those in California and then use those estimated coefficients to predict the Californian physician's Medicaid reimbursement\", 'Such an instrument by construction is not contaminated with unmeasured state-specific effects', 'After estimating the reimbursement rate for physicians in the other states in a similar manner, one can use this instrument to construct a Hausman/Wu specification test that Medicaid payments is an exogenous variable', 'The results from this test suggest no serious endogeneity problem', 'Of the 51 tests (for each of the regressions in table 2), [TABULAR DATA FOR TABLE 2C OMITTED] seven would reject exogeneity at the 5% level, which is higher than expected with a 5% probability of a Type I error, although not substantially out of line', 'The IV results for those seven failures actually give somewhat stronger results than the OLS estimates', 'Six of the seven IV estimates are larger than their OLS counterparts and remain statistically significant', 'Over the full 51 regressions, IV tends to give somewhat wider dispersion in the estimates, but the same general results hold as in the OLS models', 'The instruments themselves work reasonably well', 'The first-stage results of the instrumental variables regression show that the instrument is significant at the 10% level in all but five of the 51 regressions, and only seven are insignificant at the 5% level', 'These results indicate that endogeneity of the Medicaid rate is not a serious problem in these data', '(Constructing the specification test involves including both the Medicaid rate and the instrument in an OLS regression and evaluating the t-statistic on the instrument [Hausman, 1978])', 'C', 'Including Physicians Who Do Not Report a Medicaid PriceAnother possible problem is that those physicians who report a Medicaid rate, and thus are included in the regressions, may be systematically different from those physicians who do not report a Medicaid rate', 'Checking for this possibility involves following the test for selection bias outlined in Heckman (1979) for each regression', 'The test is as follows: (i) Estimate a probit regression with the dependent variable being 1 if the physician reports a Medicaid reimbursement rate and 0 otherwise', '(ii) Use the predicted inverse Mills ratio from the probit regression as an additional regressor in the linear regression equation (Equation 5)', 'The test for no selection bias is that the coefficient on the inverse Mills ratio is equal to 0', 'All the tests indicate no selection bias when the same set of regressors are used in both steps (computation of the standard errors used the formulas discussed in Greene, 1981)', \"Including additional variables in the probit regression that were not in the linear regression reveals some cases where the coefficient on the inverse Mills ratio is statistically significant, but the result generally is that the positive coefficient on the Medicaid rate becomes more significant, indicating that even after accounting for possible selection bias, a rise in the Medicaid rate tends to increase the physician's standard fee\", '(See Greene, 1993, Ch', '22; Maddala, 1983, Chs', '8 & 9)', '(The tests with additional regressors in the first-stage probit regression include variables such as % population black, % population urban, % population below poverty line, % population over age 65, and % population under age 14', 'The results of interest on the Medicaid reimbursement coefficient change very little and thus are not reported here', ')An additional check on this potential problem involves imputing a Medicaid reimbursement rate for each non-reporting physician and then rerunning the regressions including all physicians', 'Estimating a Medicaid reimbursement rate for non-reporting physicians involves running a regression of the log of the Medicaid reimbursement for all reporting physicians on variables included in the previous regressions, dummy variables for states, specialty and procedure, plus a number of other demographic variables describing the county in which the physician lives', 'Performing a state-by-state regression is impractical due to the low number of observations for some states', 'Variables not employed in other regressions described in the paper are included because sample size is not a problem', 'The predicted reimbursement is then computed by exponentiating the predicted values for the non-reporting physicians plus 1/2 the estimated variance from the regression', 'The results differ little from those given in table 2', 'D', 'Alternative Tests of Profit-MaximizationAnother implication of the profit-maximization model is that the number of Medicaid patients should be negatively correlated with the Medicaid reimbursement rate as outlined in section II', 'This is a fairly intuitive implication: as the marginal revenue from Medicaid patients decreases from a lowering of the reimbursement rate, a physician will choose to treat fewer of these patients', 'While not perfectly suited to testing this hypothesis, the PPCIS data also include some questions that shed light on this issue', 'Part of the survey asked physicians: (i) the percentage of their patients who had state Medicaid as the primary payer (%M_AID), and (ii) whether the physician was not accepting new Medicaid patients (REJECT)', \"Under profit-maximization, the percentage of Medicaid patients should be positively correlated with the Medicaid reimbursement rate - the higher the Medicaid reimbursement, the higher the percentage of Medicaid patients in a physician's caseload mix\", \"The probability of a physician's rejecting new Medicaid patients should be negatively correlated with the reimbursement rate - the higher the reimbursement, the lower the probability of rejecting a new Medicaid patient\", 'Ideally, one would have information on the caseload mix (Medicaid versus other types of patients) for each procedure the physician performs as well as the Medicaid reimbursement for that procedure', \"However, the questions noted above were asked only of the physician's entire practice\", 'The response rate is highest on the question for the prices of an intermediate office visit, and this is a question asked of almost all physician specialties', \"Therefore, the analysis uses the reported Medicaid reimbursement for that procedure as a proxy for the generosity of the Medicaid reimbursement level for a physician's entire practice\", 'Table 3, panel A, gives the parameter estimates from the linear regression of %M_AID on the Medicaid reimbursement and a set of control variables', '[TABULAR DATA FOR TABLE 3 OMITTED] The first column includes only those physicians who report a Medicaid reimbursement', 'The estimated coefficient is positive and statistically significant, having a value of 0', '160 with a standard error of 0', '043, suggesting that an increase in the reimbursement rate increases the percentage of Medicaid patients', 'The second column gives the results when a Medicaid reimbursement is imputed for those physicians who do not report one', 'The estimated coefficient is very similar at 0', '156 and also is statistically significant at standard significance levels', 'The OLS estimates do not constrain the predicted values to be in the zero to 100 interval required of percentages', 'Other tests using a log odds ratio yielded similar results', 'When other permutations were tried, the positive correlation between reimbursement rates and the number of Medicaid patients came through quite strongly', 'Panel B gives the estimates from the probit equations where REJECT is the dependent variable', 'As with the linear regressions, two sets of results are reported', 'In the first column, which uses physicians who report a Medicaid reimbursement rate, the estimate is -0', '014 with a standard error of 0', '005, implying that as the reimbursement rate increases, the probability of not accepting a new Medicaid patient decreases', 'This is consistent with the findings in the linear models reported in panel A of table 3', 'The results using imputed values in the second column show very similar results, with a coefficient of -0', '015 and a standard error of 0', '005', 'Taken together with the evidence from the previous sections on prices, these results provide strong evidence that physicians act as profit-maximizers and apparently do not practice cost shifting', 'In some respects, these results are very troubling', 'According to the popular \"cost shifting\" story, a lowering in government prices on Medicaid or Medicare reimbursements leads to a higher price of privately insured patients, but implicitly the assumption remains that the poor being served by the government program will be served regardless', 'These results suggest otherwise', 'The evidence reported here suggests that physicians act as profit-maximizers, implying that if the government lowers the reimbursement for the poor, physicians will serve fewer of them', 'V', \"ANALYSIS AND CONCLUSIONHigher Medicaid reimbursement rates are positively correlated with higher fees to privately insured patients for a physician's services, contradicting the popular notion that physicians engage in cost shifting\", 'Using instrumental variables, the analysis checks for exogeneity of the Medicaid rates and finds little evidence that the rates are correlated with the error term', 'This strengthens the argument that causality runs from the Medicaid rates to the setting of fees rather than vice versa', 'While useful, the data do not allow for a full specification of the production or cost function', 'Therefore, one must view these results with some caution since a more complete specification might reveal interesting interdependencies among procedures in the setting of fees and their relationship with costs', 'However, the theoretical arguments against cost shifting will be similar with multi-product firms', 'A more complete specification might lead to different magnitudes for the effect of Medicaid on fees than found in this study, but the signs probably would not change', \"The direct implication is that physicians' fees move in the direction of government reimbursements: a cut in Medicaid reimbursements tends to lower fees for non-government patients\", 'Although this study uses only Medicaid information due to the cross-sectional nature of the data, the implications for the other large federal health program, Medicare, are similar', 'Profit-maximization implies that fees ought to move in the direction of Medicare reimbursements rather than in the opposite direction as suggested by proponents of cost shifting', 'Additionally, lower Medicaid reimbursements tend to lead physicians to treat fewer Medicaid patients', 'Given the results of this paper, the pool of Medicaid patients does not appear \"fixed\" but rather varies with the reimbursement rate being offered by the government', 'Obviously, these results one must view with some caution due to limitations inherent in the data, but this general topic of the relationship between reimbursement levels and the utilization of Medicaid services by the eligible population (the \"take-up\" rate) suggests a fruitful avenue for future research', 'A somewhat more indirect implication is that the market for physician services might suffer inefficiency if in fact physicians are acting as local monopolies', 'Monopoly behavior has well-known inefficiency properties', 'Thus, analysts might focus on how to make physicians services a more competitive industry - perhaps by eliminating barriers to entry', \"ABBREVIATIONPPCIS: Physicians' Practice Costs and Income Survey, expanded versionThe author gratefully acknowledges comments of Michael Grossman, Val Lambson, Tom McGuire, and an anonymous referee and the financial support of a Brigham Young University research grant\", 'REFERENCESCoulam, Robert F', ', and Gary L', 'Gaumer, \"Medicare\\'s Prospective Payment System: A Critical Appraisal,\" Health Care Financing Review: 1991 Annual Supplement, 45-77', 'Cromwell, Jerry, Killard W', 'Adamache, Carol Ammering, William Bartosch, and Ann Boulis, \"Equity of the Medicaid Program to the Poor Versus Taxpayers\" Health Care Financing Review, Spring 1995, 75-104', 'Dranove, David, \"Pricing by Non-Profit Institutions: The Case of Hospital Cost-Shifting,\" Journal of Health Economics, 7:1, 1988, 47-57', 'Feldstein, Paul J', ', Health Care Economics, Delmar Publishers Inc', '4th edition, 1995', 'Greene, William H', ', \"Sample Selection Bias as a Specification Error: Comment,\" Econometrica, 49:3, 1981, 795-798', '-----, Econometric Analysis, Macmillan Publishing Company, 1995', 'Hadley, Jack, and Stephen Zuckerman, \"Changes in Hospitals\\' Charges to Privately Insured Patients during PPS,\" Project Report 3429-07, The Urban Institute, Washington, D', 'C', ', 1990', 'Hausman, Jerry, \"Specification Tests in Econometrics,\" Econometrica, 46:6, 1978, 1251-1271', 'Health Care Financing Administration, Office of the Actuary, Health Care Financing Program Statistics: Analysis of State Medicaid Program Characteristics, 1986, Washington, D', 'C', ', 1987', '-----, Health Care Financing Program Statistics: The Medicare and Medicaid Data Book, 1983', 'Heckman, James J', ', \"Sample Selection Bias as a Specification Error,\" Econometrica, 47:1, 1979, 153-161', 'McGuire, Thomas G', ', and Mark V', 'Pauly, \"Physicians Response to Fee Changes With Multiple Payers,\" Journal of Health Economics, 10:4, 1991, 385-410', 'Morrisey, Michael A', ', Cost-Shifting in Health Care, AEI Press, Washington D', 'C', ', 1994', 'Morrisey, Michael A', ', and Frank A', 'Sloan, \"Hospital Cost Shifting and the Medicare Prospective Payment System,\" Working paper, University of Alabama at Birmingham, 1989', 'Morrisey, Michael A', ', Frank A', 'Sloan, and J', 'Valvona, \"Shifting Medicare Patients Out of the Hospital,\" Health Affairs, 7:4, 1988, 52-64', 'Sloan, Frank A', ', Janet Mitchell, and Jerry Cromwell, \"Physician Participation in State Medicaid Program,\" Journal of Human Resources, 12(Supp', '), 1978, 211-245', 'Zuckerman, Stephen, and John Holahan, \"PPS Waivers: Implications for Medicare, Medicaid, and Commercial Insurers,\" Journal of Health Politics, Policy, and Law, 13:4, 1988, 663-681']\n",
            "\n"
          ],
          "name": "stdout"
        }
      ]
    },
    {
      "cell_type": "markdown",
      "metadata": {
        "id": "yepfCz-AE5Lj",
        "colab_type": "text"
      },
      "source": [
        "### Convert dict to list of prediction_examples"
      ]
    },
    {
      "cell_type": "code",
      "metadata": {
        "id": "luG46kg9KlUT",
        "colab_type": "code",
        "colab": {}
      },
      "source": [
        "import run_classifier\n",
        "\n",
        "# Convert to InputExamples format\n",
        "def convert_to_input_example_type(claims_to_sentences, label):\n",
        "  retVal = []\n",
        "\n",
        "  i = 0\n",
        "  for claim, sentences in claims_to_sentences.items():\n",
        "    for sentence in sentences:\n",
        "      retVal.append(run_classifier.InputExample(guid=i, text_a=claim, text_b=sentence, label='{}'.format(label)))\n",
        "      i += 1\n",
        "  return retVal"
      ],
      "execution_count": 0,
      "outputs": []
    },
    {
      "cell_type": "code",
      "metadata": {
        "id": "Ea4Cj7KJ8hui",
        "colab_type": "code",
        "colab": {}
      },
      "source": [
        "my_true_examples = convert_to_input_example_type(true_claims_to_sentences, 1)  # Need to make labels = 0, 1 for now\n",
        "my_false_examples = convert_to_input_example_type(false_claims_to_sentences, 0)\n",
        "my_partly_true_examples = convert_to_input_example_type(partly_true_claims_to_sentences, 1)\n",
        "\n",
        "my_examples = []\n",
        "for e in my_true_examples:\n",
        "  my_examples.append(e)\n",
        "for e in my_false_examples:\n",
        "  my_examples.append(e)\n",
        "  \n",
        "  \n",
        "# Not currenlty using partly true b/c only 0 or 1 labels right now\n",
        "#for e in my_partly_true_examples:\n",
        "#  my_examples.append(e)"
      ],
      "execution_count": 0,
      "outputs": []
    },
    {
      "cell_type": "markdown",
      "metadata": {
        "id": "mtnviwpHFfc0",
        "colab_type": "text"
      },
      "source": [
        "### Run predictions "
      ]
    },
    {
      "cell_type": "code",
      "metadata": {
        "id": "nl9Phgpi_YiG",
        "colab_type": "code",
        "colab": {}
      },
      "source": [
        "def tyler_model_predict(estimator, prediction_examples):\n",
        "  input_features = run_classifier.convert_examples_to_features(prediction_examples, label_list, MAX_SEQ_LENGTH, tokenizer)\n",
        "  predict_input_fn = run_classifier.input_fn_builder(features=input_features, seq_length=MAX_SEQ_LENGTH, is_training=False, drop_remainder=True)\n",
        "  predictions = estimator.predict(predict_input_fn)\n",
        "\n",
        "  print(\"Complete. Converting predicitions from generator to list\")\n",
        "  return prediction_examples, list(predictions)"
      ],
      "execution_count": 0,
      "outputs": []
    },
    {
      "cell_type": "code",
      "metadata": {
        "id": "T1TXvwuUMMMR",
        "colab_type": "code",
        "colab": {
          "base_uri": "https://localhost:8080/",
          "height": 34
        },
        "outputId": "488f535f-1c07-485c-e1e5-ad8070b8d227"
      },
      "source": [
        "prediction_examples, predictions = tyler_model_predict(estimator_from_checkpoints, my_examples)"
      ],
      "execution_count": 454,
      "outputs": [
        {
          "output_type": "stream",
          "text": [
            "Complete. Converting predicitions from generator to list\n"
          ],
          "name": "stdout"
        }
      ]
    },
    {
      "cell_type": "markdown",
      "metadata": {
        "id": "p3iPQPfA_CBa",
        "colab_type": "text"
      },
      "source": [
        "### Output Results:\n",
        "\n",
        "Format: <0 or 1> -|- \\<claim\\> || \\<article sentence\\>\n",
        "\n",
        "0 => False\n",
        "\n",
        "1 => True"
      ]
    },
    {
      "cell_type": "code",
      "metadata": {
        "id": "0-3x4-Sr-OIH",
        "colab_type": "code",
        "colab": {
          "base_uri": "https://localhost:8080/",
          "height": 85
        },
        "outputId": "5ee150d0-dca7-4c18-d519-7e33ce96557c"
      },
      "source": [
        "THRESHOLD = 0.5\n",
        "\n",
        "# Initialize predictions dict\n",
        "final_predictions = {}\n",
        "for example, prediction in zip(prediction_examples, predictions):\n",
        "  # Add label to key\n",
        "  new_key = '{}: '.format(example.label) + example.text_a\n",
        "  if not new_key in final_predictions.keys():\n",
        "    final_predictions[new_key] = 0\n",
        "\n",
        "# Make predictions\n",
        "seen_claims = []\n",
        "for example, prediction in zip(prediction_examples, predictions):\n",
        "  # Add label to key\n",
        "  new_key = '{}: '.format(example.label) + example.text_a\n",
        "  \n",
        "  # Track number claims\n",
        "  if not new_key in seen_claims:\n",
        "    seen_claims.append(new_key)\n",
        "    \n",
        "  if final_predictions[new_key] < prediction['probabilities'][1]:\n",
        "    final_predictions[new_key] = prediction['probabilities'][1]\n",
        "      \n",
        "\n",
        "n_true = 0\n",
        "n_false = 0\n",
        "n_true_guessed_true = 0\n",
        "n_false_guessed_true = 0\n",
        "for claim, label in final_predictions.items():\n",
        "  # Check if true\n",
        "  isTrue = False\n",
        "  if claim[0] == '0':\n",
        "    isTrue = False\n",
        "    n_true += 1\n",
        "  elif claim[0] == '1':\n",
        "    isTrue = True\n",
        "    n_false += 1\n",
        "\n",
        "  # Check if guessed true\n",
        "  if label > THRESHOLD:\n",
        "    if isTrue:\n",
        "      n_true_guessed_true += 1\n",
        "    else:\n",
        "      n_false_guessed_true += 1\n",
        "      \n",
        "print(\"Number of true claims: {}\".format(n_true))\n",
        "print(\"Number of false claims: {}\".format(n_false))\n",
        "print(\"Number of true claims guessed true: {}\".format(n_true_guessed_true))\n",
        "print(\"Number of true claims guessed false: {}\".format(n_false_guessed_true))"
      ],
      "execution_count": 455,
      "outputs": [
        {
          "output_type": "stream",
          "text": [
            "Number of true claims: 500\n",
            "Number of false claims: 500\n",
            "Number of true claims guessed true: 154\n",
            "Number of true claims guessed false: 162\n"
          ],
          "name": "stdout"
        }
      ]
    },
    {
      "cell_type": "code",
      "metadata": {
        "id": "YEByE0ftGq-W",
        "colab_type": "code",
        "colab": {
          "base_uri": "https://localhost:8080/",
          "height": 550
        },
        "outputId": "12c062cb-f3df-4b9e-82c8-f622e3e8fbb9"
      },
      "source": [
        "i = 0\n",
        "\n",
        "for claim, label in final_predictions.items():\n",
        "  if label > THRESHOLD and claim[0] == '0':\n",
        "    i += 1\n",
        "    sentences = get_matching_sentences_given_claim(claim)\n",
        "    print(claim)\n",
        "    print(sentences)\n",
        "    print()\n",
        "    \n",
        "  if i == 10:\n",
        "    break"
      ],
      "execution_count": 457,
      "outputs": [
        {
          "output_type": "stream",
          "text": [
            "0: A Texas law says \"that you can’t shoot bears out of the second floor of a window.\"\n",
            "[\"We don't find evidence of a Texas law on shooting bears from a 2nd story window\"]\n",
            "\n",
            "0: \"Fall River, Massachusetts was not 'built by immigrants.' \"\n",
            "['Fact-Check: No, Fall River, Massachusetts, Was Not ‘Built by Immigrants’', 'What is now Fall River was first established in the 1600s by English settlers who were not “immigrants” but colonists']\n",
            "\n",
            "0: Orlando Pirates fired player after arrest for rape of 12-year-old\n",
            "['Pirates Terminate Their Player Contract After He Was Arrested For Raping 12-Year-Old Girl – Trendsdaily']\n",
            "\n",
            "0: A 43-year-old woman forced her unfaithful husband to eat his own genitals.\n",
            "['Mississippi woman allegedly made cheating husband ‘eat his own genitals’']\n",
            "\n",
            "0: Says a bill co-sponsored by Sen. Claire McCaskill \"would give a free pass to any illegal immigrant who brings a child to the border.\"\n",
            "['Diane Feinstein, and it would give a free pass to any illegal immigrant who brings a child to the border']\n",
            "\n",
            "0:  \"Obama Administration legalized bump stocks.\" \n",
            "['“[D]uring the Obama Administration the ATF determined that bump stocks are legal,” Grassley said at the time', '“[D]uring the Obama Administration the ATF determined that bump stocks are legal,” Grassley said at the time']\n",
            "\n",
            "0: \"Barack Obama arrested in a Japanese drug bust.\"\n",
            "['JUST IN: Barack Obama ARRESTED in a Japanese Drug Bust']\n",
            "\n",
            "0: Thomas Jefferson said, \"That government is best which governs the least, because its people discipline themselves.\"\n",
            "['\" \"That government is best which governs least, because its people discipline themselves', '\" Instead, it seems to suggest that a people capable of self-discipline will choose the least government; but that of itself does not provide a reason why they would do that nor suggest a cause for the least being the best']\n",
            "\n",
            "0: The world suicide rate plummeted following Logan Paul's \"suicide forest\" video.\n",
            "['World Suicide Rate Drops 37% Following Logan Paul’s Youtube Video']\n",
            "\n",
            "0: NASA admitted to dosing Americans with airborne lithium.\n",
            "['NASA Confesses to Dosing Americans with Air-borne Lithium & Other Che…', 'NASA Confesses to Dosing Americans with Air-borne Lithium & Other Chemicals']\n",
            "\n"
          ],
          "name": "stdout"
        }
      ]
    },
    {
      "cell_type": "code",
      "metadata": {
        "id": "r3TrXZR3DiXK",
        "colab_type": "code",
        "colab": {}
      },
      "source": [
        "def get_matching_sentences_given_claim(claim):\n",
        "  retVal = []\n",
        "  for example, prediction in zip(prediction_examples, predictions):\n",
        "    # Add label to key\n",
        "    new_key = '{}: '.format(example.label) + example.text_a\n",
        "    if new_key == claim:\n",
        "      if prediction['probabilities'][1] > THRESHOLD:\n",
        "        retVal.append(example.text_b)\n",
        "  return retVal"
      ],
      "execution_count": 0,
      "outputs": []
    },
    {
      "cell_type": "markdown",
      "metadata": {
        "id": "qMi_n3haDjrV",
        "colab_type": "text"
      },
      "source": [
        "## Function to Get a Random Claim and its Articles Easily"
      ]
    },
    {
      "cell_type": "code",
      "metadata": {
        "id": "aTXI4FETuQaC",
        "colab_type": "code",
        "colab": {}
      },
      "source": [
        "def get_claim_and_articles(desired_label):\n",
        "  # Choose random index\n",
        "  import random\n",
        "  indices = json_data['related_articles'].keys()\n",
        "  i = random.choice(indices)\n",
        "  \n",
        "  # Get index with desired label\n",
        "  while not json_data['label'][i] == desired_label:\n",
        "    i = random.choice(indices)\n",
        "  \n",
        "  claim = json_data['claim'][i]\n",
        "  related_article_nums = json_data['related_articles'][i]\n",
        "  articles = []\n",
        "  for n in related_article_nums:\n",
        "    articles.append(articles_data['text']['{}'.format(n)])\n",
        "  return claim, articles"
      ],
      "execution_count": 0,
      "outputs": []
    },
    {
      "cell_type": "code",
      "metadata": {
        "id": "l4Al48Cqvo8H",
        "colab_type": "code",
        "colab": {
          "base_uri": "https://localhost:8080/",
          "height": 1000
        },
        "outputId": "6aca8710-d47d-4e42-f4bd-673aed8e92bd"
      },
      "source": [
        "claim, articles = get_claim_and_articles(1)\n",
        "print(claim)\n",
        "for a in articles:\n",
        "  print(a)\n",
        "  break"
      ],
      "execution_count": 305,
      "outputs": [
        {
          "output_type": "stream",
          "text": [
            "\"80 percent of impeachments in Missouri have been against judges.\"\n",
            "Impeachment in the states: Missouri governor edition, Part I\n",
            "By Frank Bowman\n",
            "\n",
            "Here in the Show-Me State, we have been granted a temporary reprieve from the feverish national focus on all things Trump by news of the sexual peccadillos of our recently-elected governor, Eric Greitens. As has now been reported across the nation, on Wednesday, January 10, shortly after his State of the State address, Governor Greitens released a statement admitting to a extramarital sexual affair with his former hairdresser back in 2015.\n",
            "\n",
            "The admission came in anticipation of impending media reports alleging not only that there were one or more sexual encounters between the hairdresser and Mr. Greitens, but that on one occasion Mr. Greitens took a picture of the woman while she was bound and in a state of full or partial undress and then threatened to release the picture publicly if she were ever to speak about the affair. The reports were made all the juicier by the fact that the woman’s former husband secretly recorded her tearful confession to the affair and released the recording to the media.\n",
            "\n",
            "In his statement, Mr. Greitens admitted the sex, but denied that he had either taken a picture of the woman en déshabillé or threatened to release such a picture to maintain her silence.\n",
            "\n",
            "Political reaction to these revelations has been swift and somewhat surprisingly severe given that Mr. Greitens is a first-term Republican governor often touted as a rising political star in a state where Republicans hold all but one state-wide office and supermajorities in both houses of the legislature. Democrats immediately called for Mr. Greitens’ resignation, as have multiple Republican legislators. Even Republicans who haven’t gone that far seem, at best, to be withholding judgment pending the outcome of a criminal investigation by the St. Louis Circuit Attorney (and possibly one by the FBI). One Republican state senator, Gary Romine, said that if investigations into Mr. Greitens’ behavior do not exonerate him, he should “resign or face impeachment.”\n",
            "\n",
            "Naturally, as soon as I read the word “impeachment,” I perked up like a foxhound when the Master of the Hunt yells “Talley Ho!” What follows is a two-part look at the law governing impeachment of Missouri state officials, a comparison of Missouri law to federal practice, and a preview of the particular issues an effort to impeach Mr. Greitens would present given the current state of the evidence.\n",
            "\n",
            "Impeachment in Missouri\n",
            "\n",
            "Article VII, Sections 1 and 2 of the Missouri constitution state:\n",
            "\n",
            "Section 1. All elective executive officials of the state, and judges of the supreme court, courts of appeals and circuit courts shall be liable to impeachment for crimes, misconduct, habitual drunkenness, willful neglect of duty, corruption in office, incompetency, or any offense involving moral turpitude or oppression in office. Section 2. The house of representatives shall have the sole power of impeachment. All impeachments shall be tried before the supreme court, except that the governor or a member of the supreme court shall be tried by a special commission of seven eminent jurists to be elected by the senate. The supreme court or special commission shall take an oath to try impartially the person impeached, and no person shall be convicted without the concurrence of five-sevenths of the court or special commission.\n",
            "\n",
            "The most obvious difference between federal and state impeachment procedure is that, while in both systems the house of representatives impeaches the officer, i.e., specifies the charges against the accused, in Missouri the state supreme court, rather than the senate, tries the case. That is, the Missouri Supreme Court, not the Missouri senate, decides whether the allegations in the bill of impeachment are proven and thus whether the officer ought to be removed. The way the Missouri Supreme Court has interpreted its function materially alters the Missouri impeachment process.\n",
            "\n",
            "In the federal system, the president may be impeached for serious crimes (although there is disagreement about which ones) and for very serious non-criminal misconduct either in relation to the office or of a personal sort that undermines the president’s legitimacy. Most scholars would agree that, under the federal constitution, the president ought not be impeached for minor crimes (and perhaps not even for serious crimes like perjury if unrelated to his official duties) or for laziness, ineptitude, or pursuing political objectives contrary to those of the legislative majority.\n",
            "\n",
            "Critically, all informed observers of the federal impeachment process agree that both the decision by the House about which behavior is impeachable and the subsequent decision by Senate about whether to convict and remove the accused are to a significant degree “political.” As Alexander Hamilton famously said in Federalist #65, impeachable offenses “are of a nature which may with peculiar propriety be denominated POLITICAL, as they relate chiefly to injuries done immediately to the society itself.”\n",
            "\n",
            "The concededly political character of the federal impeachment process shapes the essential nature of the decision-making process. Both the House and Senate are called upon not merely to decide the truth of factual allegations against the president, but to judge whether the conduct is of a nature that merits removal of the nation’s chief executive officer. The second choice is a political judgment which the Framers consciously placed in the hands of two political bodies.\n",
            "\n",
            "The Missouri constitution originally consigned the trial of impeachments to the state senate. But in the 1940’s (perhaps in response to a case where the senate refused to convict a former senator whose factual guilt was patent), the constitution was amended to institute the present arrangement assigning impeachment trials to the state supreme court. The apparent purpose of the change was to eliminate politics from the last stage of the impeachment process, but as is so often true, this benevolent-sounding objective created a new complication.\n",
            "\n",
            "In theory, courts are not supposed to be political bodies. In theory, they are limited to deciding what the law is, whether facts are proven, and whether proven facts fall within the ambit of the law. Of course, any serious student of courts realizes that politics in the broad sense affects judicial decisions at every level. Judges unavoidably bring their own philosophical predilections to deciding both law and facts, and perhaps more importantly, common law judging has always had a public policy component. Nonetheless, judges traditionally shun explicitly political judgments – such as whether removal of a particular executive branch official would or would not be beneficial to the commonweal.\n",
            "\n",
            "This judicial discomfort manifested itself in the only Missouri impeachment case to arise after the constitution was amended to give the responsibility of trying impeachments to the supreme court. The case, Matter of Impeachment of Judith K. Moriarty, 902 S.W.2d 273 (1994), arose from the impeachment of the Missouri Secretary of State for “knowingly allow[ing] the signature of her son as candidate or of her administrative aide or both to be placed on an unsigned declaration of candidacy [for public office] so that declaration falsely declared that the son had appeared in presence of aide to declare for office within the time provided for by statute.”\n",
            "\n",
            "The Missouri Supreme Court found that Ms. Moriarty did what the articles of impeachment charged, thus removing her from office. The interesting part is the court’s explanation of its role in the impeachment process. The court began by contrasting the traditional impeachment system in which the house impeaches and the senate tries the accused with the Missouri system of trial by supreme court:\n",
            "\n",
            "An impeachment is thus a judgment by the House of Representatives—one of the popularly-elected, representative bodies of the people’s General Assembly—that an officer of the state has committed acts such that, were an election held, the people would not permit the impeached officeholder to remain in office. When a Senate determines whether to convict under articles of impeachment, the vote affirms or rejects the judgment of the House. Under this system, the possibility exists that the House may impeach and the Senate may convict an official for purely political reasons, though they clothe their charges with constitutional language like “misconduct.” Missouri’s constitutional provision is a clear acknowledgment that the trial of impeachment charges is essentially judicial in character and is not a political function. This Court can convict only where there is actual misconduct as the law defines it. “Misconduct” means doing an unlawful act, doing a lawful act in an unlawful manner, or failing to perform an act required by law. It does not include errors in judgment, acts done in good faith, or good faith exercise of discretion.\n",
            "\n",
            "This passage is remarkable in several respects.\n",
            "\n",
            "First, it offers a distorted interpretation of the standard for defining an impeachable offense in federal and state systems in which legislators both formulate and try the articles of impeachment. The court opines that in such systems legislators are supposed to engage in a sort of mass mind-reading exercise assessing the probable electoral reaction of the public to the charged conduct. I confess to thinking this assessment misguided. In the federal system, at least, it is quite clear that senators are intended to exercise independent judgment, and that they should not decline to convict an office holder merely because they think the public might re-elect him despite constitutionally obnoxious conduct. Were that the case, no demagogue could ever be impeached so long as he retained the probable support of the mob.\n",
            "\n",
            "Moreover, when the Missouri court disparages senate impeachment trials on the ground that an officeholder may be convicted “for purely political reasons,” it betrays a crabbed and historically inaccurate view of what Founders like Hamilton meant by “political.” For Hamilton and others of his generation, the term “political” ran far beyond narrowly partisan considerations to broad considerations of constitutional balance and societal good. For them, impeachment was “political” because it demanded the exercise of sound judgment about whether removing a particular officer for particular conduct protected or disserved republican government.\n",
            "\n",
            "More important from Governor Greitens’ standpoint is the court’s holding that, because judges and not legislators try Missouri impeachments, there can be a conviction only:\n",
            "\n",
            "… where there is actual misconduct as the law defines it. ‘Misconduct’ means doing an unlawful act, doing a lawful act in an unlawful manner, or failing to perform an act required by law. It does not include errors in judgment, acts done in good faith, or good faith exercise of discretion.\n",
            "\n",
            "This is huge because it markedly narrows the definition of impeachable conduct. Indeed, the result is to judicially amend the Missouri constitution. Recall that Article VII, Section 1 of the Missouri constitution says that officials may be impeached for “crimes, misconduct, habitual drunkenness, willful neglect of duty, corruption in office, incompetency, or any offense involving moral turpitude or oppression in office.”\n",
            "\n",
            "Some of the items on this list obviously do refer to illegal conduct, notably “crimes … corruption in office, [and] any offense involving moral turpitude or oppression in office.” On the other hand, the constitutional text pretty plainly contemplates impeachment for lots of behavior that violates no other law. For example, neither “habitual drunkenness” nor “incompetency” is illegal. Nor is either “willful neglect of duty” or “misconduct” necessarily a legal infraction.\n",
            "\n",
            "To maintain its preferred self-conception of non-political arbiter of facts, the Missouri Supreme Court imposed a limiting construction on the constitutional term “misconduct” that requires the impeached official to have violated some other law. (For you law geeks in the audience, it does so by the extremely dubious expedient of adopting its definition of “misconduct” from a Tennessee case construing the common law crime of “official misconduct,” an offense which exists nowhere in Missouri law.” Mid–South Indoor Horse Racing, Inc. v. Tennessee State Racing Commission,798 S.W.2d 531, 538 (Tenn.App.1990).)\n",
            "\n",
            "Notably, the laws the Court found Ms. Moriarty to have violated were simply statutory rules for proper filing of candidacy for office. Failing to perform the duties prescribed in these sections was apparently chargeable as a misdemeanor (perhaps under RSMo 115.641). Moreover, it appears that, prior to the impeachment proceeding, Ms. Moriarty was charged in Cole County and convicted of such a misdemeanor for her conduct. But curiously, the Missouri Supreme Court made no reference in its opinion either to the Cole County proceeding or to any violation of criminal law. The bottom line of Moriarty seems to be that, on the one hand, the Supreme Court will not convict in an impeachment case unless the charged conduct violates state law, but on the other hand, violation of any state law, however minor, will result in conviction and removal so long as the Missouri House of Representatives deems it impeachable.\n",
            "\n",
            "One sympathizes with Court’s reluctance to stray from its traditional judicial role, but the result is a markedly strained reading of the Missouri constitution — and one that could have considerable impact on any effort to impeach Governor Greitens.\n",
            "\n",
            "I will address the specifics of the Greitens case in my next post.\n",
            "\n",
            "Frank Bowman\n"
          ],
          "name": "stdout"
        }
      ]
    },
    {
      "cell_type": "code",
      "metadata": {
        "id": "iB7vDO3Bvuq2",
        "colab_type": "code",
        "colab": {}
      },
      "source": [
        ""
      ],
      "execution_count": 0,
      "outputs": []
    }
  ]
}